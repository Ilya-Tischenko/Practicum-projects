{
 "cells": [
  {
   "cell_type": "markdown",
   "metadata": {},
   "source": [
    "# Приоритизация гипотез и проведение A/B-теста для интернет-магазина"
   ]
  },
  {
   "cell_type": "markdown",
   "metadata": {},
   "source": [
    "Анализ гипотез для увеличения выручки крупного интернет-магазина на основе имеющихся данных. \n",
    "\n",
    "**Цель исследования:** приоритизировать имеющиеся гипотезы, провести A/B-тест.\n",
    "\n",
    "Данные о гипотезах представлены файлом `hypothesis.csv`, состоящего из следующих полей (параметров):\n",
    "+ `Reach` -  оценка охвата пользователей, которых затронет изменение,\n",
    "+ `Impact` - оценка влияния на пользовательский опыт,\n",
    "+ `Confidence` - уверенность во влиянии изменений,\n",
    "+ `Efforts` - оценка ресурсов, необходимых для тестирования гипотезы\n",
    "\n",
    "Данные о заказах (id заказа, id пользователя, дата, выручка, группа A/B-теста) хранятся в файле `orders.csv`. Данные о количестве пользователей взяты из файла `visitors.csv`.\n",
    "\n",
    "\n",
    "\n",
    "Исследование будет проводиться по следующему плану: импорт необходимых библиотек и данных, приоритизация гипотез (методом ICE и методом RICE), анализ A/B-теста (анализ графиков кумулятивных метрик, анализ выбросов, применение статистических тест, формулировка выводов)."
   ]
  },
  {
   "cell_type": "markdown",
   "metadata": {},
   "source": [
    "## Импорт библиотек и загрузка данных"
   ]
  },
  {
   "cell_type": "markdown",
   "metadata": {},
   "source": [
    "Импортируем необходимые для дальнейшей работы библиотеки."
   ]
  },
  {
   "cell_type": "code",
   "execution_count": 5,
   "metadata": {},
   "outputs": [],
   "source": [
    "import pandas as pd\n",
    "import matplotlib.pyplot as plt\n",
    "plt.rcParams['figure.figsize'] = (6,5)\n",
    "from scipy import stats as st\n",
    "import numpy as np"
   ]
  },
  {
   "cell_type": "markdown",
   "metadata": {},
   "source": [
    "Загружаем датасеты"
   ]
  },
  {
   "cell_type": "code",
   "execution_count": 7,
   "metadata": {},
   "outputs": [],
   "source": [
    "hypothesis = pd.read_csv('D:/Project/AB/hypothesis.csv')\n",
    "orders = pd.read_csv('D:/Project/AB/orders.csv')\n",
    "visitors = pd.read_csv('D:/Project/AB/visitors.csv')"
   ]
  },
  {
   "cell_type": "markdown",
   "metadata": {},
   "source": [
    "Посмотрим содержимое датасетов."
   ]
  },
  {
   "cell_type": "code",
   "execution_count": 9,
   "metadata": {},
   "outputs": [
    {
     "data": {
      "text/html": [
       "<div>\n",
       "<style scoped>\n",
       "    .dataframe tbody tr th:only-of-type {\n",
       "        vertical-align: middle;\n",
       "    }\n",
       "\n",
       "    .dataframe tbody tr th {\n",
       "        vertical-align: top;\n",
       "    }\n",
       "\n",
       "    .dataframe thead th {\n",
       "        text-align: right;\n",
       "    }\n",
       "</style>\n",
       "<table border=\"1\" class=\"dataframe\">\n",
       "  <thead>\n",
       "    <tr style=\"text-align: right;\">\n",
       "      <th></th>\n",
       "      <th>Hypothesis</th>\n",
       "      <th>Reach</th>\n",
       "      <th>Impact</th>\n",
       "      <th>Confidence</th>\n",
       "      <th>Efforts</th>\n",
       "    </tr>\n",
       "  </thead>\n",
       "  <tbody>\n",
       "    <tr>\n",
       "      <th>0</th>\n",
       "      <td>Добавить два новых канала привлечения трафика, что позволит привлекать на 30% больше пользователей</td>\n",
       "      <td>3</td>\n",
       "      <td>10</td>\n",
       "      <td>8</td>\n",
       "      <td>6</td>\n",
       "    </tr>\n",
       "    <tr>\n",
       "      <th>1</th>\n",
       "      <td>Запустить собственную службу доставки, что сократит срок доставки заказов</td>\n",
       "      <td>2</td>\n",
       "      <td>5</td>\n",
       "      <td>4</td>\n",
       "      <td>10</td>\n",
       "    </tr>\n",
       "    <tr>\n",
       "      <th>2</th>\n",
       "      <td>Добавить блоки рекомендаций товаров на сайт интернет магазина, чтобы повысить конверсию и средний чек заказа</td>\n",
       "      <td>8</td>\n",
       "      <td>3</td>\n",
       "      <td>7</td>\n",
       "      <td>3</td>\n",
       "    </tr>\n",
       "    <tr>\n",
       "      <th>3</th>\n",
       "      <td>Изменить структура категорий, что увеличит конверсию, т.к. пользователи быстрее найдут нужный товар</td>\n",
       "      <td>8</td>\n",
       "      <td>3</td>\n",
       "      <td>3</td>\n",
       "      <td>8</td>\n",
       "    </tr>\n",
       "    <tr>\n",
       "      <th>4</th>\n",
       "      <td>Изменить цвет фона главной страницы, чтобы увеличить вовлеченность пользователей</td>\n",
       "      <td>3</td>\n",
       "      <td>1</td>\n",
       "      <td>1</td>\n",
       "      <td>1</td>\n",
       "    </tr>\n",
       "    <tr>\n",
       "      <th>5</th>\n",
       "      <td>Добавить страницу отзывов клиентов о магазине, что позволит увеличить количество заказов</td>\n",
       "      <td>3</td>\n",
       "      <td>2</td>\n",
       "      <td>2</td>\n",
       "      <td>3</td>\n",
       "    </tr>\n",
       "    <tr>\n",
       "      <th>6</th>\n",
       "      <td>Показать на главной странице баннеры с актуальными акциями и распродажами, чтобы увеличить конверсию</td>\n",
       "      <td>5</td>\n",
       "      <td>3</td>\n",
       "      <td>8</td>\n",
       "      <td>3</td>\n",
       "    </tr>\n",
       "    <tr>\n",
       "      <th>7</th>\n",
       "      <td>Добавить форму подписки на все основные страницы, чтобы собрать базу клиентов для email-рассылок</td>\n",
       "      <td>10</td>\n",
       "      <td>7</td>\n",
       "      <td>8</td>\n",
       "      <td>5</td>\n",
       "    </tr>\n",
       "    <tr>\n",
       "      <th>8</th>\n",
       "      <td>Запустить акцию, дающую скидку на товар в день рождения</td>\n",
       "      <td>1</td>\n",
       "      <td>9</td>\n",
       "      <td>9</td>\n",
       "      <td>5</td>\n",
       "    </tr>\n",
       "  </tbody>\n",
       "</table>\n",
       "</div>"
      ],
      "text/plain": [
       "                                                                                                     Hypothesis  \\\n",
       "0  Добавить два новых канала привлечения трафика, что позволит привлекать на 30% больше пользователей             \n",
       "1  Запустить собственную службу доставки, что сократит срок доставки заказов                                      \n",
       "2  Добавить блоки рекомендаций товаров на сайт интернет магазина, чтобы повысить конверсию и средний чек заказа   \n",
       "3  Изменить структура категорий, что увеличит конверсию, т.к. пользователи быстрее найдут нужный товар            \n",
       "4  Изменить цвет фона главной страницы, чтобы увеличить вовлеченность пользователей                               \n",
       "5  Добавить страницу отзывов клиентов о магазине, что позволит увеличить количество заказов                       \n",
       "6  Показать на главной странице баннеры с актуальными акциями и распродажами, чтобы увеличить конверсию           \n",
       "7  Добавить форму подписки на все основные страницы, чтобы собрать базу клиентов для email-рассылок               \n",
       "8  Запустить акцию, дающую скидку на товар в день рождения                                                        \n",
       "\n",
       "   Reach  Impact  Confidence  Efforts  \n",
       "0  3      10      8           6        \n",
       "1  2      5       4           10       \n",
       "2  8      3       7           3        \n",
       "3  8      3       3           8        \n",
       "4  3      1       1           1        \n",
       "5  3      2       2           3        \n",
       "6  5      3       8           3        \n",
       "7  10     7       8           5        \n",
       "8  1      9       9           5        "
      ]
     },
     "execution_count": 9,
     "metadata": {},
     "output_type": "execute_result"
    }
   ],
   "source": [
    "pd.options.display.max_colwidth = 1\n",
    "hypothesis.head(9)"
   ]
  },
  {
   "cell_type": "code",
   "execution_count": 10,
   "metadata": {
    "scrolled": true
   },
   "outputs": [
    {
     "data": {
      "text/html": [
       "<div>\n",
       "<style scoped>\n",
       "    .dataframe tbody tr th:only-of-type {\n",
       "        vertical-align: middle;\n",
       "    }\n",
       "\n",
       "    .dataframe tbody tr th {\n",
       "        vertical-align: top;\n",
       "    }\n",
       "\n",
       "    .dataframe thead th {\n",
       "        text-align: right;\n",
       "    }\n",
       "</style>\n",
       "<table border=\"1\" class=\"dataframe\">\n",
       "  <thead>\n",
       "    <tr style=\"text-align: right;\">\n",
       "      <th></th>\n",
       "      <th>date</th>\n",
       "      <th>group</th>\n",
       "      <th>visitors</th>\n",
       "    </tr>\n",
       "  </thead>\n",
       "  <tbody>\n",
       "    <tr>\n",
       "      <th>0</th>\n",
       "      <td>2019-08-01</td>\n",
       "      <td>A</td>\n",
       "      <td>719</td>\n",
       "    </tr>\n",
       "    <tr>\n",
       "      <th>1</th>\n",
       "      <td>2019-08-02</td>\n",
       "      <td>A</td>\n",
       "      <td>619</td>\n",
       "    </tr>\n",
       "    <tr>\n",
       "      <th>2</th>\n",
       "      <td>2019-08-03</td>\n",
       "      <td>A</td>\n",
       "      <td>507</td>\n",
       "    </tr>\n",
       "    <tr>\n",
       "      <th>3</th>\n",
       "      <td>2019-08-04</td>\n",
       "      <td>A</td>\n",
       "      <td>717</td>\n",
       "    </tr>\n",
       "    <tr>\n",
       "      <th>4</th>\n",
       "      <td>2019-08-05</td>\n",
       "      <td>A</td>\n",
       "      <td>756</td>\n",
       "    </tr>\n",
       "  </tbody>\n",
       "</table>\n",
       "</div>"
      ],
      "text/plain": [
       "         date group  visitors\n",
       "0  2019-08-01  A     719     \n",
       "1  2019-08-02  A     619     \n",
       "2  2019-08-03  A     507     \n",
       "3  2019-08-04  A     717     \n",
       "4  2019-08-05  A     756     "
      ]
     },
     "execution_count": 10,
     "metadata": {},
     "output_type": "execute_result"
    }
   ],
   "source": [
    "visitors.head()"
   ]
  },
  {
   "cell_type": "code",
   "execution_count": 11,
   "metadata": {},
   "outputs": [
    {
     "name": "stdout",
     "output_type": "stream",
     "text": [
      "<class 'pandas.core.frame.DataFrame'>\n",
      "RangeIndex: 62 entries, 0 to 61\n",
      "Data columns (total 3 columns):\n",
      " #   Column    Non-Null Count  Dtype \n",
      "---  ------    --------------  ----- \n",
      " 0   date      62 non-null     object\n",
      " 1   group     62 non-null     object\n",
      " 2   visitors  62 non-null     int64 \n",
      "dtypes: int64(1), object(2)\n",
      "memory usage: 1.6+ KB\n"
     ]
    }
   ],
   "source": [
    "visitors.info()"
   ]
  },
  {
   "cell_type": "markdown",
   "metadata": {},
   "source": [
    "Столбец с датой и временем представлен текстовым типом данным. Изменим тип данных на соответствующий."
   ]
  },
  {
   "cell_type": "code",
   "execution_count": 13,
   "metadata": {},
   "outputs": [],
   "source": [
    "visitors['date'] = visitors['date'].astype('datetime64[ns]')"
   ]
  },
  {
   "cell_type": "code",
   "execution_count": 14,
   "metadata": {},
   "outputs": [
    {
     "name": "stdout",
     "output_type": "stream",
     "text": [
      "<class 'pandas.core.frame.DataFrame'>\n",
      "RangeIndex: 62 entries, 0 to 61\n",
      "Data columns (total 3 columns):\n",
      " #   Column    Non-Null Count  Dtype         \n",
      "---  ------    --------------  -----         \n",
      " 0   date      62 non-null     datetime64[ns]\n",
      " 1   group     62 non-null     object        \n",
      " 2   visitors  62 non-null     int64         \n",
      "dtypes: datetime64[ns](1), int64(1), object(1)\n",
      "memory usage: 1.6+ KB\n"
     ]
    }
   ],
   "source": [
    "visitors.info()"
   ]
  },
  {
   "cell_type": "markdown",
   "metadata": {},
   "source": [
    "Проверим уникальные значения столбца с названиями группы A/B-теста."
   ]
  },
  {
   "cell_type": "code",
   "execution_count": 16,
   "metadata": {},
   "outputs": [
    {
     "data": {
      "text/plain": [
       "array(['A', 'B'], dtype=object)"
      ]
     },
     "execution_count": 16,
     "metadata": {},
     "output_type": "execute_result"
    }
   ],
   "source": [
    "visitors['group'].unique()"
   ]
  },
  {
   "cell_type": "code",
   "execution_count": 17,
   "metadata": {
    "scrolled": true
   },
   "outputs": [
    {
     "data": {
      "text/html": [
       "<div>\n",
       "<style scoped>\n",
       "    .dataframe tbody tr th:only-of-type {\n",
       "        vertical-align: middle;\n",
       "    }\n",
       "\n",
       "    .dataframe tbody tr th {\n",
       "        vertical-align: top;\n",
       "    }\n",
       "\n",
       "    .dataframe thead th {\n",
       "        text-align: right;\n",
       "    }\n",
       "</style>\n",
       "<table border=\"1\" class=\"dataframe\">\n",
       "  <thead>\n",
       "    <tr style=\"text-align: right;\">\n",
       "      <th></th>\n",
       "      <th>transactionId</th>\n",
       "      <th>visitorId</th>\n",
       "      <th>date</th>\n",
       "      <th>revenue</th>\n",
       "      <th>group</th>\n",
       "    </tr>\n",
       "  </thead>\n",
       "  <tbody>\n",
       "    <tr>\n",
       "      <th>0</th>\n",
       "      <td>3667963787</td>\n",
       "      <td>3312258926</td>\n",
       "      <td>2019-08-15</td>\n",
       "      <td>1650</td>\n",
       "      <td>B</td>\n",
       "    </tr>\n",
       "    <tr>\n",
       "      <th>1</th>\n",
       "      <td>2804400009</td>\n",
       "      <td>3642806036</td>\n",
       "      <td>2019-08-15</td>\n",
       "      <td>730</td>\n",
       "      <td>B</td>\n",
       "    </tr>\n",
       "    <tr>\n",
       "      <th>2</th>\n",
       "      <td>2961555356</td>\n",
       "      <td>4069496402</td>\n",
       "      <td>2019-08-15</td>\n",
       "      <td>400</td>\n",
       "      <td>A</td>\n",
       "    </tr>\n",
       "    <tr>\n",
       "      <th>3</th>\n",
       "      <td>3797467345</td>\n",
       "      <td>1196621759</td>\n",
       "      <td>2019-08-15</td>\n",
       "      <td>9759</td>\n",
       "      <td>B</td>\n",
       "    </tr>\n",
       "    <tr>\n",
       "      <th>4</th>\n",
       "      <td>2282983706</td>\n",
       "      <td>2322279887</td>\n",
       "      <td>2019-08-15</td>\n",
       "      <td>2308</td>\n",
       "      <td>B</td>\n",
       "    </tr>\n",
       "  </tbody>\n",
       "</table>\n",
       "</div>"
      ],
      "text/plain": [
       "   transactionId   visitorId        date  revenue group\n",
       "0  3667963787     3312258926  2019-08-15  1650     B   \n",
       "1  2804400009     3642806036  2019-08-15  730      B   \n",
       "2  2961555356     4069496402  2019-08-15  400      A   \n",
       "3  3797467345     1196621759  2019-08-15  9759     B   \n",
       "4  2282983706     2322279887  2019-08-15  2308     B   "
      ]
     },
     "execution_count": 17,
     "metadata": {},
     "output_type": "execute_result"
    }
   ],
   "source": [
    "orders.head()"
   ]
  },
  {
   "cell_type": "code",
   "execution_count": 18,
   "metadata": {},
   "outputs": [
    {
     "name": "stdout",
     "output_type": "stream",
     "text": [
      "<class 'pandas.core.frame.DataFrame'>\n",
      "RangeIndex: 1197 entries, 0 to 1196\n",
      "Data columns (total 5 columns):\n",
      " #   Column         Non-Null Count  Dtype \n",
      "---  ------         --------------  ----- \n",
      " 0   transactionId  1197 non-null   int64 \n",
      " 1   visitorId      1197 non-null   int64 \n",
      " 2   date           1197 non-null   object\n",
      " 3   revenue        1197 non-null   int64 \n",
      " 4   group          1197 non-null   object\n",
      "dtypes: int64(3), object(2)\n",
      "memory usage: 46.9+ KB\n"
     ]
    }
   ],
   "source": [
    "orders.info()"
   ]
  },
  {
   "cell_type": "markdown",
   "metadata": {},
   "source": [
    "Столбец с датой и временем представлен текстовым типом данным. Изменим тип данных на соответствующий."
   ]
  },
  {
   "cell_type": "code",
   "execution_count": 20,
   "metadata": {},
   "outputs": [],
   "source": [
    "orders['date'] = orders['date'].astype('datetime64[ns]')"
   ]
  },
  {
   "cell_type": "markdown",
   "metadata": {},
   "source": [
    "Проверим есть ли в таблице orders пользователи, оказавшиеся одновременно в двух группах.\n",
    "\n",
    "Сделаем это, разделив таблицу по группам, а затем снова соединив по id пользователя методом inner join. Если в таблице не будет пользователей, которые находятся в двух группах одновременно, то и соединяться будет нечему. В противном случае - таблицы соединятся по id пользователей, которые есть в обеих группах."
   ]
  },
  {
   "cell_type": "code",
   "execution_count": 22,
   "metadata": {},
   "outputs": [],
   "source": [
    "ordersA = orders[orders['group']=='A']\n",
    "ordersB = orders[orders['group']=='B']"
   ]
  },
  {
   "cell_type": "code",
   "execution_count": 23,
   "metadata": {},
   "outputs": [],
   "source": [
    "orders_merged = ordersA.merge(ordersB,how = 'inner', on = 'visitorId')\n",
    "# создаем список id, которые есть в обеих группах\n",
    "AB_ids = orders_merged['visitorId'].drop_duplicates()"
   ]
  },
  {
   "cell_type": "code",
   "execution_count": 24,
   "metadata": {},
   "outputs": [
    {
     "name": "stdout",
     "output_type": "stream",
     "text": [
      "В таблице orders 58 пользователей, входящих в обе группы теста.\n"
     ]
    }
   ],
   "source": [
    "print(f'В таблице orders {len(AB_ids)} пользователей, входящих в обе группы теста.')"
   ]
  },
  {
   "cell_type": "markdown",
   "metadata": {},
   "source": [
    "Исключаем этих пользователей из анализа."
   ]
  },
  {
   "cell_type": "code",
   "execution_count": 26,
   "metadata": {},
   "outputs": [],
   "source": [
    "orders = orders.query('visitorId not in @AB_ids')"
   ]
  },
  {
   "cell_type": "code",
   "execution_count": 27,
   "metadata": {
    "scrolled": true
   },
   "outputs": [
    {
     "name": "stdout",
     "output_type": "stream",
     "text": [
      "<class 'pandas.core.frame.DataFrame'>\n",
      "Index: 1016 entries, 0 to 1196\n",
      "Data columns (total 5 columns):\n",
      " #   Column         Non-Null Count  Dtype         \n",
      "---  ------         --------------  -----         \n",
      " 0   transactionId  1016 non-null   int64         \n",
      " 1   visitorId      1016 non-null   int64         \n",
      " 2   date           1016 non-null   datetime64[ns]\n",
      " 3   revenue        1016 non-null   int64         \n",
      " 4   group          1016 non-null   object        \n",
      "dtypes: datetime64[ns](1), int64(3), object(1)\n",
      "memory usage: 47.6+ KB\n"
     ]
    }
   ],
   "source": [
    "orders.info()"
   ]
  },
  {
   "cell_type": "markdown",
   "metadata": {},
   "source": [
    "Пользователи, оказавшиеся в 2-х группах исключены из анализа."
   ]
  },
  {
   "cell_type": "markdown",
   "metadata": {},
   "source": [
    "## Приоритизация гипотез"
   ]
  },
  {
   "cell_type": "markdown",
   "metadata": {},
   "source": [
    "Приоритизируем гипотезы методом ICE."
   ]
  },
  {
   "cell_type": "markdown",
   "metadata": {},
   "source": [
    "Создадим новый столбец в датафрейме с гипотезами, где будет храниться итоговое количество баллов."
   ]
  },
  {
   "cell_type": "code",
   "execution_count": 32,
   "metadata": {},
   "outputs": [],
   "source": [
    "hypothesis['ICE_score'] = round(hypothesis['Impact'] * hypothesis['Confidence'] / hypothesis['Efforts'],3)"
   ]
  },
  {
   "cell_type": "code",
   "execution_count": 33,
   "metadata": {},
   "outputs": [
    {
     "data": {
      "text/html": [
       "<div>\n",
       "<style scoped>\n",
       "    .dataframe tbody tr th:only-of-type {\n",
       "        vertical-align: middle;\n",
       "    }\n",
       "\n",
       "    .dataframe tbody tr th {\n",
       "        vertical-align: top;\n",
       "    }\n",
       "\n",
       "    .dataframe thead th {\n",
       "        text-align: right;\n",
       "    }\n",
       "</style>\n",
       "<table border=\"1\" class=\"dataframe\">\n",
       "  <thead>\n",
       "    <tr style=\"text-align: right;\">\n",
       "      <th></th>\n",
       "      <th>Hypothesis</th>\n",
       "      <th>ICE_score</th>\n",
       "    </tr>\n",
       "  </thead>\n",
       "  <tbody>\n",
       "    <tr>\n",
       "      <th>8</th>\n",
       "      <td>Запустить акцию, дающую скидку на товар в день рождения</td>\n",
       "      <td>16.200</td>\n",
       "    </tr>\n",
       "    <tr>\n",
       "      <th>0</th>\n",
       "      <td>Добавить два новых канала привлечения трафика, что позволит привлекать на 30% больше пользователей</td>\n",
       "      <td>13.333</td>\n",
       "    </tr>\n",
       "    <tr>\n",
       "      <th>7</th>\n",
       "      <td>Добавить форму подписки на все основные страницы, чтобы собрать базу клиентов для email-рассылок</td>\n",
       "      <td>11.200</td>\n",
       "    </tr>\n",
       "    <tr>\n",
       "      <th>6</th>\n",
       "      <td>Показать на главной странице баннеры с актуальными акциями и распродажами, чтобы увеличить конверсию</td>\n",
       "      <td>8.000</td>\n",
       "    </tr>\n",
       "    <tr>\n",
       "      <th>2</th>\n",
       "      <td>Добавить блоки рекомендаций товаров на сайт интернет магазина, чтобы повысить конверсию и средний чек заказа</td>\n",
       "      <td>7.000</td>\n",
       "    </tr>\n",
       "    <tr>\n",
       "      <th>1</th>\n",
       "      <td>Запустить собственную службу доставки, что сократит срок доставки заказов</td>\n",
       "      <td>2.000</td>\n",
       "    </tr>\n",
       "    <tr>\n",
       "      <th>5</th>\n",
       "      <td>Добавить страницу отзывов клиентов о магазине, что позволит увеличить количество заказов</td>\n",
       "      <td>1.333</td>\n",
       "    </tr>\n",
       "    <tr>\n",
       "      <th>3</th>\n",
       "      <td>Изменить структура категорий, что увеличит конверсию, т.к. пользователи быстрее найдут нужный товар</td>\n",
       "      <td>1.125</td>\n",
       "    </tr>\n",
       "    <tr>\n",
       "      <th>4</th>\n",
       "      <td>Изменить цвет фона главной страницы, чтобы увеличить вовлеченность пользователей</td>\n",
       "      <td>1.000</td>\n",
       "    </tr>\n",
       "  </tbody>\n",
       "</table>\n",
       "</div>"
      ],
      "text/plain": [
       "                                                                                                     Hypothesis  \\\n",
       "8  Запустить акцию, дающую скидку на товар в день рождения                                                        \n",
       "0  Добавить два новых канала привлечения трафика, что позволит привлекать на 30% больше пользователей             \n",
       "7  Добавить форму подписки на все основные страницы, чтобы собрать базу клиентов для email-рассылок               \n",
       "6  Показать на главной странице баннеры с актуальными акциями и распродажами, чтобы увеличить конверсию           \n",
       "2  Добавить блоки рекомендаций товаров на сайт интернет магазина, чтобы повысить конверсию и средний чек заказа   \n",
       "1  Запустить собственную службу доставки, что сократит срок доставки заказов                                      \n",
       "5  Добавить страницу отзывов клиентов о магазине, что позволит увеличить количество заказов                       \n",
       "3  Изменить структура категорий, что увеличит конверсию, т.к. пользователи быстрее найдут нужный товар            \n",
       "4  Изменить цвет фона главной страницы, чтобы увеличить вовлеченность пользователей                               \n",
       "\n",
       "   ICE_score  \n",
       "8  16.200     \n",
       "0  13.333     \n",
       "7  11.200     \n",
       "6  8.000      \n",
       "2  7.000      \n",
       "1  2.000      \n",
       "5  1.333      \n",
       "3  1.125      \n",
       "4  1.000      "
      ]
     },
     "execution_count": 33,
     "metadata": {},
     "output_type": "execute_result"
    }
   ],
   "source": [
    "# сортируем по убыванию\n",
    "hypothesis[['Hypothesis','ICE_score']].sort_values(by='ICE_score', ascending = False)"
   ]
  },
  {
   "cell_type": "markdown",
   "metadata": {},
   "source": [
    "Наиболее приоритетными оказались восьмая, нулевая и седьмая гипотезы."
   ]
  },
  {
   "cell_type": "markdown",
   "metadata": {},
   "source": [
    "Проведем приоритизацию методом RICE."
   ]
  },
  {
   "cell_type": "code",
   "execution_count": 36,
   "metadata": {},
   "outputs": [
    {
     "data": {
      "text/html": [
       "<div>\n",
       "<style scoped>\n",
       "    .dataframe tbody tr th:only-of-type {\n",
       "        vertical-align: middle;\n",
       "    }\n",
       "\n",
       "    .dataframe tbody tr th {\n",
       "        vertical-align: top;\n",
       "    }\n",
       "\n",
       "    .dataframe thead th {\n",
       "        text-align: right;\n",
       "    }\n",
       "</style>\n",
       "<table border=\"1\" class=\"dataframe\">\n",
       "  <thead>\n",
       "    <tr style=\"text-align: right;\">\n",
       "      <th></th>\n",
       "      <th>Hypothesis</th>\n",
       "      <th>RICE_score</th>\n",
       "    </tr>\n",
       "  </thead>\n",
       "  <tbody>\n",
       "    <tr>\n",
       "      <th>7</th>\n",
       "      <td>Добавить форму подписки на все основные страницы, чтобы собрать базу клиентов для email-рассылок</td>\n",
       "      <td>112.0</td>\n",
       "    </tr>\n",
       "    <tr>\n",
       "      <th>2</th>\n",
       "      <td>Добавить блоки рекомендаций товаров на сайт интернет магазина, чтобы повысить конверсию и средний чек заказа</td>\n",
       "      <td>56.0</td>\n",
       "    </tr>\n",
       "    <tr>\n",
       "      <th>0</th>\n",
       "      <td>Добавить два новых канала привлечения трафика, что позволит привлекать на 30% больше пользователей</td>\n",
       "      <td>40.0</td>\n",
       "    </tr>\n",
       "    <tr>\n",
       "      <th>6</th>\n",
       "      <td>Показать на главной странице баннеры с актуальными акциями и распродажами, чтобы увеличить конверсию</td>\n",
       "      <td>40.0</td>\n",
       "    </tr>\n",
       "    <tr>\n",
       "      <th>8</th>\n",
       "      <td>Запустить акцию, дающую скидку на товар в день рождения</td>\n",
       "      <td>16.2</td>\n",
       "    </tr>\n",
       "    <tr>\n",
       "      <th>3</th>\n",
       "      <td>Изменить структура категорий, что увеличит конверсию, т.к. пользователи быстрее найдут нужный товар</td>\n",
       "      <td>9.0</td>\n",
       "    </tr>\n",
       "    <tr>\n",
       "      <th>1</th>\n",
       "      <td>Запустить собственную службу доставки, что сократит срок доставки заказов</td>\n",
       "      <td>4.0</td>\n",
       "    </tr>\n",
       "    <tr>\n",
       "      <th>5</th>\n",
       "      <td>Добавить страницу отзывов клиентов о магазине, что позволит увеличить количество заказов</td>\n",
       "      <td>4.0</td>\n",
       "    </tr>\n",
       "    <tr>\n",
       "      <th>4</th>\n",
       "      <td>Изменить цвет фона главной страницы, чтобы увеличить вовлеченность пользователей</td>\n",
       "      <td>3.0</td>\n",
       "    </tr>\n",
       "  </tbody>\n",
       "</table>\n",
       "</div>"
      ],
      "text/plain": [
       "                                                                                                     Hypothesis  \\\n",
       "7  Добавить форму подписки на все основные страницы, чтобы собрать базу клиентов для email-рассылок               \n",
       "2  Добавить блоки рекомендаций товаров на сайт интернет магазина, чтобы повысить конверсию и средний чек заказа   \n",
       "0  Добавить два новых канала привлечения трафика, что позволит привлекать на 30% больше пользователей             \n",
       "6  Показать на главной странице баннеры с актуальными акциями и распродажами, чтобы увеличить конверсию           \n",
       "8  Запустить акцию, дающую скидку на товар в день рождения                                                        \n",
       "3  Изменить структура категорий, что увеличит конверсию, т.к. пользователи быстрее найдут нужный товар            \n",
       "1  Запустить собственную службу доставки, что сократит срок доставки заказов                                      \n",
       "5  Добавить страницу отзывов клиентов о магазине, что позволит увеличить количество заказов                       \n",
       "4  Изменить цвет фона главной страницы, чтобы увеличить вовлеченность пользователей                               \n",
       "\n",
       "   RICE_score  \n",
       "7  112.0       \n",
       "2  56.0        \n",
       "0  40.0        \n",
       "6  40.0        \n",
       "8  16.2        \n",
       "3  9.0         \n",
       "1  4.0         \n",
       "5  4.0         \n",
       "4  3.0         "
      ]
     },
     "execution_count": 36,
     "metadata": {},
     "output_type": "execute_result"
    }
   ],
   "source": [
    "hypothesis['RICE_score'] = hypothesis['Reach'] * hypothesis['Impact'] * hypothesis['Confidence']/hypothesis['Efforts']\n",
    "hypothesis[['Hypothesis','RICE_score']].sort_values(by='RICE_score', ascending = False)"
   ]
  },
  {
   "cell_type": "markdown",
   "metadata": {},
   "source": [
    "Приоритизация гипотез меняется в зависимости от фреймворка. Например, самая приоритетная гипотеза в ICE опускается в середину таблицы в RICE. Тем временем в RICE лидирует гипотеза, которая была на третьем месте в ICE, а второе место занимает гипотеза, которая была на пятом месте.\n",
    "\n",
    "Изменения связаны с параметром Reach (охват пользователей). Фреймворк RICE его учитывает, поэтому гипотеза с параметром reach равным 10 заняла первое место в RICE, а гипотеза с reach равным 1 опустилась с первого места на пятое."
   ]
  },
  {
   "cell_type": "markdown",
   "metadata": {},
   "source": [
    "## Анализ A/B-теста"
   ]
  },
  {
   "cell_type": "markdown",
   "metadata": {},
   "source": [
    "Создадим график кумулятивной выручки по группам. Для этого сначала создадим датафрейм с кумулятивными данными."
   ]
  },
  {
   "cell_type": "code",
   "execution_count": 40,
   "metadata": {},
   "outputs": [],
   "source": [
    "# массив уникальных пар дат и групп теста\n",
    "datesGroups = orders[['date','group']].drop_duplicates()"
   ]
  },
  {
   "cell_type": "code",
   "execution_count": 41,
   "metadata": {},
   "outputs": [],
   "source": [
    "# кумулятивные аггрегированные по дням данные о заказах\n",
    "ordersAggregated = datesGroups.apply(lambda x: orders[np.logical_and(orders['date'] <= x['date'], orders['group'] == x['group'])]\\\n",
    ".agg({'date' : 'max', 'group' : 'max', 'transactionId' : 'nunique', 'visitorId' : 'nunique', 'revenue' : 'sum'}), axis=1)\\\n",
    ".sort_values(by=['date','group'])\n",
    "\n",
    "# кумулятивные аггрегированные по дням данные о посетителях\n",
    "visitorsAggregated = datesGroups.apply(lambda x: visitors[np.logical_and(visitors['date'] <= x['date'], visitors['group'] == x['group'])]\\\n",
    ".agg({'date' : 'max', 'group' : 'max', 'visitors' : 'sum'}), axis=1).sort_values(by=['date','group'])\n",
    "\n",
    "# объединяем кумулятивные данные в одну таблицу\n",
    "cumulativeData = ordersAggregated.merge(visitorsAggregated,on = ['date','group'])\n",
    "cumulativeData.columns = ['date','group','orders','buyers','revenue','visitors']"
   ]
  },
  {
   "cell_type": "code",
   "execution_count": 42,
   "metadata": {},
   "outputs": [
    {
     "data": {
      "text/html": [
       "<div>\n",
       "<style scoped>\n",
       "    .dataframe tbody tr th:only-of-type {\n",
       "        vertical-align: middle;\n",
       "    }\n",
       "\n",
       "    .dataframe tbody tr th {\n",
       "        vertical-align: top;\n",
       "    }\n",
       "\n",
       "    .dataframe thead th {\n",
       "        text-align: right;\n",
       "    }\n",
       "</style>\n",
       "<table border=\"1\" class=\"dataframe\">\n",
       "  <thead>\n",
       "    <tr style=\"text-align: right;\">\n",
       "      <th></th>\n",
       "      <th>date</th>\n",
       "      <th>group</th>\n",
       "      <th>orders</th>\n",
       "      <th>buyers</th>\n",
       "      <th>revenue</th>\n",
       "      <th>visitors</th>\n",
       "    </tr>\n",
       "  </thead>\n",
       "  <tbody>\n",
       "    <tr>\n",
       "      <th>0</th>\n",
       "      <td>2019-08-01</td>\n",
       "      <td>A</td>\n",
       "      <td>23</td>\n",
       "      <td>19</td>\n",
       "      <td>142779</td>\n",
       "      <td>719</td>\n",
       "    </tr>\n",
       "    <tr>\n",
       "      <th>1</th>\n",
       "      <td>2019-08-01</td>\n",
       "      <td>B</td>\n",
       "      <td>17</td>\n",
       "      <td>17</td>\n",
       "      <td>59758</td>\n",
       "      <td>713</td>\n",
       "    </tr>\n",
       "    <tr>\n",
       "      <th>2</th>\n",
       "      <td>2019-08-02</td>\n",
       "      <td>A</td>\n",
       "      <td>42</td>\n",
       "      <td>36</td>\n",
       "      <td>234381</td>\n",
       "      <td>1338</td>\n",
       "    </tr>\n",
       "    <tr>\n",
       "      <th>3</th>\n",
       "      <td>2019-08-02</td>\n",
       "      <td>B</td>\n",
       "      <td>40</td>\n",
       "      <td>39</td>\n",
       "      <td>221801</td>\n",
       "      <td>1294</td>\n",
       "    </tr>\n",
       "    <tr>\n",
       "      <th>4</th>\n",
       "      <td>2019-08-03</td>\n",
       "      <td>A</td>\n",
       "      <td>66</td>\n",
       "      <td>60</td>\n",
       "      <td>346854</td>\n",
       "      <td>1845</td>\n",
       "    </tr>\n",
       "    <tr>\n",
       "      <th>...</th>\n",
       "      <td>...</td>\n",
       "      <td>...</td>\n",
       "      <td>...</td>\n",
       "      <td>...</td>\n",
       "      <td>...</td>\n",
       "      <td>...</td>\n",
       "    </tr>\n",
       "    <tr>\n",
       "      <th>57</th>\n",
       "      <td>2019-08-29</td>\n",
       "      <td>B</td>\n",
       "      <td>510</td>\n",
       "      <td>490</td>\n",
       "      <td>4746610</td>\n",
       "      <td>17708</td>\n",
       "    </tr>\n",
       "    <tr>\n",
       "      <th>58</th>\n",
       "      <td>2019-08-30</td>\n",
       "      <td>A</td>\n",
       "      <td>460</td>\n",
       "      <td>437</td>\n",
       "      <td>3311413</td>\n",
       "      <td>18037</td>\n",
       "    </tr>\n",
       "    <tr>\n",
       "      <th>59</th>\n",
       "      <td>2019-08-30</td>\n",
       "      <td>B</td>\n",
       "      <td>531</td>\n",
       "      <td>511</td>\n",
       "      <td>4955833</td>\n",
       "      <td>18198</td>\n",
       "    </tr>\n",
       "    <tr>\n",
       "      <th>60</th>\n",
       "      <td>2019-08-31</td>\n",
       "      <td>A</td>\n",
       "      <td>468</td>\n",
       "      <td>445</td>\n",
       "      <td>3364656</td>\n",
       "      <td>18736</td>\n",
       "    </tr>\n",
       "    <tr>\n",
       "      <th>61</th>\n",
       "      <td>2019-08-31</td>\n",
       "      <td>B</td>\n",
       "      <td>548</td>\n",
       "      <td>528</td>\n",
       "      <td>5068972</td>\n",
       "      <td>18916</td>\n",
       "    </tr>\n",
       "  </tbody>\n",
       "</table>\n",
       "<p>62 rows × 6 columns</p>\n",
       "</div>"
      ],
      "text/plain": [
       "         date group  orders  buyers  revenue  visitors\n",
       "0  2019-08-01  A     23      19      142779   719     \n",
       "1  2019-08-01  B     17      17      59758    713     \n",
       "2  2019-08-02  A     42      36      234381   1338    \n",
       "3  2019-08-02  B     40      39      221801   1294    \n",
       "4  2019-08-03  A     66      60      346854   1845    \n",
       "..        ... ..     ..      ..         ...    ...    \n",
       "57 2019-08-29  B     510     490     4746610  17708   \n",
       "58 2019-08-30  A     460     437     3311413  18037   \n",
       "59 2019-08-30  B     531     511     4955833  18198   \n",
       "60 2019-08-31  A     468     445     3364656  18736   \n",
       "61 2019-08-31  B     548     528     5068972  18916   \n",
       "\n",
       "[62 rows x 6 columns]"
      ]
     },
     "execution_count": 42,
     "metadata": {},
     "output_type": "execute_result"
    }
   ],
   "source": [
    "cumulativeData"
   ]
  },
  {
   "cell_type": "markdown",
   "metadata": {},
   "source": [
    "Разделим кумулятивные данные по группам A/B-теста."
   ]
  },
  {
   "cell_type": "code",
   "execution_count": 44,
   "metadata": {},
   "outputs": [],
   "source": [
    "CumulativeRevenueA = cumulativeData[cumulativeData['group']=='A'][['date','revenue','orders']]\n",
    "CumulativeRevenueB = cumulativeData[cumulativeData['group']=='B'][['date','revenue','orders']]"
   ]
  },
  {
   "cell_type": "markdown",
   "metadata": {},
   "source": [
    "Построим график."
   ]
  },
  {
   "cell_type": "code",
   "execution_count": 46,
   "metadata": {},
   "outputs": [
    {
     "data": {
      "text/plain": [
       "[]"
      ]
     },
     "execution_count": 46,
     "metadata": {},
     "output_type": "execute_result"
    },
    {
     "data": {
      "image/png": "[encoded data removed]",
      "text/plain": [
       "<Figure size 600x500 with 1 Axes>"
      ]
     },
     "metadata": {},
     "output_type": "display_data"
    }
   ],
   "source": [
    "# график кумулятивной выручки группы A сохраняем в переменной \"ax\"\n",
    "ax = CumulativeRevenueA.plot(x = 'date', y = 'revenue')\n",
    "# в параметрах графика кумулятивной выручки группы B указываем \"ax=ax\", чтобы 2 кривые отображались на одной плоскости\n",
    "CumulativeRevenueB.plot(ax=ax,x = 'date', y = 'revenue')\n",
    "plt.title('Кумулятивная выручка по группам')\n",
    "plt.xlabel('Дата')\n",
    "plt.ylabel('Выручка')\n",
    "plt.legend(title = 'Группа', labels = ['A','B'])\n",
    "plt.plot()"
   ]
  },
  {
   "cell_type": "markdown",
   "metadata": {},
   "source": [
    "Кумулятивная выручка группы B резко увеличилась в диапазоне дат 17-20 августа, что может свидетельствовать либо о вплесках количества заказов либо о наличии аномально дорогих заказов в выборке. В дальнейшем аномальные заказы из выборки уберем."
   ]
  },
  {
   "cell_type": "markdown",
   "metadata": {},
   "source": [
    "Создадим график кумулятивного среднего чека по группам. Для этого разделим кумулятивную выручку на кумулятивное число заказов."
   ]
  },
  {
   "cell_type": "markdown",
   "metadata": {},
   "source": [
    "Создадим в датафреймах CumulativeRevenueA и CumulativeRevenueB столбец с кумулятивным средним чеком."
   ]
  },
  {
   "cell_type": "code",
   "execution_count": 50,
   "metadata": {},
   "outputs": [
    {
     "data": {
      "text/html": [
       "<div>\n",
       "<style scoped>\n",
       "    .dataframe tbody tr th:only-of-type {\n",
       "        vertical-align: middle;\n",
       "    }\n",
       "\n",
       "    .dataframe tbody tr th {\n",
       "        vertical-align: top;\n",
       "    }\n",
       "\n",
       "    .dataframe thead th {\n",
       "        text-align: right;\n",
       "    }\n",
       "</style>\n",
       "<table border=\"1\" class=\"dataframe\">\n",
       "  <thead>\n",
       "    <tr style=\"text-align: right;\">\n",
       "      <th></th>\n",
       "      <th>date</th>\n",
       "      <th>revenue</th>\n",
       "      <th>orders</th>\n",
       "      <th>avg_bill</th>\n",
       "    </tr>\n",
       "  </thead>\n",
       "  <tbody>\n",
       "    <tr>\n",
       "      <th>0</th>\n",
       "      <td>2019-08-01</td>\n",
       "      <td>142779</td>\n",
       "      <td>23</td>\n",
       "      <td>6207.782609</td>\n",
       "    </tr>\n",
       "    <tr>\n",
       "      <th>2</th>\n",
       "      <td>2019-08-02</td>\n",
       "      <td>234381</td>\n",
       "      <td>42</td>\n",
       "      <td>5580.500000</td>\n",
       "    </tr>\n",
       "    <tr>\n",
       "      <th>4</th>\n",
       "      <td>2019-08-03</td>\n",
       "      <td>346854</td>\n",
       "      <td>66</td>\n",
       "      <td>5255.363636</td>\n",
       "    </tr>\n",
       "    <tr>\n",
       "      <th>6</th>\n",
       "      <td>2019-08-04</td>\n",
       "      <td>388030</td>\n",
       "      <td>77</td>\n",
       "      <td>5039.350649</td>\n",
       "    </tr>\n",
       "    <tr>\n",
       "      <th>8</th>\n",
       "      <td>2019-08-05</td>\n",
       "      <td>474413</td>\n",
       "      <td>99</td>\n",
       "      <td>4792.050505</td>\n",
       "    </tr>\n",
       "  </tbody>\n",
       "</table>\n",
       "</div>"
      ],
      "text/plain": [
       "        date  revenue  orders     avg_bill\n",
       "0 2019-08-01  142779   23      6207.782609\n",
       "2 2019-08-02  234381   42      5580.500000\n",
       "4 2019-08-03  346854   66      5255.363636\n",
       "6 2019-08-04  388030   77      5039.350649\n",
       "8 2019-08-05  474413   99      4792.050505"
      ]
     },
     "metadata": {},
     "output_type": "display_data"
    },
    {
     "data": {
      "text/html": [
       "<div>\n",
       "<style scoped>\n",
       "    .dataframe tbody tr th:only-of-type {\n",
       "        vertical-align: middle;\n",
       "    }\n",
       "\n",
       "    .dataframe tbody tr th {\n",
       "        vertical-align: top;\n",
       "    }\n",
       "\n",
       "    .dataframe thead th {\n",
       "        text-align: right;\n",
       "    }\n",
       "</style>\n",
       "<table border=\"1\" class=\"dataframe\">\n",
       "  <thead>\n",
       "    <tr style=\"text-align: right;\">\n",
       "      <th></th>\n",
       "      <th>date</th>\n",
       "      <th>revenue</th>\n",
       "      <th>orders</th>\n",
       "      <th>avg_bill</th>\n",
       "    </tr>\n",
       "  </thead>\n",
       "  <tbody>\n",
       "    <tr>\n",
       "      <th>1</th>\n",
       "      <td>2019-08-01</td>\n",
       "      <td>59758</td>\n",
       "      <td>17</td>\n",
       "      <td>3515.176471</td>\n",
       "    </tr>\n",
       "    <tr>\n",
       "      <th>3</th>\n",
       "      <td>2019-08-02</td>\n",
       "      <td>221801</td>\n",
       "      <td>40</td>\n",
       "      <td>5545.025000</td>\n",
       "    </tr>\n",
       "    <tr>\n",
       "      <th>5</th>\n",
       "      <td>2019-08-03</td>\n",
       "      <td>288850</td>\n",
       "      <td>54</td>\n",
       "      <td>5349.074074</td>\n",
       "    </tr>\n",
       "    <tr>\n",
       "      <th>7</th>\n",
       "      <td>2019-08-04</td>\n",
       "      <td>385740</td>\n",
       "      <td>68</td>\n",
       "      <td>5672.647059</td>\n",
       "    </tr>\n",
       "    <tr>\n",
       "      <th>9</th>\n",
       "      <td>2019-08-05</td>\n",
       "      <td>475648</td>\n",
       "      <td>89</td>\n",
       "      <td>5344.359551</td>\n",
       "    </tr>\n",
       "  </tbody>\n",
       "</table>\n",
       "</div>"
      ],
      "text/plain": [
       "        date  revenue  orders     avg_bill\n",
       "1 2019-08-01  59758    17      3515.176471\n",
       "3 2019-08-02  221801   40      5545.025000\n",
       "5 2019-08-03  288850   54      5349.074074\n",
       "7 2019-08-04  385740   68      5672.647059\n",
       "9 2019-08-05  475648   89      5344.359551"
      ]
     },
     "metadata": {},
     "output_type": "display_data"
    }
   ],
   "source": [
    "CumulativeRevenueA['avg_bill'] = CumulativeRevenueA['revenue']/CumulativeRevenueA['orders']\n",
    "CumulativeRevenueB['avg_bill'] = CumulativeRevenueB['revenue']/CumulativeRevenueB['orders']\n",
    "display(CumulativeRevenueA.head())\n",
    "display(CumulativeRevenueB.head())"
   ]
  },
  {
   "cell_type": "code",
   "execution_count": 51,
   "metadata": {},
   "outputs": [
    {
     "data": {
      "text/plain": [
       "[]"
      ]
     },
     "execution_count": 51,
     "metadata": {},
     "output_type": "execute_result"
    },
    {
     "data": {
      "image/png": "[encoded data removed]",
      "text/plain": [
       "<Figure size 600x500 with 1 Axes>"
      ]
     },
     "metadata": {},
     "output_type": "display_data"
    }
   ],
   "source": [
    "ax = CumulativeRevenueA.plot(x = 'date', y = 'avg_bill')\n",
    "CumulativeRevenueB.plot(ax=ax,x = 'date', y = 'avg_bill')\n",
    "plt.title('Кумулятивный средний чек по группам')\n",
    "plt.xlabel('Дата')\n",
    "plt.ylabel('Средний чек')\n",
    "plt.legend(title = 'Группа', labels = ['A','B'])\n",
    "plt.plot()"
   ]
  },
  {
   "cell_type": "markdown",
   "metadata": {},
   "source": [
    "Кумулятивный средний чек группы B также имеет резкий всплеск на тех же датах, что и в кумулятивной выручке. Ранее мною было выказано предположение, что причиной данного всплеска может являться большое количество заказов в эти дни. Однако, в таком случае это бы не повлияло на средний чек. Поэтому скорее всего причиной всплеска являются аномально дорогие покупки в одну из этих дат.\n",
    "\n",
    "Значения в обоих группах еще не установились около некоторого среднего."
   ]
  },
  {
   "cell_type": "markdown",
   "metadata": {},
   "source": [
    "Построим график относительного изменения кумулятивного среднего чека группы B к группе A."
   ]
  },
  {
   "cell_type": "code",
   "execution_count": 54,
   "metadata": {},
   "outputs": [],
   "source": [
    "# объединим между собой таблицы с кумулятивными данными о среднем чеке в каждой группе\n",
    "MergedCumulativeRevenue = CumulativeRevenueA.merge(CumulativeRevenueB, on = 'date', suffixes = ['A','B'])\n",
    "# данные о различии среднего чека группы B к группе A вычислим и сохраним в новом столбце\n",
    "MergedCumulativeRevenue['difference'] = MergedCumulativeRevenue['avg_billB']/MergedCumulativeRevenue['avg_billA'] - 1"
   ]
  },
  {
   "cell_type": "markdown",
   "metadata": {},
   "source": [
    "Строим график."
   ]
  },
  {
   "cell_type": "code",
   "execution_count": 56,
   "metadata": {},
   "outputs": [
    {
     "data": {
      "image/png": "[encoded data removed]",
      "text/plain": [
       "<Figure size 600x500 with 1 Axes>"
      ]
     },
     "metadata": {},
     "output_type": "display_data"
    }
   ],
   "source": [
    "MergedCumulativeRevenue.plot(x = 'date', y = 'difference')\n",
    "# добавляем горизонтальную линию на значении y=0\n",
    "plt.axhline(y=0, color='black', linestyle='--') \n",
    "# удаляем легенду\n",
    "plt.legend().remove()\n",
    "plt.title('Относительное изменение кумулятивного среднего чека группы B к группе A')\n",
    "plt.show()"
   ]
  },
  {
   "cell_type": "markdown",
   "metadata": {},
   "source": [
    "Снова наблюдаем резкий скачок в районе 17-20 августа."
   ]
  },
  {
   "cell_type": "markdown",
   "metadata": {},
   "source": [
    "Построим график кумулятивного среднего количества заказов на посетителя по группам."
   ]
  },
  {
   "cell_type": "code",
   "execution_count": 59,
   "metadata": {},
   "outputs": [],
   "source": [
    "#сохраняем данные о среднем количестве заказов на посетттеля в новом столбце\n",
    "cumulativeData['conversion'] = cumulativeData['orders']/cumulativeData['visitors']\n",
    "# отделяем данные по группе A\n",
    "cumulativeDataA = cumulativeData[cumulativeData['group']=='A']\n",
    "# отделяем данные по группе B\n",
    "cumulativeDataB = cumulativeData[cumulativeData['group']=='B']"
   ]
  },
  {
   "cell_type": "code",
   "execution_count": 60,
   "metadata": {},
   "outputs": [
    {
     "data": {
      "image/png": "[encoded data removed]",
      "text/plain": [
       "<Figure size 600x500 with 1 Axes>"
      ]
     },
     "metadata": {},
     "output_type": "display_data"
    }
   ],
   "source": [
    "ax = cumulativeDataA.plot(x = 'date',y = 'conversion')\n",
    "cumulativeDataB.plot(ax=ax, x = 'date',y = 'conversion')\n",
    "# изменим масштаб осей\n",
    "plt.ylim(0,0.04)\n",
    "plt.xlabel('Дата')\n",
    "plt.ylabel('Количество заказов')\n",
    "plt.title('Среднее кумулятивное количество заказов на посетителя')\n",
    "plt.legend(title = 'Группа',labels = ['A','B'])\n",
    "plt.show()"
   ]
  },
  {
   "cell_type": "markdown",
   "metadata": {},
   "source": [
    "Среднее кумулятивное количество заказов на посетителя зафиксировалось для обоих групп примерно с 11 августа. У группы B это значение немного выше."
   ]
  },
  {
   "cell_type": "markdown",
   "metadata": {},
   "source": [
    "Построим график относительного изменения кумулятивного среднего количества заказов на посетителя группы B к группе A."
   ]
  },
  {
   "cell_type": "code",
   "execution_count": 63,
   "metadata": {},
   "outputs": [],
   "source": [
    "# объединим датафреймы с данными о кумулятивном среднем количестве заказов на пользователя\n",
    "mergedCumulativeConversions = cumulativeDataA[['date','conversion']].merge(cumulativeDataB[['date','conversion']],on='date', suffixes=['A', 'B'])"
   ]
  },
  {
   "cell_type": "code",
   "execution_count": 64,
   "metadata": {},
   "outputs": [],
   "source": [
    "# вычислим разницу группы B к группе A и сохраним в отдельном столбце\n",
    "mergedCumulativeConversions['difference'] = mergedCumulativeConversions['conversionB']/mergedCumulativeConversions['conversionA']-1"
   ]
  },
  {
   "cell_type": "markdown",
   "metadata": {},
   "source": [
    "Строим график."
   ]
  },
  {
   "cell_type": "code",
   "execution_count": 66,
   "metadata": {},
   "outputs": [
    {
     "data": {
      "image/png": "[encoded data removed]",
      "text/plain": [
       "<Figure size 600x500 with 1 Axes>"
      ]
     },
     "metadata": {},
     "output_type": "display_data"
    }
   ],
   "source": [
    "mergedCumulativeConversions.plot(x = 'date',y = 'difference')\n",
    "plt.axhline(y=0, color='black', linestyle='--') \n",
    "plt.legend().remove()\n",
    "plt.title('Относительное изменение кумулятивного среднего количества заказов на посетителя группы B к группе A')\n",
    "plt.show()"
   ]
  },
  {
   "cell_type": "markdown",
   "metadata": {},
   "source": [
    "Судя по графику, количество заказов на посетителя в группе B выше, чем в группе A."
   ]
  },
  {
   "cell_type": "markdown",
   "metadata": {},
   "source": [
    "Построим точечный график количества заказов по пользователям. Для этого сначала создадим переменную, в которой будет аггрегировано количество уникальных заказов для каждого пользователя."
   ]
  },
  {
   "cell_type": "code",
   "execution_count": 69,
   "metadata": {},
   "outputs": [],
   "source": [
    "OrdersByUsers = orders.groupby('visitorId', as_index = False).agg({'transactionId':'nunique'})\n",
    "OrdersByUsers.columns = ['userId', 'orders']"
   ]
  },
  {
   "cell_type": "markdown",
   "metadata": {},
   "source": [
    "Также перед созданием графика необходимо сгенерировать значения x в виде объекта Series от 0 до n, где n - количество пользователей."
   ]
  },
  {
   "cell_type": "code",
   "execution_count": 71,
   "metadata": {},
   "outputs": [],
   "source": [
    "x_values = pd.Series(range(0,len(OrdersByUsers)))"
   ]
  },
  {
   "cell_type": "markdown",
   "metadata": {},
   "source": [
    "Создаем график."
   ]
  },
  {
   "cell_type": "code",
   "execution_count": 73,
   "metadata": {},
   "outputs": [
    {
     "data": {
      "image/png": "[encoded data removed]",
      "text/plain": [
       "<Figure size 600x500 with 1 Axes>"
      ]
     },
     "metadata": {},
     "output_type": "display_data"
    }
   ],
   "source": [
    "# убираем обозначения оси X, т.к. они не имеют практического значения. По сути это просто порядковый номер пользователя\n",
    "plt.xticks([])\n",
    "plt.scatter(x_values, OrdersByUsers['orders'])\n",
    "plt.title('Количество заказов на пользователя')\n",
    "plt.ylabel('Количество заказов')\n",
    "plt.show()"
   ]
  },
  {
   "cell_type": "markdown",
   "metadata": {},
   "source": [
    "Пользователи совершали в основном по 1 заказу, также есть пользователи с 2-3 заказами."
   ]
  },
  {
   "cell_type": "markdown",
   "metadata": {},
   "source": [
    "Построим точечный график стоимостей заказов."
   ]
  },
  {
   "cell_type": "code",
   "execution_count": 76,
   "metadata": {},
   "outputs": [],
   "source": [
    "x_values = pd.Series(range(0,len(orders)))"
   ]
  },
  {
   "cell_type": "code",
   "execution_count": 77,
   "metadata": {},
   "outputs": [
    {
     "data": {
      "image/png": "[encoded data removed]",
      "text/plain": [
       "<Figure size 600x500 with 1 Axes>"
      ]
     },
     "metadata": {},
     "output_type": "display_data"
    }
   ],
   "source": [
    "plt.xticks([])\n",
    "plt.scatter(x_values, orders['revenue'])\n",
    "plt.ylabel('Стоимость')\n",
    "plt.title('Стоимость каждого заказа')\n",
    "plt.show()"
   ]
  },
  {
   "cell_type": "markdown",
   "metadata": {},
   "source": [
    "В данных есть явный выброс в виде заказа стоимостью более 1,2 млн рублей."
   ]
  },
  {
   "cell_type": "markdown",
   "metadata": {},
   "source": [
    "Посчитаем 95 и 99 перцентили стоимости заказов. Определим границу аномальных заказов."
   ]
  },
  {
   "cell_type": "code",
   "execution_count": 80,
   "metadata": {},
   "outputs": [
    {
     "data": {
      "text/plain": [
       "array([26785., 53904.])"
      ]
     },
     "execution_count": 80,
     "metadata": {},
     "output_type": "execute_result"
    }
   ],
   "source": [
    "np.percentile(orders['revenue'],[95,99])"
   ]
  },
  {
   "cell_type": "markdown",
   "metadata": {},
   "source": [
    "Стоимость 95% заказов составляет не более 26785 рублей, а стоимость 99% заказов - не более 53904 рублей.\n",
    "\n",
    "По полученному выше графику сложно определиться с границей аномально дорогих заказов, т.к. на нем слишком большой масштаб оси Y. Посмотрим тот же график, но с границами оси Y от 0 до 100000."
   ]
  },
  {
   "cell_type": "code",
   "execution_count": 82,
   "metadata": {},
   "outputs": [
    {
     "data": {
      "image/png": "[encoded data removed]",
      "text/plain": [
       "<Figure size 600x500 with 1 Axes>"
      ]
     },
     "metadata": {},
     "output_type": "display_data"
    }
   ],
   "source": [
    "plt.xticks([])\n",
    "plt.scatter(x_values, orders['revenue'])\n",
    "plt.ylabel('Стоимость')\n",
    "plt.title('Стоимость каждого заказа')\n",
    "plt.ylim(0,100000)\n",
    "plt.show()"
   ]
  },
  {
   "cell_type": "markdown",
   "metadata": {},
   "source": [
    "Определим аномально дорогие заказы, как заказы стоимостью более 60000 тыс. рублей."
   ]
  },
  {
   "cell_type": "code",
   "execution_count": 84,
   "metadata": {},
   "outputs": [],
   "source": [
    "UsersWithExpensiveOrders = orders[orders['revenue']>=60000]['visitorId']"
   ]
  },
  {
   "cell_type": "markdown",
   "metadata": {},
   "source": [
    "Посчитаем статистическую значимость различий в среднем количестве заказов на посетителя между группами по «сырым» данным. "
   ]
  },
  {
   "cell_type": "markdown",
   "metadata": {},
   "source": [
    "Создадим переменные OrdersByUsersA и OrdersByUsersB, в которых для всех пользователей, сделавших хотя бы 1 заказ, будет указано количество заказов."
   ]
  },
  {
   "cell_type": "code",
   "execution_count": 87,
   "metadata": {},
   "outputs": [],
   "source": [
    "OrdersByUsersA = orders[orders['group']=='A'].groupby('visitorId',as_index = False).agg({'transactionId':pd.Series.nunique})\n",
    "OrdersByUsersA.columns = ['userId','orders']\n",
    "OrdersByUsersB = orders[orders['group']=='B'].groupby('visitorId',as_index = False).agg({'transactionId':pd.Series.nunique})\n",
    "OrdersByUsersB.columns = ['userId','orders']"
   ]
  },
  {
   "cell_type": "markdown",
   "metadata": {},
   "source": [
    "Создадим переменные SampleA и SampleB, куда войдет количество покупок каждого пользователя, в т.ч. и тех, кто не совершил ни одной покупки."
   ]
  },
  {
   "cell_type": "markdown",
   "metadata": {},
   "source": [
    "Количество пользователей без покупок равно разнице между суммой посетителей и количеством записей о заказах. Для краткости кода создадим переменные с количеством пользователей без покупок для каждой группы."
   ]
  },
  {
   "cell_type": "code",
   "execution_count": 90,
   "metadata": {},
   "outputs": [],
   "source": [
    "UsersWithZeroOrdersA = visitors[visitors['group']=='A']['visitors'].sum() - len(OrdersByUsersA)\n",
    "UsersWithZeroOrdersB = visitors[visitors['group']=='B']['visitors'].sum() - len(OrdersByUsersB)"
   ]
  },
  {
   "cell_type": "code",
   "execution_count": 91,
   "metadata": {},
   "outputs": [],
   "source": [
    "SampleA = pd.concat([OrdersByUsersA['orders'],pd.Series(0,index=np.arange(UsersWithZeroOrdersA),name = 'orders')],axis = 0)\n",
    "SampleB = pd.concat([OrdersByUsersB['orders'],pd.Series(0,index=np.arange(UsersWithZeroOrdersB),name = 'orders')],axis = 0)"
   ]
  },
  {
   "cell_type": "markdown",
   "metadata": {},
   "source": [
    "Посчитаем есть ли статистическое различие количества средних заказов между группами с помощью непараметрического теста Уилкоксона-Манна-Уитни, т.к. работаем с данными с выбросами.\n",
    "\n",
    "Определим гипотезы.\n",
    "\n",
    "Нулевая гипотеза: различий между группами в среднем количестве заказов на пользователя нет.\n",
    "\n",
    "Альтернативная гипотеза: существуют различие между группами в среднем количестве заказов."
   ]
  },
  {
   "cell_type": "code",
   "execution_count": 93,
   "metadata": {},
   "outputs": [
    {
     "name": "stdout",
     "output_type": "stream",
     "text": [
      "p-value равно 0.011\n",
      "Отвергаем нулевую гипотезу: разница между группами статистически значима\n"
     ]
    }
   ],
   "source": [
    "#установим уровень статистической значимости равной 5%\n",
    "alpha = 0.05\n",
    "results = st.mannwhitneyu(SampleA,SampleB)\n",
    "print(f'p-value равно {round(results.pvalue,3)}')\n",
    "if results.pvalue < alpha:\n",
    "    print('Отвергаем нулевую гипотезу: разница между группами статистически значима')\n",
    "else:\n",
    "    print('Не отвергаем нулевую гипотезу: вывод о различии между группами сделать нельзя')"
   ]
  },
  {
   "cell_type": "markdown",
   "metadata": {},
   "source": [
    "Выведем относительный прирост группы B"
   ]
  },
  {
   "cell_type": "code",
   "execution_count": 95,
   "metadata": {},
   "outputs": [
    {
     "name": "stdout",
     "output_type": "stream",
     "text": [
      "Относительный прирост группы B составляет 16%\n"
     ]
    }
   ],
   "source": [
    "print(f'Относительный прирост группы B составляет {round((SampleB.mean()/SampleA.mean() - 1) * 100)}%')"
   ]
  },
  {
   "cell_type": "markdown",
   "metadata": {},
   "source": [
    "На сырых данных гипотеза о равенстве количества заказов между двумя группами пользователей отвергается.\n"
   ]
  },
  {
   "cell_type": "markdown",
   "metadata": {},
   "source": [
    "Проверим статистическую значимость различий в среднем чеке заказа между группами по «сырым» данным.\n",
    "\n",
    "Снова применим тест Уилкоксона-Манна-Уитни.\n",
    "\n",
    "Нулевая гипотеза: различий в среднем чеке между группами нет.\n",
    "\n",
    "Альтернативная гипотеза: существуют различия в среднем чеке между группами."
   ]
  },
  {
   "cell_type": "code",
   "execution_count": 98,
   "metadata": {},
   "outputs": [
    {
     "name": "stdout",
     "output_type": "stream",
     "text": [
      "p-value равно 0.829\n",
      "Не отвергаем нулевую гипотезу: вывод о различии между группами сделать нельзя\n"
     ]
    }
   ],
   "source": [
    "#уровень статистической значимости оставим на уровне 5%. Это значение уже сохранено в переменной alpha\n",
    "results = st.mannwhitneyu(orders[orders['group']=='A']['revenue'],orders[orders['group']=='B']['revenue'])\n",
    "print(f'p-value равно {round(results[1],3)}')\n",
    "if results.pvalue < alpha:\n",
    "    print('Отвергаем нулевую гипотезу: разница между группами статистически значима')\n",
    "else:\n",
    "    print('Не отвергаем нулевую гипотезу: вывод о различии между группами сделать нельзя')"
   ]
  },
  {
   "cell_type": "markdown",
   "metadata": {},
   "source": [
    "Выведем относительный прирост группы B."
   ]
  },
  {
   "cell_type": "code",
   "execution_count": 100,
   "metadata": {},
   "outputs": [
    {
     "name": "stdout",
     "output_type": "stream",
     "text": [
      "Прирост группы B относительно группы A составляет 28.66%\n"
     ]
    }
   ],
   "source": [
    "up = (orders[orders['group']=='B']['revenue'].mean()/orders[orders['group']=='A']['revenue'].mean()-1) * 100\n",
    "print(f'Прирост группы B относительно группы A составляет {round(up,2)}%')"
   ]
  },
  {
   "cell_type": "markdown",
   "metadata": {},
   "source": [
    "У группы B высокий прирост относительно группы A. Возможно это из-за выбросов в данных."
   ]
  },
  {
   "cell_type": "markdown",
   "metadata": {},
   "source": [
    "По сырым данным нет статистического значимого различия между средними чеками в разных группах."
   ]
  },
  {
   "cell_type": "markdown",
   "metadata": {},
   "source": [
    "Посчитаем статистическую значимость различий в среднем количестве заказов на посетителя между группами по «очищенным» данным."
   ]
  },
  {
   "cell_type": "markdown",
   "metadata": {},
   "source": [
    "Сохраним всех аномальных пользователей в переменной AbnormalUsers."
   ]
  },
  {
   "cell_type": "code",
   "execution_count": 105,
   "metadata": {},
   "outputs": [],
   "source": [
    "AbnormalUsers = UsersWithExpensiveOrders.drop_duplicates().sort_values()"
   ]
  },
  {
   "cell_type": "markdown",
   "metadata": {},
   "source": [
    "Исключим из переменных SampleA и SampleB аномальные данные."
   ]
  },
  {
   "cell_type": "code",
   "execution_count": 107,
   "metadata": {},
   "outputs": [],
   "source": [
    "SampleAfiltered = pd.concat([OrdersByUsersA[np.logical_not(OrdersByUsersA['userId'].isin(AbnormalUsers))]\\\n",
    "['orders'],pd.Series(0,index=np.arange(UsersWithZeroOrdersA),name = 'orders')],axis=0)\n",
    "SampleBfiltered = pd.concat([OrdersByUsersB[np.logical_not(OrdersByUsersB['userId'].isin(AbnormalUsers))]\\\n",
    "['orders'],pd.Series(0,index=np.arange(UsersWithZeroOrdersB),name = 'orders')],axis=0)"
   ]
  },
  {
   "cell_type": "markdown",
   "metadata": {},
   "source": [
    "Проверим получилось ли отфильтровать данные. Сравним длину переменных до и после фильтрации."
   ]
  },
  {
   "cell_type": "code",
   "execution_count": 109,
   "metadata": {},
   "outputs": [
    {
     "name": "stdout",
     "output_type": "stream",
     "text": [
      "18736 18731\n",
      "18916 18913\n"
     ]
    }
   ],
   "source": [
    "print(len(SampleA),len(SampleAfiltered))\n",
    "print(len(SampleB),len(SampleBfiltered))"
   ]
  },
  {
   "cell_type": "markdown",
   "metadata": {},
   "source": [
    "Фильтрация прошла успешно."
   ]
  },
  {
   "cell_type": "markdown",
   "metadata": {},
   "source": [
    "Применим критерий Манна-Уитни к полученным выборкам."
   ]
  },
  {
   "cell_type": "code",
   "execution_count": 112,
   "metadata": {},
   "outputs": [
    {
     "name": "stdout",
     "output_type": "stream",
     "text": [
      "p-value равно 0.009\n",
      "Отвергаем нулевую гипотезу: разница между группами статистически значима\n"
     ]
    }
   ],
   "source": [
    "results = st.mannwhitneyu(SampleAfiltered,SampleBfiltered)\n",
    "print(f'p-value равно {round(results.pvalue,3)}')\n",
    "if results.pvalue < alpha:\n",
    "    print('Отвергаем нулевую гипотезу: разница между группами статистически значима')\n",
    "else:\n",
    "    print('Не отвергаем нулевую гипотезу: вывод о различии между группами сделать нельзя')"
   ]
  },
  {
   "cell_type": "markdown",
   "metadata": {},
   "source": [
    "Выведем относительный прирост группы B"
   ]
  },
  {
   "cell_type": "code",
   "execution_count": 114,
   "metadata": {},
   "outputs": [
    {
     "name": "stdout",
     "output_type": "stream",
     "text": [
      "Прирост группы B относительно группы A составил 16.58%\n"
     ]
    }
   ],
   "source": [
    "up = (SampleBfiltered.mean()/SampleAfiltered.mean() - 1) * 100\n",
    "print(f'Прирост группы B относительно группы A составил {round(up,2)}%')"
   ]
  },
  {
   "cell_type": "markdown",
   "metadata": {},
   "source": [
    "P-value в очищенных данных стал немного ниже, но сути это не меняет: у групп статистически значимая разница по количеству заказов."
   ]
  },
  {
   "cell_type": "markdown",
   "metadata": {},
   "source": [
    "Относительный прирост группы B стал немного выше на очищенных данных."
   ]
  },
  {
   "cell_type": "markdown",
   "metadata": {},
   "source": [
    "Проверим статистическую значимость различий в среднем чеке в зависимости от группы теста."
   ]
  },
  {
   "cell_type": "markdown",
   "metadata": {},
   "source": [
    "Сохраним отфильтрованные данные о чеках в каждой группе в переменных FilteredRevenueA и FilteredRevenueB."
   ]
  },
  {
   "cell_type": "code",
   "execution_count": 119,
   "metadata": {},
   "outputs": [],
   "source": [
    "FilteredRevenueA = orders[np.logical_and(orders['group'] == 'A', np.logical_not(orders['visitorId'].isin(AbnormalUsers)),)]['revenue']\n",
    "FilteredRevenueB = orders[np.logical_and(orders['group'] == 'B', np.logical_not(orders['visitorId'].isin(AbnormalUsers)),)]['revenue']"
   ]
  },
  {
   "cell_type": "markdown",
   "metadata": {},
   "source": [
    "Применим критерий Манна-Уитни к полученным выборкам. Сформулируем гипотезы.\n",
    "\n",
    "Нулевая гипотеза: разницы между средними чеками между группами нет.\n",
    "\n",
    "Альтернативная гипотеза: есть статистически значимая разница средних чеков между группами."
   ]
  },
  {
   "cell_type": "code",
   "execution_count": 121,
   "metadata": {},
   "outputs": [
    {
     "name": "stdout",
     "output_type": "stream",
     "text": [
      "p-value равно 0.941\n",
      "Не отвергаем нулевую гипотезу: вывод о различии между группами сделать нельзя\n"
     ]
    }
   ],
   "source": [
    "results = st.mannwhitneyu(FilteredRevenueA,FilteredRevenueB)\n",
    "print(f'p-value равно {round(results[1],3)}')\n",
    "if results.pvalue < alpha:\n",
    "    print('Отвергаем нулевую гипотезу: разница между группами статистически значима')\n",
    "else:\n",
    "    print('Не отвергаем нулевую гипотезу: вывод о различии между группами сделать нельзя')"
   ]
  },
  {
   "cell_type": "markdown",
   "metadata": {},
   "source": [
    "Выведем относительный прирост группы B."
   ]
  },
  {
   "cell_type": "code",
   "execution_count": 123,
   "metadata": {},
   "outputs": [
    {
     "name": "stdout",
     "output_type": "stream",
     "text": [
      "Относительный прирост группы B составляет -1.69%\n"
     ]
    }
   ],
   "source": [
    "up = (FilteredRevenueB.mean()/FilteredRevenueA.mean()-1) * 100\n",
    "print(f'Относительный прирост группы B составляет {round(up,2)}%')"
   ]
  },
  {
   "cell_type": "markdown",
   "metadata": {},
   "source": [
    "После фильтрации данных разница между сегментами стала незначительной."
   ]
  },
  {
   "cell_type": "markdown",
   "metadata": {},
   "source": [
    "P-value после очистки данных стал еще выше, чем был, но вывод остается тем же: между группами нет статистически значимой разницы по среднему чеку."
   ]
  },
  {
   "cell_type": "markdown",
   "metadata": {},
   "source": [
    "### Выводы по A/B-тесту."
   ]
  },
  {
   "cell_type": "markdown",
   "metadata": {},
   "source": [
    "По количеству заказов имеется статистически значимая разница между группами по сырым и обработанным данным. По средним чекам A/B-тест показал отсутствие статистически значимой разницы между группами, как по сырым данным, так и по отфильтрованным.\n",
    "    \n",
    "Тест можно завершать, выручка компании должна увеличиться в следствие увеличения количества заказов у группы B."
   ]
  },
  {
   "cell_type": "markdown",
   "metadata": {},
   "source": [
    "## Общие выводы"
   ]
  },
  {
   "cell_type": "markdown",
   "metadata": {},
   "source": [
    "Нами была проведена предобработка данных. Из анализа были исключены пользователи, которые попали в две группы одновременно.\n",
    "\n",
    "Была проведена приоритизация гипотез методологиями ICE и RICE. Выбор гипотезы зависит от того, насколько в интернет-магазине важен такой параметр Reach.\n",
    "    \n",
    "Был проведен A/B-тест. В ходе него выяснили, что у группы B большее среднее количество заказов на пользователя, чем у группы A."
   ]
  }
 ],
 "metadata": {
  "ExecuteTimeLog": [
   {
    "duration": 1248,
    "start_time": "2025-02-26T08:58:37.742Z"
   },
   {
    "duration": 101,
    "start_time": "2025-02-26T09:02:50.846Z"
   },
   {
    "duration": 1044,
    "start_time": "2025-02-26T09:02:57.434Z"
   },
   {
    "duration": 126,
    "start_time": "2025-02-26T09:02:58.480Z"
   },
   {
    "duration": 13,
    "start_time": "2025-02-26T09:02:58.608Z"
   },
   {
    "duration": 5,
    "start_time": "2025-02-26T09:03:55.249Z"
   },
   {
    "duration": 9,
    "start_time": "2025-02-26T09:04:22.031Z"
   },
   {
    "duration": 8,
    "start_time": "2025-02-26T09:04:29.279Z"
   },
   {
    "duration": 8,
    "start_time": "2025-02-26T09:04:53.412Z"
   },
   {
    "duration": 8,
    "start_time": "2025-02-26T09:04:59.254Z"
   },
   {
    "duration": 122,
    "start_time": "2025-02-26T09:05:58.841Z"
   },
   {
    "duration": 6,
    "start_time": "2025-02-26T09:09:28.725Z"
   },
   {
    "duration": 15,
    "start_time": "2025-02-26T09:09:42.755Z"
   },
   {
    "duration": 10,
    "start_time": "2025-02-26T09:11:47.053Z"
   },
   {
    "duration": 5,
    "start_time": "2025-02-26T09:13:04.642Z"
   },
   {
    "duration": 17,
    "start_time": "2025-02-26T09:13:26.771Z"
   },
   {
    "duration": 15,
    "start_time": "2025-02-26T09:13:36.537Z"
   },
   {
    "duration": 12,
    "start_time": "2025-02-26T09:13:58.803Z"
   },
   {
    "duration": 6,
    "start_time": "2025-02-26T09:14:32.256Z"
   },
   {
    "duration": 111,
    "start_time": "2025-02-26T09:18:20.334Z"
   },
   {
    "duration": 12,
    "start_time": "2025-02-26T09:18:28.216Z"
   },
   {
    "duration": 11,
    "start_time": "2025-02-26T09:19:58.357Z"
   },
   {
    "duration": 10,
    "start_time": "2025-02-26T09:30:04.482Z"
   },
   {
    "duration": 9,
    "start_time": "2025-02-26T11:12:35.095Z"
   },
   {
    "duration": 9,
    "start_time": "2025-02-26T11:13:04.029Z"
   },
   {
    "duration": 5,
    "start_time": "2025-02-26T11:13:46.258Z"
   },
   {
    "duration": 6,
    "start_time": "2025-02-26T11:19:19.198Z"
   },
   {
    "duration": 9,
    "start_time": "2025-02-26T11:19:33.856Z"
   },
   {
    "duration": 8,
    "start_time": "2025-02-26T11:19:42.475Z"
   },
   {
    "duration": 9,
    "start_time": "2025-02-26T11:20:05.334Z"
   },
   {
    "duration": 26,
    "start_time": "2025-02-26T11:25:19.512Z"
   },
   {
    "duration": 4,
    "start_time": "2025-02-26T11:25:56.540Z"
   },
   {
    "duration": 30,
    "start_time": "2025-02-26T11:26:03.814Z"
   },
   {
    "duration": 214,
    "start_time": "2025-02-26T11:26:27.903Z"
   },
   {
    "duration": 11,
    "start_time": "2025-02-26T11:27:23.256Z"
   },
   {
    "duration": 323,
    "start_time": "2025-02-26T11:38:58.734Z"
   },
   {
    "duration": 16,
    "start_time": "2025-02-26T11:39:09.935Z"
   },
   {
    "duration": 289,
    "start_time": "2025-02-26T11:41:32.151Z"
   },
   {
    "duration": 14,
    "start_time": "2025-02-26T11:41:49.767Z"
   },
   {
    "duration": 304,
    "start_time": "2025-02-26T11:43:32.323Z"
   },
   {
    "duration": 14,
    "start_time": "2025-02-26T11:43:36.697Z"
   },
   {
    "duration": 1391,
    "start_time": "2025-02-26T11:44:58.172Z"
   },
   {
    "duration": 4,
    "start_time": "2025-02-26T11:45:29.507Z"
   },
   {
    "duration": 6,
    "start_time": "2025-02-26T11:46:01.758Z"
   },
   {
    "duration": 346,
    "start_time": "2025-02-26T11:47:30.637Z"
   },
   {
    "duration": 304,
    "start_time": "2025-02-26T11:47:41.986Z"
   },
   {
    "duration": 364,
    "start_time": "2025-02-26T11:48:00.103Z"
   },
   {
    "duration": 177,
    "start_time": "2025-02-26T11:48:34.294Z"
   },
   {
    "duration": 160,
    "start_time": "2025-02-26T11:49:00.034Z"
   },
   {
    "duration": 336,
    "start_time": "2025-02-26T11:49:29.364Z"
   },
   {
    "duration": 154,
    "start_time": "2025-02-26T11:51:26.349Z"
   },
   {
    "duration": 279,
    "start_time": "2025-02-26T11:51:45.671Z"
   },
   {
    "duration": 334,
    "start_time": "2025-02-26T11:51:54.064Z"
   },
   {
    "duration": 190,
    "start_time": "2025-02-26T11:53:58.099Z"
   },
   {
    "duration": 240,
    "start_time": "2025-02-26T11:54:08.305Z"
   },
   {
    "duration": 204,
    "start_time": "2025-02-26T11:54:46.296Z"
   },
   {
    "duration": 214,
    "start_time": "2025-02-26T11:57:51.976Z"
   },
   {
    "duration": 13,
    "start_time": "2025-02-26T12:07:42.989Z"
   },
   {
    "duration": 18,
    "start_time": "2025-02-26T12:08:58.628Z"
   },
   {
    "duration": 296,
    "start_time": "2025-02-26T12:09:23.423Z"
   },
   {
    "duration": 145,
    "start_time": "2025-02-26T12:09:41.961Z"
   },
   {
    "duration": 19,
    "start_time": "2025-02-26T12:12:09.700Z"
   },
   {
    "duration": 10,
    "start_time": "2025-02-26T12:12:35.186Z"
   },
   {
    "duration": 232,
    "start_time": "2025-02-26T12:13:49.607Z"
   },
   {
    "duration": 228,
    "start_time": "2025-02-26T12:14:21.685Z"
   },
   {
    "duration": 211,
    "start_time": "2025-02-26T12:14:32.537Z"
   },
   {
    "duration": 84,
    "start_time": "2025-02-26T12:18:04.713Z"
   },
   {
    "duration": 8,
    "start_time": "2025-02-26T12:58:30.338Z"
   },
   {
    "duration": 13,
    "start_time": "2025-02-26T12:58:39.887Z"
   },
   {
    "duration": 6,
    "start_time": "2025-02-26T13:00:06.387Z"
   },
   {
    "duration": 13,
    "start_time": "2025-02-26T13:00:08.663Z"
   },
   {
    "duration": 8,
    "start_time": "2025-02-26T13:00:18.742Z"
   },
   {
    "duration": 14,
    "start_time": "2025-02-26T13:00:21.195Z"
   },
   {
    "duration": 366,
    "start_time": "2025-02-26T13:07:55.834Z"
   },
   {
    "duration": 492,
    "start_time": "2025-02-26T13:08:12.160Z"
   },
   {
    "duration": 358,
    "start_time": "2025-02-26T13:10:01.167Z"
   },
   {
    "duration": 440,
    "start_time": "2025-02-26T13:10:44.431Z"
   },
   {
    "duration": 428,
    "start_time": "2025-02-26T13:10:56.455Z"
   },
   {
    "duration": 430,
    "start_time": "2025-02-26T13:12:19.200Z"
   },
   {
    "duration": 173,
    "start_time": "2025-02-26T13:14:01.073Z"
   },
   {
    "duration": 11,
    "start_time": "2025-02-26T13:16:26.743Z"
   },
   {
    "duration": 10,
    "start_time": "2025-02-26T13:17:10.444Z"
   },
   {
    "duration": 305,
    "start_time": "2025-02-26T13:18:51.207Z"
   },
   {
    "duration": 365,
    "start_time": "2025-02-26T13:19:16.201Z"
   },
   {
    "duration": 287,
    "start_time": "2025-02-26T13:20:09.747Z"
   },
   {
    "duration": 256,
    "start_time": "2025-02-26T13:21:35.842Z"
   },
   {
    "duration": 17,
    "start_time": "2025-02-26T13:37:07.479Z"
   },
   {
    "duration": 7,
    "start_time": "2025-02-26T13:37:20.368Z"
   },
   {
    "duration": 4,
    "start_time": "2025-02-26T13:38:42.369Z"
   },
   {
    "duration": 6,
    "start_time": "2025-02-26T13:39:06.976Z"
   },
   {
    "duration": 308,
    "start_time": "2025-02-26T13:43:49.345Z"
   },
   {
    "duration": 216,
    "start_time": "2025-02-26T13:44:06.129Z"
   },
   {
    "duration": 229,
    "start_time": "2025-02-26T13:44:43.958Z"
   },
   {
    "duration": 219,
    "start_time": "2025-02-26T13:47:41.243Z"
   },
   {
    "duration": 268,
    "start_time": "2025-02-26T13:52:26.556Z"
   },
   {
    "duration": 216,
    "start_time": "2025-02-26T13:52:43.961Z"
   },
   {
    "duration": 225,
    "start_time": "2025-02-26T13:53:08.956Z"
   },
   {
    "duration": 247,
    "start_time": "2025-02-26T13:53:42.133Z"
   },
   {
    "duration": 21,
    "start_time": "2025-02-26T15:40:37.508Z"
   },
   {
    "duration": 8,
    "start_time": "2025-02-26T15:40:41.561Z"
   },
   {
    "duration": 13,
    "start_time": "2025-02-26T15:40:45.427Z"
   },
   {
    "duration": 4,
    "start_time": "2025-02-26T15:41:54.008Z"
   },
   {
    "duration": 287,
    "start_time": "2025-02-26T15:43:35.693Z"
   },
   {
    "duration": 262,
    "start_time": "2025-02-26T15:46:07.354Z"
   },
   {
    "duration": 9,
    "start_time": "2025-02-26T15:56:01.617Z"
   },
   {
    "duration": 7,
    "start_time": "2025-02-26T15:56:21.495Z"
   },
   {
    "duration": 4,
    "start_time": "2025-02-26T15:58:19.429Z"
   },
   {
    "duration": 121,
    "start_time": "2025-02-26T15:59:02.771Z"
   },
   {
    "duration": 144,
    "start_time": "2025-02-26T15:59:15.832Z"
   },
   {
    "duration": 125,
    "start_time": "2025-02-26T16:01:39.568Z"
   },
   {
    "duration": 120,
    "start_time": "2025-02-26T16:02:00.186Z"
   },
   {
    "duration": 267,
    "start_time": "2025-02-26T16:02:12.462Z"
   },
   {
    "duration": 132,
    "start_time": "2025-02-26T16:02:18.827Z"
   },
   {
    "duration": 17,
    "start_time": "2025-02-26T16:04:52.303Z"
   },
   {
    "duration": 86,
    "start_time": "2025-02-26T16:05:11.790Z"
   },
   {
    "duration": 120,
    "start_time": "2025-02-26T16:05:23.321Z"
   },
   {
    "duration": 138,
    "start_time": "2025-02-26T16:06:25.335Z"
   },
   {
    "duration": 121,
    "start_time": "2025-02-26T16:06:39.760Z"
   },
   {
    "duration": 129,
    "start_time": "2025-02-26T16:08:19.768Z"
   },
   {
    "duration": 131,
    "start_time": "2025-02-26T16:08:28.910Z"
   },
   {
    "duration": 137,
    "start_time": "2025-02-26T16:14:11.245Z"
   },
   {
    "duration": 135,
    "start_time": "2025-02-26T16:14:19.843Z"
   },
   {
    "duration": 147,
    "start_time": "2025-02-26T16:16:06.292Z"
   },
   {
    "duration": 1387,
    "start_time": "2025-02-27T07:27:53.015Z"
   },
   {
    "duration": 191,
    "start_time": "2025-02-27T07:27:54.404Z"
   },
   {
    "duration": 14,
    "start_time": "2025-02-27T07:27:54.596Z"
   },
   {
    "duration": 5,
    "start_time": "2025-02-27T07:27:54.611Z"
   },
   {
    "duration": 9,
    "start_time": "2025-02-27T07:27:54.618Z"
   },
   {
    "duration": 23,
    "start_time": "2025-02-27T07:27:54.628Z"
   },
   {
    "duration": 38,
    "start_time": "2025-02-27T07:27:54.653Z"
   },
   {
    "duration": 217,
    "start_time": "2025-02-27T07:27:54.692Z"
   },
   {
    "duration": 53,
    "start_time": "2025-02-27T07:27:54.911Z"
   },
   {
    "duration": 27,
    "start_time": "2025-02-27T07:27:54.965Z"
   },
   {
    "duration": 14,
    "start_time": "2025-02-27T07:27:54.994Z"
   },
   {
    "duration": 304,
    "start_time": "2025-02-27T07:27:55.010Z"
   },
   {
    "duration": 12,
    "start_time": "2025-02-27T07:27:55.316Z"
   },
   {
    "duration": 12,
    "start_time": "2025-02-27T07:27:55.331Z"
   },
   {
    "duration": 230,
    "start_time": "2025-02-27T07:27:55.345Z"
   },
   {
    "duration": 10,
    "start_time": "2025-02-27T07:27:55.577Z"
   },
   {
    "duration": 259,
    "start_time": "2025-02-27T07:27:55.589Z"
   },
   {
    "duration": 9,
    "start_time": "2025-02-27T07:27:55.849Z"
   },
   {
    "duration": 455,
    "start_time": "2025-02-27T07:27:55.859Z"
   },
   {
    "duration": 6,
    "start_time": "2025-02-27T07:27:56.316Z"
   },
   {
    "duration": 248,
    "start_time": "2025-02-27T07:27:56.324Z"
   },
   {
    "duration": 7,
    "start_time": "2025-02-27T07:27:56.574Z"
   },
   {
    "duration": 31,
    "start_time": "2025-02-27T07:27:56.583Z"
   },
   {
    "duration": 354,
    "start_time": "2025-02-27T07:27:56.617Z"
   },
   {
    "duration": 7,
    "start_time": "2025-02-27T07:27:56.973Z"
   },
   {
    "duration": 4,
    "start_time": "2025-02-27T07:27:56.981Z"
   },
   {
    "duration": 167,
    "start_time": "2025-02-27T07:27:56.987Z"
   },
   {
    "duration": 5,
    "start_time": "2025-02-27T07:33:15.519Z"
   },
   {
    "duration": 9,
    "start_time": "2025-02-27T07:39:32.704Z"
   },
   {
    "duration": 5,
    "start_time": "2025-02-27T07:39:56.112Z"
   },
   {
    "duration": 8,
    "start_time": "2025-02-27T07:40:04.827Z"
   },
   {
    "duration": 3,
    "start_time": "2025-02-27T07:45:26.588Z"
   },
   {
    "duration": 145,
    "start_time": "2025-02-27T07:46:30.303Z"
   },
   {
    "duration": 162,
    "start_time": "2025-02-27T07:48:46.871Z"
   },
   {
    "duration": 145,
    "start_time": "2025-02-27T07:49:04.876Z"
   },
   {
    "duration": 327,
    "start_time": "2025-02-27T07:50:14.413Z"
   },
   {
    "duration": 158,
    "start_time": "2025-02-27T07:52:45.806Z"
   },
   {
    "duration": 155,
    "start_time": "2025-02-27T07:54:15.366Z"
   },
   {
    "duration": 166,
    "start_time": "2025-02-27T07:55:37.337Z"
   },
   {
    "duration": 12,
    "start_time": "2025-02-27T07:55:49.396Z"
   },
   {
    "duration": 148,
    "start_time": "2025-02-27T07:55:58.093Z"
   },
   {
    "duration": 153,
    "start_time": "2025-02-27T07:58:57.064Z"
   },
   {
    "duration": 146,
    "start_time": "2025-02-27T07:59:06.699Z"
   },
   {
    "duration": 112,
    "start_time": "2025-02-27T07:59:37.568Z"
   },
   {
    "duration": 82,
    "start_time": "2025-02-27T08:02:35.209Z"
   },
   {
    "duration": 6,
    "start_time": "2025-02-27T08:03:38.141Z"
   },
   {
    "duration": 104,
    "start_time": "2025-02-27T08:04:28.490Z"
   },
   {
    "duration": 117,
    "start_time": "2025-02-27T08:04:47.198Z"
   },
   {
    "duration": 5,
    "start_time": "2025-02-27T08:15:46.253Z"
   },
   {
    "duration": 16,
    "start_time": "2025-02-27T08:18:24.090Z"
   },
   {
    "duration": 13,
    "start_time": "2025-02-27T08:18:57.301Z"
   },
   {
    "duration": 10,
    "start_time": "2025-02-27T08:20:10.440Z"
   },
   {
    "duration": 63,
    "start_time": "2025-02-27T08:26:17.121Z"
   },
   {
    "duration": 131,
    "start_time": "2025-02-27T08:26:37.231Z"
   },
   {
    "duration": 146,
    "start_time": "2025-02-27T08:27:29.229Z"
   },
   {
    "duration": 10,
    "start_time": "2025-02-27T08:27:49.715Z"
   },
   {
    "duration": 11,
    "start_time": "2025-02-27T08:42:51.482Z"
   },
   {
    "duration": 10,
    "start_time": "2025-02-27T08:43:12.498Z"
   },
   {
    "duration": 19,
    "start_time": "2025-02-27T08:43:21.244Z"
   },
   {
    "duration": 25,
    "start_time": "2025-02-27T08:43:32.254Z"
   },
   {
    "duration": 11,
    "start_time": "2025-02-27T08:44:16.956Z"
   },
   {
    "duration": 74,
    "start_time": "2025-02-27T08:44:43.578Z"
   },
   {
    "duration": 13,
    "start_time": "2025-02-27T08:44:54.305Z"
   },
   {
    "duration": 11,
    "start_time": "2025-02-27T08:45:08.683Z"
   },
   {
    "duration": 6,
    "start_time": "2025-02-27T08:45:44.988Z"
   },
   {
    "duration": 4,
    "start_time": "2025-02-27T08:47:03.905Z"
   },
   {
    "duration": 4,
    "start_time": "2025-02-27T08:47:20.428Z"
   },
   {
    "duration": 4,
    "start_time": "2025-02-27T08:47:29.170Z"
   },
   {
    "duration": 5,
    "start_time": "2025-02-27T08:48:32.174Z"
   },
   {
    "duration": 13,
    "start_time": "2025-02-27T08:51:12.927Z"
   },
   {
    "duration": 11,
    "start_time": "2025-02-27T08:51:26.485Z"
   },
   {
    "duration": 6,
    "start_time": "2025-02-27T08:51:42.151Z"
   },
   {
    "duration": 6,
    "start_time": "2025-02-27T08:52:00.185Z"
   },
   {
    "duration": 9,
    "start_time": "2025-02-27T08:52:24.357Z"
   },
   {
    "duration": 4,
    "start_time": "2025-02-27T08:52:32.473Z"
   },
   {
    "duration": 36,
    "start_time": "2025-02-27T09:13:06.754Z"
   },
   {
    "duration": 99,
    "start_time": "2025-02-27T09:19:04.020Z"
   },
   {
    "duration": 13,
    "start_time": "2025-02-27T09:27:13.973Z"
   },
   {
    "duration": 124,
    "start_time": "2025-02-27T11:06:07.032Z"
   },
   {
    "duration": 83,
    "start_time": "2025-02-27T11:09:23.366Z"
   },
   {
    "duration": 6,
    "start_time": "2025-02-27T11:11:45.508Z"
   },
   {
    "duration": 7,
    "start_time": "2025-02-27T11:11:59.899Z"
   },
   {
    "duration": 14,
    "start_time": "2025-02-27T11:12:18.525Z"
   },
   {
    "duration": 11,
    "start_time": "2025-02-27T11:12:27.448Z"
   },
   {
    "duration": 11,
    "start_time": "2025-02-27T11:12:34.403Z"
   },
   {
    "duration": 5,
    "start_time": "2025-02-27T11:12:44.813Z"
   },
   {
    "duration": 5,
    "start_time": "2025-02-27T11:12:59.536Z"
   },
   {
    "duration": 6,
    "start_time": "2025-02-27T11:14:45.432Z"
   },
   {
    "duration": 5,
    "start_time": "2025-02-27T11:16:22.485Z"
   },
   {
    "duration": 5,
    "start_time": "2025-02-27T11:16:29.610Z"
   },
   {
    "duration": 5,
    "start_time": "2025-02-27T11:17:03.187Z"
   },
   {
    "duration": 4,
    "start_time": "2025-02-27T11:17:07.175Z"
   },
   {
    "duration": 1359,
    "start_time": "2025-02-27T11:25:51.781Z"
   },
   {
    "duration": 10,
    "start_time": "2025-02-27T11:27:04.277Z"
   },
   {
    "duration": 7,
    "start_time": "2025-02-27T11:27:13.336Z"
   },
   {
    "duration": 4,
    "start_time": "2025-02-27T11:29:21.924Z"
   },
   {
    "duration": 4,
    "start_time": "2025-02-27T11:29:37.956Z"
   },
   {
    "duration": 88,
    "start_time": "2025-02-27T11:31:26.058Z"
   },
   {
    "duration": 27,
    "start_time": "2025-02-27T11:32:03.393Z"
   },
   {
    "duration": 93,
    "start_time": "2025-02-27T11:36:51.203Z"
   },
   {
    "duration": 108,
    "start_time": "2025-02-27T11:48:08.247Z"
   },
   {
    "duration": 20,
    "start_time": "2025-02-27T11:52:28.784Z"
   },
   {
    "duration": 6,
    "start_time": "2025-02-27T11:57:36.791Z"
   },
   {
    "duration": 1604,
    "start_time": "2025-02-27T12:01:09.599Z"
   },
   {
    "duration": 10,
    "start_time": "2025-02-27T12:01:24.879Z"
   },
   {
    "duration": 5,
    "start_time": "2025-02-27T12:01:31.368Z"
   },
   {
    "duration": 7,
    "start_time": "2025-02-27T12:02:11.668Z"
   },
   {
    "duration": 7,
    "start_time": "2025-02-27T12:04:14.162Z"
   },
   {
    "duration": 8,
    "start_time": "2025-02-27T12:04:28.836Z"
   },
   {
    "duration": 8,
    "start_time": "2025-02-27T12:04:41.083Z"
   },
   {
    "duration": 7,
    "start_time": "2025-02-27T12:04:43.615Z"
   },
   {
    "duration": 13,
    "start_time": "2025-02-27T13:34:32.805Z"
   },
   {
    "duration": 8,
    "start_time": "2025-02-27T13:34:48.180Z"
   },
   {
    "duration": 11,
    "start_time": "2025-02-27T13:34:52.181Z"
   },
   {
    "duration": 5,
    "start_time": "2025-02-27T13:38:22.783Z"
   },
   {
    "duration": 13,
    "start_time": "2025-02-27T13:38:35.287Z"
   },
   {
    "duration": 11,
    "start_time": "2025-02-27T13:39:05.322Z"
   },
   {
    "duration": 77,
    "start_time": "2025-02-27T13:39:44.684Z"
   },
   {
    "duration": 7,
    "start_time": "2025-02-27T13:40:31.526Z"
   },
   {
    "duration": 96,
    "start_time": "2025-02-27T13:44:38.227Z"
   },
   {
    "duration": 10,
    "start_time": "2025-02-27T13:45:10.464Z"
   },
   {
    "duration": 79,
    "start_time": "2025-02-27T13:48:19.510Z"
   },
   {
    "duration": 92,
    "start_time": "2025-02-27T13:53:51.793Z"
   },
   {
    "duration": 1189,
    "start_time": "2025-02-27T14:04:11.597Z"
   },
   {
    "duration": 66,
    "start_time": "2025-02-27T14:04:12.788Z"
   },
   {
    "duration": 78,
    "start_time": "2025-02-27T14:04:12.856Z"
   },
   {
    "duration": 25,
    "start_time": "2025-02-27T14:04:12.937Z"
   },
   {
    "duration": 74,
    "start_time": "2025-02-27T14:04:12.964Z"
   },
   {
    "duration": 74,
    "start_time": "2025-02-27T14:04:13.040Z"
   },
   {
    "duration": 21,
    "start_time": "2025-02-27T14:04:13.116Z"
   },
   {
    "duration": 18,
    "start_time": "2025-02-27T14:04:13.139Z"
   },
   {
    "duration": 31,
    "start_time": "2025-02-27T14:04:13.159Z"
   },
   {
    "duration": 30,
    "start_time": "2025-02-27T14:04:13.193Z"
   },
   {
    "duration": 28,
    "start_time": "2025-02-27T14:04:13.225Z"
   },
   {
    "duration": 17,
    "start_time": "2025-02-27T14:04:13.255Z"
   },
   {
    "duration": 17,
    "start_time": "2025-02-27T14:04:13.274Z"
   },
   {
    "duration": 120,
    "start_time": "2025-02-27T14:04:13.292Z"
   },
   {
    "duration": 29,
    "start_time": "2025-02-27T14:04:13.414Z"
   },
   {
    "duration": 313,
    "start_time": "2025-02-27T14:04:13.444Z"
   },
   {
    "duration": 13,
    "start_time": "2025-02-27T14:04:13.759Z"
   },
   {
    "duration": 27,
    "start_time": "2025-02-27T14:04:13.773Z"
   },
   {
    "duration": 323,
    "start_time": "2025-02-27T14:04:13.801Z"
   },
   {
    "duration": 12,
    "start_time": "2025-02-27T14:04:14.125Z"
   },
   {
    "duration": 301,
    "start_time": "2025-02-27T14:04:14.139Z"
   },
   {
    "duration": 9,
    "start_time": "2025-02-27T14:04:14.442Z"
   },
   {
    "duration": 354,
    "start_time": "2025-02-27T14:04:14.453Z"
   },
   {
    "duration": 6,
    "start_time": "2025-02-27T14:04:14.808Z"
   },
   {
    "duration": 370,
    "start_time": "2025-02-27T14:04:14.816Z"
   },
   {
    "duration": 8,
    "start_time": "2025-02-27T14:04:15.188Z"
   },
   {
    "duration": 28,
    "start_time": "2025-02-27T14:04:15.203Z"
   },
   {
    "duration": 393,
    "start_time": "2025-02-27T14:04:15.235Z"
   },
   {
    "duration": 8,
    "start_time": "2025-02-27T14:04:15.631Z"
   },
   {
    "duration": 65,
    "start_time": "2025-02-27T14:04:15.641Z"
   },
   {
    "duration": 177,
    "start_time": "2025-02-27T14:04:15.709Z"
   },
   {
    "duration": 6,
    "start_time": "2025-02-27T14:04:15.887Z"
   },
   {
    "duration": 15,
    "start_time": "2025-02-27T14:04:15.895Z"
   },
   {
    "duration": 61,
    "start_time": "2025-02-27T14:04:15.911Z"
   },
   {
    "duration": 242,
    "start_time": "2025-02-27T14:04:15.974Z"
   },
   {
    "duration": 6,
    "start_time": "2025-02-27T14:04:16.217Z"
   },
   {
    "duration": 130,
    "start_time": "2025-02-27T14:04:16.225Z"
   },
   {
    "duration": 4,
    "start_time": "2025-02-27T14:04:16.358Z"
   },
   {
    "duration": 177,
    "start_time": "2025-02-27T14:04:16.364Z"
   },
   {
    "duration": 6,
    "start_time": "2025-02-27T14:04:16.542Z"
   },
   {
    "duration": 37,
    "start_time": "2025-02-27T14:04:16.549Z"
   },
   {
    "duration": 38,
    "start_time": "2025-02-27T14:04:16.588Z"
   },
   {
    "duration": 9,
    "start_time": "2025-02-27T14:04:16.628Z"
   },
   {
    "duration": 7,
    "start_time": "2025-02-27T14:04:16.638Z"
   },
   {
    "duration": 104,
    "start_time": "2025-02-27T14:04:16.647Z"
   },
   {
    "duration": 150,
    "start_time": "2025-02-27T14:04:16.752Z"
   },
   {
    "duration": 28,
    "start_time": "2025-02-27T14:04:16.904Z"
   },
   {
    "duration": 7,
    "start_time": "2025-02-27T14:04:16.934Z"
   },
   {
    "duration": 12,
    "start_time": "2025-02-27T14:04:16.942Z"
   },
   {
    "duration": 193,
    "start_time": "2025-02-27T14:16:24.327Z"
   },
   {
    "duration": 159,
    "start_time": "2025-02-27T14:16:46.032Z"
   },
   {
    "duration": 1178,
    "start_time": "2025-02-27T14:17:40.317Z"
   },
   {
    "duration": 65,
    "start_time": "2025-02-27T14:17:41.497Z"
   },
   {
    "duration": 12,
    "start_time": "2025-02-27T14:17:41.564Z"
   },
   {
    "duration": 39,
    "start_time": "2025-02-27T14:17:41.577Z"
   },
   {
    "duration": 28,
    "start_time": "2025-02-27T14:17:41.618Z"
   },
   {
    "duration": 27,
    "start_time": "2025-02-27T14:17:41.648Z"
   },
   {
    "duration": 25,
    "start_time": "2025-02-27T14:17:41.677Z"
   },
   {
    "duration": 25,
    "start_time": "2025-02-27T14:17:41.703Z"
   },
   {
    "duration": 23,
    "start_time": "2025-02-27T14:17:41.730Z"
   },
   {
    "duration": 51,
    "start_time": "2025-02-27T14:17:41.755Z"
   },
   {
    "duration": 46,
    "start_time": "2025-02-27T14:17:41.807Z"
   },
   {
    "duration": 36,
    "start_time": "2025-02-27T14:17:41.855Z"
   },
   {
    "duration": 39,
    "start_time": "2025-02-27T14:17:41.893Z"
   },
   {
    "duration": 29,
    "start_time": "2025-02-27T14:17:41.935Z"
   },
   {
    "duration": 43,
    "start_time": "2025-02-27T14:17:41.966Z"
   },
   {
    "duration": 365,
    "start_time": "2025-02-27T14:17:42.011Z"
   },
   {
    "duration": 13,
    "start_time": "2025-02-27T14:17:42.377Z"
   },
   {
    "duration": 52,
    "start_time": "2025-02-27T14:17:42.392Z"
   },
   {
    "duration": 288,
    "start_time": "2025-02-27T14:17:42.446Z"
   },
   {
    "duration": 11,
    "start_time": "2025-02-27T14:17:42.735Z"
   },
   {
    "duration": 275,
    "start_time": "2025-02-27T14:17:42.747Z"
   },
   {
    "duration": 8,
    "start_time": "2025-02-27T14:17:43.023Z"
   },
   {
    "duration": 378,
    "start_time": "2025-02-27T14:17:43.033Z"
   },
   {
    "duration": 5,
    "start_time": "2025-02-27T14:17:43.413Z"
   },
   {
    "duration": 316,
    "start_time": "2025-02-27T14:17:43.420Z"
   },
   {
    "duration": 9,
    "start_time": "2025-02-27T14:17:43.737Z"
   },
   {
    "duration": 17,
    "start_time": "2025-02-27T14:17:43.748Z"
   },
   {
    "duration": 359,
    "start_time": "2025-02-27T14:17:43.767Z"
   },
   {
    "duration": 7,
    "start_time": "2025-02-27T14:17:44.127Z"
   },
   {
    "duration": 87,
    "start_time": "2025-02-27T14:17:44.135Z"
   },
   {
    "duration": 161,
    "start_time": "2025-02-27T14:17:44.224Z"
   },
   {
    "duration": 16,
    "start_time": "2025-02-27T14:17:44.387Z"
   },
   {
    "duration": 10,
    "start_time": "2025-02-27T14:17:44.404Z"
   },
   {
    "duration": 28,
    "start_time": "2025-02-27T14:17:44.416Z"
   },
   {
    "duration": 117,
    "start_time": "2025-02-27T14:17:44.446Z"
   },
   {
    "duration": 5,
    "start_time": "2025-02-27T14:17:44.565Z"
   },
   {
    "duration": 132,
    "start_time": "2025-02-27T14:17:44.572Z"
   },
   {
    "duration": 4,
    "start_time": "2025-02-27T14:17:44.706Z"
   },
   {
    "duration": 147,
    "start_time": "2025-02-27T14:17:44.711Z"
   },
   {
    "duration": 5,
    "start_time": "2025-02-27T14:17:44.860Z"
   },
   {
    "duration": 113,
    "start_time": "2025-02-27T14:17:44.869Z"
   },
   {
    "duration": 33,
    "start_time": "2025-02-27T14:17:44.984Z"
   },
   {
    "duration": 9,
    "start_time": "2025-02-27T14:17:45.019Z"
   },
   {
    "duration": 179,
    "start_time": "2025-02-27T14:17:45.029Z"
   },
   {
    "duration": 42,
    "start_time": "2025-02-27T14:17:45.210Z"
   },
   {
    "duration": 53,
    "start_time": "2025-02-27T14:17:45.254Z"
   },
   {
    "duration": 69,
    "start_time": "2025-02-27T14:17:45.309Z"
   },
   {
    "duration": 110,
    "start_time": "2025-02-27T14:17:45.380Z"
   },
   {
    "duration": 11,
    "start_time": "2025-02-27T14:17:45.492Z"
   },
   {
    "duration": 1179,
    "start_time": "2025-02-27T14:18:09.520Z"
   },
   {
    "duration": 66,
    "start_time": "2025-02-27T14:18:10.702Z"
   },
   {
    "duration": 12,
    "start_time": "2025-02-27T14:18:10.770Z"
   },
   {
    "duration": 189,
    "start_time": "2025-02-27T14:18:10.784Z"
   },
   {
    "duration": 28,
    "start_time": "2025-02-27T14:18:10.977Z"
   },
   {
    "duration": 25,
    "start_time": "2025-02-27T14:18:11.007Z"
   },
   {
    "duration": 28,
    "start_time": "2025-02-27T14:18:11.034Z"
   },
   {
    "duration": 93,
    "start_time": "2025-02-27T14:18:11.064Z"
   },
   {
    "duration": 50,
    "start_time": "2025-02-27T14:18:11.158Z"
   },
   {
    "duration": 15,
    "start_time": "2025-02-27T14:18:11.210Z"
   },
   {
    "duration": 21,
    "start_time": "2025-02-27T14:18:11.226Z"
   },
   {
    "duration": 47,
    "start_time": "2025-02-27T14:18:11.248Z"
   },
   {
    "duration": 19,
    "start_time": "2025-02-27T14:18:11.298Z"
   },
   {
    "duration": 27,
    "start_time": "2025-02-27T14:18:11.320Z"
   },
   {
    "duration": 28,
    "start_time": "2025-02-27T14:18:11.348Z"
   },
   {
    "duration": 368,
    "start_time": "2025-02-27T14:18:11.378Z"
   },
   {
    "duration": 13,
    "start_time": "2025-02-27T14:18:11.748Z"
   },
   {
    "duration": 5,
    "start_time": "2025-02-27T14:18:11.763Z"
   },
   {
    "duration": 285,
    "start_time": "2025-02-27T14:18:11.770Z"
   },
   {
    "duration": 11,
    "start_time": "2025-02-27T14:18:12.057Z"
   },
   {
    "duration": 275,
    "start_time": "2025-02-27T14:18:12.070Z"
   },
   {
    "duration": 9,
    "start_time": "2025-02-27T14:18:12.348Z"
   },
   {
    "duration": 364,
    "start_time": "2025-02-27T14:18:12.358Z"
   },
   {
    "duration": 6,
    "start_time": "2025-02-27T14:18:12.724Z"
   },
   {
    "duration": 294,
    "start_time": "2025-02-27T14:18:12.731Z"
   },
   {
    "duration": 8,
    "start_time": "2025-02-27T14:18:13.026Z"
   },
   {
    "duration": 10,
    "start_time": "2025-02-27T14:18:13.035Z"
   },
   {
    "duration": 359,
    "start_time": "2025-02-27T14:18:13.046Z"
   },
   {
    "duration": 7,
    "start_time": "2025-02-27T14:18:13.406Z"
   },
   {
    "duration": 61,
    "start_time": "2025-02-27T14:18:13.415Z"
   },
   {
    "duration": 104,
    "start_time": "2025-02-27T14:18:13.478Z"
   },
   {
    "duration": 5,
    "start_time": "2025-02-27T14:18:13.584Z"
   },
   {
    "duration": 13,
    "start_time": "2025-02-27T14:18:13.591Z"
   },
   {
    "duration": 16,
    "start_time": "2025-02-27T14:18:13.606Z"
   },
   {
    "duration": 116,
    "start_time": "2025-02-27T14:18:13.624Z"
   },
   {
    "duration": 6,
    "start_time": "2025-02-27T14:18:13.742Z"
   },
   {
    "duration": 128,
    "start_time": "2025-02-27T14:18:13.749Z"
   },
   {
    "duration": 4,
    "start_time": "2025-02-27T14:18:13.879Z"
   },
   {
    "duration": 180,
    "start_time": "2025-02-27T14:18:13.885Z"
   },
   {
    "duration": 5,
    "start_time": "2025-02-27T14:18:14.067Z"
   },
   {
    "duration": 29,
    "start_time": "2025-02-27T14:18:14.076Z"
   },
   {
    "duration": 150,
    "start_time": "2025-02-27T14:18:14.108Z"
   },
   {
    "duration": 11,
    "start_time": "2025-02-27T14:18:14.260Z"
   },
   {
    "duration": 6,
    "start_time": "2025-02-27T14:18:14.273Z"
   },
   {
    "duration": 27,
    "start_time": "2025-02-27T14:18:14.281Z"
   },
   {
    "duration": 43,
    "start_time": "2025-02-27T14:18:14.309Z"
   },
   {
    "duration": 74,
    "start_time": "2025-02-27T14:18:14.354Z"
   },
   {
    "duration": 8,
    "start_time": "2025-02-27T14:18:14.431Z"
   },
   {
    "duration": 26,
    "start_time": "2025-02-27T14:18:14.441Z"
   },
   {
    "duration": 1392,
    "start_time": "2025-02-27T17:10:16.952Z"
   },
   {
    "duration": 79,
    "start_time": "2025-02-27T17:10:18.346Z"
   },
   {
    "duration": 13,
    "start_time": "2025-02-27T17:10:18.426Z"
   },
   {
    "duration": 7,
    "start_time": "2025-02-27T17:10:18.441Z"
   },
   {
    "duration": 15,
    "start_time": "2025-02-27T17:10:18.450Z"
   },
   {
    "duration": 5,
    "start_time": "2025-02-27T17:10:18.467Z"
   },
   {
    "duration": 10,
    "start_time": "2025-02-27T17:10:18.474Z"
   },
   {
    "duration": 4,
    "start_time": "2025-02-27T17:10:18.485Z"
   },
   {
    "duration": 8,
    "start_time": "2025-02-27T17:10:18.490Z"
   },
   {
    "duration": 10,
    "start_time": "2025-02-27T17:10:18.500Z"
   },
   {
    "duration": 6,
    "start_time": "2025-02-27T17:10:18.511Z"
   },
   {
    "duration": 42,
    "start_time": "2025-02-27T17:10:18.518Z"
   },
   {
    "duration": 10,
    "start_time": "2025-02-27T17:10:18.562Z"
   },
   {
    "duration": 12,
    "start_time": "2025-02-27T17:10:18.577Z"
   },
   {
    "duration": 13,
    "start_time": "2025-02-27T17:10:18.590Z"
   },
   {
    "duration": 303,
    "start_time": "2025-02-27T17:10:18.604Z"
   },
   {
    "duration": 13,
    "start_time": "2025-02-27T17:10:18.909Z"
   },
   {
    "duration": 16,
    "start_time": "2025-02-27T17:10:18.924Z"
   },
   {
    "duration": 281,
    "start_time": "2025-02-27T17:10:18.942Z"
   },
   {
    "duration": 11,
    "start_time": "2025-02-27T17:10:19.224Z"
   },
   {
    "duration": 276,
    "start_time": "2025-02-27T17:10:19.236Z"
   },
   {
    "duration": 8,
    "start_time": "2025-02-27T17:10:19.514Z"
   },
   {
    "duration": 388,
    "start_time": "2025-02-27T17:10:19.523Z"
   },
   {
    "duration": 6,
    "start_time": "2025-02-27T17:10:19.913Z"
   },
   {
    "duration": 274,
    "start_time": "2025-02-27T17:10:19.921Z"
   },
   {
    "duration": 9,
    "start_time": "2025-02-27T17:10:20.196Z"
   },
   {
    "duration": 14,
    "start_time": "2025-02-27T17:10:20.207Z"
   },
   {
    "duration": 348,
    "start_time": "2025-02-27T17:10:20.223Z"
   },
   {
    "duration": 7,
    "start_time": "2025-02-27T17:10:20.572Z"
   },
   {
    "duration": 16,
    "start_time": "2025-02-27T17:10:20.580Z"
   },
   {
    "duration": 131,
    "start_time": "2025-02-27T17:10:20.597Z"
   },
   {
    "duration": 5,
    "start_time": "2025-02-27T17:10:20.730Z"
   },
   {
    "duration": 88,
    "start_time": "2025-02-27T17:10:20.737Z"
   },
   {
    "duration": 11,
    "start_time": "2025-02-27T17:10:20.827Z"
   },
   {
    "duration": 115,
    "start_time": "2025-02-27T17:10:20.839Z"
   },
   {
    "duration": 6,
    "start_time": "2025-02-27T17:10:20.957Z"
   },
   {
    "duration": 127,
    "start_time": "2025-02-27T17:10:20.965Z"
   },
   {
    "duration": 5,
    "start_time": "2025-02-27T17:10:21.094Z"
   },
   {
    "duration": 153,
    "start_time": "2025-02-27T17:10:21.101Z"
   },
   {
    "duration": 5,
    "start_time": "2025-02-27T17:10:21.258Z"
   },
   {
    "duration": 33,
    "start_time": "2025-02-27T17:10:21.267Z"
   },
   {
    "duration": 43,
    "start_time": "2025-02-27T17:10:21.302Z"
   },
   {
    "duration": 10,
    "start_time": "2025-02-27T17:10:21.347Z"
   },
   {
    "duration": 5,
    "start_time": "2025-02-27T17:10:21.358Z"
   },
   {
    "duration": 8,
    "start_time": "2025-02-27T17:10:21.364Z"
   },
   {
    "duration": 3,
    "start_time": "2025-02-27T17:10:21.374Z"
   },
   {
    "duration": 104,
    "start_time": "2025-02-27T17:10:21.379Z"
   },
   {
    "duration": 7,
    "start_time": "2025-02-27T17:10:21.485Z"
   },
   {
    "duration": 25,
    "start_time": "2025-02-27T17:10:21.494Z"
   },
   {
    "duration": 1139,
    "start_time": "2025-02-27T17:58:27.741Z"
   },
   {
    "duration": 67,
    "start_time": "2025-02-27T17:58:28.882Z"
   },
   {
    "duration": 13,
    "start_time": "2025-02-27T17:58:28.950Z"
   },
   {
    "duration": 59,
    "start_time": "2025-02-27T17:58:28.965Z"
   },
   {
    "duration": 11,
    "start_time": "2025-02-27T17:58:29.025Z"
   },
   {
    "duration": 4,
    "start_time": "2025-02-27T17:58:29.038Z"
   },
   {
    "duration": 11,
    "start_time": "2025-02-27T17:58:29.044Z"
   },
   {
    "duration": 6,
    "start_time": "2025-02-27T17:58:29.056Z"
   },
   {
    "duration": 11,
    "start_time": "2025-02-27T17:58:29.064Z"
   },
   {
    "duration": 14,
    "start_time": "2025-02-27T17:58:29.078Z"
   },
   {
    "duration": 12,
    "start_time": "2025-02-27T17:58:29.093Z"
   },
   {
    "duration": 13,
    "start_time": "2025-02-27T17:58:29.107Z"
   },
   {
    "duration": 10,
    "start_time": "2025-02-27T17:58:29.121Z"
   },
   {
    "duration": 27,
    "start_time": "2025-02-27T17:58:29.132Z"
   },
   {
    "duration": 9,
    "start_time": "2025-02-27T17:58:29.160Z"
   },
   {
    "duration": 280,
    "start_time": "2025-02-27T17:58:29.171Z"
   },
   {
    "duration": 15,
    "start_time": "2025-02-27T17:58:29.453Z"
   },
   {
    "duration": 5,
    "start_time": "2025-02-27T17:58:29.470Z"
   },
   {
    "duration": 271,
    "start_time": "2025-02-27T17:58:29.477Z"
   },
   {
    "duration": 9,
    "start_time": "2025-02-27T17:58:29.758Z"
   },
   {
    "duration": 270,
    "start_time": "2025-02-27T17:58:29.769Z"
   },
   {
    "duration": 8,
    "start_time": "2025-02-27T17:58:30.040Z"
   },
   {
    "duration": 525,
    "start_time": "2025-02-27T17:58:30.057Z"
   },
   {
    "duration": 6,
    "start_time": "2025-02-27T17:58:30.583Z"
   },
   {
    "duration": 279,
    "start_time": "2025-02-27T17:58:30.591Z"
   },
   {
    "duration": 8,
    "start_time": "2025-02-27T17:58:30.872Z"
   },
   {
    "duration": 10,
    "start_time": "2025-02-27T17:58:30.882Z"
   },
   {
    "duration": 365,
    "start_time": "2025-02-27T17:58:30.895Z"
   },
   {
    "duration": 6,
    "start_time": "2025-02-27T17:58:31.262Z"
   },
   {
    "duration": 10,
    "start_time": "2025-02-27T17:58:31.270Z"
   },
   {
    "duration": 109,
    "start_time": "2025-02-27T17:58:31.282Z"
   },
   {
    "duration": 5,
    "start_time": "2025-02-27T17:58:31.393Z"
   },
   {
    "duration": 36,
    "start_time": "2025-02-27T17:58:31.399Z"
   },
   {
    "duration": 7,
    "start_time": "2025-02-27T17:58:31.437Z"
   },
   {
    "duration": 122,
    "start_time": "2025-02-27T17:58:31.446Z"
   },
   {
    "duration": 17,
    "start_time": "2025-02-27T17:58:31.571Z"
   },
   {
    "duration": 124,
    "start_time": "2025-02-27T17:58:31.590Z"
   },
   {
    "duration": 4,
    "start_time": "2025-02-27T17:58:31.716Z"
   },
   {
    "duration": 197,
    "start_time": "2025-02-27T17:58:31.722Z"
   },
   {
    "duration": 6,
    "start_time": "2025-02-27T17:58:31.920Z"
   },
   {
    "duration": 24,
    "start_time": "2025-02-27T17:58:31.927Z"
   },
   {
    "duration": 34,
    "start_time": "2025-02-27T17:58:31.953Z"
   },
   {
    "duration": 81,
    "start_time": "2025-02-27T17:58:31.988Z"
   },
   {
    "duration": 150,
    "start_time": "2025-02-27T17:58:32.070Z"
   },
   {
    "duration": 79,
    "start_time": "2025-02-27T17:58:32.222Z"
   },
   {
    "duration": 8,
    "start_time": "2025-02-27T17:58:32.303Z"
   },
   {
    "duration": 44,
    "start_time": "2025-02-27T17:58:32.312Z"
   },
   {
    "duration": 7,
    "start_time": "2025-02-27T17:58:32.357Z"
   },
   {
    "duration": 17,
    "start_time": "2025-02-27T17:58:32.365Z"
   },
   {
    "duration": 46,
    "start_time": "2025-02-28T11:24:38.001Z"
   },
   {
    "duration": 1248,
    "start_time": "2025-02-28T11:24:44.989Z"
   },
   {
    "duration": 66,
    "start_time": "2025-02-28T11:24:46.238Z"
   },
   {
    "duration": 12,
    "start_time": "2025-02-28T11:24:46.306Z"
   },
   {
    "duration": 7,
    "start_time": "2025-02-28T11:24:46.320Z"
   },
   {
    "duration": 22,
    "start_time": "2025-02-28T11:24:46.329Z"
   },
   {
    "duration": 8,
    "start_time": "2025-02-28T11:24:46.352Z"
   },
   {
    "duration": 31,
    "start_time": "2025-02-28T11:24:46.361Z"
   },
   {
    "duration": 17,
    "start_time": "2025-02-28T11:24:46.393Z"
   },
   {
    "duration": 18,
    "start_time": "2025-02-28T11:24:46.412Z"
   },
   {
    "duration": 20,
    "start_time": "2025-02-28T11:24:46.433Z"
   },
   {
    "duration": 30,
    "start_time": "2025-02-28T11:24:46.454Z"
   },
   {
    "duration": 7,
    "start_time": "2025-02-28T11:24:46.486Z"
   },
   {
    "duration": 10,
    "start_time": "2025-02-28T11:24:46.494Z"
   },
   {
    "duration": 9,
    "start_time": "2025-02-28T11:24:46.505Z"
   },
   {
    "duration": 13,
    "start_time": "2025-02-28T11:24:46.515Z"
   },
   {
    "duration": 32,
    "start_time": "2025-02-28T11:24:46.530Z"
   },
   {
    "duration": 280,
    "start_time": "2025-02-28T11:24:46.564Z"
   },
   {
    "duration": 12,
    "start_time": "2025-02-28T11:24:46.846Z"
   },
   {
    "duration": 5,
    "start_time": "2025-02-28T11:24:46.871Z"
   },
   {
    "duration": 294,
    "start_time": "2025-02-28T11:24:46.878Z"
   },
   {
    "duration": 11,
    "start_time": "2025-02-28T11:24:47.174Z"
   },
   {
    "duration": 270,
    "start_time": "2025-02-28T11:24:47.187Z"
   },
   {
    "duration": 13,
    "start_time": "2025-02-28T11:24:47.459Z"
   },
   {
    "duration": 341,
    "start_time": "2025-02-28T11:24:47.473Z"
   },
   {
    "duration": 6,
    "start_time": "2025-02-28T11:24:47.816Z"
   },
   {
    "duration": 294,
    "start_time": "2025-02-28T11:24:47.824Z"
   },
   {
    "duration": 8,
    "start_time": "2025-02-28T11:24:48.120Z"
   },
   {
    "duration": 12,
    "start_time": "2025-02-28T11:24:48.131Z"
   },
   {
    "duration": 346,
    "start_time": "2025-02-28T11:24:48.144Z"
   },
   {
    "duration": 7,
    "start_time": "2025-02-28T11:24:48.492Z"
   },
   {
    "duration": 42,
    "start_time": "2025-02-28T11:24:48.500Z"
   },
   {
    "duration": 195,
    "start_time": "2025-02-28T11:24:48.543Z"
   },
   {
    "duration": 6,
    "start_time": "2025-02-28T11:24:48.739Z"
   },
   {
    "duration": 15,
    "start_time": "2025-02-28T11:24:48.746Z"
   },
   {
    "duration": 31,
    "start_time": "2025-02-28T11:24:48.762Z"
   },
   {
    "duration": 106,
    "start_time": "2025-02-28T11:24:48.794Z"
   },
   {
    "duration": 6,
    "start_time": "2025-02-28T11:24:48.902Z"
   },
   {
    "duration": 115,
    "start_time": "2025-02-28T11:24:48.909Z"
   },
   {
    "duration": 19,
    "start_time": "2025-02-28T11:24:49.026Z"
   },
   {
    "duration": 165,
    "start_time": "2025-02-28T11:24:49.047Z"
   },
   {
    "duration": 6,
    "start_time": "2025-02-28T11:24:49.214Z"
   },
   {
    "duration": 22,
    "start_time": "2025-02-28T11:24:49.222Z"
   },
   {
    "duration": 65,
    "start_time": "2025-02-28T11:24:49.246Z"
   },
   {
    "duration": 24,
    "start_time": "2025-02-28T11:24:49.313Z"
   },
   {
    "duration": 31,
    "start_time": "2025-02-28T11:24:49.339Z"
   },
   {
    "duration": 99,
    "start_time": "2025-02-28T11:24:49.372Z"
   },
   {
    "duration": 5,
    "start_time": "2025-02-28T11:24:49.473Z"
   },
   {
    "duration": 27,
    "start_time": "2025-02-28T11:24:49.480Z"
   },
   {
    "duration": 8,
    "start_time": "2025-02-28T11:24:49.509Z"
   },
   {
    "duration": 11,
    "start_time": "2025-02-28T11:24:49.519Z"
   },
   {
    "duration": 5,
    "start_time": "2025-02-28T11:38:11.983Z"
   },
   {
    "duration": 11,
    "start_time": "2025-02-28T11:38:23.626Z"
   },
   {
    "duration": 16,
    "start_time": "2025-02-28T11:38:27.586Z"
   },
   {
    "duration": 120,
    "start_time": "2025-02-28T11:39:57.882Z"
   },
   {
    "duration": 11,
    "start_time": "2025-02-28T11:40:07.976Z"
   },
   {
    "duration": 13,
    "start_time": "2025-02-28T11:40:14.307Z"
   },
   {
    "duration": 19,
    "start_time": "2025-02-28T11:40:23.720Z"
   },
   {
    "duration": 72,
    "start_time": "2025-02-28T11:42:02.655Z"
   },
   {
    "duration": 10,
    "start_time": "2025-02-28T11:42:06.036Z"
   },
   {
    "duration": 9,
    "start_time": "2025-02-28T11:42:22.033Z"
   },
   {
    "duration": 11,
    "start_time": "2025-02-28T11:42:39.631Z"
   },
   {
    "duration": 1341,
    "start_time": "2025-02-28T14:42:51.753Z"
   },
   {
    "duration": 193,
    "start_time": "2025-02-28T14:42:53.096Z"
   },
   {
    "duration": 13,
    "start_time": "2025-02-28T14:42:53.290Z"
   },
   {
    "duration": 16,
    "start_time": "2025-02-28T14:42:53.305Z"
   },
   {
    "duration": 21,
    "start_time": "2025-02-28T14:42:53.322Z"
   },
   {
    "duration": 13,
    "start_time": "2025-02-28T14:42:53.344Z"
   },
   {
    "duration": 11,
    "start_time": "2025-02-28T14:42:53.359Z"
   },
   {
    "duration": 6,
    "start_time": "2025-02-28T14:42:53.372Z"
   },
   {
    "duration": 8,
    "start_time": "2025-02-28T14:42:53.380Z"
   },
   {
    "duration": 10,
    "start_time": "2025-02-28T14:42:53.390Z"
   },
   {
    "duration": 19,
    "start_time": "2025-02-28T14:42:53.402Z"
   },
   {
    "duration": 35,
    "start_time": "2025-02-28T14:42:53.423Z"
   },
   {
    "duration": 10,
    "start_time": "2025-02-28T14:42:53.460Z"
   },
   {
    "duration": 23,
    "start_time": "2025-02-28T14:42:53.471Z"
   },
   {
    "duration": 12,
    "start_time": "2025-02-28T14:42:53.496Z"
   },
   {
    "duration": 11,
    "start_time": "2025-02-28T14:42:53.510Z"
   },
   {
    "duration": 7,
    "start_time": "2025-02-28T14:42:53.523Z"
   },
   {
    "duration": 281,
    "start_time": "2025-02-28T14:42:53.531Z"
   },
   {
    "duration": 13,
    "start_time": "2025-02-28T14:42:53.813Z"
   },
   {
    "duration": 63,
    "start_time": "2025-02-28T14:42:53.827Z"
   },
   {
    "duration": 255,
    "start_time": "2025-02-28T14:42:53.892Z"
   },
   {
    "duration": 10,
    "start_time": "2025-02-28T14:42:54.149Z"
   },
   {
    "duration": 251,
    "start_time": "2025-02-28T14:42:54.172Z"
   },
   {
    "duration": 11,
    "start_time": "2025-02-28T14:42:54.425Z"
   },
   {
    "duration": 373,
    "start_time": "2025-02-28T14:42:54.438Z"
   },
   {
    "duration": 6,
    "start_time": "2025-02-28T14:42:54.813Z"
   },
   {
    "duration": 265,
    "start_time": "2025-02-28T14:42:54.821Z"
   },
   {
    "duration": 8,
    "start_time": "2025-02-28T14:42:55.089Z"
   },
   {
    "duration": 9,
    "start_time": "2025-02-28T14:42:55.099Z"
   },
   {
    "duration": 363,
    "start_time": "2025-02-28T14:42:55.109Z"
   },
   {
    "duration": 7,
    "start_time": "2025-02-28T14:42:55.474Z"
   },
   {
    "duration": 14,
    "start_time": "2025-02-28T14:42:55.482Z"
   },
   {
    "duration": 115,
    "start_time": "2025-02-28T14:42:55.498Z"
   },
   {
    "duration": 4,
    "start_time": "2025-02-28T14:42:55.615Z"
   },
   {
    "duration": 9,
    "start_time": "2025-02-28T14:42:55.621Z"
   },
   {
    "duration": 17,
    "start_time": "2025-02-28T14:42:55.631Z"
   },
   {
    "duration": 116,
    "start_time": "2025-02-28T14:42:55.650Z"
   },
   {
    "duration": 5,
    "start_time": "2025-02-28T14:42:55.772Z"
   },
   {
    "duration": 197,
    "start_time": "2025-02-28T14:42:55.778Z"
   },
   {
    "duration": 4,
    "start_time": "2025-02-28T14:42:55.976Z"
   },
   {
    "duration": 196,
    "start_time": "2025-02-28T14:42:55.982Z"
   },
   {
    "duration": 5,
    "start_time": "2025-02-28T14:42:56.179Z"
   },
   {
    "duration": 21,
    "start_time": "2025-02-28T14:42:56.186Z"
   },
   {
    "duration": 33,
    "start_time": "2025-02-28T14:42:56.210Z"
   },
   {
    "duration": 8,
    "start_time": "2025-02-28T14:42:56.245Z"
   },
   {
    "duration": 4,
    "start_time": "2025-02-28T14:42:56.255Z"
   },
   {
    "duration": 11,
    "start_time": "2025-02-28T14:42:56.261Z"
   },
   {
    "duration": 4,
    "start_time": "2025-02-28T14:42:56.274Z"
   },
   {
    "duration": 48,
    "start_time": "2025-02-28T14:42:56.279Z"
   },
   {
    "duration": 6,
    "start_time": "2025-02-28T14:42:56.329Z"
   },
   {
    "duration": 7,
    "start_time": "2025-02-28T14:42:56.337Z"
   },
   {
    "duration": 11,
    "start_time": "2025-02-28T14:43:32.060Z"
   },
   {
    "duration": 3,
    "start_time": "2025-02-28T14:49:55.503Z"
   },
   {
    "duration": 8,
    "start_time": "2025-02-28T14:50:05.731Z"
   },
   {
    "duration": 6,
    "start_time": "2025-02-28T14:50:44.063Z"
   },
   {
    "duration": 13,
    "start_time": "2025-02-28T14:51:06.772Z"
   },
   {
    "duration": 3,
    "start_time": "2025-02-28T14:58:56.642Z"
   },
   {
    "duration": 4,
    "start_time": "2025-02-28T14:59:04.338Z"
   },
   {
    "duration": 1158,
    "start_time": "2025-02-28T15:01:39.629Z"
   },
   {
    "duration": 77,
    "start_time": "2025-02-28T15:01:40.788Z"
   },
   {
    "duration": 13,
    "start_time": "2025-02-28T15:01:40.867Z"
   },
   {
    "duration": 29,
    "start_time": "2025-02-28T15:01:40.882Z"
   },
   {
    "duration": 16,
    "start_time": "2025-02-28T15:01:40.913Z"
   },
   {
    "duration": 3,
    "start_time": "2025-02-28T15:01:40.931Z"
   },
   {
    "duration": 13,
    "start_time": "2025-02-28T15:01:40.936Z"
   },
   {
    "duration": 10,
    "start_time": "2025-02-28T15:01:40.951Z"
   },
   {
    "duration": 11,
    "start_time": "2025-02-28T15:01:40.962Z"
   },
   {
    "duration": 19,
    "start_time": "2025-02-28T15:01:40.975Z"
   },
   {
    "duration": 16,
    "start_time": "2025-02-28T15:01:40.995Z"
   },
   {
    "duration": 25,
    "start_time": "2025-02-28T15:01:41.013Z"
   },
   {
    "duration": 10,
    "start_time": "2025-02-28T15:01:41.039Z"
   },
   {
    "duration": 8,
    "start_time": "2025-02-28T15:01:41.051Z"
   },
   {
    "duration": 9,
    "start_time": "2025-02-28T15:01:41.060Z"
   },
   {
    "duration": 28,
    "start_time": "2025-02-28T15:01:41.070Z"
   },
   {
    "duration": 5,
    "start_time": "2025-02-28T15:01:41.100Z"
   },
   {
    "duration": 10,
    "start_time": "2025-02-28T15:01:41.106Z"
   },
   {
    "duration": 13,
    "start_time": "2025-02-28T15:01:41.117Z"
   },
   {
    "duration": 10,
    "start_time": "2025-02-28T15:01:41.131Z"
   },
   {
    "duration": 295,
    "start_time": "2025-02-28T15:01:41.142Z"
   },
   {
    "duration": 12,
    "start_time": "2025-02-28T15:01:41.439Z"
   },
   {
    "duration": 20,
    "start_time": "2025-02-28T15:01:41.453Z"
   },
   {
    "duration": 273,
    "start_time": "2025-02-28T15:01:41.475Z"
   },
   {
    "duration": 11,
    "start_time": "2025-02-28T15:01:41.749Z"
   },
   {
    "duration": 260,
    "start_time": "2025-02-28T15:01:41.773Z"
   },
   {
    "duration": 8,
    "start_time": "2025-02-28T15:01:42.034Z"
   },
   {
    "duration": 319,
    "start_time": "2025-02-28T15:01:42.045Z"
   },
   {
    "duration": 10,
    "start_time": "2025-02-28T15:01:42.366Z"
   },
   {
    "duration": 276,
    "start_time": "2025-02-28T15:01:42.377Z"
   },
   {
    "duration": 18,
    "start_time": "2025-02-28T15:01:42.654Z"
   },
   {
    "duration": 4,
    "start_time": "2025-02-28T15:01:42.674Z"
   },
   {
    "duration": 312,
    "start_time": "2025-02-28T15:01:42.680Z"
   },
   {
    "duration": 6,
    "start_time": "2025-02-28T15:01:42.994Z"
   },
   {
    "duration": 8,
    "start_time": "2025-02-28T15:01:43.002Z"
   },
   {
    "duration": 132,
    "start_time": "2025-02-28T15:01:43.011Z"
   },
   {
    "duration": 4,
    "start_time": "2025-02-28T15:01:43.145Z"
   },
   {
    "duration": 21,
    "start_time": "2025-02-28T15:01:43.151Z"
   },
   {
    "duration": 3,
    "start_time": "2025-02-28T15:01:43.174Z"
   },
   {
    "duration": 117,
    "start_time": "2025-02-28T15:01:43.178Z"
   },
   {
    "duration": 5,
    "start_time": "2025-02-28T15:01:43.296Z"
   },
   {
    "duration": 128,
    "start_time": "2025-02-28T15:01:43.302Z"
   },
   {
    "duration": 4,
    "start_time": "2025-02-28T15:01:43.432Z"
   },
   {
    "duration": 170,
    "start_time": "2025-02-28T15:01:43.438Z"
   },
   {
    "duration": 5,
    "start_time": "2025-02-28T15:01:43.609Z"
   },
   {
    "duration": 10,
    "start_time": "2025-02-28T15:01:43.616Z"
   },
   {
    "duration": 26,
    "start_time": "2025-02-28T15:01:43.628Z"
   },
   {
    "duration": 22,
    "start_time": "2025-02-28T15:01:43.656Z"
   },
   {
    "duration": 4,
    "start_time": "2025-02-28T15:01:43.680Z"
   },
   {
    "duration": 93,
    "start_time": "2025-02-28T15:01:43.685Z"
   },
   {
    "duration": 24,
    "start_time": "2025-02-28T15:01:43.780Z"
   },
   {
    "duration": 30,
    "start_time": "2025-02-28T15:01:43.806Z"
   },
   {
    "duration": 11,
    "start_time": "2025-02-28T15:01:43.838Z"
   },
   {
    "duration": 10,
    "start_time": "2025-02-28T15:01:43.851Z"
   },
   {
    "duration": 4,
    "start_time": "2025-02-28T15:04:52.176Z"
   },
   {
    "duration": 11,
    "start_time": "2025-02-28T15:04:53.943Z"
   },
   {
    "duration": 76,
    "start_time": "2025-02-28T15:05:09.837Z"
   },
   {
    "duration": 1167,
    "start_time": "2025-02-28T15:13:53.882Z"
   },
   {
    "duration": 79,
    "start_time": "2025-02-28T15:13:55.050Z"
   },
   {
    "duration": 14,
    "start_time": "2025-02-28T15:13:55.130Z"
   },
   {
    "duration": 27,
    "start_time": "2025-02-28T15:13:55.146Z"
   },
   {
    "duration": 57,
    "start_time": "2025-02-28T15:13:55.175Z"
   },
   {
    "duration": 15,
    "start_time": "2025-02-28T15:13:55.234Z"
   },
   {
    "duration": 91,
    "start_time": "2025-02-28T15:13:55.251Z"
   },
   {
    "duration": 7,
    "start_time": "2025-02-28T15:13:55.344Z"
   },
   {
    "duration": 19,
    "start_time": "2025-02-28T15:13:55.352Z"
   },
   {
    "duration": 11,
    "start_time": "2025-02-28T15:13:55.375Z"
   },
   {
    "duration": 15,
    "start_time": "2025-02-28T15:13:55.388Z"
   },
   {
    "duration": 16,
    "start_time": "2025-02-28T15:13:55.405Z"
   },
   {
    "duration": 23,
    "start_time": "2025-02-28T15:13:55.423Z"
   },
   {
    "duration": 3,
    "start_time": "2025-02-28T15:13:55.448Z"
   },
   {
    "duration": 17,
    "start_time": "2025-02-28T15:13:55.452Z"
   },
   {
    "duration": 15,
    "start_time": "2025-02-28T15:13:55.470Z"
   },
   {
    "duration": 7,
    "start_time": "2025-02-28T15:13:55.486Z"
   },
   {
    "duration": 12,
    "start_time": "2025-02-28T15:13:55.494Z"
   },
   {
    "duration": 17,
    "start_time": "2025-02-28T15:13:55.507Z"
   },
   {
    "duration": 11,
    "start_time": "2025-02-28T15:13:55.526Z"
   },
   {
    "duration": 302,
    "start_time": "2025-02-28T15:13:55.539Z"
   },
   {
    "duration": 12,
    "start_time": "2025-02-28T15:13:55.843Z"
   },
   {
    "duration": 12,
    "start_time": "2025-02-28T15:13:55.873Z"
   },
   {
    "duration": 287,
    "start_time": "2025-02-28T15:13:55.887Z"
   },
   {
    "duration": 15,
    "start_time": "2025-02-28T15:13:56.175Z"
   },
   {
    "duration": 325,
    "start_time": "2025-02-28T15:13:56.192Z"
   },
   {
    "duration": 9,
    "start_time": "2025-02-28T15:13:56.519Z"
   },
   {
    "duration": 325,
    "start_time": "2025-02-28T15:13:56.532Z"
   },
   {
    "duration": 15,
    "start_time": "2025-02-28T15:13:56.858Z"
   },
   {
    "duration": 257,
    "start_time": "2025-02-28T15:13:56.875Z"
   },
   {
    "duration": 8,
    "start_time": "2025-02-28T15:13:57.134Z"
   },
   {
    "duration": 31,
    "start_time": "2025-02-28T15:13:57.144Z"
   },
   {
    "duration": 303,
    "start_time": "2025-02-28T15:13:57.176Z"
   },
   {
    "duration": 6,
    "start_time": "2025-02-28T15:13:57.480Z"
   },
   {
    "duration": 3,
    "start_time": "2025-02-28T15:13:57.488Z"
   },
   {
    "duration": 141,
    "start_time": "2025-02-28T15:13:57.492Z"
   },
   {
    "duration": 5,
    "start_time": "2025-02-28T15:13:57.634Z"
   },
   {
    "duration": 7,
    "start_time": "2025-02-28T15:13:57.641Z"
   },
   {
    "duration": 22,
    "start_time": "2025-02-28T15:13:57.650Z"
   },
   {
    "duration": 129,
    "start_time": "2025-02-28T15:13:57.674Z"
   },
   {
    "duration": 5,
    "start_time": "2025-02-28T15:13:57.805Z"
   },
   {
    "duration": 121,
    "start_time": "2025-02-28T15:13:57.812Z"
   },
   {
    "duration": 5,
    "start_time": "2025-02-28T15:13:57.934Z"
   },
   {
    "duration": 236,
    "start_time": "2025-02-28T15:13:57.940Z"
   },
   {
    "duration": 5,
    "start_time": "2025-02-28T15:13:58.178Z"
   },
   {
    "duration": 70,
    "start_time": "2025-02-28T15:13:58.185Z"
   },
   {
    "duration": 28,
    "start_time": "2025-02-28T15:13:58.257Z"
   },
   {
    "duration": 10,
    "start_time": "2025-02-28T15:13:58.287Z"
   },
   {
    "duration": 16,
    "start_time": "2025-02-28T15:13:58.298Z"
   },
   {
    "duration": 84,
    "start_time": "2025-02-28T15:13:58.316Z"
   },
   {
    "duration": 4,
    "start_time": "2025-02-28T15:13:58.401Z"
   },
   {
    "duration": 41,
    "start_time": "2025-02-28T15:13:58.407Z"
   },
   {
    "duration": 7,
    "start_time": "2025-02-28T15:13:58.450Z"
   },
   {
    "duration": 23,
    "start_time": "2025-02-28T15:13:58.459Z"
   },
   {
    "duration": 1123,
    "start_time": "2025-02-28T15:14:09.931Z"
   },
   {
    "duration": 67,
    "start_time": "2025-02-28T15:14:11.056Z"
   },
   {
    "duration": 15,
    "start_time": "2025-02-28T15:14:11.125Z"
   },
   {
    "duration": 7,
    "start_time": "2025-02-28T15:14:11.143Z"
   },
   {
    "duration": 13,
    "start_time": "2025-02-28T15:14:11.152Z"
   },
   {
    "duration": 5,
    "start_time": "2025-02-28T15:14:11.167Z"
   },
   {
    "duration": 12,
    "start_time": "2025-02-28T15:14:11.173Z"
   },
   {
    "duration": 22,
    "start_time": "2025-02-28T15:14:11.187Z"
   },
   {
    "duration": 39,
    "start_time": "2025-02-28T15:14:11.211Z"
   },
   {
    "duration": 10,
    "start_time": "2025-02-28T15:14:11.252Z"
   },
   {
    "duration": 5,
    "start_time": "2025-02-28T15:14:11.264Z"
   },
   {
    "duration": 6,
    "start_time": "2025-02-28T15:14:11.271Z"
   },
   {
    "duration": 8,
    "start_time": "2025-02-28T15:14:11.278Z"
   },
   {
    "duration": 3,
    "start_time": "2025-02-28T15:14:11.288Z"
   },
   {
    "duration": 14,
    "start_time": "2025-02-28T15:14:11.293Z"
   },
   {
    "duration": 11,
    "start_time": "2025-02-28T15:14:11.309Z"
   },
   {
    "duration": 8,
    "start_time": "2025-02-28T15:14:11.322Z"
   },
   {
    "duration": 15,
    "start_time": "2025-02-28T15:14:11.332Z"
   },
   {
    "duration": 30,
    "start_time": "2025-02-28T15:14:11.349Z"
   },
   {
    "duration": 7,
    "start_time": "2025-02-28T15:14:11.381Z"
   },
   {
    "duration": 300,
    "start_time": "2025-02-28T15:14:11.390Z"
   },
   {
    "duration": 13,
    "start_time": "2025-02-28T15:14:11.692Z"
   },
   {
    "duration": 7,
    "start_time": "2025-02-28T15:14:11.706Z"
   },
   {
    "duration": 283,
    "start_time": "2025-02-28T15:14:11.714Z"
   },
   {
    "duration": 12,
    "start_time": "2025-02-28T15:14:11.999Z"
   },
   {
    "duration": 313,
    "start_time": "2025-02-28T15:14:12.012Z"
   },
   {
    "duration": 8,
    "start_time": "2025-02-28T15:14:12.326Z"
   },
   {
    "duration": 317,
    "start_time": "2025-02-28T15:14:12.338Z"
   },
   {
    "duration": 15,
    "start_time": "2025-02-28T15:14:12.657Z"
   },
   {
    "duration": 261,
    "start_time": "2025-02-28T15:14:12.674Z"
   },
   {
    "duration": 8,
    "start_time": "2025-02-28T15:14:12.937Z"
   },
   {
    "duration": 17,
    "start_time": "2025-02-28T15:14:12.946Z"
   },
   {
    "duration": 313,
    "start_time": "2025-02-28T15:14:12.964Z"
   },
   {
    "duration": 7,
    "start_time": "2025-02-28T15:14:13.279Z"
   },
   {
    "duration": 54,
    "start_time": "2025-02-28T15:14:13.287Z"
   },
   {
    "duration": 127,
    "start_time": "2025-02-28T15:14:13.343Z"
   },
   {
    "duration": 5,
    "start_time": "2025-02-28T15:14:13.472Z"
   },
   {
    "duration": 15,
    "start_time": "2025-02-28T15:14:13.478Z"
   },
   {
    "duration": 9,
    "start_time": "2025-02-28T15:14:13.494Z"
   },
   {
    "duration": 118,
    "start_time": "2025-02-28T15:14:13.504Z"
   },
   {
    "duration": 5,
    "start_time": "2025-02-28T15:14:13.624Z"
   },
   {
    "duration": 127,
    "start_time": "2025-02-28T15:14:13.630Z"
   },
   {
    "duration": 4,
    "start_time": "2025-02-28T15:14:13.759Z"
   },
   {
    "duration": 136,
    "start_time": "2025-02-28T15:14:13.771Z"
   },
   {
    "duration": 5,
    "start_time": "2025-02-28T15:14:13.909Z"
   },
   {
    "duration": 75,
    "start_time": "2025-02-28T15:14:13.915Z"
   },
   {
    "duration": 95,
    "start_time": "2025-02-28T15:14:13.992Z"
   },
   {
    "duration": 8,
    "start_time": "2025-02-28T15:14:14.089Z"
   },
   {
    "duration": 5,
    "start_time": "2025-02-28T15:14:14.099Z"
   },
   {
    "duration": 99,
    "start_time": "2025-02-28T15:14:14.105Z"
   },
   {
    "duration": 64,
    "start_time": "2025-02-28T15:14:14.205Z"
   },
   {
    "duration": 24,
    "start_time": "2025-02-28T15:14:14.271Z"
   },
   {
    "duration": 7,
    "start_time": "2025-02-28T15:14:14.297Z"
   },
   {
    "duration": 16,
    "start_time": "2025-02-28T15:14:14.305Z"
   },
   {
    "duration": 81,
    "start_time": "2025-02-28T15:24:25.889Z"
   },
   {
    "duration": 66,
    "start_time": "2025-02-28T15:26:16.393Z"
   },
   {
    "duration": 3,
    "start_time": "2025-02-28T15:26:37.682Z"
   },
   {
    "duration": 4,
    "start_time": "2025-02-28T15:26:55.043Z"
   },
   {
    "duration": 7,
    "start_time": "2025-02-28T15:29:45.647Z"
   },
   {
    "duration": 4,
    "start_time": "2025-02-28T15:33:44.166Z"
   },
   {
    "duration": 71,
    "start_time": "2025-02-28T15:34:47.958Z"
   },
   {
    "duration": 4,
    "start_time": "2025-02-28T15:36:33.320Z"
   },
   {
    "duration": 4,
    "start_time": "2025-02-28T15:36:58.716Z"
   },
   {
    "duration": 2,
    "start_time": "2025-02-28T15:47:06.842Z"
   },
   {
    "duration": 10,
    "start_time": "2025-02-28T15:56:06.263Z"
   },
   {
    "duration": 1092,
    "start_time": "2025-03-01T07:06:00.611Z"
   },
   {
    "duration": 73,
    "start_time": "2025-03-01T07:06:01.705Z"
   },
   {
    "duration": 10,
    "start_time": "2025-03-01T07:06:01.780Z"
   },
   {
    "duration": 36,
    "start_time": "2025-03-01T07:06:01.791Z"
   },
   {
    "duration": 11,
    "start_time": "2025-03-01T07:06:01.829Z"
   },
   {
    "duration": 34,
    "start_time": "2025-03-01T07:06:01.841Z"
   },
   {
    "duration": 85,
    "start_time": "2025-03-01T07:06:01.876Z"
   },
   {
    "duration": 139,
    "start_time": "2025-03-01T07:06:01.963Z"
   },
   {
    "duration": 31,
    "start_time": "2025-03-01T07:06:02.104Z"
   },
   {
    "duration": 123,
    "start_time": "2025-03-01T07:06:02.136Z"
   },
   {
    "duration": 37,
    "start_time": "2025-03-01T07:06:02.265Z"
   },
   {
    "duration": 22,
    "start_time": "2025-03-01T07:06:02.304Z"
   },
   {
    "duration": 30,
    "start_time": "2025-03-01T07:06:02.328Z"
   },
   {
    "duration": 27,
    "start_time": "2025-03-01T07:06:02.365Z"
   },
   {
    "duration": 31,
    "start_time": "2025-03-01T07:06:02.394Z"
   },
   {
    "duration": 13,
    "start_time": "2025-03-01T07:06:02.427Z"
   },
   {
    "duration": 60,
    "start_time": "2025-03-01T07:06:02.441Z"
   },
   {
    "duration": 20,
    "start_time": "2025-03-01T07:06:02.503Z"
   },
   {
    "duration": 35,
    "start_time": "2025-03-01T07:06:02.524Z"
   },
   {
    "duration": 77,
    "start_time": "2025-03-01T07:06:02.561Z"
   },
   {
    "duration": 361,
    "start_time": "2025-03-01T07:06:02.640Z"
   },
   {
    "duration": 10,
    "start_time": "2025-03-01T07:06:03.003Z"
   },
   {
    "duration": 7,
    "start_time": "2025-03-01T07:06:03.015Z"
   },
   {
    "duration": 260,
    "start_time": "2025-03-01T07:06:03.024Z"
   },
   {
    "duration": 10,
    "start_time": "2025-03-01T07:06:03.285Z"
   },
   {
    "duration": 325,
    "start_time": "2025-03-01T07:06:03.297Z"
   },
   {
    "duration": 8,
    "start_time": "2025-03-01T07:06:03.623Z"
   },
   {
    "duration": 400,
    "start_time": "2025-03-01T07:06:03.632Z"
   },
   {
    "duration": 16,
    "start_time": "2025-03-01T07:06:04.033Z"
   },
   {
    "duration": 251,
    "start_time": "2025-03-01T07:06:04.054Z"
   },
   {
    "duration": 7,
    "start_time": "2025-03-01T07:06:04.307Z"
   },
   {
    "duration": 24,
    "start_time": "2025-03-01T07:06:04.315Z"
   },
   {
    "duration": 300,
    "start_time": "2025-03-01T07:06:04.341Z"
   },
   {
    "duration": 15,
    "start_time": "2025-03-01T07:06:04.642Z"
   },
   {
    "duration": 26,
    "start_time": "2025-03-01T07:06:04.659Z"
   },
   {
    "duration": 128,
    "start_time": "2025-03-01T07:06:04.687Z"
   },
   {
    "duration": 5,
    "start_time": "2025-03-01T07:06:04.817Z"
   },
   {
    "duration": 47,
    "start_time": "2025-03-01T07:06:04.823Z"
   },
   {
    "duration": 23,
    "start_time": "2025-03-01T07:06:04.871Z"
   },
   {
    "duration": 118,
    "start_time": "2025-03-01T07:06:04.896Z"
   },
   {
    "duration": 4,
    "start_time": "2025-03-01T07:06:05.019Z"
   },
   {
    "duration": 114,
    "start_time": "2025-03-01T07:06:05.025Z"
   },
   {
    "duration": 43,
    "start_time": "2025-03-01T07:06:05.141Z"
   },
   {
    "duration": 295,
    "start_time": "2025-03-01T07:06:05.186Z"
   },
   {
    "duration": 5,
    "start_time": "2025-03-01T07:06:05.483Z"
   },
   {
    "duration": 30,
    "start_time": "2025-03-01T07:06:05.489Z"
   },
   {
    "duration": 67,
    "start_time": "2025-03-01T07:06:05.520Z"
   },
   {
    "duration": 160,
    "start_time": "2025-03-01T07:06:05.589Z"
   },
   {
    "duration": 59,
    "start_time": "2025-03-01T07:06:05.751Z"
   },
   {
    "duration": 248,
    "start_time": "2025-03-01T07:06:05.812Z"
   },
   {
    "duration": 50,
    "start_time": "2025-03-01T07:06:06.063Z"
   },
   {
    "duration": 81,
    "start_time": "2025-03-01T07:06:06.115Z"
   },
   {
    "duration": 100,
    "start_time": "2025-03-01T07:06:06.198Z"
   },
   {
    "duration": 60,
    "start_time": "2025-03-01T07:06:06.299Z"
   },
   {
    "duration": 22,
    "start_time": "2025-03-01T07:06:06.361Z"
   },
   {
    "duration": 25,
    "start_time": "2025-03-01T07:06:06.384Z"
   },
   {
    "duration": 39,
    "start_time": "2025-03-01T07:06:06.411Z"
   },
   {
    "duration": 22,
    "start_time": "2025-03-01T07:06:06.452Z"
   },
   {
    "duration": 1147,
    "start_time": "2025-03-01T07:13:33.441Z"
   },
   {
    "duration": 76,
    "start_time": "2025-03-01T07:13:34.590Z"
   },
   {
    "duration": 17,
    "start_time": "2025-03-01T07:13:34.668Z"
   },
   {
    "duration": 9,
    "start_time": "2025-03-01T07:13:34.687Z"
   },
   {
    "duration": 14,
    "start_time": "2025-03-01T07:13:34.697Z"
   },
   {
    "duration": 7,
    "start_time": "2025-03-01T07:13:34.713Z"
   },
   {
    "duration": 23,
    "start_time": "2025-03-01T07:13:34.722Z"
   },
   {
    "duration": 20,
    "start_time": "2025-03-01T07:13:34.747Z"
   },
   {
    "duration": 91,
    "start_time": "2025-03-01T07:13:34.769Z"
   },
   {
    "duration": 43,
    "start_time": "2025-03-01T07:13:34.865Z"
   },
   {
    "duration": 71,
    "start_time": "2025-03-01T07:13:34.910Z"
   },
   {
    "duration": 7,
    "start_time": "2025-03-01T07:13:34.983Z"
   },
   {
    "duration": 9,
    "start_time": "2025-03-01T07:13:34.992Z"
   },
   {
    "duration": 15,
    "start_time": "2025-03-01T07:13:35.002Z"
   },
   {
    "duration": 14,
    "start_time": "2025-03-01T07:13:35.019Z"
   },
   {
    "duration": 14,
    "start_time": "2025-03-01T07:13:35.035Z"
   },
   {
    "duration": 15,
    "start_time": "2025-03-01T07:13:35.056Z"
   },
   {
    "duration": 18,
    "start_time": "2025-03-01T07:13:35.073Z"
   },
   {
    "duration": 10,
    "start_time": "2025-03-01T07:13:35.093Z"
   },
   {
    "duration": 13,
    "start_time": "2025-03-01T07:13:35.104Z"
   },
   {
    "duration": 392,
    "start_time": "2025-03-01T07:13:35.119Z"
   },
   {
    "duration": 11,
    "start_time": "2025-03-01T07:13:35.513Z"
   },
   {
    "duration": 39,
    "start_time": "2025-03-01T07:13:35.526Z"
   },
   {
    "duration": 324,
    "start_time": "2025-03-01T07:13:35.567Z"
   },
   {
    "duration": 9,
    "start_time": "2025-03-01T07:13:35.892Z"
   },
   {
    "duration": 329,
    "start_time": "2025-03-01T07:13:35.902Z"
   },
   {
    "duration": 22,
    "start_time": "2025-03-01T07:13:36.232Z"
   },
   {
    "duration": 380,
    "start_time": "2025-03-01T07:13:36.263Z"
   },
   {
    "duration": 13,
    "start_time": "2025-03-01T07:13:36.650Z"
   },
   {
    "duration": 325,
    "start_time": "2025-03-01T07:13:36.664Z"
   },
   {
    "duration": 8,
    "start_time": "2025-03-01T07:13:36.991Z"
   },
   {
    "duration": 26,
    "start_time": "2025-03-01T07:13:37.000Z"
   },
   {
    "duration": 338,
    "start_time": "2025-03-01T07:13:37.028Z"
   },
   {
    "duration": 6,
    "start_time": "2025-03-01T07:13:37.368Z"
   },
   {
    "duration": 46,
    "start_time": "2025-03-01T07:13:37.376Z"
   },
   {
    "duration": 139,
    "start_time": "2025-03-01T07:13:37.423Z"
   },
   {
    "duration": 5,
    "start_time": "2025-03-01T07:13:37.567Z"
   },
   {
    "duration": 6,
    "start_time": "2025-03-01T07:13:37.574Z"
   },
   {
    "duration": 15,
    "start_time": "2025-03-01T07:13:37.581Z"
   },
   {
    "duration": 114,
    "start_time": "2025-03-01T07:13:37.597Z"
   },
   {
    "duration": 5,
    "start_time": "2025-03-01T07:13:37.712Z"
   },
   {
    "duration": 112,
    "start_time": "2025-03-01T07:13:37.718Z"
   },
   {
    "duration": 4,
    "start_time": "2025-03-01T07:13:37.831Z"
   },
   {
    "duration": 134,
    "start_time": "2025-03-01T07:13:37.837Z"
   },
   {
    "duration": 4,
    "start_time": "2025-03-01T07:13:37.973Z"
   },
   {
    "duration": 37,
    "start_time": "2025-03-01T07:13:37.978Z"
   },
   {
    "duration": 32,
    "start_time": "2025-03-01T07:13:38.017Z"
   },
   {
    "duration": 10,
    "start_time": "2025-03-01T07:13:38.051Z"
   },
   {
    "duration": 201,
    "start_time": "2025-03-01T07:13:38.063Z"
   },
   {
    "duration": 9,
    "start_time": "2025-03-01T07:13:38.267Z"
   },
   {
    "duration": 55,
    "start_time": "2025-03-01T07:13:38.279Z"
   },
   {
    "duration": 9,
    "start_time": "2025-03-01T07:13:38.336Z"
   },
   {
    "duration": 18,
    "start_time": "2025-03-01T07:13:38.347Z"
   },
   {
    "duration": 37,
    "start_time": "2025-03-01T07:13:38.367Z"
   },
   {
    "duration": 4,
    "start_time": "2025-03-01T07:13:38.405Z"
   },
   {
    "duration": 9,
    "start_time": "2025-03-01T07:13:38.410Z"
   },
   {
    "duration": 12,
    "start_time": "2025-03-01T07:13:38.420Z"
   },
   {
    "duration": 12,
    "start_time": "2025-03-01T07:13:38.434Z"
   }
  ],
  "kernelspec": {
   "display_name": "Python 3 (ipykernel)",
   "language": "python",
   "name": "python3"
  },
  "language_info": {
   "codemirror_mode": {
    "name": "ipython",
    "version": 3
   },
   "file_extension": ".py",
   "mimetype": "text/x-python",
   "name": "python",
   "nbconvert_exporter": "python",
   "pygments_lexer": "ipython3",
   "version": "3.12.4"
  },
  "toc": {
   "base_numbering": 1,
   "nav_menu": {},
   "number_sections": true,
   "sideBar": true,
   "skip_h1_title": true,
   "title_cell": "Table of Contents",
   "title_sidebar": "Contents",
   "toc_cell": false,
   "toc_position": {},
   "toc_section_display": true,
   "toc_window_display": false
  }
 },
 "nbformat": 4,
 "nbformat_minor": 4
}
