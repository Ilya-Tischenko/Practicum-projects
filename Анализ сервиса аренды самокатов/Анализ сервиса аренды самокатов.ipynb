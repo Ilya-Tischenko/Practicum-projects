{
 "cells": [
  {
   "cell_type": "markdown",
   "id": "ae2b39ce-26ae-4a04-bf7f-7e65ab2990ae",
   "metadata": {},
   "source": [
    "# Анализ и проверка гипотез сервиса аренды самокатов"
   ]
  },
  {
   "cell_type": "markdown",
   "id": "c0126038",
   "metadata": {},
   "source": [
    "Анализ данных и проверка гипотез о пользователях и поездках сервиса аренды самокатов GoFast.\n",
    "\n",
    "Данные представлены тремя датафреймами в формате CSV: users_go, rides_go, subscriptions_go. Первый хранит информацию о каждом пользователе (его id, имя, возраст, город, тип подписки). Во втором содержатся данные о дате, длительности и дистанции каждой поездки. Третий хранит информацию о стоимости услуг для каждого типа подписки. \n",
    "\n",
    "Цель исследования: анализ данных и проверка гипотез, которые могут помочь бизнесу вырасти.\n",
    "\n",
    "План исследования: \n",
    "1. Загрузка данных\n",
    "2. Предобработка данных\n",
    "3. Исследовательский анализ данных\n",
    "4. Объединение данных\n",
    "5. Подсчет выручки\n",
    "6. Проверка гипотез\n",
    "7. Работа с распределениями"
   ]
  },
  {
   "cell_type": "markdown",
   "id": "113f89a1",
   "metadata": {},
   "source": [
    "## Загрузка данных "
   ]
  },
  {
   "cell_type": "markdown",
   "id": "417cebca",
   "metadata": {},
   "source": [
    "Импортируем необходимые для дальнейшей работы библиотеки."
   ]
  },
  {
   "cell_type": "code",
   "execution_count": 5,
   "id": "10b86370",
   "metadata": {},
   "outputs": [],
   "source": [
    "import pandas as pd\n",
    "import matplotlib.pyplot as plt\n",
    "import seaborn as sns\n",
    "sns.set_style('dark')\n",
    "import numpy as np\n",
    "from scipy import stats as st\n",
    "from scipy.stats import binom\n",
    "from math import factorial"
   ]
  },
  {
   "cell_type": "markdown",
   "id": "0ca4e651",
   "metadata": {},
   "source": [
    "Сохраним CSV-файлы в датафреймы pandas."
   ]
  },
  {
   "cell_type": "code",
   "execution_count": 7,
   "id": "059f69fc",
   "metadata": {},
   "outputs": [],
   "source": [
    "#данные о пользователях\n",
    "url_id = '1M7rOZvWsF09No1QiYUJQVLDp_ZlkkjXT'\n",
    "url = 'https://drive.google.com/uc?id=' + url_id\n",
    "users = pd.read_csv(url)\n",
    "#данные о поездках\n",
    "url_id = '1t0lHm09LKO3Eo29bKhkaD_blM4osqygF'\n",
    "url = 'https://drive.google.com/uc?id=' + url_id\n",
    "rides = pd.read_csv(url)\n",
    "#данные о подписках\n",
    "url_id = '1XDd5a_EzHh2eOvKPv-wUeB3CxvojR8sD'\n",
    "url = 'https://drive.google.com/uc?id=' + url_id\n",
    "subs = pd.read_csv(url)"
   ]
  },
  {
   "cell_type": "markdown",
   "id": "401676bf",
   "metadata": {},
   "source": [
    "Посмотрим общую информацию о датафреймах."
   ]
  },
  {
   "cell_type": "code",
   "execution_count": 9,
   "id": "1381526f",
   "metadata": {},
   "outputs": [
    {
     "name": "stdout",
     "output_type": "stream",
     "text": [
      "<class 'pandas.core.frame.DataFrame'>\n",
      "RangeIndex: 1565 entries, 0 to 1564\n",
      "Data columns (total 5 columns):\n",
      " #   Column             Non-Null Count  Dtype \n",
      "---  ------             --------------  ----- \n",
      " 0   user_id            1565 non-null   int64 \n",
      " 1   name               1565 non-null   object\n",
      " 2   age                1565 non-null   int64 \n",
      " 3   city               1565 non-null   object\n",
      " 4   subscription_type  1565 non-null   object\n",
      "dtypes: int64(2), object(3)\n",
      "memory usage: 61.3+ KB\n"
     ]
    }
   ],
   "source": [
    "users.info()"
   ]
  },
  {
   "cell_type": "markdown",
   "id": "1c3b1e35",
   "metadata": {},
   "source": [
    "В таблице с данными о пользователях 1565 записей. Пропусков нет. Типы данных в каждом столбце соответствуют содержимому."
   ]
  },
  {
   "cell_type": "code",
   "execution_count": 11,
   "id": "5e091b16",
   "metadata": {},
   "outputs": [
    {
     "name": "stdout",
     "output_type": "stream",
     "text": [
      "<class 'pandas.core.frame.DataFrame'>\n",
      "RangeIndex: 18068 entries, 0 to 18067\n",
      "Data columns (total 4 columns):\n",
      " #   Column    Non-Null Count  Dtype  \n",
      "---  ------    --------------  -----  \n",
      " 0   user_id   18068 non-null  int64  \n",
      " 1   distance  18068 non-null  float64\n",
      " 2   duration  18068 non-null  float64\n",
      " 3   date      18068 non-null  object \n",
      "dtypes: float64(2), int64(1), object(1)\n",
      "memory usage: 564.8+ KB\n"
     ]
    }
   ],
   "source": [
    "rides.info()"
   ]
  },
  {
   "cell_type": "markdown",
   "id": "61a8e9ab",
   "metadata": {},
   "source": [
    "В таблице с данными о поездках 18068 записей. Пропусков нет. Столбец с информацией о датах поездок представлен текстовым типом данных, необходимо в дальнейшем заменить на \"datetime\"."
   ]
  },
  {
   "cell_type": "code",
   "execution_count": 13,
   "id": "3ca33a8b",
   "metadata": {},
   "outputs": [
    {
     "name": "stdout",
     "output_type": "stream",
     "text": [
      "<class 'pandas.core.frame.DataFrame'>\n",
      "RangeIndex: 2 entries, 0 to 1\n",
      "Data columns (total 4 columns):\n",
      " #   Column             Non-Null Count  Dtype \n",
      "---  ------             --------------  ----- \n",
      " 0   subscription_type  2 non-null      object\n",
      " 1   minute_price       2 non-null      int64 \n",
      " 2   start_ride_price   2 non-null      int64 \n",
      " 3   subscription_fee   2 non-null      int64 \n",
      "dtypes: int64(3), object(1)\n",
      "memory usage: 196.0+ bytes\n"
     ]
    }
   ],
   "source": [
    "subs.info()"
   ]
  },
  {
   "cell_type": "markdown",
   "id": "0bc7b194",
   "metadata": {},
   "source": [
    "В таблице с данными о подписках всего 2 записи. Пропусков нет. Необходимости менять тип данных тоже нет."
   ]
  },
  {
   "cell_type": "markdown",
   "id": "5ac0453a",
   "metadata": {},
   "source": [
    "Выведем на экран несколько строк из каждого датафрейма."
   ]
  },
  {
   "cell_type": "code",
   "execution_count": 16,
   "id": "101cbd71",
   "metadata": {},
   "outputs": [
    {
     "data": {
      "text/html": [
       "<div>\n",
       "<style scoped>\n",
       "    .dataframe tbody tr th:only-of-type {\n",
       "        vertical-align: middle;\n",
       "    }\n",
       "\n",
       "    .dataframe tbody tr th {\n",
       "        vertical-align: top;\n",
       "    }\n",
       "\n",
       "    .dataframe thead th {\n",
       "        text-align: right;\n",
       "    }\n",
       "</style>\n",
       "<table border=\"1\" class=\"dataframe\">\n",
       "  <thead>\n",
       "    <tr style=\"text-align: right;\">\n",
       "      <th></th>\n",
       "      <th>user_id</th>\n",
       "      <th>name</th>\n",
       "      <th>age</th>\n",
       "      <th>city</th>\n",
       "      <th>subscription_type</th>\n",
       "    </tr>\n",
       "  </thead>\n",
       "  <tbody>\n",
       "    <tr>\n",
       "      <th>0</th>\n",
       "      <td>1</td>\n",
       "      <td>Кира</td>\n",
       "      <td>22</td>\n",
       "      <td>Тюмень</td>\n",
       "      <td>ultra</td>\n",
       "    </tr>\n",
       "    <tr>\n",
       "      <th>1</th>\n",
       "      <td>2</td>\n",
       "      <td>Станислав</td>\n",
       "      <td>31</td>\n",
       "      <td>Омск</td>\n",
       "      <td>ultra</td>\n",
       "    </tr>\n",
       "    <tr>\n",
       "      <th>2</th>\n",
       "      <td>3</td>\n",
       "      <td>Алексей</td>\n",
       "      <td>20</td>\n",
       "      <td>Москва</td>\n",
       "      <td>ultra</td>\n",
       "    </tr>\n",
       "    <tr>\n",
       "      <th>3</th>\n",
       "      <td>4</td>\n",
       "      <td>Константин</td>\n",
       "      <td>26</td>\n",
       "      <td>Ростов-на-Дону</td>\n",
       "      <td>ultra</td>\n",
       "    </tr>\n",
       "    <tr>\n",
       "      <th>4</th>\n",
       "      <td>5</td>\n",
       "      <td>Адель</td>\n",
       "      <td>28</td>\n",
       "      <td>Омск</td>\n",
       "      <td>ultra</td>\n",
       "    </tr>\n",
       "  </tbody>\n",
       "</table>\n",
       "</div>"
      ],
      "text/plain": [
       "   user_id        name  age            city subscription_type\n",
       "0        1        Кира   22          Тюмень             ultra\n",
       "1        2   Станислав   31            Омск             ultra\n",
       "2        3     Алексей   20          Москва             ultra\n",
       "3        4  Константин   26  Ростов-на-Дону             ultra\n",
       "4        5       Адель   28            Омск             ultra"
      ]
     },
     "execution_count": 16,
     "metadata": {},
     "output_type": "execute_result"
    }
   ],
   "source": [
    "users.head()"
   ]
  },
  {
   "cell_type": "code",
   "execution_count": 17,
   "id": "64ada223",
   "metadata": {},
   "outputs": [
    {
     "data": {
      "text/html": [
       "<div>\n",
       "<style scoped>\n",
       "    .dataframe tbody tr th:only-of-type {\n",
       "        vertical-align: middle;\n",
       "    }\n",
       "\n",
       "    .dataframe tbody tr th {\n",
       "        vertical-align: top;\n",
       "    }\n",
       "\n",
       "    .dataframe thead th {\n",
       "        text-align: right;\n",
       "    }\n",
       "</style>\n",
       "<table border=\"1\" class=\"dataframe\">\n",
       "  <thead>\n",
       "    <tr style=\"text-align: right;\">\n",
       "      <th></th>\n",
       "      <th>user_id</th>\n",
       "      <th>distance</th>\n",
       "      <th>duration</th>\n",
       "      <th>date</th>\n",
       "    </tr>\n",
       "  </thead>\n",
       "  <tbody>\n",
       "    <tr>\n",
       "      <th>0</th>\n",
       "      <td>1</td>\n",
       "      <td>4409.919140</td>\n",
       "      <td>25.599769</td>\n",
       "      <td>2021-01-01</td>\n",
       "    </tr>\n",
       "    <tr>\n",
       "      <th>1</th>\n",
       "      <td>1</td>\n",
       "      <td>2617.592153</td>\n",
       "      <td>15.816871</td>\n",
       "      <td>2021-01-18</td>\n",
       "    </tr>\n",
       "    <tr>\n",
       "      <th>2</th>\n",
       "      <td>1</td>\n",
       "      <td>754.159807</td>\n",
       "      <td>6.232113</td>\n",
       "      <td>2021-04-20</td>\n",
       "    </tr>\n",
       "    <tr>\n",
       "      <th>3</th>\n",
       "      <td>1</td>\n",
       "      <td>2694.783254</td>\n",
       "      <td>18.511000</td>\n",
       "      <td>2021-08-11</td>\n",
       "    </tr>\n",
       "    <tr>\n",
       "      <th>4</th>\n",
       "      <td>1</td>\n",
       "      <td>4028.687306</td>\n",
       "      <td>26.265803</td>\n",
       "      <td>2021-08-28</td>\n",
       "    </tr>\n",
       "  </tbody>\n",
       "</table>\n",
       "</div>"
      ],
      "text/plain": [
       "   user_id     distance   duration        date\n",
       "0        1  4409.919140  25.599769  2021-01-01\n",
       "1        1  2617.592153  15.816871  2021-01-18\n",
       "2        1   754.159807   6.232113  2021-04-20\n",
       "3        1  2694.783254  18.511000  2021-08-11\n",
       "4        1  4028.687306  26.265803  2021-08-28"
      ]
     },
     "execution_count": 17,
     "metadata": {},
     "output_type": "execute_result"
    }
   ],
   "source": [
    "rides.head()"
   ]
  },
  {
   "cell_type": "code",
   "execution_count": 18,
   "id": "664b3513",
   "metadata": {},
   "outputs": [
    {
     "data": {
      "text/html": [
       "<div>\n",
       "<style scoped>\n",
       "    .dataframe tbody tr th:only-of-type {\n",
       "        vertical-align: middle;\n",
       "    }\n",
       "\n",
       "    .dataframe tbody tr th {\n",
       "        vertical-align: top;\n",
       "    }\n",
       "\n",
       "    .dataframe thead th {\n",
       "        text-align: right;\n",
       "    }\n",
       "</style>\n",
       "<table border=\"1\" class=\"dataframe\">\n",
       "  <thead>\n",
       "    <tr style=\"text-align: right;\">\n",
       "      <th></th>\n",
       "      <th>subscription_type</th>\n",
       "      <th>minute_price</th>\n",
       "      <th>start_ride_price</th>\n",
       "      <th>subscription_fee</th>\n",
       "    </tr>\n",
       "  </thead>\n",
       "  <tbody>\n",
       "    <tr>\n",
       "      <th>0</th>\n",
       "      <td>free</td>\n",
       "      <td>8</td>\n",
       "      <td>50</td>\n",
       "      <td>0</td>\n",
       "    </tr>\n",
       "    <tr>\n",
       "      <th>1</th>\n",
       "      <td>ultra</td>\n",
       "      <td>6</td>\n",
       "      <td>0</td>\n",
       "      <td>199</td>\n",
       "    </tr>\n",
       "  </tbody>\n",
       "</table>\n",
       "</div>"
      ],
      "text/plain": [
       "  subscription_type  minute_price  start_ride_price  subscription_fee\n",
       "0              free             8                50                 0\n",
       "1             ultra             6                 0               199"
      ]
     },
     "execution_count": 18,
     "metadata": {},
     "output_type": "execute_result"
    }
   ],
   "source": [
    "subs.head()"
   ]
  },
  {
   "cell_type": "markdown",
   "id": "76923052",
   "metadata": {},
   "source": [
    "Данные загружены. Готовы к предобработке."
   ]
  },
  {
   "cell_type": "markdown",
   "id": "a1fc2a40",
   "metadata": {},
   "source": [
    "## Предобработка данных"
   ]
  },
  {
   "cell_type": "markdown",
   "id": "3616f041-1bc3-42e4-8359-4de499c0eaa7",
   "metadata": {},
   "source": [
    "### Изменение типов данных"
   ]
  },
  {
   "cell_type": "markdown",
   "id": "7dca448e",
   "metadata": {},
   "source": [
    "Приведем столбец с датами поездок к соответствующему типу."
   ]
  },
  {
   "cell_type": "code",
   "execution_count": 23,
   "id": "b3d11f78",
   "metadata": {},
   "outputs": [],
   "source": [
    "rides['date'] = rides['date'].astype('datetime64[ns]')"
   ]
  },
  {
   "cell_type": "markdown",
   "id": "1a7b7759",
   "metadata": {},
   "source": [
    "Создадим в таблице rides новый столбец с номером месяца."
   ]
  },
  {
   "cell_type": "code",
   "execution_count": 25,
   "id": "2037ee4b",
   "metadata": {},
   "outputs": [],
   "source": [
    "rides['month'] = rides['date'].dt.month"
   ]
  },
  {
   "cell_type": "markdown",
   "id": "2e82f2ae",
   "metadata": {},
   "source": [
    "Проверяем получилось ли добавить столбец."
   ]
  },
  {
   "cell_type": "code",
   "execution_count": 27,
   "id": "44ef9525",
   "metadata": {},
   "outputs": [
    {
     "data": {
      "text/html": [
       "<div>\n",
       "<style scoped>\n",
       "    .dataframe tbody tr th:only-of-type {\n",
       "        vertical-align: middle;\n",
       "    }\n",
       "\n",
       "    .dataframe tbody tr th {\n",
       "        vertical-align: top;\n",
       "    }\n",
       "\n",
       "    .dataframe thead th {\n",
       "        text-align: right;\n",
       "    }\n",
       "</style>\n",
       "<table border=\"1\" class=\"dataframe\">\n",
       "  <thead>\n",
       "    <tr style=\"text-align: right;\">\n",
       "      <th></th>\n",
       "      <th>user_id</th>\n",
       "      <th>distance</th>\n",
       "      <th>duration</th>\n",
       "      <th>date</th>\n",
       "      <th>month</th>\n",
       "    </tr>\n",
       "  </thead>\n",
       "  <tbody>\n",
       "    <tr>\n",
       "      <th>0</th>\n",
       "      <td>1</td>\n",
       "      <td>4409.919140</td>\n",
       "      <td>25.599769</td>\n",
       "      <td>2021-01-01</td>\n",
       "      <td>1</td>\n",
       "    </tr>\n",
       "    <tr>\n",
       "      <th>1</th>\n",
       "      <td>1</td>\n",
       "      <td>2617.592153</td>\n",
       "      <td>15.816871</td>\n",
       "      <td>2021-01-18</td>\n",
       "      <td>1</td>\n",
       "    </tr>\n",
       "    <tr>\n",
       "      <th>2</th>\n",
       "      <td>1</td>\n",
       "      <td>754.159807</td>\n",
       "      <td>6.232113</td>\n",
       "      <td>2021-04-20</td>\n",
       "      <td>4</td>\n",
       "    </tr>\n",
       "    <tr>\n",
       "      <th>3</th>\n",
       "      <td>1</td>\n",
       "      <td>2694.783254</td>\n",
       "      <td>18.511000</td>\n",
       "      <td>2021-08-11</td>\n",
       "      <td>8</td>\n",
       "    </tr>\n",
       "    <tr>\n",
       "      <th>4</th>\n",
       "      <td>1</td>\n",
       "      <td>4028.687306</td>\n",
       "      <td>26.265803</td>\n",
       "      <td>2021-08-28</td>\n",
       "      <td>8</td>\n",
       "    </tr>\n",
       "  </tbody>\n",
       "</table>\n",
       "</div>"
      ],
      "text/plain": [
       "   user_id     distance   duration       date  month\n",
       "0        1  4409.919140  25.599769 2021-01-01      1\n",
       "1        1  2617.592153  15.816871 2021-01-18      1\n",
       "2        1   754.159807   6.232113 2021-04-20      4\n",
       "3        1  2694.783254  18.511000 2021-08-11      8\n",
       "4        1  4028.687306  26.265803 2021-08-28      8"
      ]
     },
     "execution_count": 27,
     "metadata": {},
     "output_type": "execute_result"
    }
   ],
   "source": [
    "rides.head()"
   ]
  },
  {
   "cell_type": "markdown",
   "id": "54a738a5",
   "metadata": {},
   "source": [
    "Столбец с номером месяца успешно добавлен."
   ]
  },
  {
   "cell_type": "code",
   "execution_count": 29,
   "id": "69203660",
   "metadata": {
    "scrolled": true
   },
   "outputs": [
    {
     "data": {
      "text/plain": [
       "array([ 1,  4,  8, 10, 11, 12,  3,  6,  7,  2,  5,  9])"
      ]
     },
     "execution_count": 29,
     "metadata": {},
     "output_type": "execute_result"
    }
   ],
   "source": [
    "rides['month'].unique()"
   ]
  },
  {
   "cell_type": "markdown",
   "id": "00977b85",
   "metadata": {},
   "source": [
    "Проверим данные за какой период у нас имеются."
   ]
  },
  {
   "cell_type": "code",
   "execution_count": 31,
   "id": "ce32e1b2",
   "metadata": {},
   "outputs": [
    {
     "name": "stdout",
     "output_type": "stream",
     "text": [
      "2021-01-01 00:00:00\n",
      "2021-12-30 00:00:00\n"
     ]
    }
   ],
   "source": [
    "print(rides['date'].min())\n",
    "print(rides['date'].max())"
   ]
  },
  {
   "cell_type": "markdown",
   "id": "44d78d5a",
   "metadata": {},
   "source": [
    "Данные представлены периодом с 1 января по 30 декабря 2021 года."
   ]
  },
  {
   "cell_type": "markdown",
   "id": "c79e80de-b345-4695-9147-fd131609812f",
   "metadata": {},
   "source": [
    "### Обработка дубликатов"
   ]
  },
  {
   "cell_type": "markdown",
   "id": "60a49261",
   "metadata": {},
   "source": [
    "Проверим данные на наличие дубликатов. Начнем с явных дубликатов."
   ]
  },
  {
   "cell_type": "code",
   "execution_count": 35,
   "id": "22fb22e5",
   "metadata": {},
   "outputs": [
    {
     "data": {
      "text/plain": [
       "31"
      ]
     },
     "execution_count": 35,
     "metadata": {},
     "output_type": "execute_result"
    }
   ],
   "source": [
    "users.duplicated().sum()"
   ]
  },
  {
   "cell_type": "markdown",
   "id": "16b6caa2",
   "metadata": {},
   "source": [
    "В таблице users 31 дубликат. Удалим их."
   ]
  },
  {
   "cell_type": "code",
   "execution_count": 37,
   "id": "59051c77",
   "metadata": {},
   "outputs": [
    {
     "name": "stdout",
     "output_type": "stream",
     "text": [
      "Количество записей в таблице users равно 1565, количество дубликатов в таблице равно 31.\n",
      "Соответственно количество записей в таблице после удаления дубликатов должно равняться 1534\n"
     ]
    }
   ],
   "source": [
    "print(f'Количество записей в таблице users равно {len(users)}, количество дубликатов в таблице равно {users.duplicated().sum()}.')\n",
    "print(f'Соответственно количество записей в таблице после удаления дубликатов должно равняться {len(users) - users.duplicated().sum()}')"
   ]
  },
  {
   "cell_type": "code",
   "execution_count": 38,
   "id": "50a4a6e1",
   "metadata": {},
   "outputs": [],
   "source": [
    "#удаляем дубликаты\n",
    "users = users.drop_duplicates().reset_index(drop = True)"
   ]
  },
  {
   "cell_type": "code",
   "execution_count": 39,
   "id": "7a2ba185",
   "metadata": {},
   "outputs": [
    {
     "name": "stdout",
     "output_type": "stream",
     "text": [
      "Количество записей в users после удаления дубликатов составляет 1534\n"
     ]
    }
   ],
   "source": [
    "print(f'Количество записей в users после удаления дубликатов составляет {len(users)}')"
   ]
  },
  {
   "cell_type": "markdown",
   "id": "7e454da4",
   "metadata": {},
   "source": [
    "Дубликаты успешно удалены из таблицы users."
   ]
  },
  {
   "cell_type": "markdown",
   "id": "2af46707",
   "metadata": {},
   "source": [
    "Посмотрим дубликаты из датафрейма rides."
   ]
  },
  {
   "cell_type": "code",
   "execution_count": 42,
   "id": "f3b32595",
   "metadata": {},
   "outputs": [
    {
     "data": {
      "text/plain": [
       "0"
      ]
     },
     "execution_count": 42,
     "metadata": {},
     "output_type": "execute_result"
    }
   ],
   "source": [
    "rides.duplicated().sum()"
   ]
  },
  {
   "cell_type": "markdown",
   "id": "94e4ac5e",
   "metadata": {},
   "source": [
    "Явных дубликатов нет."
   ]
  },
  {
   "cell_type": "markdown",
   "id": "5e8697d0",
   "metadata": {},
   "source": [
    "Таблицу с данными о подписках проверять на дубликаты не будем, т.к. там всего 2 записи. При выводе таблицы на экран выше, можно увидеть, что дубликатов в ней нет."
   ]
  },
  {
   "cell_type": "markdown",
   "id": "e5861d89",
   "metadata": {},
   "source": [
    "Проверим столбцы с категориальными данными на неявные дубликаты."
   ]
  },
  {
   "cell_type": "markdown",
   "id": "dd1706ca",
   "metadata": {},
   "source": [
    "Начнем с данных об именах пользователей."
   ]
  },
  {
   "cell_type": "code",
   "execution_count": 47,
   "id": "d9cb19fc",
   "metadata": {},
   "outputs": [
    {
     "data": {
      "text/plain": [
       "array(['кира', 'станислав', 'алексей', 'константин', 'адель', 'регина',\n",
       "       'игорь', 'юрий', 'ян', 'валерий', 'агата', 'марк', 'ева',\n",
       "       'антонина', 'валерия', 'амалия', 'даниил', 'аделина', 'святогор',\n",
       "       'борис', 'вероника', 'ростислав', 'назар', 'эдуард', 'василий',\n",
       "       'денис', 'тамара', 'николай', 'эвелина', 'федор', 'руслан', 'иван',\n",
       "       'любовь', 'ярослава', 'майя', 'ильдар', 'данила', 'нина',\n",
       "       'стефания', 'ясмина', 'дмитрий', 'александр', 'одиссей', 'арсений',\n",
       "       'алла', 'таисия', 'максим', 'юлиана', 'павел', 'карина', 'алиса',\n",
       "       'лидия', 'рамиль', 'родион', 'ника', 'оксана', 'анастасия',\n",
       "       'маргарита', 'вера', 'тимур', 'никита', 'лев', 'влад', 'артур',\n",
       "       'анна', 'ольга', 'вячеслав', 'ксения', 'виталина', 'владислав',\n",
       "       'тамерлан', 'амина', 'вадим', 'олеся', 'зарина', 'егор', 'гордей',\n",
       "       'лилия', 'святослав', 'роберт', 'амир', 'влада', 'богдан',\n",
       "       'полина', 'марат', 'елисей', 'макар', 'алина', 'глеб', 'андрей',\n",
       "       'альбина', 'людмила', 'марсель', 'милена', 'диана', 'дарина',\n",
       "       'данил', 'артемий', 'лиана', 'альберт', 'герман', 'жанна', 'нелли',\n",
       "       'евгения', 'ариана', 'самира', 'захар', 'эльвира', 'екатерина',\n",
       "       'инна', 'демид', 'яна', 'михаил', 'татьяна', 'степан', 'мелания',\n",
       "       'тимофей', 'ирина', 'анжелика', 'владислава', 'елизавета',\n",
       "       'мадина', 'снежана', 'даниэль', 'рустам', 'каролина', 'ангелина',\n",
       "       'владимир', 'виктория', 'валентина', 'семен', 'арина', 'лариса',\n",
       "       'есения', 'галина', 'кирилл', 'игнат', 'виталий', 'эмилия',\n",
       "       'виолетта', 'яромир', 'софья', 'мирослава', 'евгений', 'варвара',\n",
       "       'платон', 'наталия', 'анатолий', 'кристина', 'всеволод', 'дарья',\n",
       "       'наташа', 'мария', 'марина', 'василиса', 'юлия', 'илья', 'злата',\n",
       "       'роман', 'наталья', 'элина', 'арсен', 'айдар', 'алия', 'виктор',\n",
       "       'мирон', 'ульяна', 'георгий', 'петр', 'эльмира', 'олег', 'дамир',\n",
       "       'самир', 'ярослав', 'камилла', 'сергей', 'эмиль', 'радмир',\n",
       "       'савелий', 'елена', 'антон', 'мирослав', 'софия', 'тихон', 'артём',\n",
       "       'давид', 'григорий', 'алёна', 'светлана', 'леонид', 'александра',\n",
       "       'василина', 'милана', 'матвей'], dtype=object)"
      ]
     },
     "execution_count": 47,
     "metadata": {},
     "output_type": "execute_result"
    }
   ],
   "source": [
    "#приведем данные к нижнему регистру\n",
    "users['name'] = users['name'].str.lower()\n",
    "users['name'].unique()"
   ]
  },
  {
   "cell_type": "markdown",
   "id": "96346f13",
   "metadata": {},
   "source": [
    "Дубликатов нет."
   ]
  },
  {
   "cell_type": "markdown",
   "id": "e93d27b3",
   "metadata": {},
   "source": [
    "Проверим столбец с названиями городов."
   ]
  },
  {
   "cell_type": "code",
   "execution_count": 50,
   "id": "cd77a4e7",
   "metadata": {},
   "outputs": [
    {
     "data": {
      "text/plain": [
       "array(['тюмень', 'омск', 'москва', 'ростов-на-дону', 'краснодар',\n",
       "       'пятигорск', 'екатеринбург', 'сочи'], dtype=object)"
      ]
     },
     "execution_count": 50,
     "metadata": {},
     "output_type": "execute_result"
    }
   ],
   "source": [
    "users['city'] = users['city'].str.lower()\n",
    "users['city'].unique()"
   ]
  },
  {
   "cell_type": "markdown",
   "id": "0b01ec5d",
   "metadata": {},
   "source": [
    "Дубликатов нет."
   ]
  },
  {
   "cell_type": "markdown",
   "id": "dbcffab5",
   "metadata": {},
   "source": [
    "Проверим данные с типом подписки."
   ]
  },
  {
   "cell_type": "code",
   "execution_count": 53,
   "id": "11b0f22e",
   "metadata": {},
   "outputs": [
    {
     "data": {
      "text/plain": [
       "array(['ultra', 'free'], dtype=object)"
      ]
     },
     "execution_count": 53,
     "metadata": {},
     "output_type": "execute_result"
    }
   ],
   "source": [
    "users['subscription_type'].unique()"
   ]
  },
  {
   "cell_type": "markdown",
   "id": "572041a0",
   "metadata": {},
   "source": [
    "Предобработка данных завершена."
   ]
  },
  {
   "cell_type": "markdown",
   "id": "94c3c483",
   "metadata": {},
   "source": [
    "В ходе предобработки данных были внесены следующие корректировки: тип данных в столбце с датой и временем был изменен с текстового на \"datetime64\"; в таблицу rides был добавлен столбец с номером месяца поездки; были удалены дубликаты из датафрейма users, а содержимое столбцов с именами пользователей и названиями городов были приведены к нижнему регистру."
   ]
  },
  {
   "cell_type": "markdown",
   "id": "22b74a63",
   "metadata": {},
   "source": [
    "## Исследовательский анализ данных"
   ]
  },
  {
   "cell_type": "markdown",
   "id": "9e9839fe-daea-4f70-83ba-b37500712e86",
   "metadata": {},
   "source": [
    "### Анализ категориальных данных"
   ]
  },
  {
   "cell_type": "markdown",
   "id": "c11969a5",
   "metadata": {},
   "source": [
    "Визуализируем информацию о частоте встречаемости городов с помощью столбчатой диаграммы."
   ]
  },
  {
   "cell_type": "code",
   "execution_count": 58,
   "id": "1e938415",
   "metadata": {},
   "outputs": [
    {
     "data": {
      "image/png": "[encoded data removed]",
      "text/plain": [
       "<Figure size 700x500 with 1 Axes>"
      ]
     },
     "metadata": {},
     "output_type": "display_data"
    }
   ],
   "source": [
    "# сгруппируем данные по городам и посчитаем количество пользователей в каждом из них.\n",
    "# на основе сгрупированных данных строим график\n",
    "users.groupby('city')['user_id'].count().sort_values(ascending = False).plot(kind = 'bar', figsize = (7,5), fontsize = 12)\n",
    "plt.xlabel('Город')\n",
    "plt.ylabel('Количество пользователей', fontsize = 12)\n",
    "# названия городов написаны вертикально, из-за чего их неудобно читать. Сделаем для удобства текст по диагонали.\n",
    "plt.tick_params(axis = 'x', rotation = 45)\n",
    "plt.title('Количество пользователей в каждом городе', fontsize = 14)\n",
    "plt.show()"
   ]
  },
  {
   "cell_type": "markdown",
   "id": "207fa40b",
   "metadata": {},
   "source": [
    "Из 8 представленных в датафрейме городов, самым популярным оказался Пятигорск, далее идут Екатеринбург и Ростов-на-Дону. Замыкают восьмерку Омск, Тюмень и Москва."
   ]
  },
  {
   "cell_type": "markdown",
   "id": "2b0437a6",
   "metadata": {},
   "source": [
    "Визуализируем данные о соотношении пользователей с подпиской и без с помощью круговой диаграммы."
   ]
  },
  {
   "cell_type": "code",
   "execution_count": 187,
   "id": "69dae53c",
   "metadata": {},
   "outputs": [
    {
     "data": {
      "image/png": "[encoded data removed]",
      "text/plain": [
       "<Figure size 500x500 with 1 Axes>"
      ]
     },
     "metadata": {},
     "output_type": "display_data"
    }
   ],
   "source": [
    "users.groupby('subscription_type')['user_id'].count().plot(kind = 'pie', figsize = (5,5), labels = ['Бесплатная', 'Платная'], autopct = '%1.1f%%', fontsize = 12)\n",
    "plt.ylabel('')\n",
    "plt.title('Соотношение разных типов подписок', fontsize = 16)\n",
    "plt.show()"
   ]
  },
  {
   "cell_type": "markdown",
   "id": "5d97a452",
   "metadata": {},
   "source": [
    "54,4% пользователей используют бесплатную подписку, 45,6% - платную."
   ]
  },
  {
   "cell_type": "markdown",
   "id": "e05624dd-86bc-4914-a0c9-dbbf3d034b49",
   "metadata": {},
   "source": [
    "### Анализ числовых данных"
   ]
  },
  {
   "cell_type": "markdown",
   "id": "2eb9ec2c",
   "metadata": {},
   "source": [
    "Визуализируем данные о возрасте пользователей с помощью гистограммы."
   ]
  },
  {
   "cell_type": "code",
   "execution_count": 64,
   "id": "acdfb625",
   "metadata": {},
   "outputs": [
    {
     "data": {
      "image/png": "[encoded data removed]",
      "text/plain": [
       "<Figure size 500x500 with 1 Axes>"
      ]
     },
     "metadata": {},
     "output_type": "display_data"
    }
   ],
   "source": [
    "users['age'].hist(bins = 20, figsize = (5,5))\n",
    "plt.xlabel('Возраст')\n",
    "plt.ylabel('Количество')\n",
    "plt.title('Количество пользователей разных возрастов')\n",
    "plt.show()"
   ]
  },
  {
   "cell_type": "markdown",
   "id": "1a729476",
   "metadata": {},
   "source": [
    "Как мы видим из графика, сервисом пользуются люди возрастом от ~10 лет до 40+ лет. Наиболее популярен сервис у пользователей 20-30 лет."
   ]
  },
  {
   "cell_type": "markdown",
   "id": "70054a00",
   "metadata": {},
   "source": [
    "Посмотрим данные о расстояниях, которые преодолевают пользователи за одну поездку с помощью гистрограммы."
   ]
  },
  {
   "cell_type": "code",
   "execution_count": 67,
   "id": "8aff2120",
   "metadata": {},
   "outputs": [
    {
     "data": {
      "image/png": "[encoded data removed]",
      "text/plain": [
       "<Figure size 500x500 with 1 Axes>"
      ]
     },
     "metadata": {},
     "output_type": "display_data"
    }
   ],
   "source": [
    "rides['distance'].hist(bins = 50, figsize = (5,5))\n",
    "plt.xlabel('Расстояние, м', fontsize = 14)\n",
    "plt.ylabel('Количество поездок', fontsize = 14)\n",
    "plt.title ('Распределение расстояний поездок', fontsize = 16)\n",
    "plt.show()"
   ]
  },
  {
   "cell_type": "markdown",
   "id": "c86f0025",
   "metadata": {},
   "source": [
    "Мы видим на гистограмме 2 пика распределения. Один большой в районе ~3000 м, другой - маленький, в районе ~500 метров. Первый пик скорее всего связан с короткими поездками до станций метро и остановок общественного транспорта"
   ]
  },
  {
   "cell_type": "markdown",
   "id": "fc92d10c-65c4-4398-bce7-439ac8a75729",
   "metadata": {},
   "source": [
    "Посмотрим распределение времени, которое тратят пользователи на поездки"
   ]
  },
  {
   "cell_type": "code",
   "execution_count": 70,
   "id": "b235a387",
   "metadata": {},
   "outputs": [
    {
     "data": {
      "image/png": "[encoded data removed]",
      "text/plain": [
       "<Figure size 500x500 with 1 Axes>"
      ]
     },
     "metadata": {},
     "output_type": "display_data"
    }
   ],
   "source": [
    "rides['duration'].hist(bins = 50, figsize = (5,5))\n",
    "plt.xlabel('Время поездки, мин')\n",
    "plt.ylabel('Количество поездок')\n",
    "plt.title ('Распределение времени поездок')\n",
    "plt.show()"
   ]
  },
  {
   "cell_type": "markdown",
   "id": "3717a135",
   "metadata": {},
   "source": [
    "Время поездок нормально распределено с центром в районе ~17 минут. В районе нуля наблюдаем пик. Рассмотрим его поближе. "
   ]
  },
  {
   "cell_type": "code",
   "execution_count": 72,
   "id": "43c584d6",
   "metadata": {},
   "outputs": [
    {
     "data": {
      "image/png": "[encoded data removed]",
      "text/plain": [
       "<Figure size 500x500 with 1 Axes>"
      ]
     },
     "metadata": {},
     "output_type": "display_data"
    }
   ],
   "source": [
    "rides['duration'].hist(bins = 50, figsize = (5,5))\n",
    "#ограничим гистограмму временем от 0 до 5 минут\n",
    "plt.xlim(0,5)\n",
    "plt.xlabel('Время поездки, мин')\n",
    "plt.ylabel('Количество поездок')\n",
    "plt.title ('Распределение времени поездок')\n",
    "plt.show()"
   ]
  },
  {
   "cell_type": "markdown",
   "id": "722a2a5b",
   "metadata": {},
   "source": [
    "Пик приходится в районе одной минуты. Рассмотрим эти данные."
   ]
  },
  {
   "cell_type": "code",
   "execution_count": 74,
   "id": "00a28303",
   "metadata": {},
   "outputs": [
    {
     "data": {
      "text/html": [
       "<div>\n",
       "<style scoped>\n",
       "    .dataframe tbody tr th:only-of-type {\n",
       "        vertical-align: middle;\n",
       "    }\n",
       "\n",
       "    .dataframe tbody tr th {\n",
       "        vertical-align: top;\n",
       "    }\n",
       "\n",
       "    .dataframe thead th {\n",
       "        text-align: right;\n",
       "    }\n",
       "</style>\n",
       "<table border=\"1\" class=\"dataframe\">\n",
       "  <thead>\n",
       "    <tr style=\"text-align: right;\">\n",
       "      <th></th>\n",
       "      <th>user_id</th>\n",
       "      <th>distance</th>\n",
       "      <th>duration</th>\n",
       "      <th>date</th>\n",
       "      <th>month</th>\n",
       "    </tr>\n",
       "  </thead>\n",
       "  <tbody>\n",
       "    <tr>\n",
       "      <th>6531</th>\n",
       "      <td>701</td>\n",
       "      <td>4196.445201</td>\n",
       "      <td>0.5</td>\n",
       "      <td>2021-08-31</td>\n",
       "      <td>8</td>\n",
       "    </tr>\n",
       "    <tr>\n",
       "      <th>6570</th>\n",
       "      <td>704</td>\n",
       "      <td>4830.824371</td>\n",
       "      <td>0.5</td>\n",
       "      <td>2021-10-14</td>\n",
       "      <td>10</td>\n",
       "    </tr>\n",
       "    <tr>\n",
       "      <th>6680</th>\n",
       "      <td>712</td>\n",
       "      <td>4684.004397</td>\n",
       "      <td>0.5</td>\n",
       "      <td>2021-03-04</td>\n",
       "      <td>3</td>\n",
       "    </tr>\n",
       "    <tr>\n",
       "      <th>6695</th>\n",
       "      <td>713</td>\n",
       "      <td>5215.642710</td>\n",
       "      <td>0.5</td>\n",
       "      <td>2021-02-25</td>\n",
       "      <td>2</td>\n",
       "    </tr>\n",
       "    <tr>\n",
       "      <th>6768</th>\n",
       "      <td>718</td>\n",
       "      <td>5197.436649</td>\n",
       "      <td>0.5</td>\n",
       "      <td>2021-02-11</td>\n",
       "      <td>2</td>\n",
       "    </tr>\n",
       "    <tr>\n",
       "      <th>...</th>\n",
       "      <td>...</td>\n",
       "      <td>...</td>\n",
       "      <td>...</td>\n",
       "      <td>...</td>\n",
       "      <td>...</td>\n",
       "    </tr>\n",
       "    <tr>\n",
       "      <th>17004</th>\n",
       "      <td>1460</td>\n",
       "      <td>5531.335845</td>\n",
       "      <td>0.5</td>\n",
       "      <td>2021-01-19</td>\n",
       "      <td>1</td>\n",
       "    </tr>\n",
       "    <tr>\n",
       "      <th>17242</th>\n",
       "      <td>1477</td>\n",
       "      <td>6724.932981</td>\n",
       "      <td>0.5</td>\n",
       "      <td>2021-01-12</td>\n",
       "      <td>1</td>\n",
       "    </tr>\n",
       "    <tr>\n",
       "      <th>17314</th>\n",
       "      <td>1483</td>\n",
       "      <td>4445.481070</td>\n",
       "      <td>0.5</td>\n",
       "      <td>2021-03-06</td>\n",
       "      <td>3</td>\n",
       "    </tr>\n",
       "    <tr>\n",
       "      <th>17505</th>\n",
       "      <td>1496</td>\n",
       "      <td>5722.551787</td>\n",
       "      <td>0.5</td>\n",
       "      <td>2021-02-14</td>\n",
       "      <td>2</td>\n",
       "    </tr>\n",
       "    <tr>\n",
       "      <th>17909</th>\n",
       "      <td>1524</td>\n",
       "      <td>4103.998874</td>\n",
       "      <td>0.5</td>\n",
       "      <td>2021-06-18</td>\n",
       "      <td>6</td>\n",
       "    </tr>\n",
       "  </tbody>\n",
       "</table>\n",
       "<p>95 rows × 5 columns</p>\n",
       "</div>"
      ],
      "text/plain": [
       "       user_id     distance  duration       date  month\n",
       "6531       701  4196.445201       0.5 2021-08-31      8\n",
       "6570       704  4830.824371       0.5 2021-10-14     10\n",
       "6680       712  4684.004397       0.5 2021-03-04      3\n",
       "6695       713  5215.642710       0.5 2021-02-25      2\n",
       "6768       718  5197.436649       0.5 2021-02-11      2\n",
       "...        ...          ...       ...        ...    ...\n",
       "17004     1460  5531.335845       0.5 2021-01-19      1\n",
       "17242     1477  6724.932981       0.5 2021-01-12      1\n",
       "17314     1483  4445.481070       0.5 2021-03-06      3\n",
       "17505     1496  5722.551787       0.5 2021-02-14      2\n",
       "17909     1524  4103.998874       0.5 2021-06-18      6\n",
       "\n",
       "[95 rows x 5 columns]"
      ]
     },
     "execution_count": 74,
     "metadata": {},
     "output_type": "execute_result"
    }
   ],
   "source": [
    "rides.query('duration <=1')"
   ]
  },
  {
   "cell_type": "code",
   "execution_count": 75,
   "id": "949745c3-d3a4-41d1-a45a-09b902058e83",
   "metadata": {},
   "outputs": [
    {
     "data": {
      "text/plain": [
       "duration\n",
       "0.5    95\n",
       "Name: count, dtype: int64"
      ]
     },
     "execution_count": 75,
     "metadata": {},
     "output_type": "execute_result"
    }
   ],
   "source": [
    "rides.query('duration <=1')['duration'].value_counts()"
   ]
  },
  {
   "cell_type": "markdown",
   "id": "7f312cf6-468f-4994-bd61-8d4a89fdb234",
   "metadata": {},
   "source": [
    "95 записей со временем 0.5 минут, но при этом на срезе выше мы видим большое расстояние этих поездок.\n",
    "Возможно здесь по ошибке записали 0.5 часов, проверим это."
   ]
  },
  {
   "cell_type": "code",
   "execution_count": 77,
   "id": "013a7b91-f11e-4f60-aab2-24bde8e8e741",
   "metadata": {},
   "outputs": [
    {
     "data": {
      "image/png": "[encoded data removed]",
      "text/plain": [
       "<Figure size 640x480 with 1 Axes>"
      ]
     },
     "metadata": {},
     "output_type": "display_data"
    }
   ],
   "source": [
    "# распределение расстояний поездок в срезе\n",
    "rides.query('duration <=1')['distance'].hist()\n",
    "plt.xlabel('Расстояние')\n",
    "plt.ylabel('Количество поездок')\n",
    "plt.title('Распределение расcтояний поездок для данных с duration = 0.5')\n",
    "plt.show()"
   ]
  },
  {
   "cell_type": "markdown",
   "id": "bd1ca387-022f-415c-ba66-1d4384f29fa3",
   "metadata": {},
   "source": [
    "Длительность поездок в срезе довольно длительная, от 4000 до 7000 м."
   ]
  },
  {
   "cell_type": "markdown",
   "id": "6c08befb-0a65-46b8-84d6-bb03099b3cae",
   "metadata": {},
   "source": [
    "Рассмотрим как распределены длительности поездок для таких расстояний для всего датафрейма."
   ]
  },
  {
   "cell_type": "code",
   "execution_count": 80,
   "id": "a7ea01da-0dd9-46bf-b609-ecc34511f93b",
   "metadata": {},
   "outputs": [
    {
     "data": {
      "image/png": "[encoded data removed]",
      "text/plain": [
       "<Figure size 640x480 with 1 Axes>"
      ]
     },
     "metadata": {},
     "output_type": "display_data"
    }
   ],
   "source": [
    "rides.query('7000 >= distance >= 4000')['duration'].hist() # срез поездок с расстоянием 4000-7000 метров\n",
    "plt.xlabel('Длительность')\n",
    "plt.ylabel('Количество')\n",
    "plt.title('Распределение длительностей поездок с расстоянием 4000-7000 метров')\n",
    "plt.show()"
   ]
  },
  {
   "cell_type": "markdown",
   "id": "720e16f7-d534-4c62-81df-c6493c4f7025",
   "metadata": {},
   "source": [
    "Похоже на то, что под \"0.5\" имелось ввиду \"0.5\" часов, т.к. поездки на такие расстояния действительно занимают примерно такую длительность."
   ]
  },
  {
   "cell_type": "markdown",
   "id": "21ea21ad-dbbb-4a08-9584-9a29a6d23087",
   "metadata": {},
   "source": [
    "Изменим значения \"0.5\" на количество минут. Для точности, можно заполнить длительность в зависимости от расстояния. Для этого сначала рассмотрим есть ли зависимость между временем поездки и длительностью."
   ]
  },
  {
   "cell_type": "code",
   "execution_count": 83,
   "id": "28b047b7-ec74-480d-bcbf-0fd9d9bb9462",
   "metadata": {},
   "outputs": [
    {
     "data": {
      "image/png": "[encoded data removed]",
      "text/plain": [
       "<Figure size 640x480 with 1 Axes>"
      ]
     },
     "metadata": {},
     "output_type": "display_data"
    }
   ],
   "source": [
    "sns.scatterplot(data = rides, x = 'distance', y = 'duration')\n",
    "plt.xlabel('Расстояние, м')\n",
    "plt.ylabel('Длитльность, мин')\n",
    "plt.title('Зависимость между расстоянием поездки и ее длительностью')\n",
    "plt.show()"
   ]
  },
  {
   "cell_type": "markdown",
   "id": "960a2723-0df6-4f87-bb24-db2407a4a54c",
   "metadata": {},
   "source": [
    "На графике видна прямая корреляция расстояния и длительности. В нижне правом углу видны значения, которые мы собираемся заменить. "
   ]
  },
  {
   "cell_type": "markdown",
   "id": "4e584f4b-9358-4c80-b5a6-aaa41065334e",
   "metadata": {},
   "source": [
    "Заменим значения \"0.5\" для расстояния 4000-4500 м медианным значением для данного расстояния, для 4500-5000 м медианным значением для данного расстояния и т.д."
   ]
  },
  {
   "cell_type": "code",
   "execution_count": 86,
   "id": "eee08bff-3094-425a-a0e4-85a4b178163e",
   "metadata": {},
   "outputs": [],
   "source": [
    "distances = np.arange(4000,8000,500)\n",
    "for d in distances:\n",
    "    rides.loc[(rides['distance']>=d) & (rides['distance']<d+500) & (rides['duration'] == 0.5), 'duration']\\\n",
    "= rides.loc[(rides['distance']>d) & (rides['distance']<d+500), 'duration'].median()"
   ]
  },
  {
   "cell_type": "markdown",
   "id": "3fafacb5-b374-4cf7-bc08-489fb3dbcf1f",
   "metadata": {},
   "source": [
    "Визуализируем работу функции"
   ]
  },
  {
   "cell_type": "code",
   "execution_count": 88,
   "id": "4c8e4149-d5da-4d3e-b2db-8dd7ec0fe424",
   "metadata": {},
   "outputs": [
    {
     "data": {
      "image/png": "[encoded data removed]",
      "text/plain": [
       "<Figure size 640x480 with 1 Axes>"
      ]
     },
     "metadata": {},
     "output_type": "display_data"
    }
   ],
   "source": [
    "sns.scatterplot(data = rides, x = 'distance', y = 'duration')\n",
    "plt.xlabel('Расстояние, м')\n",
    "plt.ylabel('Длитльность, мин')\n",
    "plt.title('Зависимость между расстоянием поездки и ее длительностью')\n",
    "plt.show()"
   ]
  },
  {
   "cell_type": "markdown",
   "id": "187100e5-37f1-49c3-9184-810eafa9ff23",
   "metadata": {},
   "source": [
    "Аномальные значения изменены."
   ]
  },
  {
   "cell_type": "markdown",
   "id": "f1e16948-414b-4a86-a1c0-7d35952ee93f",
   "metadata": {},
   "source": [
    "В ходе исследовательского анализа данных определили пользователи из каких городов преобладают на сервисе, долю пользователей  подпиской, посмотрели распределение возрастов, расстояний и длительностей поездок. В поле с длительностью поездок обнаружены аномальные данные которые были заменены."
   ]
  },
  {
   "cell_type": "markdown",
   "id": "a84affef",
   "metadata": {},
   "source": [
    "## Объединение данных"
   ]
  },
  {
   "cell_type": "markdown",
   "id": "c9ae8388-92e2-4e3f-9c3a-58df3d65667b",
   "metadata": {},
   "source": [
    "### Работа с таблицами"
   ]
  },
  {
   "cell_type": "markdown",
   "id": "e9c16ca4",
   "metadata": {},
   "source": [
    "Необходимо объеденить 3 датафрейма в один. Для начала объединим датафреймы users и rides. Затем к объединенному датафрему присоединим таблицу subs."
   ]
  },
  {
   "cell_type": "code",
   "execution_count": 92,
   "id": "8aa5cbec",
   "metadata": {},
   "outputs": [],
   "source": [
    "df = users.merge(rides, on = 'user_id')\n",
    "df = df.merge(subs, on = 'subscription_type')"
   ]
  },
  {
   "cell_type": "markdown",
   "id": "7e8bc77f",
   "metadata": {},
   "source": [
    "Проверяем полученный датафрейм."
   ]
  },
  {
   "cell_type": "code",
   "execution_count": 94,
   "id": "0244a8d4",
   "metadata": {
    "scrolled": true
   },
   "outputs": [
    {
     "name": "stdout",
     "output_type": "stream",
     "text": [
      "<class 'pandas.core.frame.DataFrame'>\n",
      "RangeIndex: 18068 entries, 0 to 18067\n",
      "Data columns (total 12 columns):\n",
      " #   Column             Non-Null Count  Dtype         \n",
      "---  ------             --------------  -----         \n",
      " 0   user_id            18068 non-null  int64         \n",
      " 1   name               18068 non-null  object        \n",
      " 2   age                18068 non-null  int64         \n",
      " 3   city               18068 non-null  object        \n",
      " 4   subscription_type  18068 non-null  object        \n",
      " 5   distance           18068 non-null  float64       \n",
      " 6   duration           18068 non-null  float64       \n",
      " 7   date               18068 non-null  datetime64[ns]\n",
      " 8   month              18068 non-null  int32         \n",
      " 9   minute_price       18068 non-null  int64         \n",
      " 10  start_ride_price   18068 non-null  int64         \n",
      " 11  subscription_fee   18068 non-null  int64         \n",
      "dtypes: datetime64[ns](1), float64(2), int32(1), int64(5), object(3)\n",
      "memory usage: 1.6+ MB\n"
     ]
    },
    {
     "data": {
      "text/html": [
       "<div>\n",
       "<style scoped>\n",
       "    .dataframe tbody tr th:only-of-type {\n",
       "        vertical-align: middle;\n",
       "    }\n",
       "\n",
       "    .dataframe tbody tr th {\n",
       "        vertical-align: top;\n",
       "    }\n",
       "\n",
       "    .dataframe thead th {\n",
       "        text-align: right;\n",
       "    }\n",
       "</style>\n",
       "<table border=\"1\" class=\"dataframe\">\n",
       "  <thead>\n",
       "    <tr style=\"text-align: right;\">\n",
       "      <th></th>\n",
       "      <th>user_id</th>\n",
       "      <th>name</th>\n",
       "      <th>age</th>\n",
       "      <th>city</th>\n",
       "      <th>subscription_type</th>\n",
       "      <th>distance</th>\n",
       "      <th>duration</th>\n",
       "      <th>date</th>\n",
       "      <th>month</th>\n",
       "      <th>minute_price</th>\n",
       "      <th>start_ride_price</th>\n",
       "      <th>subscription_fee</th>\n",
       "    </tr>\n",
       "  </thead>\n",
       "  <tbody>\n",
       "    <tr>\n",
       "      <th>0</th>\n",
       "      <td>1</td>\n",
       "      <td>кира</td>\n",
       "      <td>22</td>\n",
       "      <td>тюмень</td>\n",
       "      <td>ultra</td>\n",
       "      <td>4409.919140</td>\n",
       "      <td>25.599769</td>\n",
       "      <td>2021-01-01</td>\n",
       "      <td>1</td>\n",
       "      <td>6</td>\n",
       "      <td>0</td>\n",
       "      <td>199</td>\n",
       "    </tr>\n",
       "    <tr>\n",
       "      <th>1</th>\n",
       "      <td>1</td>\n",
       "      <td>кира</td>\n",
       "      <td>22</td>\n",
       "      <td>тюмень</td>\n",
       "      <td>ultra</td>\n",
       "      <td>2617.592153</td>\n",
       "      <td>15.816871</td>\n",
       "      <td>2021-01-18</td>\n",
       "      <td>1</td>\n",
       "      <td>6</td>\n",
       "      <td>0</td>\n",
       "      <td>199</td>\n",
       "    </tr>\n",
       "    <tr>\n",
       "      <th>2</th>\n",
       "      <td>1</td>\n",
       "      <td>кира</td>\n",
       "      <td>22</td>\n",
       "      <td>тюмень</td>\n",
       "      <td>ultra</td>\n",
       "      <td>754.159807</td>\n",
       "      <td>6.232113</td>\n",
       "      <td>2021-04-20</td>\n",
       "      <td>4</td>\n",
       "      <td>6</td>\n",
       "      <td>0</td>\n",
       "      <td>199</td>\n",
       "    </tr>\n",
       "    <tr>\n",
       "      <th>3</th>\n",
       "      <td>1</td>\n",
       "      <td>кира</td>\n",
       "      <td>22</td>\n",
       "      <td>тюмень</td>\n",
       "      <td>ultra</td>\n",
       "      <td>2694.783254</td>\n",
       "      <td>18.511000</td>\n",
       "      <td>2021-08-11</td>\n",
       "      <td>8</td>\n",
       "      <td>6</td>\n",
       "      <td>0</td>\n",
       "      <td>199</td>\n",
       "    </tr>\n",
       "    <tr>\n",
       "      <th>4</th>\n",
       "      <td>1</td>\n",
       "      <td>кира</td>\n",
       "      <td>22</td>\n",
       "      <td>тюмень</td>\n",
       "      <td>ultra</td>\n",
       "      <td>4028.687306</td>\n",
       "      <td>26.265803</td>\n",
       "      <td>2021-08-28</td>\n",
       "      <td>8</td>\n",
       "      <td>6</td>\n",
       "      <td>0</td>\n",
       "      <td>199</td>\n",
       "    </tr>\n",
       "  </tbody>\n",
       "</table>\n",
       "</div>"
      ],
      "text/plain": [
       "   user_id  name  age    city subscription_type     distance   duration  \\\n",
       "0        1  кира   22  тюмень             ultra  4409.919140  25.599769   \n",
       "1        1  кира   22  тюмень             ultra  2617.592153  15.816871   \n",
       "2        1  кира   22  тюмень             ultra   754.159807   6.232113   \n",
       "3        1  кира   22  тюмень             ultra  2694.783254  18.511000   \n",
       "4        1  кира   22  тюмень             ultra  4028.687306  26.265803   \n",
       "\n",
       "        date  month  minute_price  start_ride_price  subscription_fee  \n",
       "0 2021-01-01      1             6                 0               199  \n",
       "1 2021-01-18      1             6                 0               199  \n",
       "2 2021-04-20      4             6                 0               199  \n",
       "3 2021-08-11      8             6                 0               199  \n",
       "4 2021-08-28      8             6                 0               199  "
      ]
     },
     "execution_count": 94,
     "metadata": {},
     "output_type": "execute_result"
    }
   ],
   "source": [
    "df.info()\n",
    "df.head()"
   ]
  },
  {
   "cell_type": "markdown",
   "id": "1902b227",
   "metadata": {},
   "source": [
    "Таблицы объединены. Данные не потеряны."
   ]
  },
  {
   "cell_type": "markdown",
   "id": "27a0a653",
   "metadata": {},
   "source": [
    "Далее необходимо разделить полученный датафрейм на 2 отдельных. Один для пользователей с подпиской, другой - без."
   ]
  },
  {
   "cell_type": "code",
   "execution_count": 97,
   "id": "ab8febff",
   "metadata": {},
   "outputs": [],
   "source": [
    "df_ultra = df.query('subscription_type == \"ultra\"')\n",
    "df_free = df.query('subscription_type == \"free\"')"
   ]
  },
  {
   "cell_type": "markdown",
   "id": "cbc561eb",
   "metadata": {},
   "source": [
    "Проверим получившиеся таблицы."
   ]
  },
  {
   "cell_type": "code",
   "execution_count": 99,
   "id": "be7a1fd6",
   "metadata": {},
   "outputs": [
    {
     "name": "stdout",
     "output_type": "stream",
     "text": [
      "<class 'pandas.core.frame.DataFrame'>\n",
      "Index: 6500 entries, 0 to 6499\n",
      "Data columns (total 12 columns):\n",
      " #   Column             Non-Null Count  Dtype         \n",
      "---  ------             --------------  -----         \n",
      " 0   user_id            6500 non-null   int64         \n",
      " 1   name               6500 non-null   object        \n",
      " 2   age                6500 non-null   int64         \n",
      " 3   city               6500 non-null   object        \n",
      " 4   subscription_type  6500 non-null   object        \n",
      " 5   distance           6500 non-null   float64       \n",
      " 6   duration           6500 non-null   float64       \n",
      " 7   date               6500 non-null   datetime64[ns]\n",
      " 8   month              6500 non-null   int32         \n",
      " 9   minute_price       6500 non-null   int64         \n",
      " 10  start_ride_price   6500 non-null   int64         \n",
      " 11  subscription_fee   6500 non-null   int64         \n",
      "dtypes: datetime64[ns](1), float64(2), int32(1), int64(5), object(3)\n",
      "memory usage: 634.8+ KB\n"
     ]
    },
    {
     "data": {
      "text/html": [
       "<div>\n",
       "<style scoped>\n",
       "    .dataframe tbody tr th:only-of-type {\n",
       "        vertical-align: middle;\n",
       "    }\n",
       "\n",
       "    .dataframe tbody tr th {\n",
       "        vertical-align: top;\n",
       "    }\n",
       "\n",
       "    .dataframe thead th {\n",
       "        text-align: right;\n",
       "    }\n",
       "</style>\n",
       "<table border=\"1\" class=\"dataframe\">\n",
       "  <thead>\n",
       "    <tr style=\"text-align: right;\">\n",
       "      <th></th>\n",
       "      <th>user_id</th>\n",
       "      <th>name</th>\n",
       "      <th>age</th>\n",
       "      <th>city</th>\n",
       "      <th>subscription_type</th>\n",
       "      <th>distance</th>\n",
       "      <th>duration</th>\n",
       "      <th>date</th>\n",
       "      <th>month</th>\n",
       "      <th>minute_price</th>\n",
       "      <th>start_ride_price</th>\n",
       "      <th>subscription_fee</th>\n",
       "    </tr>\n",
       "  </thead>\n",
       "  <tbody>\n",
       "    <tr>\n",
       "      <th>0</th>\n",
       "      <td>1</td>\n",
       "      <td>кира</td>\n",
       "      <td>22</td>\n",
       "      <td>тюмень</td>\n",
       "      <td>ultra</td>\n",
       "      <td>4409.919140</td>\n",
       "      <td>25.599769</td>\n",
       "      <td>2021-01-01</td>\n",
       "      <td>1</td>\n",
       "      <td>6</td>\n",
       "      <td>0</td>\n",
       "      <td>199</td>\n",
       "    </tr>\n",
       "    <tr>\n",
       "      <th>1</th>\n",
       "      <td>1</td>\n",
       "      <td>кира</td>\n",
       "      <td>22</td>\n",
       "      <td>тюмень</td>\n",
       "      <td>ultra</td>\n",
       "      <td>2617.592153</td>\n",
       "      <td>15.816871</td>\n",
       "      <td>2021-01-18</td>\n",
       "      <td>1</td>\n",
       "      <td>6</td>\n",
       "      <td>0</td>\n",
       "      <td>199</td>\n",
       "    </tr>\n",
       "    <tr>\n",
       "      <th>2</th>\n",
       "      <td>1</td>\n",
       "      <td>кира</td>\n",
       "      <td>22</td>\n",
       "      <td>тюмень</td>\n",
       "      <td>ultra</td>\n",
       "      <td>754.159807</td>\n",
       "      <td>6.232113</td>\n",
       "      <td>2021-04-20</td>\n",
       "      <td>4</td>\n",
       "      <td>6</td>\n",
       "      <td>0</td>\n",
       "      <td>199</td>\n",
       "    </tr>\n",
       "    <tr>\n",
       "      <th>3</th>\n",
       "      <td>1</td>\n",
       "      <td>кира</td>\n",
       "      <td>22</td>\n",
       "      <td>тюмень</td>\n",
       "      <td>ultra</td>\n",
       "      <td>2694.783254</td>\n",
       "      <td>18.511000</td>\n",
       "      <td>2021-08-11</td>\n",
       "      <td>8</td>\n",
       "      <td>6</td>\n",
       "      <td>0</td>\n",
       "      <td>199</td>\n",
       "    </tr>\n",
       "    <tr>\n",
       "      <th>4</th>\n",
       "      <td>1</td>\n",
       "      <td>кира</td>\n",
       "      <td>22</td>\n",
       "      <td>тюмень</td>\n",
       "      <td>ultra</td>\n",
       "      <td>4028.687306</td>\n",
       "      <td>26.265803</td>\n",
       "      <td>2021-08-28</td>\n",
       "      <td>8</td>\n",
       "      <td>6</td>\n",
       "      <td>0</td>\n",
       "      <td>199</td>\n",
       "    </tr>\n",
       "  </tbody>\n",
       "</table>\n",
       "</div>"
      ],
      "text/plain": [
       "   user_id  name  age    city subscription_type     distance   duration  \\\n",
       "0        1  кира   22  тюмень             ultra  4409.919140  25.599769   \n",
       "1        1  кира   22  тюмень             ultra  2617.592153  15.816871   \n",
       "2        1  кира   22  тюмень             ultra   754.159807   6.232113   \n",
       "3        1  кира   22  тюмень             ultra  2694.783254  18.511000   \n",
       "4        1  кира   22  тюмень             ultra  4028.687306  26.265803   \n",
       "\n",
       "        date  month  minute_price  start_ride_price  subscription_fee  \n",
       "0 2021-01-01      1             6                 0               199  \n",
       "1 2021-01-18      1             6                 0               199  \n",
       "2 2021-04-20      4             6                 0               199  \n",
       "3 2021-08-11      8             6                 0               199  \n",
       "4 2021-08-28      8             6                 0               199  "
      ]
     },
     "execution_count": 99,
     "metadata": {},
     "output_type": "execute_result"
    }
   ],
   "source": [
    "df_ultra.info()\n",
    "df_ultra.head()"
   ]
  },
  {
   "cell_type": "code",
   "execution_count": 100,
   "id": "d7a550b6",
   "metadata": {},
   "outputs": [
    {
     "name": "stdout",
     "output_type": "stream",
     "text": [
      "<class 'pandas.core.frame.DataFrame'>\n",
      "Index: 11568 entries, 6500 to 18067\n",
      "Data columns (total 12 columns):\n",
      " #   Column             Non-Null Count  Dtype         \n",
      "---  ------             --------------  -----         \n",
      " 0   user_id            11568 non-null  int64         \n",
      " 1   name               11568 non-null  object        \n",
      " 2   age                11568 non-null  int64         \n",
      " 3   city               11568 non-null  object        \n",
      " 4   subscription_type  11568 non-null  object        \n",
      " 5   distance           11568 non-null  float64       \n",
      " 6   duration           11568 non-null  float64       \n",
      " 7   date               11568 non-null  datetime64[ns]\n",
      " 8   month              11568 non-null  int32         \n",
      " 9   minute_price       11568 non-null  int64         \n",
      " 10  start_ride_price   11568 non-null  int64         \n",
      " 11  subscription_fee   11568 non-null  int64         \n",
      "dtypes: datetime64[ns](1), float64(2), int32(1), int64(5), object(3)\n",
      "memory usage: 1.1+ MB\n"
     ]
    },
    {
     "data": {
      "text/html": [
       "<div>\n",
       "<style scoped>\n",
       "    .dataframe tbody tr th:only-of-type {\n",
       "        vertical-align: middle;\n",
       "    }\n",
       "\n",
       "    .dataframe tbody tr th {\n",
       "        vertical-align: top;\n",
       "    }\n",
       "\n",
       "    .dataframe thead th {\n",
       "        text-align: right;\n",
       "    }\n",
       "</style>\n",
       "<table border=\"1\" class=\"dataframe\">\n",
       "  <thead>\n",
       "    <tr style=\"text-align: right;\">\n",
       "      <th></th>\n",
       "      <th>user_id</th>\n",
       "      <th>name</th>\n",
       "      <th>age</th>\n",
       "      <th>city</th>\n",
       "      <th>subscription_type</th>\n",
       "      <th>distance</th>\n",
       "      <th>duration</th>\n",
       "      <th>date</th>\n",
       "      <th>month</th>\n",
       "      <th>minute_price</th>\n",
       "      <th>start_ride_price</th>\n",
       "      <th>subscription_fee</th>\n",
       "    </tr>\n",
       "  </thead>\n",
       "  <tbody>\n",
       "    <tr>\n",
       "      <th>6500</th>\n",
       "      <td>700</td>\n",
       "      <td>айдар</td>\n",
       "      <td>22</td>\n",
       "      <td>омск</td>\n",
       "      <td>free</td>\n",
       "      <td>2515.690719</td>\n",
       "      <td>14.944286</td>\n",
       "      <td>2021-01-02</td>\n",
       "      <td>1</td>\n",
       "      <td>8</td>\n",
       "      <td>50</td>\n",
       "      <td>0</td>\n",
       "    </tr>\n",
       "    <tr>\n",
       "      <th>6501</th>\n",
       "      <td>700</td>\n",
       "      <td>айдар</td>\n",
       "      <td>22</td>\n",
       "      <td>омск</td>\n",
       "      <td>free</td>\n",
       "      <td>846.932642</td>\n",
       "      <td>16.234663</td>\n",
       "      <td>2021-02-01</td>\n",
       "      <td>2</td>\n",
       "      <td>8</td>\n",
       "      <td>50</td>\n",
       "      <td>0</td>\n",
       "    </tr>\n",
       "    <tr>\n",
       "      <th>6502</th>\n",
       "      <td>700</td>\n",
       "      <td>айдар</td>\n",
       "      <td>22</td>\n",
       "      <td>омск</td>\n",
       "      <td>free</td>\n",
       "      <td>4004.434142</td>\n",
       "      <td>20.016628</td>\n",
       "      <td>2021-02-04</td>\n",
       "      <td>2</td>\n",
       "      <td>8</td>\n",
       "      <td>50</td>\n",
       "      <td>0</td>\n",
       "    </tr>\n",
       "    <tr>\n",
       "      <th>6503</th>\n",
       "      <td>700</td>\n",
       "      <td>айдар</td>\n",
       "      <td>22</td>\n",
       "      <td>омск</td>\n",
       "      <td>free</td>\n",
       "      <td>1205.911290</td>\n",
       "      <td>9.782872</td>\n",
       "      <td>2021-02-10</td>\n",
       "      <td>2</td>\n",
       "      <td>8</td>\n",
       "      <td>50</td>\n",
       "      <td>0</td>\n",
       "    </tr>\n",
       "    <tr>\n",
       "      <th>6504</th>\n",
       "      <td>700</td>\n",
       "      <td>айдар</td>\n",
       "      <td>22</td>\n",
       "      <td>омск</td>\n",
       "      <td>free</td>\n",
       "      <td>3047.379435</td>\n",
       "      <td>17.427673</td>\n",
       "      <td>2021-02-14</td>\n",
       "      <td>2</td>\n",
       "      <td>8</td>\n",
       "      <td>50</td>\n",
       "      <td>0</td>\n",
       "    </tr>\n",
       "  </tbody>\n",
       "</table>\n",
       "</div>"
      ],
      "text/plain": [
       "      user_id   name  age  city subscription_type     distance   duration  \\\n",
       "6500      700  айдар   22  омск              free  2515.690719  14.944286   \n",
       "6501      700  айдар   22  омск              free   846.932642  16.234663   \n",
       "6502      700  айдар   22  омск              free  4004.434142  20.016628   \n",
       "6503      700  айдар   22  омск              free  1205.911290   9.782872   \n",
       "6504      700  айдар   22  омск              free  3047.379435  17.427673   \n",
       "\n",
       "           date  month  minute_price  start_ride_price  subscription_fee  \n",
       "6500 2021-01-02      1             8                50                 0  \n",
       "6501 2021-02-01      2             8                50                 0  \n",
       "6502 2021-02-04      2             8                50                 0  \n",
       "6503 2021-02-10      2             8                50                 0  \n",
       "6504 2021-02-14      2             8                50                 0  "
      ]
     },
     "execution_count": 100,
     "metadata": {},
     "output_type": "execute_result"
    }
   ],
   "source": [
    "df_free.info()\n",
    "df_free.head()"
   ]
  },
  {
   "cell_type": "code",
   "execution_count": 101,
   "id": "a16e80e5",
   "metadata": {},
   "outputs": [
    {
     "name": "stdout",
     "output_type": "stream",
     "text": [
      "Размер датафрейма df - 18068 строк. В датафреймах df_users и df_free в сумме 18068 строк.\n",
      "Соответственно разделение таблиц прошло без потери данных.\n"
     ]
    }
   ],
   "source": [
    "print(f'Размер датафрейма df - {len(df)} строк. В датафреймах df_users и df_free в сумме {len(df_free)+len(df_ultra)} строк.')\n",
    "print(f'Соответственно разделение таблиц прошло без потери данных.')"
   ]
  },
  {
   "cell_type": "markdown",
   "id": "c2c082d3-4950-49d4-9f7a-7ba21666a6ac",
   "metadata": {},
   "source": [
    "### Визуализация данных"
   ]
  },
  {
   "cell_type": "markdown",
   "id": "6d00e796",
   "metadata": {},
   "source": [
    "Визуализируем данные о расстоянии для пользователей без подписки."
   ]
  },
  {
   "cell_type": "code",
   "execution_count": 103,
   "id": "9c7480bb",
   "metadata": {},
   "outputs": [
    {
     "data": {
      "image/png": "[encoded data removed]",
      "text/plain": [
       "<Figure size 700x500 with 1 Axes>"
      ]
     },
     "metadata": {},
     "output_type": "display_data"
    }
   ],
   "source": [
    "ax = df_free['distance'].hist(bins = 50, figsize = (7,5))\n",
    "df_ultra['distance'].hist(ax=ax, bins = 50, figsize = (7,5))\n",
    "plt.xlabel('Расстояние, м')\n",
    "plt.ylabel('Количество поездок')\n",
    "plt.title ('Распределение расстояний поездок у пользователей')\n",
    "plt.legend(title = 'Категория',labels = ['Без подписки','C подпиской'])\n",
    "plt.show()"
   ]
  },
  {
   "cell_type": "markdown",
   "id": "830c5f7f",
   "metadata": {},
   "source": [
    "У обоих групп пользователей распределение выглядит примерно так же, как и до разделения. На обоих гистограммах видно будто 2 нормальных распределения в одном, и на обоих самый большой пик в районе 3000 метров. Однако пик слева для пользователей без подписки составляет примерно 500 м, а для пользователей с подпиской - 1000 метров."
   ]
  },
  {
   "cell_type": "markdown",
   "id": "6c8f2d2a",
   "metadata": {},
   "source": [
    "Визуализируем информацию о времени поездок для обоих групп пользователей."
   ]
  },
  {
   "cell_type": "code",
   "execution_count": 106,
   "id": "716ea8bd",
   "metadata": {},
   "outputs": [
    {
     "data": {
      "image/png": "[encoded data removed]",
      "text/plain": [
       "<Figure size 700x500 with 1 Axes>"
      ]
     },
     "metadata": {},
     "output_type": "display_data"
    }
   ],
   "source": [
    "ax = df_free['duration'].hist(bins = 50, figsize = (7,5))\n",
    "df_ultra['duration'].hist(ax=ax, bins = 50, figsize = (7,5))\n",
    "plt.xlabel('Длительность, мин')\n",
    "plt.ylabel('Количество')\n",
    "plt.legend(title = 'Категория', labels = ['Без подписки','С подпиской'])\n",
    "plt.title('Распределение длительностей поездок у пользователей')\n",
    "plt.show()"
   ]
  },
  {
   "cell_type": "markdown",
   "id": "865040e9",
   "metadata": {},
   "source": [
    "У обоих групп пользователей гистограмма представлена нормальным распределением с центром в районе 17 минут. Однако у платных пользователей длительность поездок некоторых пользователей доходит до 40+ минут, в отличии от 35 минут у пользователей без подписки."
   ]
  },
  {
   "cell_type": "markdown",
   "id": "d894f2b0",
   "metadata": {},
   "source": [
    "## Подсчёт выручки"
   ]
  },
  {
   "cell_type": "markdown",
   "id": "5e191426",
   "metadata": {},
   "source": [
    "Создадим аггрегированный датафрейм с данными о расстоянии, длительности и количестве поездок для каждого пользователя в каждом месяце.\n",
    "Для этого создадим 2 сводные таблицы. В одной будут агреггированные данные о расстоянии и длительности, в другой - о количестве поездок. Затем мы соединим 2 таблицы."
   ]
  },
  {
   "cell_type": "markdown",
   "id": "a5e9e986",
   "metadata": {},
   "source": [
    "Перед созданием сводной таблицы округлим данные о длительности поездок в исходном датафрейме до следующего целого чиcла"
   ]
  },
  {
   "cell_type": "code",
   "execution_count": 112,
   "id": "232c4c91",
   "metadata": {},
   "outputs": [],
   "source": [
    "# сохраним округленные данные в новом столбце исходного датафрейма\n",
    "df['duration_rounded'] = np.ceil(df['duration'])"
   ]
  },
  {
   "cell_type": "code",
   "execution_count": 113,
   "id": "d8f6bc1b",
   "metadata": {},
   "outputs": [
    {
     "data": {
      "text/html": [
       "<div>\n",
       "<style scoped>\n",
       "    .dataframe tbody tr th:only-of-type {\n",
       "        vertical-align: middle;\n",
       "    }\n",
       "\n",
       "    .dataframe tbody tr th {\n",
       "        vertical-align: top;\n",
       "    }\n",
       "\n",
       "    .dataframe thead th {\n",
       "        text-align: right;\n",
       "    }\n",
       "</style>\n",
       "<table border=\"1\" class=\"dataframe\">\n",
       "  <thead>\n",
       "    <tr style=\"text-align: right;\">\n",
       "      <th></th>\n",
       "      <th>user_id</th>\n",
       "      <th>name</th>\n",
       "      <th>age</th>\n",
       "      <th>city</th>\n",
       "      <th>subscription_type</th>\n",
       "      <th>distance</th>\n",
       "      <th>duration</th>\n",
       "      <th>date</th>\n",
       "      <th>month</th>\n",
       "      <th>minute_price</th>\n",
       "      <th>start_ride_price</th>\n",
       "      <th>subscription_fee</th>\n",
       "      <th>duration_rounded</th>\n",
       "    </tr>\n",
       "  </thead>\n",
       "  <tbody>\n",
       "    <tr>\n",
       "      <th>0</th>\n",
       "      <td>1</td>\n",
       "      <td>кира</td>\n",
       "      <td>22</td>\n",
       "      <td>тюмень</td>\n",
       "      <td>ultra</td>\n",
       "      <td>4409.919140</td>\n",
       "      <td>25.599769</td>\n",
       "      <td>2021-01-01</td>\n",
       "      <td>1</td>\n",
       "      <td>6</td>\n",
       "      <td>0</td>\n",
       "      <td>199</td>\n",
       "      <td>26.0</td>\n",
       "    </tr>\n",
       "    <tr>\n",
       "      <th>1</th>\n",
       "      <td>1</td>\n",
       "      <td>кира</td>\n",
       "      <td>22</td>\n",
       "      <td>тюмень</td>\n",
       "      <td>ultra</td>\n",
       "      <td>2617.592153</td>\n",
       "      <td>15.816871</td>\n",
       "      <td>2021-01-18</td>\n",
       "      <td>1</td>\n",
       "      <td>6</td>\n",
       "      <td>0</td>\n",
       "      <td>199</td>\n",
       "      <td>16.0</td>\n",
       "    </tr>\n",
       "    <tr>\n",
       "      <th>2</th>\n",
       "      <td>1</td>\n",
       "      <td>кира</td>\n",
       "      <td>22</td>\n",
       "      <td>тюмень</td>\n",
       "      <td>ultra</td>\n",
       "      <td>754.159807</td>\n",
       "      <td>6.232113</td>\n",
       "      <td>2021-04-20</td>\n",
       "      <td>4</td>\n",
       "      <td>6</td>\n",
       "      <td>0</td>\n",
       "      <td>199</td>\n",
       "      <td>7.0</td>\n",
       "    </tr>\n",
       "    <tr>\n",
       "      <th>3</th>\n",
       "      <td>1</td>\n",
       "      <td>кира</td>\n",
       "      <td>22</td>\n",
       "      <td>тюмень</td>\n",
       "      <td>ultra</td>\n",
       "      <td>2694.783254</td>\n",
       "      <td>18.511000</td>\n",
       "      <td>2021-08-11</td>\n",
       "      <td>8</td>\n",
       "      <td>6</td>\n",
       "      <td>0</td>\n",
       "      <td>199</td>\n",
       "      <td>19.0</td>\n",
       "    </tr>\n",
       "    <tr>\n",
       "      <th>4</th>\n",
       "      <td>1</td>\n",
       "      <td>кира</td>\n",
       "      <td>22</td>\n",
       "      <td>тюмень</td>\n",
       "      <td>ultra</td>\n",
       "      <td>4028.687306</td>\n",
       "      <td>26.265803</td>\n",
       "      <td>2021-08-28</td>\n",
       "      <td>8</td>\n",
       "      <td>6</td>\n",
       "      <td>0</td>\n",
       "      <td>199</td>\n",
       "      <td>27.0</td>\n",
       "    </tr>\n",
       "  </tbody>\n",
       "</table>\n",
       "</div>"
      ],
      "text/plain": [
       "   user_id  name  age    city subscription_type     distance   duration  \\\n",
       "0        1  кира   22  тюмень             ultra  4409.919140  25.599769   \n",
       "1        1  кира   22  тюмень             ultra  2617.592153  15.816871   \n",
       "2        1  кира   22  тюмень             ultra   754.159807   6.232113   \n",
       "3        1  кира   22  тюмень             ultra  2694.783254  18.511000   \n",
       "4        1  кира   22  тюмень             ultra  4028.687306  26.265803   \n",
       "\n",
       "        date  month  minute_price  start_ride_price  subscription_fee  \\\n",
       "0 2021-01-01      1             6                 0               199   \n",
       "1 2021-01-18      1             6                 0               199   \n",
       "2 2021-04-20      4             6                 0               199   \n",
       "3 2021-08-11      8             6                 0               199   \n",
       "4 2021-08-28      8             6                 0               199   \n",
       "\n",
       "   duration_rounded  \n",
       "0              26.0  \n",
       "1              16.0  \n",
       "2               7.0  \n",
       "3              19.0  \n",
       "4              27.0  "
      ]
     },
     "execution_count": 113,
     "metadata": {},
     "output_type": "execute_result"
    }
   ],
   "source": [
    "# посмотрим работу функции\n",
    "df.head()"
   ]
  },
  {
   "cell_type": "markdown",
   "id": "56dfadf5",
   "metadata": {},
   "source": [
    "Данные успешно округлены"
   ]
  },
  {
   "cell_type": "code",
   "execution_count": 115,
   "id": "2bd81805",
   "metadata": {},
   "outputs": [
    {
     "data": {
      "text/html": [
       "<div>\n",
       "<style scoped>\n",
       "    .dataframe tbody tr th:only-of-type {\n",
       "        vertical-align: middle;\n",
       "    }\n",
       "\n",
       "    .dataframe tbody tr th {\n",
       "        vertical-align: top;\n",
       "    }\n",
       "\n",
       "    .dataframe thead th {\n",
       "        text-align: right;\n",
       "    }\n",
       "</style>\n",
       "<table border=\"1\" class=\"dataframe\">\n",
       "  <thead>\n",
       "    <tr style=\"text-align: right;\">\n",
       "      <th></th>\n",
       "      <th></th>\n",
       "      <th>distance</th>\n",
       "      <th>duration_rounded</th>\n",
       "    </tr>\n",
       "    <tr>\n",
       "      <th>user_id</th>\n",
       "      <th>month</th>\n",
       "      <th></th>\n",
       "      <th></th>\n",
       "    </tr>\n",
       "  </thead>\n",
       "  <tbody>\n",
       "    <tr>\n",
       "      <th rowspan=\"5\" valign=\"top\">1</th>\n",
       "      <th>1</th>\n",
       "      <td>7027.511294</td>\n",
       "      <td>42.0</td>\n",
       "    </tr>\n",
       "    <tr>\n",
       "      <th>4</th>\n",
       "      <td>754.159807</td>\n",
       "      <td>7.0</td>\n",
       "    </tr>\n",
       "    <tr>\n",
       "      <th>8</th>\n",
       "      <td>6723.470560</td>\n",
       "      <td>46.0</td>\n",
       "    </tr>\n",
       "    <tr>\n",
       "      <th>10</th>\n",
       "      <td>5809.911100</td>\n",
       "      <td>32.0</td>\n",
       "    </tr>\n",
       "    <tr>\n",
       "      <th>11</th>\n",
       "      <td>7003.499363</td>\n",
       "      <td>56.0</td>\n",
       "    </tr>\n",
       "    <tr>\n",
       "      <th>...</th>\n",
       "      <th>...</th>\n",
       "      <td>...</td>\n",
       "      <td>...</td>\n",
       "    </tr>\n",
       "    <tr>\n",
       "      <th rowspan=\"5\" valign=\"top\">1534</th>\n",
       "      <th>6</th>\n",
       "      <td>3409.468534</td>\n",
       "      <td>26.0</td>\n",
       "    </tr>\n",
       "    <tr>\n",
       "      <th>8</th>\n",
       "      <td>7622.453034</td>\n",
       "      <td>48.0</td>\n",
       "    </tr>\n",
       "    <tr>\n",
       "      <th>9</th>\n",
       "      <td>4928.173852</td>\n",
       "      <td>23.0</td>\n",
       "    </tr>\n",
       "    <tr>\n",
       "      <th>11</th>\n",
       "      <td>13350.015305</td>\n",
       "      <td>78.0</td>\n",
       "    </tr>\n",
       "    <tr>\n",
       "      <th>12</th>\n",
       "      <td>2371.711192</td>\n",
       "      <td>16.0</td>\n",
       "    </tr>\n",
       "  </tbody>\n",
       "</table>\n",
       "<p>11331 rows × 2 columns</p>\n",
       "</div>"
      ],
      "text/plain": [
       "                   distance  duration_rounded\n",
       "user_id month                                \n",
       "1       1       7027.511294              42.0\n",
       "        4        754.159807               7.0\n",
       "        8       6723.470560              46.0\n",
       "        10      5809.911100              32.0\n",
       "        11      7003.499363              56.0\n",
       "...                     ...               ...\n",
       "1534    6       3409.468534              26.0\n",
       "        8       7622.453034              48.0\n",
       "        9       4928.173852              23.0\n",
       "        11     13350.015305              78.0\n",
       "        12      2371.711192              16.0\n",
       "\n",
       "[11331 rows x 2 columns]"
      ]
     },
     "execution_count": 115,
     "metadata": {},
     "output_type": "execute_result"
    }
   ],
   "source": [
    "# сводная таблица с информацией о длительности и расстоянии поездок каждого пользоватлеля в каждом месяце\n",
    "df_user_by_month1 = df.pivot_table (index = ['user_id','month'], values = ['distance','duration_rounded'], aggfunc = 'sum')\n",
    "df_user_by_month1"
   ]
  },
  {
   "cell_type": "code",
   "execution_count": 116,
   "id": "183e4227",
   "metadata": {},
   "outputs": [
    {
     "data": {
      "text/html": [
       "<div>\n",
       "<style scoped>\n",
       "    .dataframe tbody tr th:only-of-type {\n",
       "        vertical-align: middle;\n",
       "    }\n",
       "\n",
       "    .dataframe tbody tr th {\n",
       "        vertical-align: top;\n",
       "    }\n",
       "\n",
       "    .dataframe thead th {\n",
       "        text-align: right;\n",
       "    }\n",
       "</style>\n",
       "<table border=\"1\" class=\"dataframe\">\n",
       "  <thead>\n",
       "    <tr style=\"text-align: right;\">\n",
       "      <th></th>\n",
       "      <th></th>\n",
       "      <th>rides</th>\n",
       "    </tr>\n",
       "    <tr>\n",
       "      <th>user_id</th>\n",
       "      <th>month</th>\n",
       "      <th></th>\n",
       "    </tr>\n",
       "  </thead>\n",
       "  <tbody>\n",
       "    <tr>\n",
       "      <th rowspan=\"5\" valign=\"top\">1</th>\n",
       "      <th>1</th>\n",
       "      <td>2</td>\n",
       "    </tr>\n",
       "    <tr>\n",
       "      <th>4</th>\n",
       "      <td>1</td>\n",
       "    </tr>\n",
       "    <tr>\n",
       "      <th>8</th>\n",
       "      <td>2</td>\n",
       "    </tr>\n",
       "    <tr>\n",
       "      <th>10</th>\n",
       "      <td>2</td>\n",
       "    </tr>\n",
       "    <tr>\n",
       "      <th>11</th>\n",
       "      <td>3</td>\n",
       "    </tr>\n",
       "    <tr>\n",
       "      <th>...</th>\n",
       "      <th>...</th>\n",
       "      <td>...</td>\n",
       "    </tr>\n",
       "    <tr>\n",
       "      <th rowspan=\"5\" valign=\"top\">1534</th>\n",
       "      <th>6</th>\n",
       "      <td>2</td>\n",
       "    </tr>\n",
       "    <tr>\n",
       "      <th>8</th>\n",
       "      <td>2</td>\n",
       "    </tr>\n",
       "    <tr>\n",
       "      <th>9</th>\n",
       "      <td>1</td>\n",
       "    </tr>\n",
       "    <tr>\n",
       "      <th>11</th>\n",
       "      <td>4</td>\n",
       "    </tr>\n",
       "    <tr>\n",
       "      <th>12</th>\n",
       "      <td>1</td>\n",
       "    </tr>\n",
       "  </tbody>\n",
       "</table>\n",
       "<p>11331 rows × 1 columns</p>\n",
       "</div>"
      ],
      "text/plain": [
       "               rides\n",
       "user_id month       \n",
       "1       1          2\n",
       "        4          1\n",
       "        8          2\n",
       "        10         2\n",
       "        11         3\n",
       "...              ...\n",
       "1534    6          2\n",
       "        8          2\n",
       "        9          1\n",
       "        11         4\n",
       "        12         1\n",
       "\n",
       "[11331 rows x 1 columns]"
      ]
     },
     "execution_count": 116,
     "metadata": {},
     "output_type": "execute_result"
    }
   ],
   "source": [
    "# сводная таблица с количеством поездок для каждого пользователя в каждом месяце\n",
    "df_user_by_month2 = df.pivot_table (index = ['user_id','month'], values = 'distance', aggfunc = 'count')\n",
    "# переименуем столбец с количеством поездок, т.к. метод .join() не позволит нам соединить таблицы,\n",
    "# если в обоих будет столбец с названием \"distance\"\n",
    "df_user_by_month2 = df_user_by_month2.rename(columns = {'distance':'rides'})\n",
    "df_user_by_month2"
   ]
  },
  {
   "cell_type": "code",
   "execution_count": 117,
   "id": "32e3f1f4",
   "metadata": {},
   "outputs": [
    {
     "data": {
      "text/html": [
       "<div>\n",
       "<style scoped>\n",
       "    .dataframe tbody tr th:only-of-type {\n",
       "        vertical-align: middle;\n",
       "    }\n",
       "\n",
       "    .dataframe tbody tr th {\n",
       "        vertical-align: top;\n",
       "    }\n",
       "\n",
       "    .dataframe thead th {\n",
       "        text-align: right;\n",
       "    }\n",
       "</style>\n",
       "<table border=\"1\" class=\"dataframe\">\n",
       "  <thead>\n",
       "    <tr style=\"text-align: right;\">\n",
       "      <th></th>\n",
       "      <th>user_id</th>\n",
       "      <th>month</th>\n",
       "      <th>distance</th>\n",
       "      <th>duration_rounded</th>\n",
       "      <th>rides</th>\n",
       "    </tr>\n",
       "  </thead>\n",
       "  <tbody>\n",
       "    <tr>\n",
       "      <th>0</th>\n",
       "      <td>1</td>\n",
       "      <td>1</td>\n",
       "      <td>7027.511294</td>\n",
       "      <td>42.0</td>\n",
       "      <td>2</td>\n",
       "    </tr>\n",
       "    <tr>\n",
       "      <th>1</th>\n",
       "      <td>1</td>\n",
       "      <td>4</td>\n",
       "      <td>754.159807</td>\n",
       "      <td>7.0</td>\n",
       "      <td>1</td>\n",
       "    </tr>\n",
       "    <tr>\n",
       "      <th>2</th>\n",
       "      <td>1</td>\n",
       "      <td>8</td>\n",
       "      <td>6723.470560</td>\n",
       "      <td>46.0</td>\n",
       "      <td>2</td>\n",
       "    </tr>\n",
       "    <tr>\n",
       "      <th>3</th>\n",
       "      <td>1</td>\n",
       "      <td>10</td>\n",
       "      <td>5809.911100</td>\n",
       "      <td>32.0</td>\n",
       "      <td>2</td>\n",
       "    </tr>\n",
       "    <tr>\n",
       "      <th>4</th>\n",
       "      <td>1</td>\n",
       "      <td>11</td>\n",
       "      <td>7003.499363</td>\n",
       "      <td>56.0</td>\n",
       "      <td>3</td>\n",
       "    </tr>\n",
       "    <tr>\n",
       "      <th>...</th>\n",
       "      <td>...</td>\n",
       "      <td>...</td>\n",
       "      <td>...</td>\n",
       "      <td>...</td>\n",
       "      <td>...</td>\n",
       "    </tr>\n",
       "    <tr>\n",
       "      <th>11326</th>\n",
       "      <td>1534</td>\n",
       "      <td>6</td>\n",
       "      <td>3409.468534</td>\n",
       "      <td>26.0</td>\n",
       "      <td>2</td>\n",
       "    </tr>\n",
       "    <tr>\n",
       "      <th>11327</th>\n",
       "      <td>1534</td>\n",
       "      <td>8</td>\n",
       "      <td>7622.453034</td>\n",
       "      <td>48.0</td>\n",
       "      <td>2</td>\n",
       "    </tr>\n",
       "    <tr>\n",
       "      <th>11328</th>\n",
       "      <td>1534</td>\n",
       "      <td>9</td>\n",
       "      <td>4928.173852</td>\n",
       "      <td>23.0</td>\n",
       "      <td>1</td>\n",
       "    </tr>\n",
       "    <tr>\n",
       "      <th>11329</th>\n",
       "      <td>1534</td>\n",
       "      <td>11</td>\n",
       "      <td>13350.015305</td>\n",
       "      <td>78.0</td>\n",
       "      <td>4</td>\n",
       "    </tr>\n",
       "    <tr>\n",
       "      <th>11330</th>\n",
       "      <td>1534</td>\n",
       "      <td>12</td>\n",
       "      <td>2371.711192</td>\n",
       "      <td>16.0</td>\n",
       "      <td>1</td>\n",
       "    </tr>\n",
       "  </tbody>\n",
       "</table>\n",
       "<p>11331 rows × 5 columns</p>\n",
       "</div>"
      ],
      "text/plain": [
       "       user_id  month      distance  duration_rounded  rides\n",
       "0            1      1   7027.511294              42.0      2\n",
       "1            1      4    754.159807               7.0      1\n",
       "2            1      8   6723.470560              46.0      2\n",
       "3            1     10   5809.911100              32.0      2\n",
       "4            1     11   7003.499363              56.0      3\n",
       "...        ...    ...           ...               ...    ...\n",
       "11326     1534      6   3409.468534              26.0      2\n",
       "11327     1534      8   7622.453034              48.0      2\n",
       "11328     1534      9   4928.173852              23.0      1\n",
       "11329     1534     11  13350.015305              78.0      4\n",
       "11330     1534     12   2371.711192              16.0      1\n",
       "\n",
       "[11331 rows x 5 columns]"
      ]
     },
     "execution_count": 117,
     "metadata": {},
     "output_type": "execute_result"
    }
   ],
   "source": [
    "# соединяем таблицы\n",
    "df_user_by_month = df_user_by_month1.join(df_user_by_month2)\n",
    "df_user_by_month = df_user_by_month.reset_index()\n",
    "df_user_by_month"
   ]
  },
  {
   "cell_type": "markdown",
   "id": "66c524f5",
   "metadata": {},
   "source": [
    "Мы получили таблицу с агреггированными данными о суммарном расстоянии, времени и количестве поездок для каждого пользователя в каждом месяце."
   ]
  },
  {
   "cell_type": "markdown",
   "id": "74da0ddf",
   "metadata": {},
   "source": [
    "Нам необходимо добавить столбец с помесячной выручкой от каждого пользователя. \n",
    "Подсчет выручки отличается в зависимости от типа подписки, это нужно учитывать при расчетах."
   ]
  },
  {
   "cell_type": "markdown",
   "id": "89423596",
   "metadata": {},
   "source": [
    "Создадим датафрейм, который хранит тип подписки каждого пользователя."
   ]
  },
  {
   "cell_type": "code",
   "execution_count": 121,
   "id": "3d1538c5",
   "metadata": {},
   "outputs": [
    {
     "data": {
      "text/html": [
       "<div>\n",
       "<style scoped>\n",
       "    .dataframe tbody tr th:only-of-type {\n",
       "        vertical-align: middle;\n",
       "    }\n",
       "\n",
       "    .dataframe tbody tr th {\n",
       "        vertical-align: top;\n",
       "    }\n",
       "\n",
       "    .dataframe thead th {\n",
       "        text-align: right;\n",
       "    }\n",
       "</style>\n",
       "<table border=\"1\" class=\"dataframe\">\n",
       "  <thead>\n",
       "    <tr style=\"text-align: right;\">\n",
       "      <th></th>\n",
       "      <th>user_id</th>\n",
       "      <th>subscription_type</th>\n",
       "    </tr>\n",
       "  </thead>\n",
       "  <tbody>\n",
       "    <tr>\n",
       "      <th>0</th>\n",
       "      <td>1</td>\n",
       "      <td>ultra</td>\n",
       "    </tr>\n",
       "    <tr>\n",
       "      <th>1</th>\n",
       "      <td>2</td>\n",
       "      <td>ultra</td>\n",
       "    </tr>\n",
       "    <tr>\n",
       "      <th>2</th>\n",
       "      <td>3</td>\n",
       "      <td>ultra</td>\n",
       "    </tr>\n",
       "    <tr>\n",
       "      <th>3</th>\n",
       "      <td>4</td>\n",
       "      <td>ultra</td>\n",
       "    </tr>\n",
       "    <tr>\n",
       "      <th>4</th>\n",
       "      <td>5</td>\n",
       "      <td>ultra</td>\n",
       "    </tr>\n",
       "    <tr>\n",
       "      <th>...</th>\n",
       "      <td>...</td>\n",
       "      <td>...</td>\n",
       "    </tr>\n",
       "    <tr>\n",
       "      <th>1529</th>\n",
       "      <td>1530</td>\n",
       "      <td>free</td>\n",
       "    </tr>\n",
       "    <tr>\n",
       "      <th>1530</th>\n",
       "      <td>1531</td>\n",
       "      <td>free</td>\n",
       "    </tr>\n",
       "    <tr>\n",
       "      <th>1531</th>\n",
       "      <td>1532</td>\n",
       "      <td>free</td>\n",
       "    </tr>\n",
       "    <tr>\n",
       "      <th>1532</th>\n",
       "      <td>1533</td>\n",
       "      <td>free</td>\n",
       "    </tr>\n",
       "    <tr>\n",
       "      <th>1533</th>\n",
       "      <td>1534</td>\n",
       "      <td>free</td>\n",
       "    </tr>\n",
       "  </tbody>\n",
       "</table>\n",
       "<p>1534 rows × 2 columns</p>\n",
       "</div>"
      ],
      "text/plain": [
       "      user_id subscription_type\n",
       "0           1             ultra\n",
       "1           2             ultra\n",
       "2           3             ultra\n",
       "3           4             ultra\n",
       "4           5             ultra\n",
       "...       ...               ...\n",
       "1529     1530              free\n",
       "1530     1531              free\n",
       "1531     1532              free\n",
       "1532     1533              free\n",
       "1533     1534              free\n",
       "\n",
       "[1534 rows x 2 columns]"
      ]
     },
     "execution_count": 121,
     "metadata": {},
     "output_type": "execute_result"
    }
   ],
   "source": [
    "users_and_types = users[['user_id','subscription_type']]\n",
    "users_and_types"
   ]
  },
  {
   "cell_type": "markdown",
   "id": "7f4ee645",
   "metadata": {},
   "source": [
    "Соединим его с агреггированным датафреймом."
   ]
  },
  {
   "cell_type": "code",
   "execution_count": 123,
   "id": "7132df3b",
   "metadata": {},
   "outputs": [
    {
     "data": {
      "text/html": [
       "<div>\n",
       "<style scoped>\n",
       "    .dataframe tbody tr th:only-of-type {\n",
       "        vertical-align: middle;\n",
       "    }\n",
       "\n",
       "    .dataframe tbody tr th {\n",
       "        vertical-align: top;\n",
       "    }\n",
       "\n",
       "    .dataframe thead th {\n",
       "        text-align: right;\n",
       "    }\n",
       "</style>\n",
       "<table border=\"1\" class=\"dataframe\">\n",
       "  <thead>\n",
       "    <tr style=\"text-align: right;\">\n",
       "      <th></th>\n",
       "      <th>user_id</th>\n",
       "      <th>month</th>\n",
       "      <th>distance</th>\n",
       "      <th>duration_rounded</th>\n",
       "      <th>rides</th>\n",
       "      <th>subscription_type</th>\n",
       "    </tr>\n",
       "  </thead>\n",
       "  <tbody>\n",
       "    <tr>\n",
       "      <th>0</th>\n",
       "      <td>1</td>\n",
       "      <td>1</td>\n",
       "      <td>7027.511294</td>\n",
       "      <td>42.0</td>\n",
       "      <td>2</td>\n",
       "      <td>ultra</td>\n",
       "    </tr>\n",
       "    <tr>\n",
       "      <th>1</th>\n",
       "      <td>1</td>\n",
       "      <td>4</td>\n",
       "      <td>754.159807</td>\n",
       "      <td>7.0</td>\n",
       "      <td>1</td>\n",
       "      <td>ultra</td>\n",
       "    </tr>\n",
       "    <tr>\n",
       "      <th>2</th>\n",
       "      <td>1</td>\n",
       "      <td>8</td>\n",
       "      <td>6723.470560</td>\n",
       "      <td>46.0</td>\n",
       "      <td>2</td>\n",
       "      <td>ultra</td>\n",
       "    </tr>\n",
       "    <tr>\n",
       "      <th>3</th>\n",
       "      <td>1</td>\n",
       "      <td>10</td>\n",
       "      <td>5809.911100</td>\n",
       "      <td>32.0</td>\n",
       "      <td>2</td>\n",
       "      <td>ultra</td>\n",
       "    </tr>\n",
       "    <tr>\n",
       "      <th>4</th>\n",
       "      <td>1</td>\n",
       "      <td>11</td>\n",
       "      <td>7003.499363</td>\n",
       "      <td>56.0</td>\n",
       "      <td>3</td>\n",
       "      <td>ultra</td>\n",
       "    </tr>\n",
       "    <tr>\n",
       "      <th>...</th>\n",
       "      <td>...</td>\n",
       "      <td>...</td>\n",
       "      <td>...</td>\n",
       "      <td>...</td>\n",
       "      <td>...</td>\n",
       "      <td>...</td>\n",
       "    </tr>\n",
       "    <tr>\n",
       "      <th>11326</th>\n",
       "      <td>1534</td>\n",
       "      <td>6</td>\n",
       "      <td>3409.468534</td>\n",
       "      <td>26.0</td>\n",
       "      <td>2</td>\n",
       "      <td>free</td>\n",
       "    </tr>\n",
       "    <tr>\n",
       "      <th>11327</th>\n",
       "      <td>1534</td>\n",
       "      <td>8</td>\n",
       "      <td>7622.453034</td>\n",
       "      <td>48.0</td>\n",
       "      <td>2</td>\n",
       "      <td>free</td>\n",
       "    </tr>\n",
       "    <tr>\n",
       "      <th>11328</th>\n",
       "      <td>1534</td>\n",
       "      <td>9</td>\n",
       "      <td>4928.173852</td>\n",
       "      <td>23.0</td>\n",
       "      <td>1</td>\n",
       "      <td>free</td>\n",
       "    </tr>\n",
       "    <tr>\n",
       "      <th>11329</th>\n",
       "      <td>1534</td>\n",
       "      <td>11</td>\n",
       "      <td>13350.015305</td>\n",
       "      <td>78.0</td>\n",
       "      <td>4</td>\n",
       "      <td>free</td>\n",
       "    </tr>\n",
       "    <tr>\n",
       "      <th>11330</th>\n",
       "      <td>1534</td>\n",
       "      <td>12</td>\n",
       "      <td>2371.711192</td>\n",
       "      <td>16.0</td>\n",
       "      <td>1</td>\n",
       "      <td>free</td>\n",
       "    </tr>\n",
       "  </tbody>\n",
       "</table>\n",
       "<p>11331 rows × 6 columns</p>\n",
       "</div>"
      ],
      "text/plain": [
       "       user_id  month      distance  duration_rounded  rides subscription_type\n",
       "0            1      1   7027.511294              42.0      2             ultra\n",
       "1            1      4    754.159807               7.0      1             ultra\n",
       "2            1      8   6723.470560              46.0      2             ultra\n",
       "3            1     10   5809.911100              32.0      2             ultra\n",
       "4            1     11   7003.499363              56.0      3             ultra\n",
       "...        ...    ...           ...               ...    ...               ...\n",
       "11326     1534      6   3409.468534              26.0      2              free\n",
       "11327     1534      8   7622.453034              48.0      2              free\n",
       "11328     1534      9   4928.173852              23.0      1              free\n",
       "11329     1534     11  13350.015305              78.0      4              free\n",
       "11330     1534     12   2371.711192              16.0      1              free\n",
       "\n",
       "[11331 rows x 6 columns]"
      ]
     },
     "execution_count": 123,
     "metadata": {},
     "output_type": "execute_result"
    }
   ],
   "source": [
    "df_user_by_month = df_user_by_month.merge(users_and_types, on = 'user_id')\n",
    "df_user_by_month"
   ]
  },
  {
   "cell_type": "markdown",
   "id": "61a23450",
   "metadata": {},
   "source": [
    "Теперь в таблице df_user_by_month есть информация о типе подписки каждого пользователя. Исходя из этого, а также из данных о количестве поездок и расстоянии, которое каждый пользователь преодолел за месяц, можно посчитать ежемесячную выручку."
   ]
  },
  {
   "cell_type": "code",
   "execution_count": 125,
   "id": "03ac54b3",
   "metadata": {},
   "outputs": [],
   "source": [
    "# создаем функцию, которая при наличии у пользователя подписки, суммирует абонентскую плату и произведение длительности \n",
    "# на стоимость 1 минуты, а при отсутсвии подписки суммирует произведение количества поездок на стоимость старта и произведение\n",
    "# длительности на стоимость 1 минуты\n",
    "\n",
    "def counting_revenue(row):\n",
    "    duration = row['duration_rounded']\n",
    "    rides = row['rides']\n",
    "    sub_type = row['subscription_type']\n",
    "    if sub_type == 'ultra':\n",
    "        return 199 + duration*6\n",
    "    else: \n",
    "# стоимость минуты без подписки составляет 8 рублей, а не 6\n",
    "        return rides*50 + duration*8"
   ]
  },
  {
   "cell_type": "code",
   "execution_count": 126,
   "id": "be1d7ce3",
   "metadata": {},
   "outputs": [
    {
     "data": {
      "text/html": [
       "<div>\n",
       "<style scoped>\n",
       "    .dataframe tbody tr th:only-of-type {\n",
       "        vertical-align: middle;\n",
       "    }\n",
       "\n",
       "    .dataframe tbody tr th {\n",
       "        vertical-align: top;\n",
       "    }\n",
       "\n",
       "    .dataframe thead th {\n",
       "        text-align: right;\n",
       "    }\n",
       "</style>\n",
       "<table border=\"1\" class=\"dataframe\">\n",
       "  <thead>\n",
       "    <tr style=\"text-align: right;\">\n",
       "      <th></th>\n",
       "      <th>user_id</th>\n",
       "      <th>month</th>\n",
       "      <th>distance</th>\n",
       "      <th>duration_rounded</th>\n",
       "      <th>rides</th>\n",
       "      <th>subscription_type</th>\n",
       "      <th>revenue</th>\n",
       "    </tr>\n",
       "  </thead>\n",
       "  <tbody>\n",
       "    <tr>\n",
       "      <th>0</th>\n",
       "      <td>1</td>\n",
       "      <td>1</td>\n",
       "      <td>7027.511294</td>\n",
       "      <td>42.0</td>\n",
       "      <td>2</td>\n",
       "      <td>ultra</td>\n",
       "      <td>451.0</td>\n",
       "    </tr>\n",
       "    <tr>\n",
       "      <th>1</th>\n",
       "      <td>1</td>\n",
       "      <td>4</td>\n",
       "      <td>754.159807</td>\n",
       "      <td>7.0</td>\n",
       "      <td>1</td>\n",
       "      <td>ultra</td>\n",
       "      <td>241.0</td>\n",
       "    </tr>\n",
       "    <tr>\n",
       "      <th>2</th>\n",
       "      <td>1</td>\n",
       "      <td>8</td>\n",
       "      <td>6723.470560</td>\n",
       "      <td>46.0</td>\n",
       "      <td>2</td>\n",
       "      <td>ultra</td>\n",
       "      <td>475.0</td>\n",
       "    </tr>\n",
       "    <tr>\n",
       "      <th>3</th>\n",
       "      <td>1</td>\n",
       "      <td>10</td>\n",
       "      <td>5809.911100</td>\n",
       "      <td>32.0</td>\n",
       "      <td>2</td>\n",
       "      <td>ultra</td>\n",
       "      <td>391.0</td>\n",
       "    </tr>\n",
       "    <tr>\n",
       "      <th>4</th>\n",
       "      <td>1</td>\n",
       "      <td>11</td>\n",
       "      <td>7003.499363</td>\n",
       "      <td>56.0</td>\n",
       "      <td>3</td>\n",
       "      <td>ultra</td>\n",
       "      <td>535.0</td>\n",
       "    </tr>\n",
       "    <tr>\n",
       "      <th>...</th>\n",
       "      <td>...</td>\n",
       "      <td>...</td>\n",
       "      <td>...</td>\n",
       "      <td>...</td>\n",
       "      <td>...</td>\n",
       "      <td>...</td>\n",
       "      <td>...</td>\n",
       "    </tr>\n",
       "    <tr>\n",
       "      <th>11326</th>\n",
       "      <td>1534</td>\n",
       "      <td>6</td>\n",
       "      <td>3409.468534</td>\n",
       "      <td>26.0</td>\n",
       "      <td>2</td>\n",
       "      <td>free</td>\n",
       "      <td>308.0</td>\n",
       "    </tr>\n",
       "    <tr>\n",
       "      <th>11327</th>\n",
       "      <td>1534</td>\n",
       "      <td>8</td>\n",
       "      <td>7622.453034</td>\n",
       "      <td>48.0</td>\n",
       "      <td>2</td>\n",
       "      <td>free</td>\n",
       "      <td>484.0</td>\n",
       "    </tr>\n",
       "    <tr>\n",
       "      <th>11328</th>\n",
       "      <td>1534</td>\n",
       "      <td>9</td>\n",
       "      <td>4928.173852</td>\n",
       "      <td>23.0</td>\n",
       "      <td>1</td>\n",
       "      <td>free</td>\n",
       "      <td>234.0</td>\n",
       "    </tr>\n",
       "    <tr>\n",
       "      <th>11329</th>\n",
       "      <td>1534</td>\n",
       "      <td>11</td>\n",
       "      <td>13350.015305</td>\n",
       "      <td>78.0</td>\n",
       "      <td>4</td>\n",
       "      <td>free</td>\n",
       "      <td>824.0</td>\n",
       "    </tr>\n",
       "    <tr>\n",
       "      <th>11330</th>\n",
       "      <td>1534</td>\n",
       "      <td>12</td>\n",
       "      <td>2371.711192</td>\n",
       "      <td>16.0</td>\n",
       "      <td>1</td>\n",
       "      <td>free</td>\n",
       "      <td>178.0</td>\n",
       "    </tr>\n",
       "  </tbody>\n",
       "</table>\n",
       "<p>11331 rows × 7 columns</p>\n",
       "</div>"
      ],
      "text/plain": [
       "       user_id  month      distance  duration_rounded  rides  \\\n",
       "0            1      1   7027.511294              42.0      2   \n",
       "1            1      4    754.159807               7.0      1   \n",
       "2            1      8   6723.470560              46.0      2   \n",
       "3            1     10   5809.911100              32.0      2   \n",
       "4            1     11   7003.499363              56.0      3   \n",
       "...        ...    ...           ...               ...    ...   \n",
       "11326     1534      6   3409.468534              26.0      2   \n",
       "11327     1534      8   7622.453034              48.0      2   \n",
       "11328     1534      9   4928.173852              23.0      1   \n",
       "11329     1534     11  13350.015305              78.0      4   \n",
       "11330     1534     12   2371.711192              16.0      1   \n",
       "\n",
       "      subscription_type  revenue  \n",
       "0                 ultra    451.0  \n",
       "1                 ultra    241.0  \n",
       "2                 ultra    475.0  \n",
       "3                 ultra    391.0  \n",
       "4                 ultra    535.0  \n",
       "...                 ...      ...  \n",
       "11326              free    308.0  \n",
       "11327              free    484.0  \n",
       "11328              free    234.0  \n",
       "11329              free    824.0  \n",
       "11330              free    178.0  \n",
       "\n",
       "[11331 rows x 7 columns]"
      ]
     },
     "execution_count": 126,
     "metadata": {},
     "output_type": "execute_result"
    }
   ],
   "source": [
    "# применяем функцию\n",
    "df_user_by_month['revenue'] = df_user_by_month.apply(counting_revenue, axis = 1)\n",
    "df_user_by_month"
   ]
  },
  {
   "cell_type": "markdown",
   "id": "7436dacb",
   "metadata": {},
   "source": [
    "Готово. Мы получили столбец с прибылью от каждого пользователя в каждом месяце."
   ]
  },
  {
   "cell_type": "markdown",
   "id": "d580a0cb",
   "metadata": {},
   "source": [
    "## Проверка гипотез"
   ]
  },
  {
   "cell_type": "markdown",
   "id": "114fef50-74df-4e68-aa1d-1fbb7cf87d91",
   "metadata": {},
   "source": [
    "### Гипотеза о равенстве среднего времени поездки"
   ]
  },
  {
   "cell_type": "markdown",
   "id": "c687dc95-c443-487c-80e4-0531b7a94ecd",
   "metadata": {},
   "source": [
    "Проверим гипотезу о том, что пользователи с подпиской тратят больше времени на поездки.\n",
    "Это пример гипотезы о равенстве средних двух генеральных совокупностей. Можно использовать в качестве проверки статистический тест с использованием t-распределения Стьюдента (t-тест), однако чтобы его применить, выборки должны соответствовать нескольким критериям.\n",
    "\n",
    "1. Независимость выборок\n",
    "2. Распределения должны быть нормальными\n",
    "3. Отсутствие выбросов\n",
    "\n",
    "Также перед проведением теста нужно проверить размер выборок и их дисперсии для параметра \"equal_var\"."
   ]
  },
  {
   "cell_type": "markdown",
   "id": "8c19595d-0486-4fe8-ab33-7388b5cc8537",
   "metadata": {},
   "source": [
    "Значения выборок не зависят друг от друга во времени, соответствнно они независимы. Распределения являются нормальными и выбросов нет (визуализировали в пункте 4), соответственно выборки пригодны для проведения t-теста."
   ]
  },
  {
   "cell_type": "markdown",
   "id": "55388779-a936-462c-9be2-a6ea2165bd4b",
   "metadata": {},
   "source": [
    "Проверим количество значений в каждой выборке."
   ]
  },
  {
   "cell_type": "code",
   "execution_count": 133,
   "id": "c8760f3d-6348-4fd5-a138-cf7f62447ced",
   "metadata": {},
   "outputs": [
    {
     "name": "stdout",
     "output_type": "stream",
     "text": [
      "Количество значений в выборке с подпиской: 6500, без подписки - 11568\n",
      "Дисперсия в выборке с подпиской равна 31.05, в выборке без подписки - 37.89\n"
     ]
    }
   ],
   "source": [
    "print(f'Количество значений в выборке с подпиской: {len(df_ultra['duration'])}, без подписки - {len(df_free['duration'])}')\n",
    "print(f'Дисперсия в выборке с подпиской равна {round(df_ultra['duration'].var(),2)}, в выборке без подписки - {round(df_free['duration'].var(),2)}')"
   ]
  },
  {
   "cell_type": "markdown",
   "id": "17864c85-7cc2-4e9a-b1d2-392e505f554d",
   "metadata": {},
   "source": [
    "Количество значений в выборках заметно отличается, при проведении теста в параметрах нужно будет указать \"equal_var = False\""
   ]
  },
  {
   "cell_type": "markdown",
   "id": "8f062e5f",
   "metadata": {},
   "source": [
    "СФормулируем гипотезы\n",
    "\n",
    "\n",
    "Нулевая гипотеза: пользователи с подпиской тратят в среднем столько же времени на поездки, сколько пользователи без подписки.\n",
    "\n",
    "Альтернативная гипотеза: пользователи с подпиской тратят на поездки больше времени."
   ]
  },
  {
   "cell_type": "code",
   "execution_count": 136,
   "id": "6571f406",
   "metadata": {},
   "outputs": [
    {
     "name": "stdout",
     "output_type": "stream",
     "text": [
      "p-value равно 2.0071546728645324e-27\n",
      "Отвергаем нулевую гипотезу\n"
     ]
    }
   ],
   "source": [
    "# устанавливаем уровень статистической значимости в 5%\n",
    "alpha = 0.05\n",
    "# устанавливаем параметр equal_var = False, т.к. размеры выборок разные. В параметре \"alternative\"\n",
    "# указываем \"greater\", т.к. альтернативная теория правостороняя\n",
    "results = st.ttest_ind(df_ultra['duration'],df_free['duration'], equal_var = False, alternative = 'greater')\n",
    "print(f'p-value равно {results.pvalue}')\n",
    "if results.pvalue < alpha:\n",
    "    print('Отвергаем нулевую гипотезу')\n",
    "else:\n",
    "    print('Нет оснований отвергнуть нулевую гипотезу')"
   ]
  },
  {
   "cell_type": "markdown",
   "id": "d981d90d",
   "metadata": {},
   "source": [
    "Гипотезу о равенстве времени поездок для двух групп пользователей отвергаем. Похоже на то, что пользователи с подпиской действительно в среднем больше тратят времени на поездки."
   ]
  },
  {
   "cell_type": "markdown",
   "id": "895f8867-4a56-458a-9b7e-b0f172ffd5e3",
   "metadata": {},
   "source": [
    "### Гипотеза о равенстве среднего расстояния поездки некоторому числу"
   ]
  },
  {
   "cell_type": "markdown",
   "id": "bb6831d6-754a-4698-a0d8-4a0af8a258a1",
   "metadata": {},
   "source": [
    "Проверим гипотезу о том, что среднее расстояние, которое проезжают пользователи с подпиской, не превышает 3130 метров.\n",
    "Это пример односторонней гипотезы о равенстве среднего генеральной совокупности некоторому значению."
   ]
  },
  {
   "cell_type": "markdown",
   "id": "bb35e3e6-b6d5-43e8-9b93-7d713f0d8910",
   "metadata": {},
   "source": [
    "Данные в выборке независимы.\n",
    "\n",
    "Для данного теста выборка должна быть нормально распределена. Она уже была визуализирована в пункте 4. На ней можно видеть 2 пика, но поскольку в выборке достаточное количество значений, это не должно быть препятствием благодаря центральной предельной теореме.\n",
    "\n",
    "Выбросы в выборке также отсутствуют."
   ]
  },
  {
   "cell_type": "code",
   "execution_count": 141,
   "id": "b0847b0e-fd78-4e42-8349-f0251f2a9be1",
   "metadata": {},
   "outputs": [
    {
     "name": "stdout",
     "output_type": "stream",
     "text": [
      "Количество значений в выборке: 6500\n"
     ]
    }
   ],
   "source": [
    "print(f'Количество значений в выборке: {len(df_ultra['distance'])}')"
   ]
  },
  {
   "cell_type": "markdown",
   "id": "a242daab",
   "metadata": {},
   "source": [
    "Сформулируем гипотезы\n",
    "\n",
    "Нулевая гипотеза: среднее расстояние, которую проезжает пользователь с подпиской, меньше или равна 3130 метрам.\n",
    "\n",
    "Альтернативная гипотеза: среднее расстояние превышает 3130 метров."
   ]
  },
  {
   "cell_type": "code",
   "execution_count": 143,
   "id": "8c06c7e6",
   "metadata": {},
   "outputs": [
    {
     "name": "stdout",
     "output_type": "stream",
     "text": [
      "p-value равно 0.9195368847849785\n",
      "Нет оснований отвергнуть нулевую гипотезу\n"
     ]
    }
   ],
   "source": [
    "alpha = 0.05\n",
    "results = st.ttest_1samp(df_ultra['distance'], 3130, alternative = 'greater')\n",
    "print(f'p-value равно {results.pvalue}')\n",
    "if results.pvalue < alpha:\n",
    "    print('Отвергаем нулевую гипотезу')\n",
    "else:\n",
    "    print('Нет оснований отвергнуть нулевую гипотезу')"
   ]
  },
  {
   "cell_type": "markdown",
   "id": "cc78126f",
   "metadata": {},
   "source": [
    "Гипотеза о том, что платящие пользователи в среднем преодолевают расстояние меньшее или равное 3130 метрам, вполне правдоподобно. Мы ее не отвергаем (но и не подтверждаем)."
   ]
  },
  {
   "cell_type": "markdown",
   "id": "ad574d77-7b9e-4263-8511-fb7bc818f97a",
   "metadata": {},
   "source": [
    "### Гипотеза о равенстве помесячной выручки"
   ]
  },
  {
   "cell_type": "markdown",
   "id": "683c550e",
   "metadata": {},
   "source": [
    "Проверим гипотезу о том, будет ли помесячная выручка от пользователей с подпиской по месяцам выше, чем выручка от пользователей без подписки. Это пример односторонней гипотезы о равенстве средних 2-х генеральных совокупностей."
   ]
  },
  {
   "cell_type": "markdown",
   "id": "4d2b18f0-9282-403a-ac73-15b411965226",
   "metadata": {},
   "source": [
    "Сформируем выборки и проверим распределения."
   ]
  },
  {
   "cell_type": "code",
   "execution_count": 148,
   "id": "69183400",
   "metadata": {},
   "outputs": [],
   "source": [
    "# сохраним данные о помесячной выручке каждой группы в отдельные переменные\n",
    "ultra_revenue = df_user_by_month.query('subscription_type == \"ultra\"')['revenue']\n",
    "free_revenue = df_user_by_month.query('subscription_type == \"free\"')['revenue']"
   ]
  },
  {
   "cell_type": "code",
   "execution_count": 149,
   "id": "3ee2592b-2a38-4a16-83ad-90e41ea1fad8",
   "metadata": {},
   "outputs": [
    {
     "data": {
      "image/png": "[encoded data removed]",
      "text/plain": [
       "<Figure size 900x400 with 2 Axes>"
      ]
     },
     "metadata": {},
     "output_type": "display_data"
    }
   ],
   "source": [
    "fig, axs = plt.subplots(1,2,figsize = (9,4) )\n",
    "sns.histplot(data = ultra_revenue, ax = axs[0], bins = 50, kde = True)\n",
    "sns.histplot(data = free_revenue, ax = axs[1], bins = 50, kde = True)\n",
    "for ax in axs.flat:\n",
    "    ax.set(xlabel = 'Выручка', ylabel = 'Количество')\n",
    "axs[0].set_title('Пользователи с подпиской')\n",
    "axs[0].set_title('Пользователи без подписки')  \n",
    "fig.suptitle('Распределение помесячной выручки')\n",
    "plt.tight_layout()\n",
    "plt.show()"
   ]
  },
  {
   "cell_type": "markdown",
   "id": "9ee58b92-89b1-4d4f-919a-6a0de82f6289",
   "metadata": {},
   "source": [
    "В выборках есть выбросы. Нужно их отфильтровать. Посмотрим на 95, 97,5 и 99-й перцентили обоих выборок."
   ]
  },
  {
   "cell_type": "code",
   "execution_count": 151,
   "id": "67bef7fc-eefc-46a1-8d04-8dbbd61e3a73",
   "metadata": {},
   "outputs": [
    {
     "name": "stdout",
     "output_type": "stream",
     "text": [
      "[541.   583.   671.08]\n",
      "[694. 792. 944.]\n"
     ]
    }
   ],
   "source": [
    "print(np.percentile(ultra_revenue,[95,97.5,99]))\n",
    "print(np.percentile(free_revenue,[95,97.5,99]))"
   ]
  },
  {
   "cell_type": "markdown",
   "id": "4e1ab240-2619-4988-a39e-9455d0e537af",
   "metadata": {},
   "source": [
    "Отфильтруем обе выборки по 97.5 перцентилю."
   ]
  },
  {
   "cell_type": "code",
   "execution_count": 153,
   "id": "705d359a-77e7-49e5-9104-34281d32c7d7",
   "metadata": {},
   "outputs": [],
   "source": [
    "ultra_revenue = ultra_revenue[ultra_revenue <= np.percentile(ultra_revenue,97.5)]\n",
    "free_revenue = free_revenue[free_revenue <= np.percentile(free_revenue,97.5)]"
   ]
  },
  {
   "cell_type": "markdown",
   "id": "a5adcf7f-fbfa-4d06-ab52-700c6b8f5ed7",
   "metadata": {},
   "source": [
    "Визуализируем отфильтрованные выборки."
   ]
  },
  {
   "cell_type": "code",
   "execution_count": 166,
   "id": "b9243c6a-fe91-4f16-929f-571c44b9c6c5",
   "metadata": {},
   "outputs": [
    {
     "data": {
      "image/png": "[encoded data removed]",
      "text/plain": [
       "<Figure size 900x400 with 2 Axes>"
      ]
     },
     "metadata": {},
     "output_type": "display_data"
    }
   ],
   "source": [
    "fig, axs = plt.subplots(1,2,figsize = (9,4) )\n",
    "sns.histplot(data = ultra_revenue, ax = axs[0], bins = 50, kde = True)\n",
    "sns.histplot(data = free_revenue, ax = axs[1], bins = 50, kde = True)\n",
    "for ax in axs.flat:\n",
    "    ax.set(xlabel = 'Выручка', ylabel = 'Количество')\n",
    "axs[0].set_title('Пользователи с подпиской')\n",
    "axs[0].set_title('Пользователи без подписки')  \n",
    "fig.suptitle('Распределение помесячной выручки')\n",
    "plt.tight_layout()\n",
    "plt.show()"
   ]
  },
  {
   "cell_type": "code",
   "execution_count": 168,
   "id": "247197a9-e02c-4884-a6ae-d3bf2fc9327d",
   "metadata": {},
   "outputs": [
    {
     "name": "stdout",
     "output_type": "stream",
     "text": [
      "Количество значений в выборке ultra_revenue: 4422, дисперсия равна 5507.87\n",
      "Количество значений в выборке free_revenue: 6632, дисперсия равна 25069.43\n"
     ]
    }
   ],
   "source": [
    "print(f'Количество значений в выборке ultra_revenue: {len(ultra_revenue)}, дисперсия равна {round(ultra_revenue.var(),2)}')\n",
    "print(f'Количество значений в выборке free_revenue: {len(free_revenue)}, дисперсия равна {round(free_revenue.var(),2)}')"
   ]
  },
  {
   "cell_type": "markdown",
   "id": "5991a6bc-7c0a-44de-8571-22207ab1d92f",
   "metadata": {},
   "source": [
    "От выбросов избавились. Выборки не распределены нормально, но значений достаточно, чтобы этим пренебречь.\n",
    "\n",
    "Поскольку количество значений в выборках значительно отличается друг от друга и выборки имеют разные дисперсии, необходимо использовать параметр \"equal_var = False\""
   ]
  },
  {
   "cell_type": "code",
   "execution_count": 154,
   "id": "23136064",
   "metadata": {},
   "outputs": [
    {
     "name": "stdout",
     "output_type": "stream",
     "text": [
      "p-value равно 7.0417855436068455e-68\n",
      "Отвергаем нулевую гипотезу\n"
     ]
    }
   ],
   "source": [
    "alpha = 0.05\n",
    "results = st.ttest_ind(ultra_revenue,free_revenue,equal_var = False, alternative = 'greater')\n",
    "print(f'p-value равно {results.pvalue}')\n",
    "if results.pvalue < alpha:\n",
    "    print('Отвергаем нулевую гипотезу')\n",
    "else:\n",
    "    print('Нет оснований отвергнуть нулевую гипотезу')"
   ]
  },
  {
   "cell_type": "markdown",
   "id": "1966a032",
   "metadata": {},
   "source": [
    "Отвергаем гипотезу о том, что прибыль от подписчиков и неподписчиков равна. Вероятно подписчики более выгодны сервису, как и предполагалось продакт-менеджерами."
   ]
  },
  {
   "cell_type": "markdown",
   "id": "8c8f92d7-0a80-416f-90a8-45c1964b3bef",
   "metadata": {},
   "source": [
    "## Вывод"
   ]
  },
  {
   "cell_type": "markdown",
   "id": "970adad9",
   "metadata": {},
   "source": [
    "В ходе работы была выполнена предобработка исходных данных: удаление дубликатов, добавление новых столбцов и изменение типа данных в некоторых исходных столбцах. 3 исходных файла были объединены в один датафрейм. Сгруппировали данные о расстоянии и длительности поездок каждого пользователя по месяцам. Вычислили помесячную выручку каждого пользователя.\n",
    "\n",
    "Выяснили, что сервисом пользуются в 8 городах. Наиболее популярный из них - Пятигорск. Платной подпиской обладают 46% пользователей. Средний возраст пользователей составляет 20-30 лет. Среднее время поездки равно 15-20 минут, а среднее расстояние - 3000 метров. Проверили гипотезы о том, что пользователи с подпиской в среднем дольше пользуются самокатом, среднее расстояние их поездки не превышает 3130 метров и они приносят больше прибыли, чем пользователи без подписки. \n",
    "\n",
    "Статистический анализ показал, что в представленной выборке пользователи, платящие ежемесячную абонентскую плату за сервис, более выгодны компании, т.к. тратят больше времени на поездки и средняя ежемесячная выручка от них выше, чем от пользователей без платной подписки на сервис.    "
   ]
  }
 ],
 "metadata": {
  "ExecuteTimeLog": [
   {
    "duration": 1383,
    "start_time": "2025-01-30T07:13:25.714Z"
   },
   {
    "duration": 64,
    "start_time": "2025-01-30T07:13:27.099Z"
   },
   {
    "duration": 32,
    "start_time": "2025-01-30T07:13:27.165Z"
   },
   {
    "duration": 27,
    "start_time": "2025-01-30T07:13:27.199Z"
   },
   {
    "duration": 10,
    "start_time": "2025-01-30T07:13:27.229Z"
   },
   {
    "duration": 28,
    "start_time": "2025-01-30T07:13:27.241Z"
   },
   {
    "duration": 1208,
    "start_time": "2025-01-30T07:13:54.951Z"
   },
   {
    "duration": 59,
    "start_time": "2025-01-30T07:13:56.161Z"
   },
   {
    "duration": 14,
    "start_time": "2025-01-30T07:13:56.222Z"
   },
   {
    "duration": 12,
    "start_time": "2025-01-30T07:13:56.238Z"
   },
   {
    "duration": 11,
    "start_time": "2025-01-30T07:13:56.252Z"
   },
   {
    "duration": 12,
    "start_time": "2025-01-30T07:13:56.265Z"
   },
   {
    "duration": 9,
    "start_time": "2025-01-30T07:13:56.279Z"
   },
   {
    "duration": 8,
    "start_time": "2025-01-30T07:13:56.289Z"
   },
   {
    "duration": 8,
    "start_time": "2025-01-30T07:24:58.345Z"
   },
   {
    "duration": 11,
    "start_time": "2025-01-30T07:25:12.776Z"
   },
   {
    "duration": 57,
    "start_time": "2025-01-30T07:25:55.698Z"
   },
   {
    "duration": 57,
    "start_time": "2025-01-30T07:28:47.121Z"
   },
   {
    "duration": 102,
    "start_time": "2025-01-30T07:29:24.183Z"
   },
   {
    "duration": 5,
    "start_time": "2025-01-30T07:29:28.324Z"
   },
   {
    "duration": 13,
    "start_time": "2025-01-30T07:29:37.863Z"
   },
   {
    "duration": 10,
    "start_time": "2025-01-30T07:30:08.244Z"
   },
   {
    "duration": 5,
    "start_time": "2025-01-30T07:30:24.717Z"
   },
   {
    "duration": 10,
    "start_time": "2025-01-30T07:30:36.805Z"
   },
   {
    "duration": 5,
    "start_time": "2025-01-30T07:30:41.008Z"
   },
   {
    "duration": 13,
    "start_time": "2025-01-30T07:31:01.246Z"
   },
   {
    "duration": 5,
    "start_time": "2025-01-30T07:31:05.871Z"
   },
   {
    "duration": 11,
    "start_time": "2025-01-30T07:35:38.345Z"
   },
   {
    "duration": 7,
    "start_time": "2025-01-30T07:36:00.087Z"
   },
   {
    "duration": 8,
    "start_time": "2025-01-30T07:36:13.271Z"
   },
   {
    "duration": 9,
    "start_time": "2025-01-30T07:38:07.144Z"
   },
   {
    "duration": 13,
    "start_time": "2025-01-30T07:38:11.293Z"
   },
   {
    "duration": 13,
    "start_time": "2025-01-30T07:38:26.572Z"
   },
   {
    "duration": 8,
    "start_time": "2025-01-30T07:38:49.038Z"
   },
   {
    "duration": 6,
    "start_time": "2025-01-30T07:39:53.788Z"
   },
   {
    "duration": 7,
    "start_time": "2025-01-30T07:40:03.012Z"
   },
   {
    "duration": 13,
    "start_time": "2025-01-30T07:41:01.315Z"
   },
   {
    "duration": 82,
    "start_time": "2025-01-30T07:41:12.539Z"
   },
   {
    "duration": 9,
    "start_time": "2025-01-30T07:41:17.731Z"
   },
   {
    "duration": 107,
    "start_time": "2025-01-30T07:42:41.159Z"
   },
   {
    "duration": 12,
    "start_time": "2025-01-30T07:43:17.732Z"
   },
   {
    "duration": 1252,
    "start_time": "2025-01-30T07:44:17.347Z"
   },
   {
    "duration": 64,
    "start_time": "2025-01-30T07:44:18.601Z"
   },
   {
    "duration": 14,
    "start_time": "2025-01-30T07:44:18.667Z"
   },
   {
    "duration": 15,
    "start_time": "2025-01-30T07:44:18.683Z"
   },
   {
    "duration": 12,
    "start_time": "2025-01-30T07:44:18.699Z"
   },
   {
    "duration": 17,
    "start_time": "2025-01-30T07:44:18.713Z"
   },
   {
    "duration": 11,
    "start_time": "2025-01-30T07:44:18.732Z"
   },
   {
    "duration": 19,
    "start_time": "2025-01-30T07:44:18.773Z"
   },
   {
    "duration": 12,
    "start_time": "2025-01-30T07:44:18.794Z"
   },
   {
    "duration": 14,
    "start_time": "2025-01-30T07:44:18.809Z"
   },
   {
    "duration": 10,
    "start_time": "2025-01-30T07:44:18.825Z"
   },
   {
    "duration": 12,
    "start_time": "2025-01-30T07:44:18.837Z"
   },
   {
    "duration": 27,
    "start_time": "2025-01-30T07:44:18.851Z"
   },
   {
    "duration": 10,
    "start_time": "2025-01-30T07:44:18.881Z"
   },
   {
    "duration": 8,
    "start_time": "2025-01-30T07:44:18.894Z"
   },
   {
    "duration": 9,
    "start_time": "2025-01-30T07:44:18.904Z"
   },
   {
    "duration": 6,
    "start_time": "2025-01-30T07:44:18.915Z"
   },
   {
    "duration": 5,
    "start_time": "2025-01-30T07:44:18.923Z"
   },
   {
    "duration": 12,
    "start_time": "2025-01-30T07:44:18.974Z"
   },
   {
    "duration": 62,
    "start_time": "2025-01-30T07:47:04.930Z"
   },
   {
    "duration": 99,
    "start_time": "2025-01-30T07:49:19.136Z"
   },
   {
    "duration": 107,
    "start_time": "2025-01-30T07:50:10.082Z"
   },
   {
    "duration": 17,
    "start_time": "2025-01-30T07:50:32.355Z"
   },
   {
    "duration": 10,
    "start_time": "2025-01-30T07:52:59.281Z"
   },
   {
    "duration": 9,
    "start_time": "2025-01-30T07:53:05.417Z"
   },
   {
    "duration": 4,
    "start_time": "2025-01-30T07:53:13.386Z"
   },
   {
    "duration": 74,
    "start_time": "2025-01-30T07:53:52.979Z"
   },
   {
    "duration": 8,
    "start_time": "2025-01-30T07:54:19.092Z"
   },
   {
    "duration": 5,
    "start_time": "2025-01-30T07:55:44.295Z"
   },
   {
    "duration": 7,
    "start_time": "2025-01-30T07:55:58.472Z"
   },
   {
    "duration": 60,
    "start_time": "2025-01-30T07:56:56.346Z"
   },
   {
    "duration": 52,
    "start_time": "2025-01-30T07:57:08.761Z"
   },
   {
    "duration": 10,
    "start_time": "2025-01-30T07:57:50.404Z"
   },
   {
    "duration": 4,
    "start_time": "2025-01-30T07:57:53.117Z"
   },
   {
    "duration": 59,
    "start_time": "2025-01-30T07:58:12.702Z"
   },
   {
    "duration": 60,
    "start_time": "2025-01-30T07:58:48.415Z"
   },
   {
    "duration": 10,
    "start_time": "2025-01-30T08:11:16.737Z"
   },
   {
    "duration": 26,
    "start_time": "2025-01-30T08:11:21.473Z"
   },
   {
    "duration": 10,
    "start_time": "2025-01-30T08:14:08.140Z"
   },
   {
    "duration": 155,
    "start_time": "2025-01-30T08:14:23.117Z"
   },
   {
    "duration": 154,
    "start_time": "2025-01-30T08:14:32.941Z"
   },
   {
    "duration": 157,
    "start_time": "2025-01-30T08:14:53.925Z"
   },
   {
    "duration": 174,
    "start_time": "2025-01-30T08:15:00.462Z"
   },
   {
    "duration": 171,
    "start_time": "2025-01-30T08:15:06.358Z"
   },
   {
    "duration": 59,
    "start_time": "2025-01-30T08:15:57.448Z"
   },
   {
    "duration": 18,
    "start_time": "2025-01-30T08:16:00.185Z"
   },
   {
    "duration": 16,
    "start_time": "2025-01-30T08:16:08.457Z"
   },
   {
    "duration": 185,
    "start_time": "2025-01-30T08:16:15.344Z"
   },
   {
    "duration": 195,
    "start_time": "2025-01-30T08:18:11.173Z"
   },
   {
    "duration": 184,
    "start_time": "2025-01-30T08:18:26.438Z"
   },
   {
    "duration": 197,
    "start_time": "2025-01-30T08:18:45.280Z"
   },
   {
    "duration": 259,
    "start_time": "2025-01-30T08:18:50.679Z"
   },
   {
    "duration": 173,
    "start_time": "2025-01-30T08:19:12.392Z"
   },
   {
    "duration": 187,
    "start_time": "2025-01-30T08:20:35.771Z"
   },
   {
    "duration": 177,
    "start_time": "2025-01-30T08:20:43.099Z"
   },
   {
    "duration": 168,
    "start_time": "2025-01-30T08:20:49.804Z"
   },
   {
    "duration": 176,
    "start_time": "2025-01-30T08:20:52.588Z"
   },
   {
    "duration": 177,
    "start_time": "2025-01-30T08:21:01.765Z"
   },
   {
    "duration": 173,
    "start_time": "2025-01-30T08:21:07.332Z"
   },
   {
    "duration": 176,
    "start_time": "2025-01-30T08:21:19.765Z"
   },
   {
    "duration": 171,
    "start_time": "2025-01-30T08:21:23.877Z"
   },
   {
    "duration": 189,
    "start_time": "2025-01-30T08:26:07.024Z"
   },
   {
    "duration": 279,
    "start_time": "2025-01-30T08:26:20.226Z"
   },
   {
    "duration": 176,
    "start_time": "2025-01-30T08:26:38.721Z"
   },
   {
    "duration": 81,
    "start_time": "2025-01-30T08:32:13.974Z"
   },
   {
    "duration": 88,
    "start_time": "2025-01-30T08:32:35.248Z"
   },
   {
    "duration": 105,
    "start_time": "2025-01-30T08:33:26.930Z"
   },
   {
    "duration": 107,
    "start_time": "2025-01-30T08:34:07.252Z"
   },
   {
    "duration": 102,
    "start_time": "2025-01-30T08:35:41.780Z"
   },
   {
    "duration": 110,
    "start_time": "2025-01-30T08:35:55.695Z"
   },
   {
    "duration": 107,
    "start_time": "2025-01-30T08:36:08.848Z"
   },
   {
    "duration": 116,
    "start_time": "2025-01-30T08:36:20.824Z"
   },
   {
    "duration": 106,
    "start_time": "2025-01-30T08:36:25.433Z"
   },
   {
    "duration": 114,
    "start_time": "2025-01-30T08:36:35.009Z"
   },
   {
    "duration": 112,
    "start_time": "2025-01-30T08:36:44.106Z"
   },
   {
    "duration": 155,
    "start_time": "2025-01-30T08:40:24.778Z"
   },
   {
    "duration": 167,
    "start_time": "2025-01-30T08:40:51.235Z"
   },
   {
    "duration": 261,
    "start_time": "2025-01-30T08:41:03.068Z"
   },
   {
    "duration": 191,
    "start_time": "2025-01-30T08:42:18.567Z"
   },
   {
    "duration": 177,
    "start_time": "2025-01-30T08:42:47.576Z"
   },
   {
    "duration": 250,
    "start_time": "2025-01-30T08:48:41.982Z"
   },
   {
    "duration": 288,
    "start_time": "2025-01-30T08:49:12.919Z"
   },
   {
    "duration": 223,
    "start_time": "2025-01-30T08:49:23.239Z"
   },
   {
    "duration": 239,
    "start_time": "2025-01-30T08:53:18.265Z"
   },
   {
    "duration": 970,
    "start_time": "2025-01-30T08:56:43.129Z"
   },
   {
    "duration": 1199,
    "start_time": "2025-01-30T08:56:47.889Z"
   },
   {
    "duration": 232,
    "start_time": "2025-01-30T08:57:00.057Z"
   },
   {
    "duration": 319,
    "start_time": "2025-01-30T08:59:48.576Z"
   },
   {
    "duration": 18,
    "start_time": "2025-01-30T09:00:28.225Z"
   },
   {
    "duration": 1308,
    "start_time": "2025-01-30T13:03:48.276Z"
   },
   {
    "duration": 72,
    "start_time": "2025-01-30T13:03:49.587Z"
   },
   {
    "duration": 13,
    "start_time": "2025-01-30T13:03:49.660Z"
   },
   {
    "duration": 21,
    "start_time": "2025-01-30T13:03:49.674Z"
   },
   {
    "duration": 16,
    "start_time": "2025-01-30T13:03:49.697Z"
   },
   {
    "duration": 22,
    "start_time": "2025-01-30T13:03:49.715Z"
   },
   {
    "duration": 8,
    "start_time": "2025-01-30T13:03:49.739Z"
   },
   {
    "duration": 10,
    "start_time": "2025-01-30T13:03:49.748Z"
   },
   {
    "duration": 10,
    "start_time": "2025-01-30T13:03:49.759Z"
   },
   {
    "duration": 11,
    "start_time": "2025-01-30T13:03:49.770Z"
   },
   {
    "duration": 13,
    "start_time": "2025-01-30T13:03:49.782Z"
   },
   {
    "duration": 19,
    "start_time": "2025-01-30T13:03:49.796Z"
   },
   {
    "duration": 26,
    "start_time": "2025-01-30T13:03:49.816Z"
   },
   {
    "duration": 14,
    "start_time": "2025-01-30T13:03:49.845Z"
   },
   {
    "duration": 9,
    "start_time": "2025-01-30T13:03:49.861Z"
   },
   {
    "duration": 8,
    "start_time": "2025-01-30T13:03:49.872Z"
   },
   {
    "duration": 6,
    "start_time": "2025-01-30T13:03:49.882Z"
   },
   {
    "duration": 5,
    "start_time": "2025-01-30T13:03:49.889Z"
   },
   {
    "duration": 17,
    "start_time": "2025-01-30T13:03:49.895Z"
   },
   {
    "duration": 6,
    "start_time": "2025-01-30T13:03:49.914Z"
   },
   {
    "duration": 10,
    "start_time": "2025-01-30T13:03:49.922Z"
   },
   {
    "duration": 7,
    "start_time": "2025-01-30T13:03:49.934Z"
   },
   {
    "duration": 202,
    "start_time": "2025-01-30T13:03:49.943Z"
   },
   {
    "duration": 106,
    "start_time": "2025-01-30T13:03:50.147Z"
   },
   {
    "duration": 163,
    "start_time": "2025-01-30T13:03:50.254Z"
   },
   {
    "duration": 220,
    "start_time": "2025-01-30T13:03:50.418Z"
   },
   {
    "duration": 211,
    "start_time": "2025-01-30T13:03:50.640Z"
   },
   {
    "duration": 194,
    "start_time": "2025-01-30T13:03:50.853Z"
   },
   {
    "duration": 15,
    "start_time": "2025-01-30T13:03:51.049Z"
   },
   {
    "duration": 10,
    "start_time": "2025-01-30T13:08:21.971Z"
   },
   {
    "duration": 20,
    "start_time": "2025-01-30T13:08:28.763Z"
   },
   {
    "duration": 12,
    "start_time": "2025-01-30T13:08:46.380Z"
   },
   {
    "duration": 15,
    "start_time": "2025-01-30T13:10:54.297Z"
   },
   {
    "duration": 22,
    "start_time": "2025-01-30T13:11:31.227Z"
   },
   {
    "duration": 12,
    "start_time": "2025-01-30T13:14:47.443Z"
   },
   {
    "duration": 93,
    "start_time": "2025-01-30T13:15:23.340Z"
   },
   {
    "duration": 21,
    "start_time": "2025-01-30T13:15:51.934Z"
   },
   {
    "duration": 23,
    "start_time": "2025-01-30T13:16:32.246Z"
   },
   {
    "duration": 4,
    "start_time": "2025-01-30T13:18:53.053Z"
   },
   {
    "duration": 3,
    "start_time": "2025-01-30T13:20:33.480Z"
   },
   {
    "duration": 55,
    "start_time": "2025-01-30T13:20:48.561Z"
   },
   {
    "duration": 98,
    "start_time": "2025-01-30T13:20:51.153Z"
   },
   {
    "duration": 4,
    "start_time": "2025-01-30T13:21:07.714Z"
   },
   {
    "duration": 3,
    "start_time": "2025-01-30T13:21:14.706Z"
   },
   {
    "duration": 4,
    "start_time": "2025-01-30T13:21:36.603Z"
   },
   {
    "duration": 206,
    "start_time": "2025-01-30T13:26:36.519Z"
   },
   {
    "duration": 197,
    "start_time": "2025-01-30T13:27:17.152Z"
   },
   {
    "duration": 191,
    "start_time": "2025-01-30T13:27:20.442Z"
   },
   {
    "duration": 635,
    "start_time": "2025-01-30T13:33:28.688Z"
   },
   {
    "duration": 16,
    "start_time": "2025-01-30T13:40:35.471Z"
   },
   {
    "duration": 108,
    "start_time": "2025-01-30T13:41:08.690Z"
   },
   {
    "duration": 209,
    "start_time": "2025-01-30T13:41:15.706Z"
   },
   {
    "duration": 267,
    "start_time": "2025-01-30T13:42:12.436Z"
   },
   {
    "duration": 259,
    "start_time": "2025-01-30T13:42:28.981Z"
   },
   {
    "duration": 372,
    "start_time": "2025-01-30T13:42:34.820Z"
   },
   {
    "duration": 312,
    "start_time": "2025-01-30T13:42:41.516Z"
   },
   {
    "duration": 196,
    "start_time": "2025-01-30T13:44:41.273Z"
   },
   {
    "duration": 322,
    "start_time": "2025-01-30T13:45:33.940Z"
   },
   {
    "duration": 200,
    "start_time": "2025-01-30T13:47:41.136Z"
   },
   {
    "duration": 214,
    "start_time": "2025-01-30T13:48:47.715Z"
   },
   {
    "duration": 209,
    "start_time": "2025-01-30T13:48:51.164Z"
   },
   {
    "duration": 4,
    "start_time": "2025-01-30T13:58:41.250Z"
   },
   {
    "duration": 12,
    "start_time": "2025-01-30T14:01:09.024Z"
   },
   {
    "duration": 21,
    "start_time": "2025-01-30T14:01:14.896Z"
   },
   {
    "duration": 29,
    "start_time": "2025-01-30T14:04:25.913Z"
   },
   {
    "duration": 31,
    "start_time": "2025-01-30T14:05:12.050Z"
   },
   {
    "duration": 27,
    "start_time": "2025-01-30T14:05:46.251Z"
   },
   {
    "duration": 26,
    "start_time": "2025-01-30T14:05:50.819Z"
   },
   {
    "duration": 21,
    "start_time": "2025-01-30T14:06:01.820Z"
   },
   {
    "duration": 32,
    "start_time": "2025-01-30T14:06:30.429Z"
   },
   {
    "duration": 28,
    "start_time": "2025-01-30T14:07:17.726Z"
   },
   {
    "duration": 33,
    "start_time": "2025-01-30T14:07:37.655Z"
   },
   {
    "duration": 27,
    "start_time": "2025-01-30T14:07:54.961Z"
   },
   {
    "duration": 29,
    "start_time": "2025-01-30T14:07:58.719Z"
   },
   {
    "duration": 26,
    "start_time": "2025-01-30T14:09:09.891Z"
   },
   {
    "duration": 33,
    "start_time": "2025-01-30T14:10:46.751Z"
   },
   {
    "duration": 31,
    "start_time": "2025-01-30T14:10:54.552Z"
   },
   {
    "duration": 32,
    "start_time": "2025-01-30T14:11:06.791Z"
   },
   {
    "duration": 31,
    "start_time": "2025-01-30T14:11:12.744Z"
   },
   {
    "duration": 34,
    "start_time": "2025-01-30T14:11:40.745Z"
   },
   {
    "duration": 31,
    "start_time": "2025-01-30T14:12:29.203Z"
   },
   {
    "duration": 30,
    "start_time": "2025-01-30T14:13:18.645Z"
   },
   {
    "duration": 24,
    "start_time": "2025-01-30T14:13:37.030Z"
   },
   {
    "duration": 32,
    "start_time": "2025-01-30T14:14:27.983Z"
   },
   {
    "duration": 31,
    "start_time": "2025-01-30T14:14:43.691Z"
   },
   {
    "duration": 33,
    "start_time": "2025-01-30T14:16:02.035Z"
   },
   {
    "duration": 34,
    "start_time": "2025-01-30T14:16:14.069Z"
   },
   {
    "duration": 30,
    "start_time": "2025-01-30T14:16:54.358Z"
   },
   {
    "duration": 34,
    "start_time": "2025-01-30T14:17:14.030Z"
   },
   {
    "duration": 30,
    "start_time": "2025-01-30T14:17:24.271Z"
   },
   {
    "duration": 22,
    "start_time": "2025-01-30T14:17:44.313Z"
   },
   {
    "duration": 23,
    "start_time": "2025-01-30T14:17:51.928Z"
   },
   {
    "duration": 55,
    "start_time": "2025-01-30T14:18:13.873Z"
   },
   {
    "duration": 29,
    "start_time": "2025-01-30T14:18:17.196Z"
   },
   {
    "duration": 33,
    "start_time": "2025-01-30T14:18:23.353Z"
   },
   {
    "duration": 32,
    "start_time": "2025-01-30T14:18:55.627Z"
   },
   {
    "duration": 25,
    "start_time": "2025-01-30T14:19:32.212Z"
   },
   {
    "duration": 22,
    "start_time": "2025-01-30T14:19:56.877Z"
   },
   {
    "duration": 27,
    "start_time": "2025-01-30T14:20:03.613Z"
   },
   {
    "duration": 1598,
    "start_time": "2025-01-30T14:20:12.663Z"
   },
   {
    "duration": 33,
    "start_time": "2025-01-30T14:20:15.574Z"
   },
   {
    "duration": 32,
    "start_time": "2025-01-30T14:20:31.958Z"
   },
   {
    "duration": 29,
    "start_time": "2025-01-30T14:20:42.719Z"
   },
   {
    "duration": 43,
    "start_time": "2025-01-30T14:20:50.526Z"
   },
   {
    "duration": 32,
    "start_time": "2025-01-30T14:21:03.880Z"
   },
   {
    "duration": 380,
    "start_time": "2025-01-30T14:21:35.296Z"
   },
   {
    "duration": 342,
    "start_time": "2025-01-30T14:21:53.338Z"
   },
   {
    "duration": 33,
    "start_time": "2025-01-30T14:21:55.810Z"
   },
   {
    "duration": 28,
    "start_time": "2025-01-30T14:22:20.539Z"
   },
   {
    "duration": 22,
    "start_time": "2025-01-30T14:22:33.531Z"
   },
   {
    "duration": 31,
    "start_time": "2025-01-30T14:22:39.331Z"
   },
   {
    "duration": 29,
    "start_time": "2025-01-30T14:23:15.733Z"
   },
   {
    "duration": 26,
    "start_time": "2025-01-30T14:23:31.733Z"
   },
   {
    "duration": 5,
    "start_time": "2025-01-30T14:23:43.197Z"
   },
   {
    "duration": 31,
    "start_time": "2025-01-30T14:23:45.701Z"
   },
   {
    "duration": 21,
    "start_time": "2025-01-30T14:24:01.695Z"
   },
   {
    "duration": 23,
    "start_time": "2025-01-30T14:24:06.846Z"
   },
   {
    "duration": 23,
    "start_time": "2025-01-30T14:24:45.031Z"
   },
   {
    "duration": 30,
    "start_time": "2025-01-30T14:24:51.560Z"
   },
   {
    "duration": 33,
    "start_time": "2025-01-30T14:25:13.225Z"
   },
   {
    "duration": 33,
    "start_time": "2025-01-30T14:25:25.849Z"
   },
   {
    "duration": 57,
    "start_time": "2025-01-30T14:27:58.992Z"
   },
   {
    "duration": 35,
    "start_time": "2025-01-30T14:28:13.752Z"
   },
   {
    "duration": 23,
    "start_time": "2025-01-30T14:29:57.381Z"
   },
   {
    "duration": 34,
    "start_time": "2025-01-30T14:30:03.324Z"
   },
   {
    "duration": 37,
    "start_time": "2025-01-30T14:30:22.958Z"
   },
   {
    "duration": 36,
    "start_time": "2025-01-30T14:31:03.800Z"
   },
   {
    "duration": 54,
    "start_time": "2025-01-30T14:31:09.607Z"
   },
   {
    "duration": 34,
    "start_time": "2025-01-30T14:31:44.921Z"
   },
   {
    "duration": 34,
    "start_time": "2025-01-30T14:31:50.529Z"
   },
   {
    "duration": 33,
    "start_time": "2025-01-30T14:32:34.163Z"
   },
   {
    "duration": 33,
    "start_time": "2025-01-30T14:33:27.630Z"
   },
   {
    "duration": 33,
    "start_time": "2025-01-30T14:33:35.363Z"
   },
   {
    "duration": 34,
    "start_time": "2025-01-30T14:34:07.799Z"
   },
   {
    "duration": 33,
    "start_time": "2025-01-30T14:34:14.167Z"
   },
   {
    "duration": 34,
    "start_time": "2025-01-30T14:35:00.617Z"
   },
   {
    "duration": 38,
    "start_time": "2025-01-30T14:35:19.690Z"
   },
   {
    "duration": 127,
    "start_time": "2025-01-30T14:35:30.875Z"
   },
   {
    "duration": 31,
    "start_time": "2025-01-30T14:36:29.493Z"
   },
   {
    "duration": 35,
    "start_time": "2025-01-30T14:36:34.501Z"
   },
   {
    "duration": 51,
    "start_time": "2025-01-30T14:37:35.631Z"
   },
   {
    "duration": 19,
    "start_time": "2025-01-30T14:37:45.847Z"
   },
   {
    "duration": 14,
    "start_time": "2025-01-30T14:39:32.548Z"
   },
   {
    "duration": 23,
    "start_time": "2025-01-30T14:39:38.373Z"
   },
   {
    "duration": 20,
    "start_time": "2025-01-30T14:42:34.692Z"
   },
   {
    "duration": 27,
    "start_time": "2025-01-30T14:42:42.924Z"
   },
   {
    "duration": 26,
    "start_time": "2025-01-30T14:42:51.268Z"
   },
   {
    "duration": 10,
    "start_time": "2025-01-30T14:43:06.349Z"
   },
   {
    "duration": 14,
    "start_time": "2025-01-30T14:44:14.256Z"
   },
   {
    "duration": 12,
    "start_time": "2025-01-30T14:45:35.342Z"
   },
   {
    "duration": 13,
    "start_time": "2025-01-30T14:45:41.338Z"
   },
   {
    "duration": 3,
    "start_time": "2025-01-30T14:45:56.147Z"
   },
   {
    "duration": 4,
    "start_time": "2025-01-30T14:45:57.724Z"
   },
   {
    "duration": 14,
    "start_time": "2025-01-30T14:46:06.468Z"
   },
   {
    "duration": 19,
    "start_time": "2025-01-30T14:50:28.734Z"
   },
   {
    "duration": 21,
    "start_time": "2025-01-30T14:51:10.112Z"
   },
   {
    "duration": 19,
    "start_time": "2025-01-30T14:51:12.396Z"
   },
   {
    "duration": 19,
    "start_time": "2025-01-30T14:52:30.524Z"
   },
   {
    "duration": 19,
    "start_time": "2025-01-30T14:52:39.108Z"
   },
   {
    "duration": 6,
    "start_time": "2025-01-30T15:06:27.733Z"
   },
   {
    "duration": 14,
    "start_time": "2025-01-30T15:06:36.772Z"
   },
   {
    "duration": 1368,
    "start_time": "2025-01-31T08:03:37.135Z"
   },
   {
    "duration": 66,
    "start_time": "2025-01-31T08:03:38.505Z"
   },
   {
    "duration": 11,
    "start_time": "2025-01-31T08:03:38.573Z"
   },
   {
    "duration": 20,
    "start_time": "2025-01-31T08:03:38.587Z"
   },
   {
    "duration": 23,
    "start_time": "2025-01-31T08:03:38.610Z"
   },
   {
    "duration": 16,
    "start_time": "2025-01-31T08:03:38.635Z"
   },
   {
    "duration": 14,
    "start_time": "2025-01-31T08:03:38.653Z"
   },
   {
    "duration": 25,
    "start_time": "2025-01-31T08:03:38.668Z"
   },
   {
    "duration": 17,
    "start_time": "2025-01-31T08:03:38.695Z"
   },
   {
    "duration": 19,
    "start_time": "2025-01-31T08:03:38.714Z"
   },
   {
    "duration": 23,
    "start_time": "2025-01-31T08:03:38.735Z"
   },
   {
    "duration": 17,
    "start_time": "2025-01-31T08:03:38.759Z"
   },
   {
    "duration": 8,
    "start_time": "2025-01-31T08:03:38.777Z"
   },
   {
    "duration": 7,
    "start_time": "2025-01-31T08:03:38.789Z"
   },
   {
    "duration": 40,
    "start_time": "2025-01-31T08:03:38.798Z"
   },
   {
    "duration": 11,
    "start_time": "2025-01-31T08:03:38.840Z"
   },
   {
    "duration": 7,
    "start_time": "2025-01-31T08:03:38.852Z"
   },
   {
    "duration": 15,
    "start_time": "2025-01-31T08:03:38.861Z"
   },
   {
    "duration": 14,
    "start_time": "2025-01-31T08:03:38.878Z"
   },
   {
    "duration": 13,
    "start_time": "2025-01-31T08:03:38.894Z"
   },
   {
    "duration": 30,
    "start_time": "2025-01-31T08:03:38.910Z"
   },
   {
    "duration": 61,
    "start_time": "2025-01-31T08:03:38.942Z"
   },
   {
    "duration": 222,
    "start_time": "2025-01-31T08:03:39.005Z"
   },
   {
    "duration": 117,
    "start_time": "2025-01-31T08:03:39.230Z"
   },
   {
    "duration": 193,
    "start_time": "2025-01-31T08:03:39.349Z"
   },
   {
    "duration": 271,
    "start_time": "2025-01-31T08:03:39.543Z"
   },
   {
    "duration": 255,
    "start_time": "2025-01-31T08:03:39.817Z"
   },
   {
    "duration": 237,
    "start_time": "2025-01-31T08:03:40.073Z"
   },
   {
    "duration": 23,
    "start_time": "2025-01-31T08:03:40.312Z"
   },
   {
    "duration": 17,
    "start_time": "2025-01-31T08:03:40.337Z"
   },
   {
    "duration": 24,
    "start_time": "2025-01-31T08:03:40.355Z"
   },
   {
    "duration": 17,
    "start_time": "2025-01-31T08:03:40.410Z"
   },
   {
    "duration": 24,
    "start_time": "2025-01-31T08:03:40.429Z"
   },
   {
    "duration": 21,
    "start_time": "2025-01-31T08:03:40.455Z"
   },
   {
    "duration": 34,
    "start_time": "2025-01-31T08:03:40.478Z"
   },
   {
    "duration": 373,
    "start_time": "2025-01-31T08:03:40.518Z"
   },
   {
    "duration": 258,
    "start_time": "2025-01-31T08:03:40.893Z"
   },
   {
    "duration": 247,
    "start_time": "2025-01-31T08:03:41.153Z"
   },
   {
    "duration": 258,
    "start_time": "2025-01-31T08:03:41.401Z"
   },
   {
    "duration": 33,
    "start_time": "2025-01-31T08:03:41.661Z"
   },
   {
    "duration": 30,
    "start_time": "2025-01-31T08:03:41.712Z"
   },
   {
    "duration": 16,
    "start_time": "2025-01-31T08:03:41.743Z"
   },
   {
    "duration": 21,
    "start_time": "2025-01-31T08:04:55.494Z"
   },
   {
    "duration": 295,
    "start_time": "2025-01-31T08:05:02.358Z"
   },
   {
    "duration": 5085,
    "start_time": "2025-01-31T08:05:27.055Z"
   },
   {
    "duration": 1133,
    "start_time": "2025-01-31T08:05:50.165Z"
   },
   {
    "duration": 73,
    "start_time": "2025-01-31T08:05:51.301Z"
   },
   {
    "duration": 25,
    "start_time": "2025-01-31T08:05:51.377Z"
   },
   {
    "duration": 63,
    "start_time": "2025-01-31T08:05:51.404Z"
   },
   {
    "duration": 15,
    "start_time": "2025-01-31T08:05:51.470Z"
   },
   {
    "duration": 37,
    "start_time": "2025-01-31T08:05:51.487Z"
   },
   {
    "duration": 21,
    "start_time": "2025-01-31T08:05:51.526Z"
   },
   {
    "duration": 25,
    "start_time": "2025-01-31T08:05:51.549Z"
   },
   {
    "duration": 49,
    "start_time": "2025-01-31T08:05:51.576Z"
   },
   {
    "duration": 22,
    "start_time": "2025-01-31T08:05:51.627Z"
   },
   {
    "duration": 18,
    "start_time": "2025-01-31T08:05:51.651Z"
   },
   {
    "duration": 34,
    "start_time": "2025-01-31T08:05:51.671Z"
   },
   {
    "duration": 14,
    "start_time": "2025-01-31T08:05:51.708Z"
   },
   {
    "duration": 14,
    "start_time": "2025-01-31T08:05:51.726Z"
   },
   {
    "duration": 9,
    "start_time": "2025-01-31T08:05:51.742Z"
   },
   {
    "duration": 11,
    "start_time": "2025-01-31T08:05:51.754Z"
   },
   {
    "duration": 7,
    "start_time": "2025-01-31T08:05:51.767Z"
   },
   {
    "duration": 32,
    "start_time": "2025-01-31T08:05:51.777Z"
   },
   {
    "duration": 30,
    "start_time": "2025-01-31T08:05:51.812Z"
   },
   {
    "duration": 9,
    "start_time": "2025-01-31T08:05:51.845Z"
   },
   {
    "duration": 9,
    "start_time": "2025-01-31T08:05:51.856Z"
   },
   {
    "duration": 7,
    "start_time": "2025-01-31T08:05:51.867Z"
   },
   {
    "duration": 203,
    "start_time": "2025-01-31T08:05:51.875Z"
   },
   {
    "duration": 105,
    "start_time": "2025-01-31T08:05:52.080Z"
   },
   {
    "duration": 211,
    "start_time": "2025-01-31T08:05:52.187Z"
   },
   {
    "duration": 254,
    "start_time": "2025-01-31T08:05:52.400Z"
   },
   {
    "duration": 239,
    "start_time": "2025-01-31T08:05:52.656Z"
   },
   {
    "duration": 215,
    "start_time": "2025-01-31T08:05:52.898Z"
   },
   {
    "duration": 16,
    "start_time": "2025-01-31T08:05:53.114Z"
   },
   {
    "duration": 18,
    "start_time": "2025-01-31T08:05:53.132Z"
   },
   {
    "duration": 85,
    "start_time": "2025-01-31T08:05:53.151Z"
   },
   {
    "duration": 14,
    "start_time": "2025-01-31T08:05:53.238Z"
   },
   {
    "duration": 22,
    "start_time": "2025-01-31T08:05:53.256Z"
   },
   {
    "duration": 84,
    "start_time": "2025-01-31T08:05:53.280Z"
   },
   {
    "duration": 4,
    "start_time": "2025-01-31T08:05:53.365Z"
   },
   {
    "duration": 314,
    "start_time": "2025-01-31T08:05:53.371Z"
   },
   {
    "duration": 209,
    "start_time": "2025-01-31T08:05:53.686Z"
   },
   {
    "duration": 235,
    "start_time": "2025-01-31T08:05:53.897Z"
   },
   {
    "duration": 250,
    "start_time": "2025-01-31T08:05:54.134Z"
   },
   {
    "duration": 36,
    "start_time": "2025-01-31T08:05:54.386Z"
   },
   {
    "duration": 82,
    "start_time": "2025-01-31T08:05:54.428Z"
   },
   {
    "duration": 18,
    "start_time": "2025-01-31T08:05:54.512Z"
   },
   {
    "duration": 54,
    "start_time": "2025-01-31T08:05:54.532Z"
   },
   {
    "duration": 110,
    "start_time": "2025-01-31T08:07:08.501Z"
   },
   {
    "duration": 1766,
    "start_time": "2025-01-31T08:08:47.800Z"
   },
   {
    "duration": 245,
    "start_time": "2025-01-31T08:09:09.401Z"
   },
   {
    "duration": 4674,
    "start_time": "2025-01-31T08:09:14.801Z"
   },
   {
    "duration": 1117,
    "start_time": "2025-01-31T08:09:44.564Z"
   },
   {
    "duration": 61,
    "start_time": "2025-01-31T08:09:45.683Z"
   },
   {
    "duration": 11,
    "start_time": "2025-01-31T08:09:45.746Z"
   },
   {
    "duration": 12,
    "start_time": "2025-01-31T08:09:45.760Z"
   },
   {
    "duration": 10,
    "start_time": "2025-01-31T08:09:45.774Z"
   },
   {
    "duration": 24,
    "start_time": "2025-01-31T08:09:45.786Z"
   },
   {
    "duration": 12,
    "start_time": "2025-01-31T08:09:45.812Z"
   },
   {
    "duration": 8,
    "start_time": "2025-01-31T08:09:45.827Z"
   },
   {
    "duration": 8,
    "start_time": "2025-01-31T08:09:45.837Z"
   },
   {
    "duration": 14,
    "start_time": "2025-01-31T08:09:45.849Z"
   },
   {
    "duration": 5,
    "start_time": "2025-01-31T08:09:45.865Z"
   },
   {
    "duration": 48,
    "start_time": "2025-01-31T08:09:45.872Z"
   },
   {
    "duration": 18,
    "start_time": "2025-01-31T08:09:45.922Z"
   },
   {
    "duration": 14,
    "start_time": "2025-01-31T08:09:45.941Z"
   },
   {
    "duration": 8,
    "start_time": "2025-01-31T08:09:45.957Z"
   },
   {
    "duration": 9,
    "start_time": "2025-01-31T08:09:45.967Z"
   },
   {
    "duration": 35,
    "start_time": "2025-01-31T08:09:45.978Z"
   },
   {
    "duration": 5,
    "start_time": "2025-01-31T08:09:46.015Z"
   },
   {
    "duration": 13,
    "start_time": "2025-01-31T08:09:46.022Z"
   },
   {
    "duration": 9,
    "start_time": "2025-01-31T08:09:46.037Z"
   },
   {
    "duration": 9,
    "start_time": "2025-01-31T08:09:46.048Z"
   },
   {
    "duration": 7,
    "start_time": "2025-01-31T08:09:46.059Z"
   },
   {
    "duration": 266,
    "start_time": "2025-01-31T08:09:46.068Z"
   },
   {
    "duration": 123,
    "start_time": "2025-01-31T08:09:46.336Z"
   },
   {
    "duration": 171,
    "start_time": "2025-01-31T08:09:46.461Z"
   },
   {
    "duration": 221,
    "start_time": "2025-01-31T08:09:46.634Z"
   },
   {
    "duration": 227,
    "start_time": "2025-01-31T08:09:46.857Z"
   },
   {
    "duration": 207,
    "start_time": "2025-01-31T08:09:47.088Z"
   },
   {
    "duration": 25,
    "start_time": "2025-01-31T08:09:47.296Z"
   },
   {
    "duration": 45,
    "start_time": "2025-01-31T08:09:47.322Z"
   },
   {
    "duration": 24,
    "start_time": "2025-01-31T08:09:47.369Z"
   },
   {
    "duration": 20,
    "start_time": "2025-01-31T08:09:47.394Z"
   },
   {
    "duration": 22,
    "start_time": "2025-01-31T08:09:47.415Z"
   },
   {
    "duration": 21,
    "start_time": "2025-01-31T08:09:47.438Z"
   },
   {
    "duration": 4,
    "start_time": "2025-01-31T08:09:47.460Z"
   },
   {
    "duration": 343,
    "start_time": "2025-01-31T08:09:47.466Z"
   },
   {
    "duration": 220,
    "start_time": "2025-01-31T08:09:47.811Z"
   },
   {
    "duration": 229,
    "start_time": "2025-01-31T08:09:48.033Z"
   },
   {
    "duration": 242,
    "start_time": "2025-01-31T08:09:48.264Z"
   },
   {
    "duration": 22,
    "start_time": "2025-01-31T08:09:48.508Z"
   },
   {
    "duration": 18,
    "start_time": "2025-01-31T08:09:48.532Z"
   },
   {
    "duration": 17,
    "start_time": "2025-01-31T08:09:48.551Z"
   },
   {
    "duration": 138,
    "start_time": "2025-01-31T08:12:55.261Z"
   },
   {
    "duration": 103,
    "start_time": "2025-01-31T08:13:04.681Z"
   },
   {
    "duration": 126,
    "start_time": "2025-01-31T08:13:40.499Z"
   },
   {
    "duration": 11,
    "start_time": "2025-01-31T08:13:50.824Z"
   },
   {
    "duration": 158,
    "start_time": "2025-01-31T08:15:45.872Z"
   },
   {
    "duration": 13,
    "start_time": "2025-01-31T08:15:49.559Z"
   },
   {
    "duration": 10,
    "start_time": "2025-01-31T08:16:01.632Z"
   },
   {
    "duration": 1375,
    "start_time": "2025-01-31T08:16:03.888Z"
   },
   {
    "duration": 13,
    "start_time": "2025-01-31T08:16:32.577Z"
   },
   {
    "duration": 18,
    "start_time": "2025-01-31T08:16:48.821Z"
   },
   {
    "duration": 5,
    "start_time": "2025-01-31T08:17:10.283Z"
   },
   {
    "duration": 4,
    "start_time": "2025-01-31T08:19:16.231Z"
   },
   {
    "duration": 17,
    "start_time": "2025-01-31T08:24:17.907Z"
   },
   {
    "duration": 35381,
    "start_time": "2025-01-31T08:25:20.646Z"
   },
   {
    "duration": 24,
    "start_time": "2025-01-31T08:26:45.402Z"
   },
   {
    "duration": 11,
    "start_time": "2025-01-31T08:26:53.675Z"
   },
   {
    "duration": 7,
    "start_time": "2025-01-31T08:27:15.117Z"
   },
   {
    "duration": 1218,
    "start_time": "2025-01-31T08:27:28.811Z"
   },
   {
    "duration": 60,
    "start_time": "2025-01-31T08:27:30.031Z"
   },
   {
    "duration": 12,
    "start_time": "2025-01-31T08:27:30.093Z"
   },
   {
    "duration": 37,
    "start_time": "2025-01-31T08:27:30.107Z"
   },
   {
    "duration": 54,
    "start_time": "2025-01-31T08:27:30.145Z"
   },
   {
    "duration": 43,
    "start_time": "2025-01-31T08:27:30.201Z"
   },
   {
    "duration": 53,
    "start_time": "2025-01-31T08:27:30.246Z"
   },
   {
    "duration": 69,
    "start_time": "2025-01-31T08:27:30.301Z"
   },
   {
    "duration": 56,
    "start_time": "2025-01-31T08:27:30.372Z"
   },
   {
    "duration": 38,
    "start_time": "2025-01-31T08:27:30.432Z"
   },
   {
    "duration": 16,
    "start_time": "2025-01-31T08:27:30.471Z"
   },
   {
    "duration": 11,
    "start_time": "2025-01-31T08:27:30.489Z"
   },
   {
    "duration": 11,
    "start_time": "2025-01-31T08:27:30.502Z"
   },
   {
    "duration": 4,
    "start_time": "2025-01-31T08:27:30.515Z"
   },
   {
    "duration": 24,
    "start_time": "2025-01-31T08:27:30.521Z"
   },
   {
    "duration": 12,
    "start_time": "2025-01-31T08:27:30.547Z"
   },
   {
    "duration": 29,
    "start_time": "2025-01-31T08:27:30.561Z"
   },
   {
    "duration": 24,
    "start_time": "2025-01-31T08:27:30.592Z"
   },
   {
    "duration": 24,
    "start_time": "2025-01-31T08:27:30.618Z"
   },
   {
    "duration": 24,
    "start_time": "2025-01-31T08:27:30.645Z"
   },
   {
    "duration": 17,
    "start_time": "2025-01-31T08:27:30.671Z"
   },
   {
    "duration": 14,
    "start_time": "2025-01-31T08:27:30.690Z"
   },
   {
    "duration": 223,
    "start_time": "2025-01-31T08:27:30.705Z"
   },
   {
    "duration": 104,
    "start_time": "2025-01-31T08:27:30.930Z"
   },
   {
    "duration": 167,
    "start_time": "2025-01-31T08:27:31.036Z"
   },
   {
    "duration": 251,
    "start_time": "2025-01-31T08:27:31.205Z"
   },
   {
    "duration": 231,
    "start_time": "2025-01-31T08:27:31.457Z"
   },
   {
    "duration": 205,
    "start_time": "2025-01-31T08:27:31.691Z"
   },
   {
    "duration": 30,
    "start_time": "2025-01-31T08:27:31.897Z"
   },
   {
    "duration": 31,
    "start_time": "2025-01-31T08:27:31.929Z"
   },
   {
    "duration": 22,
    "start_time": "2025-01-31T08:27:31.962Z"
   },
   {
    "duration": 10,
    "start_time": "2025-01-31T08:27:31.986Z"
   },
   {
    "duration": 29,
    "start_time": "2025-01-31T08:27:31.998Z"
   },
   {
    "duration": 21,
    "start_time": "2025-01-31T08:27:32.029Z"
   },
   {
    "duration": 9,
    "start_time": "2025-01-31T08:27:32.051Z"
   },
   {
    "duration": 362,
    "start_time": "2025-01-31T08:27:32.061Z"
   },
   {
    "duration": 244,
    "start_time": "2025-01-31T08:27:32.424Z"
   },
   {
    "duration": 252,
    "start_time": "2025-01-31T08:27:32.671Z"
   },
   {
    "duration": 235,
    "start_time": "2025-01-31T08:27:32.927Z"
   },
   {
    "duration": 52,
    "start_time": "2025-01-31T08:27:33.163Z"
   },
   {
    "duration": 23,
    "start_time": "2025-01-31T08:27:33.217Z"
   },
   {
    "duration": 16,
    "start_time": "2025-01-31T08:27:33.242Z"
   },
   {
    "duration": 69,
    "start_time": "2025-01-31T08:27:33.259Z"
   },
   {
    "duration": 20,
    "start_time": "2025-01-31T08:27:41.804Z"
   },
   {
    "duration": 100,
    "start_time": "2025-01-31T08:29:09.495Z"
   },
   {
    "duration": 13,
    "start_time": "2025-01-31T08:29:21.227Z"
   },
   {
    "duration": 10,
    "start_time": "2025-01-31T08:29:26.009Z"
   },
   {
    "duration": 18,
    "start_time": "2025-01-31T08:29:31.184Z"
   },
   {
    "duration": 1103,
    "start_time": "2025-01-31T08:31:00.262Z"
   },
   {
    "duration": 60,
    "start_time": "2025-01-31T08:31:01.367Z"
   },
   {
    "duration": 13,
    "start_time": "2025-01-31T08:31:01.428Z"
   },
   {
    "duration": 59,
    "start_time": "2025-01-31T08:31:01.443Z"
   },
   {
    "duration": 20,
    "start_time": "2025-01-31T08:31:01.504Z"
   },
   {
    "duration": 70,
    "start_time": "2025-01-31T08:31:01.525Z"
   },
   {
    "duration": 34,
    "start_time": "2025-01-31T08:31:01.597Z"
   },
   {
    "duration": 25,
    "start_time": "2025-01-31T08:31:01.633Z"
   },
   {
    "duration": 25,
    "start_time": "2025-01-31T08:31:01.659Z"
   },
   {
    "duration": 10,
    "start_time": "2025-01-31T08:31:01.688Z"
   },
   {
    "duration": 43,
    "start_time": "2025-01-31T08:31:01.700Z"
   },
   {
    "duration": 21,
    "start_time": "2025-01-31T08:31:01.744Z"
   },
   {
    "duration": 9,
    "start_time": "2025-01-31T08:31:01.766Z"
   },
   {
    "duration": 11,
    "start_time": "2025-01-31T08:31:01.777Z"
   },
   {
    "duration": 7,
    "start_time": "2025-01-31T08:31:01.790Z"
   },
   {
    "duration": 28,
    "start_time": "2025-01-31T08:31:01.798Z"
   },
   {
    "duration": 39,
    "start_time": "2025-01-31T08:31:01.828Z"
   },
   {
    "duration": 15,
    "start_time": "2025-01-31T08:31:01.869Z"
   },
   {
    "duration": 40,
    "start_time": "2025-01-31T08:31:01.886Z"
   },
   {
    "duration": 37,
    "start_time": "2025-01-31T08:31:01.927Z"
   },
   {
    "duration": 26,
    "start_time": "2025-01-31T08:31:01.966Z"
   },
   {
    "duration": 17,
    "start_time": "2025-01-31T08:31:01.993Z"
   },
   {
    "duration": 202,
    "start_time": "2025-01-31T08:31:02.012Z"
   },
   {
    "duration": 117,
    "start_time": "2025-01-31T08:31:02.221Z"
   },
   {
    "duration": 185,
    "start_time": "2025-01-31T08:31:02.340Z"
   },
   {
    "duration": 236,
    "start_time": "2025-01-31T08:31:02.527Z"
   },
   {
    "duration": 247,
    "start_time": "2025-01-31T08:31:02.765Z"
   },
   {
    "duration": 210,
    "start_time": "2025-01-31T08:31:03.023Z"
   },
   {
    "duration": 16,
    "start_time": "2025-01-31T08:31:03.235Z"
   },
   {
    "duration": 139,
    "start_time": "2025-01-31T08:31:03.252Z"
   },
   {
    "duration": 26,
    "start_time": "2025-01-31T08:31:03.392Z"
   },
   {
    "duration": 15,
    "start_time": "2025-01-31T08:31:03.421Z"
   },
   {
    "duration": 26,
    "start_time": "2025-01-31T08:31:03.438Z"
   },
   {
    "duration": 22,
    "start_time": "2025-01-31T08:31:03.465Z"
   },
   {
    "duration": 26,
    "start_time": "2025-01-31T08:31:03.489Z"
   },
   {
    "duration": 340,
    "start_time": "2025-01-31T08:31:03.522Z"
   },
   {
    "duration": 229,
    "start_time": "2025-01-31T08:31:03.864Z"
   },
   {
    "duration": 245,
    "start_time": "2025-01-31T08:31:04.094Z"
   },
   {
    "duration": 237,
    "start_time": "2025-01-31T08:31:04.340Z"
   },
   {
    "duration": 45,
    "start_time": "2025-01-31T08:31:04.578Z"
   },
   {
    "duration": 22,
    "start_time": "2025-01-31T08:31:04.626Z"
   },
   {
    "duration": 28,
    "start_time": "2025-01-31T08:31:04.650Z"
   },
   {
    "duration": 15,
    "start_time": "2025-01-31T08:31:04.679Z"
   },
   {
    "duration": 52,
    "start_time": "2025-01-31T08:31:04.695Z"
   },
   {
    "duration": 114,
    "start_time": "2025-01-31T08:36:18.770Z"
   },
   {
    "duration": 205,
    "start_time": "2025-01-31T08:36:26.641Z"
   },
   {
    "duration": 136,
    "start_time": "2025-01-31T08:36:33.027Z"
   },
   {
    "duration": 133,
    "start_time": "2025-01-31T08:36:45.130Z"
   },
   {
    "duration": 139,
    "start_time": "2025-01-31T08:41:01.644Z"
   },
   {
    "duration": 144,
    "start_time": "2025-01-31T08:41:09.045Z"
   },
   {
    "duration": 210,
    "start_time": "2025-01-31T08:41:39.013Z"
   },
   {
    "duration": 119,
    "start_time": "2025-01-31T08:41:44.014Z"
   },
   {
    "duration": 141,
    "start_time": "2025-01-31T08:42:02.343Z"
   },
   {
    "duration": 2228,
    "start_time": "2025-01-31T08:42:06.191Z"
   },
   {
    "duration": 15,
    "start_time": "2025-01-31T08:42:38.553Z"
   },
   {
    "duration": 12,
    "start_time": "2025-01-31T08:43:14.162Z"
   },
   {
    "duration": 2454,
    "start_time": "2025-01-31T08:43:25.195Z"
   },
   {
    "duration": 11,
    "start_time": "2025-01-31T08:43:47.891Z"
   },
   {
    "duration": 88,
    "start_time": "2025-01-31T08:54:16.389Z"
   },
   {
    "duration": 3,
    "start_time": "2025-01-31T08:54:20.453Z"
   },
   {
    "duration": 138,
    "start_time": "2025-01-31T08:56:04.041Z"
   },
   {
    "duration": 148,
    "start_time": "2025-01-31T08:56:09.546Z"
   },
   {
    "duration": 3,
    "start_time": "2025-01-31T08:58:49.656Z"
   },
   {
    "duration": 181,
    "start_time": "2025-01-31T08:58:51.336Z"
   },
   {
    "duration": 99,
    "start_time": "2025-01-31T09:03:33.523Z"
   },
   {
    "duration": 152,
    "start_time": "2025-01-31T09:04:02.124Z"
   },
   {
    "duration": 4,
    "start_time": "2025-01-31T09:14:24.782Z"
   },
   {
    "duration": 199,
    "start_time": "2025-01-31T09:14:26.494Z"
   },
   {
    "duration": 9,
    "start_time": "2025-01-31T09:18:09.678Z"
   },
   {
    "duration": 120,
    "start_time": "2025-01-31T09:18:29.095Z"
   },
   {
    "duration": 146,
    "start_time": "2025-01-31T09:18:48.753Z"
   },
   {
    "duration": 159,
    "start_time": "2025-01-31T09:22:01.792Z"
   },
   {
    "duration": 151,
    "start_time": "2025-01-31T09:22:44.306Z"
   },
   {
    "duration": 139,
    "start_time": "2025-01-31T09:24:24.598Z"
   },
   {
    "duration": 65,
    "start_time": "2025-01-31T13:19:56.480Z"
   },
   {
    "duration": 2796,
    "start_time": "2025-01-31T13:20:17.482Z"
   },
   {
    "duration": 77,
    "start_time": "2025-01-31T13:20:20.282Z"
   },
   {
    "duration": 16,
    "start_time": "2025-01-31T13:20:20.362Z"
   },
   {
    "duration": 35,
    "start_time": "2025-01-31T13:20:20.380Z"
   },
   {
    "duration": 10,
    "start_time": "2025-01-31T13:20:20.417Z"
   },
   {
    "duration": 20,
    "start_time": "2025-01-31T13:20:20.428Z"
   },
   {
    "duration": 8,
    "start_time": "2025-01-31T13:20:20.450Z"
   },
   {
    "duration": 11,
    "start_time": "2025-01-31T13:20:20.460Z"
   },
   {
    "duration": 85,
    "start_time": "2025-01-31T13:20:20.472Z"
   },
   {
    "duration": 47,
    "start_time": "2025-01-31T13:20:20.559Z"
   },
   {
    "duration": 7,
    "start_time": "2025-01-31T13:20:20.607Z"
   },
   {
    "duration": 33,
    "start_time": "2025-01-31T13:20:20.616Z"
   },
   {
    "duration": 17,
    "start_time": "2025-01-31T13:20:20.650Z"
   },
   {
    "duration": 5,
    "start_time": "2025-01-31T13:20:20.671Z"
   },
   {
    "duration": 14,
    "start_time": "2025-01-31T13:20:20.677Z"
   },
   {
    "duration": 7,
    "start_time": "2025-01-31T13:20:20.693Z"
   },
   {
    "duration": 6,
    "start_time": "2025-01-31T13:20:20.702Z"
   },
   {
    "duration": 27,
    "start_time": "2025-01-31T13:20:20.710Z"
   },
   {
    "duration": 24,
    "start_time": "2025-01-31T13:20:20.738Z"
   },
   {
    "duration": 9,
    "start_time": "2025-01-31T13:20:20.764Z"
   },
   {
    "duration": 11,
    "start_time": "2025-01-31T13:20:20.775Z"
   },
   {
    "duration": 21,
    "start_time": "2025-01-31T13:20:20.788Z"
   },
   {
    "duration": 214,
    "start_time": "2025-01-31T13:20:20.811Z"
   },
   {
    "duration": 120,
    "start_time": "2025-01-31T13:20:21.027Z"
   },
   {
    "duration": 175,
    "start_time": "2025-01-31T13:20:21.149Z"
   },
   {
    "duration": 239,
    "start_time": "2025-01-31T13:20:21.326Z"
   },
   {
    "duration": 229,
    "start_time": "2025-01-31T13:20:21.566Z"
   },
   {
    "duration": 212,
    "start_time": "2025-01-31T13:20:21.797Z"
   },
   {
    "duration": 30,
    "start_time": "2025-01-31T13:20:22.010Z"
   },
   {
    "duration": 17,
    "start_time": "2025-01-31T13:20:22.042Z"
   },
   {
    "duration": 25,
    "start_time": "2025-01-31T13:20:22.061Z"
   },
   {
    "duration": 11,
    "start_time": "2025-01-31T13:20:22.088Z"
   },
   {
    "duration": 57,
    "start_time": "2025-01-31T13:20:22.101Z"
   },
   {
    "duration": 22,
    "start_time": "2025-01-31T13:20:22.160Z"
   },
   {
    "duration": 4,
    "start_time": "2025-01-31T13:20:22.183Z"
   },
   {
    "duration": 327,
    "start_time": "2025-01-31T13:20:22.188Z"
   },
   {
    "duration": 249,
    "start_time": "2025-01-31T13:20:22.517Z"
   },
   {
    "duration": 271,
    "start_time": "2025-01-31T13:20:22.768Z"
   },
   {
    "duration": 244,
    "start_time": "2025-01-31T13:20:23.046Z"
   },
   {
    "duration": 22,
    "start_time": "2025-01-31T13:20:23.292Z"
   },
   {
    "duration": 27,
    "start_time": "2025-01-31T13:20:23.334Z"
   },
   {
    "duration": 17,
    "start_time": "2025-01-31T13:20:23.363Z"
   },
   {
    "duration": 10,
    "start_time": "2025-01-31T13:20:23.381Z"
   },
   {
    "duration": 17,
    "start_time": "2025-01-31T13:20:23.393Z"
   },
   {
    "duration": 9,
    "start_time": "2025-01-31T13:20:23.437Z"
   },
   {
    "duration": 228,
    "start_time": "2025-01-31T13:20:23.448Z"
   },
   {
    "duration": 5,
    "start_time": "2025-01-31T13:20:23.677Z"
   },
   {
    "duration": 7,
    "start_time": "2025-01-31T13:21:14.036Z"
   },
   {
    "duration": 6,
    "start_time": "2025-01-31T13:21:17.786Z"
   },
   {
    "duration": 7,
    "start_time": "2025-01-31T13:21:20.240Z"
   },
   {
    "duration": 6,
    "start_time": "2025-01-31T13:34:48.846Z"
   },
   {
    "duration": 12,
    "start_time": "2025-01-31T13:34:51.937Z"
   },
   {
    "duration": 5,
    "start_time": "2025-01-31T13:36:10.395Z"
   },
   {
    "duration": 5,
    "start_time": "2025-01-31T13:36:25.433Z"
   },
   {
    "duration": 6,
    "start_time": "2025-01-31T13:38:10.177Z"
   },
   {
    "duration": 4,
    "start_time": "2025-01-31T13:38:12.618Z"
   },
   {
    "duration": 5193,
    "start_time": "2025-01-31T13:43:05.752Z"
   },
   {
    "duration": 16,
    "start_time": "2025-01-31T13:43:27.729Z"
   },
   {
    "duration": 8,
    "start_time": "2025-01-31T13:44:10.779Z"
   },
   {
    "duration": 6,
    "start_time": "2025-01-31T13:44:19.651Z"
   },
   {
    "duration": 5,
    "start_time": "2025-01-31T13:44:28.371Z"
   },
   {
    "duration": 7,
    "start_time": "2025-01-31T13:48:40.844Z"
   },
   {
    "duration": 10,
    "start_time": "2025-01-31T13:48:50.241Z"
   },
   {
    "duration": 6,
    "start_time": "2025-01-31T13:53:56.977Z"
   },
   {
    "duration": 1829,
    "start_time": "2025-01-31T14:12:54.507Z"
   },
   {
    "duration": 61,
    "start_time": "2025-01-31T14:12:56.339Z"
   },
   {
    "duration": 12,
    "start_time": "2025-01-31T14:12:56.402Z"
   },
   {
    "duration": 42,
    "start_time": "2025-01-31T14:12:56.415Z"
   },
   {
    "duration": 13,
    "start_time": "2025-01-31T14:12:56.459Z"
   },
   {
    "duration": 14,
    "start_time": "2025-01-31T14:12:56.474Z"
   },
   {
    "duration": 13,
    "start_time": "2025-01-31T14:12:56.489Z"
   },
   {
    "duration": 18,
    "start_time": "2025-01-31T14:12:56.504Z"
   },
   {
    "duration": 30,
    "start_time": "2025-01-31T14:12:56.524Z"
   },
   {
    "duration": 10,
    "start_time": "2025-01-31T14:12:56.556Z"
   },
   {
    "duration": 8,
    "start_time": "2025-01-31T14:12:56.567Z"
   },
   {
    "duration": 11,
    "start_time": "2025-01-31T14:12:56.576Z"
   },
   {
    "duration": 9,
    "start_time": "2025-01-31T14:12:56.588Z"
   },
   {
    "duration": 4,
    "start_time": "2025-01-31T14:12:56.600Z"
   },
   {
    "duration": 39,
    "start_time": "2025-01-31T14:12:56.605Z"
   },
   {
    "duration": 8,
    "start_time": "2025-01-31T14:12:56.646Z"
   },
   {
    "duration": 118,
    "start_time": "2025-01-31T14:12:56.656Z"
   },
   {
    "duration": 4,
    "start_time": "2025-01-31T14:12:56.775Z"
   },
   {
    "duration": 17,
    "start_time": "2025-01-31T14:12:56.781Z"
   },
   {
    "duration": 7,
    "start_time": "2025-01-31T14:12:56.800Z"
   },
   {
    "duration": 12,
    "start_time": "2025-01-31T14:12:56.809Z"
   },
   {
    "duration": 20,
    "start_time": "2025-01-31T14:12:56.823Z"
   },
   {
    "duration": 187,
    "start_time": "2025-01-31T14:12:56.845Z"
   },
   {
    "duration": 111,
    "start_time": "2025-01-31T14:12:57.045Z"
   },
   {
    "duration": 175,
    "start_time": "2025-01-31T14:12:57.158Z"
   },
   {
    "duration": 268,
    "start_time": "2025-01-31T14:12:57.335Z"
   },
   {
    "duration": 258,
    "start_time": "2025-01-31T14:12:57.606Z"
   },
   {
    "duration": 230,
    "start_time": "2025-01-31T14:12:57.867Z"
   },
   {
    "duration": 16,
    "start_time": "2025-01-31T14:12:58.100Z"
   },
   {
    "duration": 82,
    "start_time": "2025-01-31T14:12:58.140Z"
   },
   {
    "duration": 28,
    "start_time": "2025-01-31T14:12:58.224Z"
   },
   {
    "duration": 12,
    "start_time": "2025-01-31T14:12:58.253Z"
   },
   {
    "duration": 22,
    "start_time": "2025-01-31T14:12:58.267Z"
   },
   {
    "duration": 53,
    "start_time": "2025-01-31T14:12:58.291Z"
   },
   {
    "duration": 5,
    "start_time": "2025-01-31T14:12:58.345Z"
   },
   {
    "duration": 364,
    "start_time": "2025-01-31T14:12:58.351Z"
   },
   {
    "duration": 226,
    "start_time": "2025-01-31T14:12:58.717Z"
   },
   {
    "duration": 227,
    "start_time": "2025-01-31T14:12:58.949Z"
   },
   {
    "duration": 239,
    "start_time": "2025-01-31T14:12:59.178Z"
   },
   {
    "duration": 29,
    "start_time": "2025-01-31T14:12:59.418Z"
   },
   {
    "duration": 18,
    "start_time": "2025-01-31T14:12:59.451Z"
   },
   {
    "duration": 15,
    "start_time": "2025-01-31T14:12:59.471Z"
   },
   {
    "duration": 11,
    "start_time": "2025-01-31T14:12:59.488Z"
   },
   {
    "duration": 26,
    "start_time": "2025-01-31T14:12:59.533Z"
   },
   {
    "duration": 4,
    "start_time": "2025-01-31T14:12:59.561Z"
   },
   {
    "duration": 219,
    "start_time": "2025-01-31T14:12:59.567Z"
   },
   {
    "duration": 5,
    "start_time": "2025-01-31T14:12:59.788Z"
   },
   {
    "duration": 8,
    "start_time": "2025-01-31T14:12:59.794Z"
   },
   {
    "duration": 9,
    "start_time": "2025-01-31T14:12:59.804Z"
   },
   {
    "duration": 5,
    "start_time": "2025-01-31T14:12:59.842Z"
   },
   {
    "duration": 1600,
    "start_time": "2025-01-31T14:15:16.445Z"
   },
   {
    "duration": 1546,
    "start_time": "2025-01-31T14:16:07.337Z"
   },
   {
    "duration": 1642,
    "start_time": "2025-01-31T14:17:08.515Z"
   },
   {
    "duration": 3,
    "start_time": "2025-01-31T14:21:31.315Z"
   },
   {
    "duration": 0,
    "start_time": "2025-01-31T14:22:06.545Z"
   },
   {
    "duration": 0,
    "start_time": "2025-01-31T14:22:06.546Z"
   },
   {
    "duration": 0,
    "start_time": "2025-01-31T14:22:06.547Z"
   },
   {
    "duration": 0,
    "start_time": "2025-01-31T14:22:06.548Z"
   },
   {
    "duration": 0,
    "start_time": "2025-01-31T14:22:06.549Z"
   },
   {
    "duration": 0,
    "start_time": "2025-01-31T14:22:06.550Z"
   },
   {
    "duration": 0,
    "start_time": "2025-01-31T14:22:06.551Z"
   },
   {
    "duration": 0,
    "start_time": "2025-01-31T14:22:06.552Z"
   },
   {
    "duration": 0,
    "start_time": "2025-01-31T14:22:06.553Z"
   },
   {
    "duration": 0,
    "start_time": "2025-01-31T14:22:06.554Z"
   },
   {
    "duration": 0,
    "start_time": "2025-01-31T14:22:06.555Z"
   },
   {
    "duration": 0,
    "start_time": "2025-01-31T14:22:06.556Z"
   },
   {
    "duration": 0,
    "start_time": "2025-01-31T14:22:06.557Z"
   },
   {
    "duration": 0,
    "start_time": "2025-01-31T14:22:06.558Z"
   },
   {
    "duration": 0,
    "start_time": "2025-01-31T14:22:06.559Z"
   },
   {
    "duration": 0,
    "start_time": "2025-01-31T14:22:06.663Z"
   },
   {
    "duration": 0,
    "start_time": "2025-01-31T14:22:06.664Z"
   },
   {
    "duration": 0,
    "start_time": "2025-01-31T14:22:06.665Z"
   },
   {
    "duration": 0,
    "start_time": "2025-01-31T14:22:06.666Z"
   },
   {
    "duration": 0,
    "start_time": "2025-01-31T14:22:06.668Z"
   },
   {
    "duration": 0,
    "start_time": "2025-01-31T14:22:06.669Z"
   },
   {
    "duration": 0,
    "start_time": "2025-01-31T14:22:06.670Z"
   },
   {
    "duration": 0,
    "start_time": "2025-01-31T14:22:06.671Z"
   },
   {
    "duration": 0,
    "start_time": "2025-01-31T14:22:06.672Z"
   },
   {
    "duration": 0,
    "start_time": "2025-01-31T14:22:06.673Z"
   },
   {
    "duration": 0,
    "start_time": "2025-01-31T14:22:06.674Z"
   },
   {
    "duration": 0,
    "start_time": "2025-01-31T14:22:06.675Z"
   },
   {
    "duration": 0,
    "start_time": "2025-01-31T14:22:06.676Z"
   },
   {
    "duration": 0,
    "start_time": "2025-01-31T14:22:06.677Z"
   },
   {
    "duration": 0,
    "start_time": "2025-01-31T14:22:06.678Z"
   },
   {
    "duration": 0,
    "start_time": "2025-01-31T14:22:06.679Z"
   },
   {
    "duration": 0,
    "start_time": "2025-01-31T14:22:06.680Z"
   },
   {
    "duration": 0,
    "start_time": "2025-01-31T14:22:06.681Z"
   },
   {
    "duration": 0,
    "start_time": "2025-01-31T14:22:06.682Z"
   },
   {
    "duration": 0,
    "start_time": "2025-01-31T14:22:06.684Z"
   },
   {
    "duration": 0,
    "start_time": "2025-01-31T14:22:06.684Z"
   },
   {
    "duration": 0,
    "start_time": "2025-01-31T14:22:06.686Z"
   },
   {
    "duration": 0,
    "start_time": "2025-01-31T14:22:06.687Z"
   },
   {
    "duration": 0,
    "start_time": "2025-01-31T14:22:06.688Z"
   },
   {
    "duration": 0,
    "start_time": "2025-01-31T14:22:06.733Z"
   },
   {
    "duration": 0,
    "start_time": "2025-01-31T14:22:06.740Z"
   },
   {
    "duration": 0,
    "start_time": "2025-01-31T14:22:06.740Z"
   },
   {
    "duration": 0,
    "start_time": "2025-01-31T14:22:06.741Z"
   },
   {
    "duration": 0,
    "start_time": "2025-01-31T14:22:06.742Z"
   },
   {
    "duration": 0,
    "start_time": "2025-01-31T14:22:06.742Z"
   },
   {
    "duration": 0,
    "start_time": "2025-01-31T14:22:06.744Z"
   },
   {
    "duration": 0,
    "start_time": "2025-01-31T14:22:06.748Z"
   },
   {
    "duration": 0,
    "start_time": "2025-01-31T14:22:06.749Z"
   },
   {
    "duration": 0,
    "start_time": "2025-01-31T14:22:06.750Z"
   },
   {
    "duration": 0,
    "start_time": "2025-01-31T14:22:06.751Z"
   },
   {
    "duration": 0,
    "start_time": "2025-01-31T14:22:06.752Z"
   },
   {
    "duration": 3501,
    "start_time": "2025-01-31T14:22:45.916Z"
   },
   {
    "duration": 60,
    "start_time": "2025-01-31T14:22:49.419Z"
   },
   {
    "duration": 13,
    "start_time": "2025-01-31T14:22:49.481Z"
   },
   {
    "duration": 12,
    "start_time": "2025-01-31T14:22:49.496Z"
   },
   {
    "duration": 9,
    "start_time": "2025-01-31T14:22:49.510Z"
   },
   {
    "duration": 24,
    "start_time": "2025-01-31T14:22:49.521Z"
   },
   {
    "duration": 9,
    "start_time": "2025-01-31T14:22:49.547Z"
   },
   {
    "duration": 7,
    "start_time": "2025-01-31T14:22:49.558Z"
   },
   {
    "duration": 11,
    "start_time": "2025-01-31T14:22:49.567Z"
   },
   {
    "duration": 13,
    "start_time": "2025-01-31T14:22:49.581Z"
   },
   {
    "duration": 5,
    "start_time": "2025-01-31T14:22:49.595Z"
   },
   {
    "duration": 48,
    "start_time": "2025-01-31T14:22:49.601Z"
   },
   {
    "duration": 9,
    "start_time": "2025-01-31T14:22:49.650Z"
   },
   {
    "duration": 5,
    "start_time": "2025-01-31T14:22:49.661Z"
   },
   {
    "duration": 6,
    "start_time": "2025-01-31T14:22:49.667Z"
   },
   {
    "duration": 8,
    "start_time": "2025-01-31T14:22:49.674Z"
   },
   {
    "duration": 7,
    "start_time": "2025-01-31T14:22:49.683Z"
   },
   {
    "duration": 3,
    "start_time": "2025-01-31T14:22:49.692Z"
   },
   {
    "duration": 9,
    "start_time": "2025-01-31T14:22:49.697Z"
   },
   {
    "duration": 9,
    "start_time": "2025-01-31T14:22:49.743Z"
   },
   {
    "duration": 7,
    "start_time": "2025-01-31T14:22:49.753Z"
   },
   {
    "duration": 5,
    "start_time": "2025-01-31T14:22:49.761Z"
   },
   {
    "duration": 198,
    "start_time": "2025-01-31T14:22:49.767Z"
   },
   {
    "duration": 114,
    "start_time": "2025-01-31T14:22:49.967Z"
   },
   {
    "duration": 183,
    "start_time": "2025-01-31T14:22:50.082Z"
   },
   {
    "duration": 241,
    "start_time": "2025-01-31T14:22:50.267Z"
   },
   {
    "duration": 252,
    "start_time": "2025-01-31T14:22:50.511Z"
   },
   {
    "duration": 219,
    "start_time": "2025-01-31T14:22:50.767Z"
   },
   {
    "duration": 17,
    "start_time": "2025-01-31T14:22:50.987Z"
   },
   {
    "duration": 44,
    "start_time": "2025-01-31T14:22:51.006Z"
   },
   {
    "duration": 25,
    "start_time": "2025-01-31T14:22:51.052Z"
   },
   {
    "duration": 12,
    "start_time": "2025-01-31T14:22:51.078Z"
   },
   {
    "duration": 24,
    "start_time": "2025-01-31T14:22:51.092Z"
   },
   {
    "duration": 25,
    "start_time": "2025-01-31T14:22:51.141Z"
   },
   {
    "duration": 4,
    "start_time": "2025-01-31T14:22:51.168Z"
   },
   {
    "duration": 344,
    "start_time": "2025-01-31T14:22:51.174Z"
   },
   {
    "duration": 236,
    "start_time": "2025-01-31T14:22:51.520Z"
   },
   {
    "duration": 230,
    "start_time": "2025-01-31T14:22:51.757Z"
   },
   {
    "duration": 240,
    "start_time": "2025-01-31T14:22:51.988Z"
   },
   {
    "duration": 29,
    "start_time": "2025-01-31T14:22:52.230Z"
   },
   {
    "duration": 19,
    "start_time": "2025-01-31T14:22:52.260Z"
   },
   {
    "duration": 15,
    "start_time": "2025-01-31T14:22:52.281Z"
   },
   {
    "duration": 39,
    "start_time": "2025-01-31T14:22:52.298Z"
   },
   {
    "duration": 30,
    "start_time": "2025-01-31T14:22:52.338Z"
   },
   {
    "duration": 4,
    "start_time": "2025-01-31T14:22:52.369Z"
   },
   {
    "duration": 216,
    "start_time": "2025-01-31T14:22:52.375Z"
   },
   {
    "duration": 5,
    "start_time": "2025-01-31T14:22:52.593Z"
   },
   {
    "duration": 4,
    "start_time": "2025-01-31T14:22:52.600Z"
   },
   {
    "duration": 12,
    "start_time": "2025-01-31T14:22:52.605Z"
   },
   {
    "duration": 8,
    "start_time": "2025-01-31T14:22:52.637Z"
   },
   {
    "duration": 3963,
    "start_time": "2025-01-31T14:22:52.648Z"
   },
   {
    "duration": 11,
    "start_time": "2025-01-31T14:24:16.279Z"
   },
   {
    "duration": 10,
    "start_time": "2025-01-31T14:24:16.961Z"
   },
   {
    "duration": 12,
    "start_time": "2025-01-31T14:24:40.370Z"
   },
   {
    "duration": 1665,
    "start_time": "2025-01-31T14:28:16.360Z"
   },
   {
    "duration": 1602,
    "start_time": "2025-01-31T14:28:42.130Z"
   },
   {
    "duration": 11,
    "start_time": "2025-01-31T15:02:29.870Z"
   },
   {
    "duration": 61,
    "start_time": "2025-01-31T15:02:37.559Z"
   },
   {
    "duration": 1659,
    "start_time": "2025-01-31T15:03:00.100Z"
   },
   {
    "duration": 12,
    "start_time": "2025-01-31T15:15:31.104Z"
   },
   {
    "duration": 1698,
    "start_time": "2025-01-31T15:17:20.557Z"
   },
   {
    "duration": 1668,
    "start_time": "2025-01-31T15:18:04.006Z"
   },
   {
    "duration": 1528,
    "start_time": "2025-01-31T15:19:07.921Z"
   },
   {
    "duration": 1574,
    "start_time": "2025-01-31T15:22:56.479Z"
   },
   {
    "duration": 1162,
    "start_time": "2025-01-31T15:23:19.952Z"
   },
   {
    "duration": 68,
    "start_time": "2025-01-31T15:23:21.116Z"
   },
   {
    "duration": 14,
    "start_time": "2025-01-31T15:23:21.185Z"
   },
   {
    "duration": 20,
    "start_time": "2025-01-31T15:23:21.201Z"
   },
   {
    "duration": 10,
    "start_time": "2025-01-31T15:23:21.223Z"
   },
   {
    "duration": 35,
    "start_time": "2025-01-31T15:23:21.234Z"
   },
   {
    "duration": 23,
    "start_time": "2025-01-31T15:23:21.271Z"
   },
   {
    "duration": 8,
    "start_time": "2025-01-31T15:23:21.295Z"
   },
   {
    "duration": 8,
    "start_time": "2025-01-31T15:23:21.305Z"
   },
   {
    "duration": 21,
    "start_time": "2025-01-31T15:23:21.315Z"
   },
   {
    "duration": 10,
    "start_time": "2025-01-31T15:23:21.338Z"
   },
   {
    "duration": 15,
    "start_time": "2025-01-31T15:23:21.350Z"
   },
   {
    "duration": 9,
    "start_time": "2025-01-31T15:23:21.366Z"
   },
   {
    "duration": 5,
    "start_time": "2025-01-31T15:23:21.376Z"
   },
   {
    "duration": 8,
    "start_time": "2025-01-31T15:23:21.383Z"
   },
   {
    "duration": 7,
    "start_time": "2025-01-31T15:23:21.393Z"
   },
   {
    "duration": 31,
    "start_time": "2025-01-31T15:23:21.402Z"
   },
   {
    "duration": 15,
    "start_time": "2025-01-31T15:23:21.435Z"
   },
   {
    "duration": 17,
    "start_time": "2025-01-31T15:23:21.452Z"
   },
   {
    "duration": 7,
    "start_time": "2025-01-31T15:23:21.471Z"
   },
   {
    "duration": 14,
    "start_time": "2025-01-31T15:23:21.480Z"
   },
   {
    "duration": 9,
    "start_time": "2025-01-31T15:23:21.496Z"
   },
   {
    "duration": 185,
    "start_time": "2025-01-31T15:23:21.507Z"
   },
   {
    "duration": 101,
    "start_time": "2025-01-31T15:23:21.693Z"
   },
   {
    "duration": 166,
    "start_time": "2025-01-31T15:23:21.796Z"
   },
   {
    "duration": 215,
    "start_time": "2025-01-31T15:23:21.964Z"
   },
   {
    "duration": 216,
    "start_time": "2025-01-31T15:23:22.180Z"
   },
   {
    "duration": 205,
    "start_time": "2025-01-31T15:23:22.400Z"
   },
   {
    "duration": 15,
    "start_time": "2025-01-31T15:23:22.606Z"
   },
   {
    "duration": 15,
    "start_time": "2025-01-31T15:23:22.633Z"
   },
   {
    "duration": 22,
    "start_time": "2025-01-31T15:23:22.650Z"
   },
   {
    "duration": 11,
    "start_time": "2025-01-31T15:23:22.674Z"
   },
   {
    "duration": 19,
    "start_time": "2025-01-31T15:23:22.686Z"
   },
   {
    "duration": 22,
    "start_time": "2025-01-31T15:23:22.733Z"
   },
   {
    "duration": 3,
    "start_time": "2025-01-31T15:23:22.757Z"
   },
   {
    "duration": 314,
    "start_time": "2025-01-31T15:23:22.762Z"
   },
   {
    "duration": 219,
    "start_time": "2025-01-31T15:23:23.078Z"
   },
   {
    "duration": 228,
    "start_time": "2025-01-31T15:23:23.299Z"
   },
   {
    "duration": 231,
    "start_time": "2025-01-31T15:23:23.532Z"
   },
   {
    "duration": 23,
    "start_time": "2025-01-31T15:23:23.765Z"
   },
   {
    "duration": 19,
    "start_time": "2025-01-31T15:23:23.790Z"
   },
   {
    "duration": 32,
    "start_time": "2025-01-31T15:23:23.811Z"
   },
   {
    "duration": 17,
    "start_time": "2025-01-31T15:23:23.845Z"
   },
   {
    "duration": 38,
    "start_time": "2025-01-31T15:23:23.864Z"
   },
   {
    "duration": 4,
    "start_time": "2025-01-31T15:23:23.903Z"
   },
   {
    "duration": 207,
    "start_time": "2025-01-31T15:23:23.909Z"
   },
   {
    "duration": 6,
    "start_time": "2025-01-31T15:23:24.117Z"
   },
   {
    "duration": 6,
    "start_time": "2025-01-31T15:23:24.133Z"
   },
   {
    "duration": 20,
    "start_time": "2025-01-31T15:23:24.140Z"
   },
   {
    "duration": 4,
    "start_time": "2025-01-31T15:23:24.162Z"
   },
   {
    "duration": 1466,
    "start_time": "2025-01-31T15:23:24.168Z"
   },
   {
    "duration": 1504,
    "start_time": "2025-01-31T15:25:08.545Z"
   },
   {
    "duration": 1735,
    "start_time": "2025-01-31T15:25:29.635Z"
   },
   {
    "duration": 15310,
    "start_time": "2025-01-31T15:27:19.054Z"
   },
   {
    "duration": 1556,
    "start_time": "2025-01-31T15:28:34.125Z"
   },
   {
    "duration": 5459,
    "start_time": "2025-01-31T15:29:44.052Z"
   },
   {
    "duration": 14929,
    "start_time": "2025-01-31T15:29:53.379Z"
   },
   {
    "duration": 1582,
    "start_time": "2025-01-31T15:32:37.942Z"
   },
   {
    "duration": 1502,
    "start_time": "2025-01-31T15:36:43.981Z"
   },
   {
    "duration": 3,
    "start_time": "2025-01-31T15:37:35.855Z"
   },
   {
    "duration": 9,
    "start_time": "2025-01-31T15:37:38.838Z"
   },
   {
    "duration": 4,
    "start_time": "2025-01-31T15:37:42.430Z"
   },
   {
    "duration": 3,
    "start_time": "2025-01-31T15:37:55.455Z"
   },
   {
    "duration": 3,
    "start_time": "2025-01-31T15:37:58.664Z"
   },
   {
    "duration": 4,
    "start_time": "2025-01-31T15:38:11.408Z"
   },
   {
    "duration": 3,
    "start_time": "2025-01-31T15:38:17.160Z"
   },
   {
    "duration": 3,
    "start_time": "2025-01-31T15:39:12.434Z"
   },
   {
    "duration": 5,
    "start_time": "2025-01-31T15:39:25.770Z"
   },
   {
    "duration": 5,
    "start_time": "2025-01-31T15:39:48.067Z"
   },
   {
    "duration": 52,
    "start_time": "2025-01-31T15:40:11.970Z"
   },
   {
    "duration": 10,
    "start_time": "2025-01-31T15:40:47.631Z"
   },
   {
    "duration": 51,
    "start_time": "2025-01-31T15:41:05.999Z"
   },
   {
    "duration": 1495,
    "start_time": "2025-01-31T15:43:04.955Z"
   },
   {
    "duration": 772,
    "start_time": "2025-01-31T15:45:54.930Z"
   },
   {
    "duration": 10,
    "start_time": "2025-01-31T15:46:35.524Z"
   },
   {
    "duration": 10,
    "start_time": "2025-01-31T15:46:47.629Z"
   },
   {
    "duration": 11,
    "start_time": "2025-01-31T15:47:02.262Z"
   },
   {
    "duration": 110,
    "start_time": "2025-01-31T15:48:05.489Z"
   },
   {
    "duration": 111,
    "start_time": "2025-01-31T15:48:21.905Z"
   },
   {
    "duration": 116,
    "start_time": "2025-01-31T15:51:40.440Z"
   },
   {
    "duration": 0,
    "start_time": "2025-01-31T15:55:24.437Z"
   },
   {
    "duration": 36849,
    "start_time": "2025-01-31T15:55:40.529Z"
   },
   {
    "duration": 10,
    "start_time": "2025-01-31T15:58:19.552Z"
   },
   {
    "duration": 5,
    "start_time": "2025-01-31T15:59:00.985Z"
   },
   {
    "duration": 6,
    "start_time": "2025-01-31T15:59:11.457Z"
   },
   {
    "duration": 5,
    "start_time": "2025-01-31T15:59:20.938Z"
   },
   {
    "duration": 6,
    "start_time": "2025-01-31T16:01:49.544Z"
   },
   {
    "duration": 6,
    "start_time": "2025-01-31T16:02:06.569Z"
   },
   {
    "duration": 6,
    "start_time": "2025-01-31T16:02:35.930Z"
   },
   {
    "duration": 6,
    "start_time": "2025-01-31T16:02:49.952Z"
   },
   {
    "duration": 5,
    "start_time": "2025-01-31T16:07:20.605Z"
   },
   {
    "duration": 7,
    "start_time": "2025-01-31T16:10:34.196Z"
   },
   {
    "duration": 6,
    "start_time": "2025-01-31T16:10:57.627Z"
   },
   {
    "duration": 5,
    "start_time": "2025-01-31T16:11:24.926Z"
   },
   {
    "duration": 6,
    "start_time": "2025-01-31T16:11:29.398Z"
   },
   {
    "duration": 1518,
    "start_time": "2025-01-31T16:12:32.562Z"
   },
   {
    "duration": 1611,
    "start_time": "2025-01-31T16:12:49.241Z"
   },
   {
    "duration": 11,
    "start_time": "2025-01-31T16:14:08.877Z"
   },
   {
    "duration": 0,
    "start_time": "2025-01-31T16:14:30.915Z"
   },
   {
    "duration": 11,
    "start_time": "2025-01-31T16:14:33.046Z"
   },
   {
    "duration": 1504,
    "start_time": "2025-01-31T16:15:09.304Z"
   },
   {
    "duration": 1252,
    "start_time": "2025-01-31T16:16:11.861Z"
   },
   {
    "duration": 79,
    "start_time": "2025-01-31T16:16:13.115Z"
   },
   {
    "duration": 12,
    "start_time": "2025-01-31T16:16:13.196Z"
   },
   {
    "duration": 10,
    "start_time": "2025-01-31T16:16:13.210Z"
   },
   {
    "duration": 11,
    "start_time": "2025-01-31T16:16:13.222Z"
   },
   {
    "duration": 12,
    "start_time": "2025-01-31T16:16:13.235Z"
   },
   {
    "duration": 8,
    "start_time": "2025-01-31T16:16:13.249Z"
   },
   {
    "duration": 8,
    "start_time": "2025-01-31T16:16:13.259Z"
   },
   {
    "duration": 9,
    "start_time": "2025-01-31T16:16:13.269Z"
   },
   {
    "duration": 11,
    "start_time": "2025-01-31T16:16:13.279Z"
   },
   {
    "duration": 4,
    "start_time": "2025-01-31T16:16:13.292Z"
   },
   {
    "duration": 44,
    "start_time": "2025-01-31T16:16:13.298Z"
   },
   {
    "duration": 9,
    "start_time": "2025-01-31T16:16:13.343Z"
   },
   {
    "duration": 17,
    "start_time": "2025-01-31T16:16:13.355Z"
   },
   {
    "duration": 5,
    "start_time": "2025-01-31T16:16:13.374Z"
   },
   {
    "duration": 7,
    "start_time": "2025-01-31T16:16:13.381Z"
   },
   {
    "duration": 5,
    "start_time": "2025-01-31T16:16:13.389Z"
   },
   {
    "duration": 15,
    "start_time": "2025-01-31T16:16:13.396Z"
   },
   {
    "duration": 29,
    "start_time": "2025-01-31T16:16:13.412Z"
   },
   {
    "duration": 9,
    "start_time": "2025-01-31T16:16:13.442Z"
   },
   {
    "duration": 7,
    "start_time": "2025-01-31T16:16:13.452Z"
   },
   {
    "duration": 7,
    "start_time": "2025-01-31T16:16:13.461Z"
   },
   {
    "duration": 201,
    "start_time": "2025-01-31T16:16:13.469Z"
   },
   {
    "duration": 99,
    "start_time": "2025-01-31T16:16:13.672Z"
   },
   {
    "duration": 162,
    "start_time": "2025-01-31T16:16:13.773Z"
   },
   {
    "duration": 216,
    "start_time": "2025-01-31T16:16:13.936Z"
   },
   {
    "duration": 217,
    "start_time": "2025-01-31T16:16:14.154Z"
   },
   {
    "duration": 206,
    "start_time": "2025-01-31T16:16:14.372Z"
   },
   {
    "duration": 16,
    "start_time": "2025-01-31T16:16:14.580Z"
   },
   {
    "duration": 17,
    "start_time": "2025-01-31T16:16:14.598Z"
   },
   {
    "duration": 25,
    "start_time": "2025-01-31T16:16:14.633Z"
   },
   {
    "duration": 12,
    "start_time": "2025-01-31T16:16:14.660Z"
   },
   {
    "duration": 26,
    "start_time": "2025-01-31T16:16:14.674Z"
   },
   {
    "duration": 43,
    "start_time": "2025-01-31T16:16:14.702Z"
   },
   {
    "duration": 4,
    "start_time": "2025-01-31T16:16:14.746Z"
   },
   {
    "duration": 330,
    "start_time": "2025-01-31T16:16:14.751Z"
   },
   {
    "duration": 225,
    "start_time": "2025-01-31T16:16:15.082Z"
   },
   {
    "duration": 224,
    "start_time": "2025-01-31T16:16:15.308Z"
   },
   {
    "duration": 237,
    "start_time": "2025-01-31T16:16:15.534Z"
   },
   {
    "duration": 22,
    "start_time": "2025-01-31T16:16:15.773Z"
   },
   {
    "duration": 35,
    "start_time": "2025-01-31T16:16:15.799Z"
   },
   {
    "duration": 17,
    "start_time": "2025-01-31T16:16:15.835Z"
   },
   {
    "duration": 10,
    "start_time": "2025-01-31T16:16:15.854Z"
   },
   {
    "duration": 20,
    "start_time": "2025-01-31T16:16:15.866Z"
   },
   {
    "duration": 4,
    "start_time": "2025-01-31T16:16:15.888Z"
   },
   {
    "duration": 230,
    "start_time": "2025-01-31T16:16:15.893Z"
   },
   {
    "duration": 10,
    "start_time": "2025-01-31T16:16:16.125Z"
   },
   {
    "duration": 11,
    "start_time": "2025-01-31T16:16:16.137Z"
   },
   {
    "duration": 19,
    "start_time": "2025-01-31T16:16:16.150Z"
   },
   {
    "duration": 6,
    "start_time": "2025-01-31T16:16:16.170Z"
   },
   {
    "duration": 1597,
    "start_time": "2025-01-31T16:16:16.178Z"
   },
   {
    "duration": 0,
    "start_time": "2025-01-31T16:16:17.777Z"
   },
   {
    "duration": 0,
    "start_time": "2025-01-31T16:16:17.779Z"
   },
   {
    "duration": 5043,
    "start_time": "2025-01-31T16:17:22.816Z"
   },
   {
    "duration": 58,
    "start_time": "2025-01-31T16:17:27.861Z"
   },
   {
    "duration": 14,
    "start_time": "2025-01-31T16:17:27.920Z"
   },
   {
    "duration": 17,
    "start_time": "2025-01-31T16:17:27.937Z"
   },
   {
    "duration": 13,
    "start_time": "2025-01-31T16:17:27.955Z"
   },
   {
    "duration": 14,
    "start_time": "2025-01-31T16:17:27.970Z"
   },
   {
    "duration": 18,
    "start_time": "2025-01-31T16:17:27.986Z"
   },
   {
    "duration": 16,
    "start_time": "2025-01-31T16:17:28.006Z"
   },
   {
    "duration": 18,
    "start_time": "2025-01-31T16:17:28.032Z"
   },
   {
    "duration": 10,
    "start_time": "2025-01-31T16:17:28.052Z"
   },
   {
    "duration": 6,
    "start_time": "2025-01-31T16:17:28.064Z"
   },
   {
    "duration": 18,
    "start_time": "2025-01-31T16:17:28.071Z"
   },
   {
    "duration": 8,
    "start_time": "2025-01-31T16:17:28.091Z"
   },
   {
    "duration": 3,
    "start_time": "2025-01-31T16:17:28.101Z"
   },
   {
    "duration": 11,
    "start_time": "2025-01-31T16:17:28.106Z"
   },
   {
    "duration": 7,
    "start_time": "2025-01-31T16:17:28.133Z"
   },
   {
    "duration": 6,
    "start_time": "2025-01-31T16:17:28.142Z"
   },
   {
    "duration": 3,
    "start_time": "2025-01-31T16:17:28.150Z"
   },
   {
    "duration": 8,
    "start_time": "2025-01-31T16:17:28.155Z"
   },
   {
    "duration": 7,
    "start_time": "2025-01-31T16:17:28.164Z"
   },
   {
    "duration": 13,
    "start_time": "2025-01-31T16:17:28.173Z"
   },
   {
    "duration": 5,
    "start_time": "2025-01-31T16:17:28.187Z"
   },
   {
    "duration": 214,
    "start_time": "2025-01-31T16:17:28.193Z"
   },
   {
    "duration": 103,
    "start_time": "2025-01-31T16:17:28.408Z"
   },
   {
    "duration": 169,
    "start_time": "2025-01-31T16:17:28.513Z"
   },
   {
    "duration": 227,
    "start_time": "2025-01-31T16:17:28.683Z"
   },
   {
    "duration": 225,
    "start_time": "2025-01-31T16:17:28.912Z"
   },
   {
    "duration": 205,
    "start_time": "2025-01-31T16:17:29.140Z"
   },
   {
    "duration": 18,
    "start_time": "2025-01-31T16:17:29.346Z"
   },
   {
    "duration": 16,
    "start_time": "2025-01-31T16:17:29.366Z"
   },
   {
    "duration": 50,
    "start_time": "2025-01-31T16:17:29.384Z"
   },
   {
    "duration": 12,
    "start_time": "2025-01-31T16:17:29.436Z"
   },
   {
    "duration": 21,
    "start_time": "2025-01-31T16:17:29.450Z"
   },
   {
    "duration": 22,
    "start_time": "2025-01-31T16:17:29.473Z"
   },
   {
    "duration": 38,
    "start_time": "2025-01-31T16:17:29.497Z"
   },
   {
    "duration": 310,
    "start_time": "2025-01-31T16:17:29.536Z"
   },
   {
    "duration": 217,
    "start_time": "2025-01-31T16:17:29.848Z"
   },
   {
    "duration": 218,
    "start_time": "2025-01-31T16:17:30.066Z"
   },
   {
    "duration": 235,
    "start_time": "2025-01-31T16:17:30.286Z"
   },
   {
    "duration": 27,
    "start_time": "2025-01-31T16:17:30.522Z"
   },
   {
    "duration": 19,
    "start_time": "2025-01-31T16:17:30.551Z"
   },
   {
    "duration": 16,
    "start_time": "2025-01-31T16:17:30.572Z"
   },
   {
    "duration": 76,
    "start_time": "2025-01-31T16:17:30.589Z"
   },
   {
    "duration": 79,
    "start_time": "2025-01-31T16:17:30.667Z"
   },
   {
    "duration": 4,
    "start_time": "2025-01-31T16:17:30.748Z"
   },
   {
    "duration": 205,
    "start_time": "2025-01-31T16:17:30.754Z"
   },
   {
    "duration": 7,
    "start_time": "2025-01-31T16:17:30.961Z"
   },
   {
    "duration": 28,
    "start_time": "2025-01-31T16:17:30.969Z"
   },
   {
    "duration": 16,
    "start_time": "2025-01-31T16:17:30.999Z"
   },
   {
    "duration": 21,
    "start_time": "2025-01-31T16:17:31.017Z"
   },
   {
    "duration": 1442,
    "start_time": "2025-01-31T16:17:31.040Z"
   },
   {
    "duration": 6,
    "start_time": "2025-01-31T16:17:32.484Z"
   },
   {
    "duration": 70,
    "start_time": "2025-01-31T16:17:32.491Z"
   },
   {
    "duration": 132,
    "start_time": "2025-01-31T16:18:22.590Z"
   },
   {
    "duration": 6,
    "start_time": "2025-01-31T16:29:29.175Z"
   },
   {
    "duration": 0,
    "start_time": "2025-01-31T16:29:47.047Z"
   },
   {
    "duration": 6,
    "start_time": "2025-01-31T16:29:48.520Z"
   },
   {
    "duration": 4360,
    "start_time": "2025-01-31T16:31:15.245Z"
   },
   {
    "duration": 59,
    "start_time": "2025-01-31T16:31:19.607Z"
   },
   {
    "duration": 12,
    "start_time": "2025-01-31T16:31:19.668Z"
   },
   {
    "duration": 21,
    "start_time": "2025-01-31T16:31:19.681Z"
   },
   {
    "duration": 12,
    "start_time": "2025-01-31T16:31:19.704Z"
   },
   {
    "duration": 13,
    "start_time": "2025-01-31T16:31:19.717Z"
   },
   {
    "duration": 8,
    "start_time": "2025-01-31T16:31:19.731Z"
   },
   {
    "duration": 9,
    "start_time": "2025-01-31T16:31:19.741Z"
   },
   {
    "duration": 8,
    "start_time": "2025-01-31T16:31:19.753Z"
   },
   {
    "duration": 11,
    "start_time": "2025-01-31T16:31:19.763Z"
   },
   {
    "duration": 5,
    "start_time": "2025-01-31T16:31:19.776Z"
   },
   {
    "duration": 10,
    "start_time": "2025-01-31T16:31:19.783Z"
   },
   {
    "duration": 39,
    "start_time": "2025-01-31T16:31:19.795Z"
   },
   {
    "duration": 13,
    "start_time": "2025-01-31T16:31:19.836Z"
   },
   {
    "duration": 6,
    "start_time": "2025-01-31T16:31:19.850Z"
   },
   {
    "duration": 10,
    "start_time": "2025-01-31T16:31:19.857Z"
   },
   {
    "duration": 4,
    "start_time": "2025-01-31T16:31:19.869Z"
   },
   {
    "duration": 7,
    "start_time": "2025-01-31T16:31:19.875Z"
   },
   {
    "duration": 9,
    "start_time": "2025-01-31T16:31:19.883Z"
   },
   {
    "duration": 6,
    "start_time": "2025-01-31T16:31:19.893Z"
   },
   {
    "duration": 6,
    "start_time": "2025-01-31T16:31:19.934Z"
   },
   {
    "duration": 8,
    "start_time": "2025-01-31T16:31:19.942Z"
   },
   {
    "duration": 192,
    "start_time": "2025-01-31T16:31:19.952Z"
   },
   {
    "duration": 103,
    "start_time": "2025-01-31T16:31:20.146Z"
   },
   {
    "duration": 176,
    "start_time": "2025-01-31T16:31:20.251Z"
   },
   {
    "duration": 226,
    "start_time": "2025-01-31T16:31:20.429Z"
   },
   {
    "duration": 223,
    "start_time": "2025-01-31T16:31:20.656Z"
   },
   {
    "duration": 204,
    "start_time": "2025-01-31T16:31:20.881Z"
   },
   {
    "duration": 16,
    "start_time": "2025-01-31T16:31:21.086Z"
   },
   {
    "duration": 34,
    "start_time": "2025-01-31T16:31:21.103Z"
   },
   {
    "duration": 24,
    "start_time": "2025-01-31T16:31:21.139Z"
   },
   {
    "duration": 24,
    "start_time": "2025-01-31T16:31:21.164Z"
   },
   {
    "duration": 24,
    "start_time": "2025-01-31T16:31:21.192Z"
   },
   {
    "duration": 32,
    "start_time": "2025-01-31T16:31:21.218Z"
   },
   {
    "duration": 4,
    "start_time": "2025-01-31T16:31:21.251Z"
   },
   {
    "duration": 319,
    "start_time": "2025-01-31T16:31:21.256Z"
   },
   {
    "duration": 212,
    "start_time": "2025-01-31T16:31:21.577Z"
   },
   {
    "duration": 224,
    "start_time": "2025-01-31T16:31:21.790Z"
   },
   {
    "duration": 229,
    "start_time": "2025-01-31T16:31:22.015Z"
   },
   {
    "duration": 21,
    "start_time": "2025-01-31T16:31:22.246Z"
   },
   {
    "duration": 18,
    "start_time": "2025-01-31T16:31:22.269Z"
   },
   {
    "duration": 16,
    "start_time": "2025-01-31T16:31:22.289Z"
   },
   {
    "duration": 11,
    "start_time": "2025-01-31T16:31:22.332Z"
   },
   {
    "duration": 21,
    "start_time": "2025-01-31T16:31:22.344Z"
   },
   {
    "duration": 4,
    "start_time": "2025-01-31T16:31:22.366Z"
   },
   {
    "duration": 211,
    "start_time": "2025-01-31T16:31:22.371Z"
   },
   {
    "duration": 5,
    "start_time": "2025-01-31T16:31:22.584Z"
   },
   {
    "duration": 5,
    "start_time": "2025-01-31T16:31:22.591Z"
   },
   {
    "duration": 9,
    "start_time": "2025-01-31T16:31:22.597Z"
   },
   {
    "duration": 6,
    "start_time": "2025-01-31T16:31:22.632Z"
   },
   {
    "duration": 1466,
    "start_time": "2025-01-31T16:31:22.639Z"
   },
   {
    "duration": 6,
    "start_time": "2025-01-31T16:31:24.106Z"
   },
   {
    "duration": 20,
    "start_time": "2025-01-31T16:31:24.114Z"
   },
   {
    "duration": 6,
    "start_time": "2025-01-31T16:33:03.959Z"
   },
   {
    "duration": 6,
    "start_time": "2025-01-31T16:33:13.576Z"
   },
   {
    "duration": 7620,
    "start_time": "2025-01-31T16:33:29.690Z"
   },
   {
    "duration": 71,
    "start_time": "2025-01-31T16:33:37.311Z"
   },
   {
    "duration": 12,
    "start_time": "2025-01-31T16:33:37.383Z"
   },
   {
    "duration": 16,
    "start_time": "2025-01-31T16:33:37.397Z"
   },
   {
    "duration": 20,
    "start_time": "2025-01-31T16:33:37.415Z"
   },
   {
    "duration": 12,
    "start_time": "2025-01-31T16:33:37.437Z"
   },
   {
    "duration": 14,
    "start_time": "2025-01-31T16:33:37.451Z"
   },
   {
    "duration": 22,
    "start_time": "2025-01-31T16:33:37.466Z"
   },
   {
    "duration": 11,
    "start_time": "2025-01-31T16:33:37.490Z"
   },
   {
    "duration": 10,
    "start_time": "2025-01-31T16:33:37.503Z"
   },
   {
    "duration": 6,
    "start_time": "2025-01-31T16:33:37.515Z"
   },
   {
    "duration": 24,
    "start_time": "2025-01-31T16:33:37.523Z"
   },
   {
    "duration": 9,
    "start_time": "2025-01-31T16:33:37.549Z"
   },
   {
    "duration": 12,
    "start_time": "2025-01-31T16:33:37.561Z"
   },
   {
    "duration": 41,
    "start_time": "2025-01-31T16:33:37.575Z"
   },
   {
    "duration": 10,
    "start_time": "2025-01-31T16:33:37.618Z"
   },
   {
    "duration": 7,
    "start_time": "2025-01-31T16:33:37.633Z"
   },
   {
    "duration": 14,
    "start_time": "2025-01-31T16:33:37.642Z"
   },
   {
    "duration": 13,
    "start_time": "2025-01-31T16:33:37.658Z"
   },
   {
    "duration": 6,
    "start_time": "2025-01-31T16:33:37.673Z"
   },
   {
    "duration": 22,
    "start_time": "2025-01-31T16:33:37.681Z"
   },
   {
    "duration": 6,
    "start_time": "2025-01-31T16:33:37.705Z"
   },
   {
    "duration": 210,
    "start_time": "2025-01-31T16:33:37.712Z"
   },
   {
    "duration": 99,
    "start_time": "2025-01-31T16:33:37.924Z"
   },
   {
    "duration": 159,
    "start_time": "2025-01-31T16:33:38.032Z"
   },
   {
    "duration": 224,
    "start_time": "2025-01-31T16:33:38.194Z"
   },
   {
    "duration": 231,
    "start_time": "2025-01-31T16:33:38.420Z"
   },
   {
    "duration": 213,
    "start_time": "2025-01-31T16:33:38.653Z"
   },
   {
    "duration": 17,
    "start_time": "2025-01-31T16:33:38.868Z"
   },
   {
    "duration": 17,
    "start_time": "2025-01-31T16:33:38.887Z"
   },
   {
    "duration": 50,
    "start_time": "2025-01-31T16:33:38.906Z"
   },
   {
    "duration": 13,
    "start_time": "2025-01-31T16:33:38.958Z"
   },
   {
    "duration": 22,
    "start_time": "2025-01-31T16:33:38.972Z"
   },
   {
    "duration": 56,
    "start_time": "2025-01-31T16:33:38.996Z"
   },
   {
    "duration": 4,
    "start_time": "2025-01-31T16:33:39.053Z"
   },
   {
    "duration": 326,
    "start_time": "2025-01-31T16:33:39.059Z"
   },
   {
    "duration": 215,
    "start_time": "2025-01-31T16:33:39.387Z"
   },
   {
    "duration": 227,
    "start_time": "2025-01-31T16:33:39.604Z"
   },
   {
    "duration": 230,
    "start_time": "2025-01-31T16:33:39.833Z"
   },
   {
    "duration": 23,
    "start_time": "2025-01-31T16:33:40.065Z"
   },
   {
    "duration": 42,
    "start_time": "2025-01-31T16:33:40.092Z"
   },
   {
    "duration": 16,
    "start_time": "2025-01-31T16:33:40.135Z"
   },
   {
    "duration": 11,
    "start_time": "2025-01-31T16:33:40.153Z"
   },
   {
    "duration": 29,
    "start_time": "2025-01-31T16:33:40.166Z"
   },
   {
    "duration": 4,
    "start_time": "2025-01-31T16:33:40.196Z"
   },
   {
    "duration": 213,
    "start_time": "2025-01-31T16:33:40.201Z"
   },
   {
    "duration": 6,
    "start_time": "2025-01-31T16:33:40.415Z"
   },
   {
    "duration": 20,
    "start_time": "2025-01-31T16:33:40.432Z"
   },
   {
    "duration": 38,
    "start_time": "2025-01-31T16:33:40.453Z"
   },
   {
    "duration": 83,
    "start_time": "2025-01-31T16:33:40.492Z"
   },
   {
    "duration": 1477,
    "start_time": "2025-01-31T16:33:40.576Z"
   },
   {
    "duration": 6,
    "start_time": "2025-01-31T16:33:42.054Z"
   },
   {
    "duration": 3174,
    "start_time": "2025-01-31T16:35:12.983Z"
   },
   {
    "duration": 5,
    "start_time": "2025-01-31T16:35:51.825Z"
   },
   {
    "duration": 5,
    "start_time": "2025-01-31T16:36:50.948Z"
   },
   {
    "duration": 6,
    "start_time": "2025-01-31T16:37:07.603Z"
   },
   {
    "duration": 6,
    "start_time": "2025-01-31T16:38:10.053Z"
   },
   {
    "duration": 6,
    "start_time": "2025-01-31T16:38:23.925Z"
   },
   {
    "duration": 5,
    "start_time": "2025-01-31T16:41:55.086Z"
   },
   {
    "duration": 6,
    "start_time": "2025-01-31T16:42:00.542Z"
   },
   {
    "duration": 42,
    "start_time": "2025-01-31T16:42:30.771Z"
   },
   {
    "duration": 63,
    "start_time": "2025-01-31T16:42:30.815Z"
   },
   {
    "duration": 11,
    "start_time": "2025-01-31T16:42:30.880Z"
   },
   {
    "duration": 26,
    "start_time": "2025-01-31T16:42:30.892Z"
   },
   {
    "duration": 29,
    "start_time": "2025-01-31T16:42:30.920Z"
   },
   {
    "duration": 13,
    "start_time": "2025-01-31T16:42:30.951Z"
   },
   {
    "duration": 10,
    "start_time": "2025-01-31T16:42:30.966Z"
   },
   {
    "duration": 12,
    "start_time": "2025-01-31T16:42:30.978Z"
   },
   {
    "duration": 26,
    "start_time": "2025-01-31T16:42:30.992Z"
   },
   {
    "duration": 25,
    "start_time": "2025-01-31T16:42:31.019Z"
   },
   {
    "duration": 7,
    "start_time": "2025-01-31T16:42:31.045Z"
   },
   {
    "duration": 12,
    "start_time": "2025-01-31T16:42:31.054Z"
   },
   {
    "duration": 10,
    "start_time": "2025-01-31T16:42:31.068Z"
   },
   {
    "duration": 15,
    "start_time": "2025-01-31T16:42:31.079Z"
   },
   {
    "duration": 15,
    "start_time": "2025-01-31T16:42:31.096Z"
   },
   {
    "duration": 29,
    "start_time": "2025-01-31T16:42:31.112Z"
   },
   {
    "duration": 9,
    "start_time": "2025-01-31T16:42:31.143Z"
   },
   {
    "duration": 7,
    "start_time": "2025-01-31T16:42:31.153Z"
   },
   {
    "duration": 11,
    "start_time": "2025-01-31T16:42:31.162Z"
   },
   {
    "duration": 12,
    "start_time": "2025-01-31T16:42:31.175Z"
   },
   {
    "duration": 95,
    "start_time": "2025-01-31T16:42:31.189Z"
   },
   {
    "duration": 5,
    "start_time": "2025-01-31T16:42:31.286Z"
   },
   {
    "duration": 168,
    "start_time": "2025-01-31T16:42:31.293Z"
   },
   {
    "duration": 113,
    "start_time": "2025-01-31T16:42:31.463Z"
   },
   {
    "duration": 177,
    "start_time": "2025-01-31T16:42:31.577Z"
   },
   {
    "duration": 235,
    "start_time": "2025-01-31T16:42:31.756Z"
   },
   {
    "duration": 232,
    "start_time": "2025-01-31T16:42:31.992Z"
   },
   {
    "duration": 378,
    "start_time": "2025-01-31T16:42:32.226Z"
   },
   {
    "duration": 17,
    "start_time": "2025-01-31T16:42:32.605Z"
   },
   {
    "duration": 14,
    "start_time": "2025-01-31T16:42:32.633Z"
   },
   {
    "duration": 30,
    "start_time": "2025-01-31T16:42:32.649Z"
   },
   {
    "duration": 62,
    "start_time": "2025-01-31T16:42:32.680Z"
   },
   {
    "duration": 76,
    "start_time": "2025-01-31T16:42:32.744Z"
   },
   {
    "duration": 29,
    "start_time": "2025-01-31T16:42:32.822Z"
   },
   {
    "duration": 4,
    "start_time": "2025-01-31T16:42:32.852Z"
   },
   {
    "duration": 256,
    "start_time": "2025-01-31T16:42:32.858Z"
   },
   {
    "duration": 219,
    "start_time": "2025-01-31T16:42:33.116Z"
   },
   {
    "duration": 223,
    "start_time": "2025-01-31T16:42:33.337Z"
   },
   {
    "duration": 234,
    "start_time": "2025-01-31T16:42:33.562Z"
   },
   {
    "duration": 21,
    "start_time": "2025-01-31T16:42:33.798Z"
   },
   {
    "duration": 19,
    "start_time": "2025-01-31T16:42:33.833Z"
   },
   {
    "duration": 17,
    "start_time": "2025-01-31T16:42:33.854Z"
   },
   {
    "duration": 12,
    "start_time": "2025-01-31T16:42:33.872Z"
   },
   {
    "duration": 22,
    "start_time": "2025-01-31T16:42:33.886Z"
   },
   {
    "duration": 5,
    "start_time": "2025-01-31T16:42:33.933Z"
   },
   {
    "duration": 205,
    "start_time": "2025-01-31T16:42:33.939Z"
   },
   {
    "duration": 6,
    "start_time": "2025-01-31T16:42:34.145Z"
   },
   {
    "duration": 8,
    "start_time": "2025-01-31T16:42:34.152Z"
   },
   {
    "duration": 10,
    "start_time": "2025-01-31T16:42:34.161Z"
   },
   {
    "duration": 6,
    "start_time": "2025-01-31T16:42:34.173Z"
   },
   {
    "duration": 1458,
    "start_time": "2025-01-31T16:42:34.181Z"
   },
   {
    "duration": 7,
    "start_time": "2025-01-31T16:42:35.641Z"
   },
   {
    "duration": 20,
    "start_time": "2025-01-31T16:42:35.650Z"
   },
   {
    "duration": 5,
    "start_time": "2025-01-31T16:45:16.983Z"
   },
   {
    "duration": 3797,
    "start_time": "2025-01-31T16:45:52.899Z"
   },
   {
    "duration": 59,
    "start_time": "2025-01-31T16:45:56.698Z"
   },
   {
    "duration": 12,
    "start_time": "2025-01-31T16:45:56.758Z"
   },
   {
    "duration": 34,
    "start_time": "2025-01-31T16:45:56.771Z"
   },
   {
    "duration": 21,
    "start_time": "2025-01-31T16:45:56.807Z"
   },
   {
    "duration": 30,
    "start_time": "2025-01-31T16:45:56.829Z"
   },
   {
    "duration": 40,
    "start_time": "2025-01-31T16:45:56.860Z"
   },
   {
    "duration": 33,
    "start_time": "2025-01-31T16:45:56.901Z"
   },
   {
    "duration": 40,
    "start_time": "2025-01-31T16:45:56.936Z"
   },
   {
    "duration": 30,
    "start_time": "2025-01-31T16:45:56.978Z"
   },
   {
    "duration": 23,
    "start_time": "2025-01-31T16:45:57.010Z"
   },
   {
    "duration": 10,
    "start_time": "2025-01-31T16:45:57.034Z"
   },
   {
    "duration": 8,
    "start_time": "2025-01-31T16:45:57.045Z"
   },
   {
    "duration": 4,
    "start_time": "2025-01-31T16:45:57.056Z"
   },
   {
    "duration": 9,
    "start_time": "2025-01-31T16:45:57.062Z"
   },
   {
    "duration": 7,
    "start_time": "2025-01-31T16:45:57.073Z"
   },
   {
    "duration": 6,
    "start_time": "2025-01-31T16:45:57.082Z"
   },
   {
    "duration": 11,
    "start_time": "2025-01-31T16:45:57.089Z"
   },
   {
    "duration": 8,
    "start_time": "2025-01-31T16:45:57.133Z"
   },
   {
    "duration": 7,
    "start_time": "2025-01-31T16:45:57.142Z"
   },
   {
    "duration": 7,
    "start_time": "2025-01-31T16:45:57.151Z"
   },
   {
    "duration": 5,
    "start_time": "2025-01-31T16:45:57.159Z"
   },
   {
    "duration": 208,
    "start_time": "2025-01-31T16:45:57.165Z"
   },
   {
    "duration": 103,
    "start_time": "2025-01-31T16:45:57.375Z"
   },
   {
    "duration": 199,
    "start_time": "2025-01-31T16:45:57.479Z"
   },
   {
    "duration": 236,
    "start_time": "2025-01-31T16:45:57.681Z"
   },
   {
    "duration": 225,
    "start_time": "2025-01-31T16:45:57.918Z"
   },
   {
    "duration": 206,
    "start_time": "2025-01-31T16:45:58.145Z"
   },
   {
    "duration": 16,
    "start_time": "2025-01-31T16:45:58.353Z"
   },
   {
    "duration": 20,
    "start_time": "2025-01-31T16:45:58.371Z"
   },
   {
    "duration": 42,
    "start_time": "2025-01-31T16:45:58.392Z"
   },
   {
    "duration": 10,
    "start_time": "2025-01-31T16:45:58.436Z"
   },
   {
    "duration": 21,
    "start_time": "2025-01-31T16:45:58.448Z"
   },
   {
    "duration": 22,
    "start_time": "2025-01-31T16:45:58.470Z"
   },
   {
    "duration": 3,
    "start_time": "2025-01-31T16:45:58.494Z"
   },
   {
    "duration": 344,
    "start_time": "2025-01-31T16:45:58.499Z"
   },
   {
    "duration": 219,
    "start_time": "2025-01-31T16:45:58.845Z"
   },
   {
    "duration": 222,
    "start_time": "2025-01-31T16:45:59.065Z"
   },
   {
    "duration": 225,
    "start_time": "2025-01-31T16:45:59.289Z"
   },
   {
    "duration": 30,
    "start_time": "2025-01-31T16:45:59.516Z"
   },
   {
    "duration": 19,
    "start_time": "2025-01-31T16:45:59.551Z"
   },
   {
    "duration": 15,
    "start_time": "2025-01-31T16:45:59.572Z"
   },
   {
    "duration": 10,
    "start_time": "2025-01-31T16:45:59.589Z"
   },
   {
    "duration": 17,
    "start_time": "2025-01-31T16:45:59.633Z"
   },
   {
    "duration": 3,
    "start_time": "2025-01-31T16:45:59.652Z"
   },
   {
    "duration": 209,
    "start_time": "2025-01-31T16:45:59.657Z"
   },
   {
    "duration": 6,
    "start_time": "2025-01-31T16:45:59.868Z"
   },
   {
    "duration": 10,
    "start_time": "2025-01-31T16:45:59.875Z"
   },
   {
    "duration": 9,
    "start_time": "2025-01-31T16:45:59.886Z"
   },
   {
    "duration": 5,
    "start_time": "2025-01-31T16:45:59.897Z"
   },
   {
    "duration": 1477,
    "start_time": "2025-01-31T16:45:59.903Z"
   },
   {
    "duration": 7,
    "start_time": "2025-01-31T16:46:01.382Z"
   },
   {
    "duration": 28,
    "start_time": "2025-01-31T16:46:01.390Z"
   },
   {
    "duration": 4,
    "start_time": "2025-01-31T16:47:24.184Z"
   },
   {
    "duration": 7,
    "start_time": "2025-01-31T16:47:29.929Z"
   },
   {
    "duration": 6,
    "start_time": "2025-01-31T16:47:37.962Z"
   },
   {
    "duration": 133,
    "start_time": "2025-01-31T16:48:21.700Z"
   },
   {
    "duration": 1483,
    "start_time": "2025-01-31T16:48:26.243Z"
   },
   {
    "duration": 3732,
    "start_time": "2025-01-31T16:50:30.973Z"
   },
   {
    "duration": 60,
    "start_time": "2025-01-31T16:50:34.707Z"
   },
   {
    "duration": 13,
    "start_time": "2025-01-31T16:50:34.768Z"
   },
   {
    "duration": 17,
    "start_time": "2025-01-31T16:50:34.782Z"
   },
   {
    "duration": 9,
    "start_time": "2025-01-31T16:50:34.801Z"
   },
   {
    "duration": 25,
    "start_time": "2025-01-31T16:50:34.812Z"
   },
   {
    "duration": 12,
    "start_time": "2025-01-31T16:50:34.838Z"
   },
   {
    "duration": 11,
    "start_time": "2025-01-31T16:50:34.852Z"
   },
   {
    "duration": 9,
    "start_time": "2025-01-31T16:50:34.865Z"
   },
   {
    "duration": 21,
    "start_time": "2025-01-31T16:50:34.876Z"
   },
   {
    "duration": 13,
    "start_time": "2025-01-31T16:50:34.899Z"
   },
   {
    "duration": 26,
    "start_time": "2025-01-31T16:50:34.913Z"
   },
   {
    "duration": 9,
    "start_time": "2025-01-31T16:50:34.941Z"
   },
   {
    "duration": 4,
    "start_time": "2025-01-31T16:50:34.953Z"
   },
   {
    "duration": 7,
    "start_time": "2025-01-31T16:50:34.958Z"
   },
   {
    "duration": 7,
    "start_time": "2025-01-31T16:50:34.966Z"
   },
   {
    "duration": 19,
    "start_time": "2025-01-31T16:50:34.974Z"
   },
   {
    "duration": 25,
    "start_time": "2025-01-31T16:50:34.995Z"
   },
   {
    "duration": 13,
    "start_time": "2025-01-31T16:50:35.021Z"
   },
   {
    "duration": 6,
    "start_time": "2025-01-31T16:50:35.035Z"
   },
   {
    "duration": 28,
    "start_time": "2025-01-31T16:50:35.042Z"
   },
   {
    "duration": 6,
    "start_time": "2025-01-31T16:50:35.071Z"
   },
   {
    "duration": 185,
    "start_time": "2025-01-31T16:50:35.078Z"
   },
   {
    "duration": 96,
    "start_time": "2025-01-31T16:50:35.265Z"
   },
   {
    "duration": 173,
    "start_time": "2025-01-31T16:50:35.363Z"
   },
   {
    "duration": 225,
    "start_time": "2025-01-31T16:50:35.537Z"
   },
   {
    "duration": 224,
    "start_time": "2025-01-31T16:50:35.763Z"
   },
   {
    "duration": 195,
    "start_time": "2025-01-31T16:50:35.989Z"
   },
   {
    "duration": 15,
    "start_time": "2025-01-31T16:50:36.186Z"
   },
   {
    "duration": 32,
    "start_time": "2025-01-31T16:50:36.203Z"
   },
   {
    "duration": 23,
    "start_time": "2025-01-31T16:50:36.236Z"
   },
   {
    "duration": 11,
    "start_time": "2025-01-31T16:50:36.261Z"
   },
   {
    "duration": 25,
    "start_time": "2025-01-31T16:50:36.273Z"
   },
   {
    "duration": 21,
    "start_time": "2025-01-31T16:50:36.332Z"
   },
   {
    "duration": 3,
    "start_time": "2025-01-31T16:50:36.355Z"
   },
   {
    "duration": 318,
    "start_time": "2025-01-31T16:50:36.360Z"
   },
   {
    "duration": 216,
    "start_time": "2025-01-31T16:50:36.680Z"
   },
   {
    "duration": 223,
    "start_time": "2025-01-31T16:50:36.897Z"
   },
   {
    "duration": 236,
    "start_time": "2025-01-31T16:50:37.121Z"
   },
   {
    "duration": 22,
    "start_time": "2025-01-31T16:50:37.359Z"
   },
   {
    "duration": 21,
    "start_time": "2025-01-31T16:50:37.385Z"
   },
   {
    "duration": 39,
    "start_time": "2025-01-31T16:50:37.407Z"
   },
   {
    "duration": 12,
    "start_time": "2025-01-31T16:50:37.448Z"
   },
   {
    "duration": 19,
    "start_time": "2025-01-31T16:50:37.461Z"
   },
   {
    "duration": 4,
    "start_time": "2025-01-31T16:50:37.482Z"
   },
   {
    "duration": 255,
    "start_time": "2025-01-31T16:50:37.487Z"
   },
   {
    "duration": 8,
    "start_time": "2025-01-31T16:50:37.744Z"
   },
   {
    "duration": 6,
    "start_time": "2025-01-31T16:50:37.754Z"
   },
   {
    "duration": 13,
    "start_time": "2025-01-31T16:50:37.762Z"
   },
   {
    "duration": 7,
    "start_time": "2025-01-31T16:50:37.778Z"
   },
   {
    "duration": 1506,
    "start_time": "2025-01-31T16:50:37.787Z"
   },
   {
    "duration": 6,
    "start_time": "2025-01-31T16:50:39.294Z"
   },
   {
    "duration": 6,
    "start_time": "2025-01-31T16:50:39.301Z"
   },
   {
    "duration": 4103,
    "start_time": "2025-01-31T16:58:21.642Z"
   },
   {
    "duration": 1299,
    "start_time": "2025-02-01T03:10:00.017Z"
   },
   {
    "duration": 69,
    "start_time": "2025-02-01T03:10:01.318Z"
   },
   {
    "duration": 12,
    "start_time": "2025-02-01T03:10:01.389Z"
   },
   {
    "duration": 26,
    "start_time": "2025-02-01T03:10:01.403Z"
   },
   {
    "duration": 15,
    "start_time": "2025-02-01T03:10:01.430Z"
   },
   {
    "duration": 19,
    "start_time": "2025-02-01T03:10:01.447Z"
   },
   {
    "duration": 42,
    "start_time": "2025-02-01T03:10:01.468Z"
   },
   {
    "duration": 36,
    "start_time": "2025-02-01T03:10:01.511Z"
   },
   {
    "duration": 24,
    "start_time": "2025-02-01T03:10:01.548Z"
   },
   {
    "duration": 34,
    "start_time": "2025-02-01T03:10:01.575Z"
   },
   {
    "duration": 34,
    "start_time": "2025-02-01T03:10:01.611Z"
   },
   {
    "duration": 72,
    "start_time": "2025-02-01T03:10:01.646Z"
   },
   {
    "duration": 25,
    "start_time": "2025-02-01T03:10:01.720Z"
   },
   {
    "duration": 23,
    "start_time": "2025-02-01T03:10:01.746Z"
   },
   {
    "duration": 25,
    "start_time": "2025-02-01T03:10:01.771Z"
   },
   {
    "duration": 17,
    "start_time": "2025-02-01T03:10:01.798Z"
   },
   {
    "duration": 45,
    "start_time": "2025-02-01T03:10:01.817Z"
   },
   {
    "duration": 89,
    "start_time": "2025-02-01T03:10:01.863Z"
   },
   {
    "duration": 50,
    "start_time": "2025-02-01T03:10:01.953Z"
   },
   {
    "duration": 37,
    "start_time": "2025-02-01T03:10:02.004Z"
   },
   {
    "duration": 26,
    "start_time": "2025-02-01T03:10:02.042Z"
   },
   {
    "duration": 245,
    "start_time": "2025-02-01T03:10:02.069Z"
   },
   {
    "duration": 190,
    "start_time": "2025-02-01T03:10:02.316Z"
   },
   {
    "duration": 99,
    "start_time": "2025-02-01T03:10:02.508Z"
   },
   {
    "duration": 151,
    "start_time": "2025-02-01T03:10:02.608Z"
   },
   {
    "duration": 222,
    "start_time": "2025-02-01T03:10:02.761Z"
   },
   {
    "duration": 206,
    "start_time": "2025-02-01T03:10:02.984Z"
   },
   {
    "duration": 179,
    "start_time": "2025-02-01T03:10:03.193Z"
   },
   {
    "duration": 14,
    "start_time": "2025-02-01T03:10:03.374Z"
   },
   {
    "duration": 25,
    "start_time": "2025-02-01T03:10:03.390Z"
   },
   {
    "duration": 102,
    "start_time": "2025-02-01T03:10:03.417Z"
   },
   {
    "duration": 9,
    "start_time": "2025-02-01T03:10:03.520Z"
   },
   {
    "duration": 32,
    "start_time": "2025-02-01T03:10:03.531Z"
   },
   {
    "duration": 19,
    "start_time": "2025-02-01T03:10:03.565Z"
   },
   {
    "duration": 12,
    "start_time": "2025-02-01T03:10:03.585Z"
   },
   {
    "duration": 212,
    "start_time": "2025-02-01T03:10:03.598Z"
   },
   {
    "duration": 190,
    "start_time": "2025-02-01T03:10:03.812Z"
   },
   {
    "duration": 202,
    "start_time": "2025-02-01T03:10:04.004Z"
   },
   {
    "duration": 206,
    "start_time": "2025-02-01T03:10:04.207Z"
   },
   {
    "duration": 19,
    "start_time": "2025-02-01T03:10:04.414Z"
   },
   {
    "duration": 33,
    "start_time": "2025-02-01T03:10:04.435Z"
   },
   {
    "duration": 12,
    "start_time": "2025-02-01T03:10:04.470Z"
   },
   {
    "duration": 9,
    "start_time": "2025-02-01T03:10:04.484Z"
   },
   {
    "duration": 17,
    "start_time": "2025-02-01T03:10:04.494Z"
   },
   {
    "duration": 3,
    "start_time": "2025-02-01T03:10:04.512Z"
   },
   {
    "duration": 197,
    "start_time": "2025-02-01T03:10:04.517Z"
   },
   {
    "duration": 5,
    "start_time": "2025-02-01T03:10:04.715Z"
   },
   {
    "duration": 31,
    "start_time": "2025-02-01T03:10:04.721Z"
   },
   {
    "duration": 20,
    "start_time": "2025-02-01T03:10:04.753Z"
   },
   {
    "duration": 88,
    "start_time": "2025-02-01T03:10:04.775Z"
   },
   {
    "duration": 1325,
    "start_time": "2025-02-01T03:10:04.865Z"
   },
   {
    "duration": 5,
    "start_time": "2025-02-01T03:10:06.192Z"
   },
   {
    "duration": 106,
    "start_time": "2025-02-01T03:10:06.198Z"
   },
   {
    "duration": 2157,
    "start_time": "2025-02-01T03:22:07.934Z"
   },
   {
    "duration": 56,
    "start_time": "2025-02-01T03:22:10.093Z"
   },
   {
    "duration": 13,
    "start_time": "2025-02-01T03:22:10.150Z"
   },
   {
    "duration": 23,
    "start_time": "2025-02-01T03:22:10.165Z"
   },
   {
    "duration": 9,
    "start_time": "2025-02-01T03:22:10.189Z"
   },
   {
    "duration": 11,
    "start_time": "2025-02-01T03:22:10.199Z"
   },
   {
    "duration": 7,
    "start_time": "2025-02-01T03:22:10.212Z"
   },
   {
    "duration": 89,
    "start_time": "2025-02-01T03:22:10.221Z"
   },
   {
    "duration": 7,
    "start_time": "2025-02-01T03:22:10.312Z"
   },
   {
    "duration": 9,
    "start_time": "2025-02-01T03:22:10.321Z"
   },
   {
    "duration": 4,
    "start_time": "2025-02-01T03:22:10.332Z"
   },
   {
    "duration": 12,
    "start_time": "2025-02-01T03:22:10.337Z"
   },
   {
    "duration": 7,
    "start_time": "2025-02-01T03:22:10.350Z"
   },
   {
    "duration": 4,
    "start_time": "2025-02-01T03:22:10.359Z"
   },
   {
    "duration": 13,
    "start_time": "2025-02-01T03:22:10.364Z"
   },
   {
    "duration": 13,
    "start_time": "2025-02-01T03:22:10.378Z"
   },
   {
    "duration": 4,
    "start_time": "2025-02-01T03:22:10.393Z"
   },
   {
    "duration": 4,
    "start_time": "2025-02-01T03:22:10.399Z"
   },
   {
    "duration": 12,
    "start_time": "2025-02-01T03:22:10.404Z"
   },
   {
    "duration": 36,
    "start_time": "2025-02-01T03:22:10.418Z"
   },
   {
    "duration": 6,
    "start_time": "2025-02-01T03:22:10.456Z"
   },
   {
    "duration": 5,
    "start_time": "2025-02-01T03:22:10.463Z"
   },
   {
    "duration": 180,
    "start_time": "2025-02-01T03:22:10.470Z"
   },
   {
    "duration": 82,
    "start_time": "2025-02-01T03:22:10.652Z"
   },
   {
    "duration": 151,
    "start_time": "2025-02-01T03:22:10.748Z"
   },
   {
    "duration": 203,
    "start_time": "2025-02-01T03:22:10.901Z"
   },
   {
    "duration": 191,
    "start_time": "2025-02-01T03:22:11.106Z"
   },
   {
    "duration": 179,
    "start_time": "2025-02-01T03:22:11.300Z"
   },
   {
    "duration": 14,
    "start_time": "2025-02-01T03:22:11.480Z"
   },
   {
    "duration": 14,
    "start_time": "2025-02-01T03:22:11.495Z"
   },
   {
    "duration": 38,
    "start_time": "2025-02-01T03:22:11.511Z"
   },
   {
    "duration": 10,
    "start_time": "2025-02-01T03:22:11.550Z"
   },
   {
    "duration": 17,
    "start_time": "2025-02-01T03:22:11.562Z"
   },
   {
    "duration": 18,
    "start_time": "2025-02-01T03:22:11.581Z"
   },
   {
    "duration": 3,
    "start_time": "2025-02-01T03:22:11.600Z"
   },
   {
    "duration": 313,
    "start_time": "2025-02-01T03:22:11.604Z"
   },
   {
    "duration": 195,
    "start_time": "2025-02-01T03:22:11.919Z"
   },
   {
    "duration": 202,
    "start_time": "2025-02-01T03:22:12.115Z"
   },
   {
    "duration": 202,
    "start_time": "2025-02-01T03:22:12.318Z"
   },
   {
    "duration": 27,
    "start_time": "2025-02-01T03:22:12.522Z"
   },
   {
    "duration": 17,
    "start_time": "2025-02-01T03:22:12.550Z"
   },
   {
    "duration": 14,
    "start_time": "2025-02-01T03:22:12.568Z"
   },
   {
    "duration": 9,
    "start_time": "2025-02-01T03:22:12.583Z"
   },
   {
    "duration": 15,
    "start_time": "2025-02-01T03:22:12.593Z"
   },
   {
    "duration": 3,
    "start_time": "2025-02-01T03:22:12.609Z"
   },
   {
    "duration": 199,
    "start_time": "2025-02-01T03:22:12.613Z"
   },
   {
    "duration": 4,
    "start_time": "2025-02-01T03:22:12.814Z"
   },
   {
    "duration": 77,
    "start_time": "2025-02-01T03:22:12.820Z"
   },
   {
    "duration": 21,
    "start_time": "2025-02-01T03:22:12.899Z"
   },
   {
    "duration": 6,
    "start_time": "2025-02-01T03:22:12.922Z"
   },
   {
    "duration": 1289,
    "start_time": "2025-02-01T03:22:12.930Z"
   },
   {
    "duration": 5,
    "start_time": "2025-02-01T03:22:14.221Z"
   },
   {
    "duration": 95,
    "start_time": "2025-02-01T03:22:14.227Z"
   },
   {
    "duration": 50,
    "start_time": "2025-02-03T12:37:25.783Z"
   },
   {
    "duration": 1248,
    "start_time": "2025-02-03T12:37:31.230Z"
   },
   {
    "duration": 60,
    "start_time": "2025-02-03T12:37:32.480Z"
   },
   {
    "duration": 13,
    "start_time": "2025-02-03T12:37:32.543Z"
   },
   {
    "duration": 70,
    "start_time": "2025-02-03T12:37:32.557Z"
   },
   {
    "duration": 26,
    "start_time": "2025-02-03T12:37:32.630Z"
   },
   {
    "duration": 20,
    "start_time": "2025-02-03T12:37:32.657Z"
   },
   {
    "duration": 21,
    "start_time": "2025-02-03T12:37:32.678Z"
   },
   {
    "duration": 20,
    "start_time": "2025-02-03T12:37:32.700Z"
   },
   {
    "duration": 19,
    "start_time": "2025-02-03T12:37:32.721Z"
   },
   {
    "duration": 15,
    "start_time": "2025-02-03T12:37:32.741Z"
   },
   {
    "duration": 4,
    "start_time": "2025-02-03T12:37:32.758Z"
   },
   {
    "duration": 9,
    "start_time": "2025-02-03T12:37:32.764Z"
   },
   {
    "duration": 13,
    "start_time": "2025-02-03T12:37:32.774Z"
   },
   {
    "duration": 27,
    "start_time": "2025-02-03T12:37:32.790Z"
   },
   {
    "duration": 6,
    "start_time": "2025-02-03T12:37:32.818Z"
   },
   {
    "duration": 6,
    "start_time": "2025-02-03T12:37:32.826Z"
   },
   {
    "duration": 21,
    "start_time": "2025-02-03T12:37:32.833Z"
   },
   {
    "duration": 9,
    "start_time": "2025-02-03T12:37:32.856Z"
   },
   {
    "duration": 42,
    "start_time": "2025-02-03T12:37:32.867Z"
   },
   {
    "duration": 16,
    "start_time": "2025-02-03T12:37:32.911Z"
   },
   {
    "duration": 17,
    "start_time": "2025-02-03T12:37:32.929Z"
   },
   {
    "duration": 15,
    "start_time": "2025-02-03T12:37:32.948Z"
   },
   {
    "duration": 188,
    "start_time": "2025-02-03T12:37:32.964Z"
   },
   {
    "duration": 100,
    "start_time": "2025-02-03T12:37:33.154Z"
   },
   {
    "duration": 163,
    "start_time": "2025-02-03T12:37:33.256Z"
   },
   {
    "duration": 211,
    "start_time": "2025-02-03T12:37:33.420Z"
   },
   {
    "duration": 308,
    "start_time": "2025-02-03T12:37:33.632Z"
   },
   {
    "duration": 459,
    "start_time": "2025-02-03T12:37:33.941Z"
   },
   {
    "duration": 16,
    "start_time": "2025-02-03T12:37:34.402Z"
   },
   {
    "duration": 16,
    "start_time": "2025-02-03T12:37:34.419Z"
   },
   {
    "duration": 73,
    "start_time": "2025-02-03T12:37:34.436Z"
   },
   {
    "duration": 11,
    "start_time": "2025-02-03T12:37:34.511Z"
   },
   {
    "duration": 85,
    "start_time": "2025-02-03T12:37:34.523Z"
   },
   {
    "duration": 33,
    "start_time": "2025-02-03T12:37:34.610Z"
   },
   {
    "duration": 56,
    "start_time": "2025-02-03T12:37:34.644Z"
   },
   {
    "duration": 548,
    "start_time": "2025-02-03T12:37:34.702Z"
   },
   {
    "duration": 222,
    "start_time": "2025-02-03T12:37:35.252Z"
   },
   {
    "duration": 247,
    "start_time": "2025-02-03T12:37:35.476Z"
   },
   {
    "duration": 231,
    "start_time": "2025-02-03T12:37:35.724Z"
   },
   {
    "duration": 118,
    "start_time": "2025-02-03T12:37:35.958Z"
   },
   {
    "duration": 0,
    "start_time": "2025-02-03T12:37:36.078Z"
   },
   {
    "duration": 0,
    "start_time": "2025-02-03T12:37:36.080Z"
   },
   {
    "duration": 0,
    "start_time": "2025-02-03T12:37:36.081Z"
   },
   {
    "duration": 0,
    "start_time": "2025-02-03T12:37:36.083Z"
   },
   {
    "duration": 0,
    "start_time": "2025-02-03T12:37:36.099Z"
   },
   {
    "duration": 0,
    "start_time": "2025-02-03T12:37:36.101Z"
   },
   {
    "duration": 0,
    "start_time": "2025-02-03T12:37:36.103Z"
   },
   {
    "duration": 0,
    "start_time": "2025-02-03T12:37:36.105Z"
   },
   {
    "duration": 0,
    "start_time": "2025-02-03T12:37:36.107Z"
   },
   {
    "duration": 0,
    "start_time": "2025-02-03T12:37:36.108Z"
   },
   {
    "duration": 0,
    "start_time": "2025-02-03T12:37:36.110Z"
   },
   {
    "duration": 0,
    "start_time": "2025-02-03T12:37:36.112Z"
   },
   {
    "duration": 0,
    "start_time": "2025-02-03T12:37:36.113Z"
   },
   {
    "duration": 14,
    "start_time": "2025-02-03T12:38:36.146Z"
   },
   {
    "duration": 22,
    "start_time": "2025-02-03T12:38:43.733Z"
   },
   {
    "duration": 23,
    "start_time": "2025-02-03T12:39:30.847Z"
   },
   {
    "duration": 23,
    "start_time": "2025-02-03T12:39:37.351Z"
   },
   {
    "duration": 23,
    "start_time": "2025-02-03T12:40:24.082Z"
   },
   {
    "duration": 54,
    "start_time": "2025-02-03T12:45:55.807Z"
   },
   {
    "duration": 4,
    "start_time": "2025-02-03T12:47:58.741Z"
   },
   {
    "duration": 13,
    "start_time": "2025-02-03T12:48:06.348Z"
   },
   {
    "duration": 59,
    "start_time": "2025-02-03T12:49:56.681Z"
   },
   {
    "duration": 20,
    "start_time": "2025-02-03T12:50:07.962Z"
   },
   {
    "duration": 12,
    "start_time": "2025-02-03T12:50:17.402Z"
   },
   {
    "duration": 22,
    "start_time": "2025-02-03T12:50:30.787Z"
   },
   {
    "duration": 3,
    "start_time": "2025-02-03T12:52:16.759Z"
   },
   {
    "duration": 77,
    "start_time": "2025-02-03T12:52:53.801Z"
   },
   {
    "duration": 11,
    "start_time": "2025-02-03T12:58:30.743Z"
   },
   {
    "duration": 1086,
    "start_time": "2025-02-03T12:58:36.880Z"
   },
   {
    "duration": 68,
    "start_time": "2025-02-03T12:58:37.969Z"
   },
   {
    "duration": 15,
    "start_time": "2025-02-03T12:58:38.039Z"
   },
   {
    "duration": 10,
    "start_time": "2025-02-03T12:58:38.056Z"
   },
   {
    "duration": 12,
    "start_time": "2025-02-03T12:58:38.068Z"
   },
   {
    "duration": 23,
    "start_time": "2025-02-03T12:58:38.081Z"
   },
   {
    "duration": 20,
    "start_time": "2025-02-03T12:58:38.105Z"
   },
   {
    "duration": 14,
    "start_time": "2025-02-03T12:58:38.127Z"
   },
   {
    "duration": 15,
    "start_time": "2025-02-03T12:58:38.143Z"
   },
   {
    "duration": 10,
    "start_time": "2025-02-03T12:58:38.160Z"
   },
   {
    "duration": 14,
    "start_time": "2025-02-03T12:58:38.172Z"
   },
   {
    "duration": 28,
    "start_time": "2025-02-03T12:58:38.188Z"
   },
   {
    "duration": 20,
    "start_time": "2025-02-03T12:58:38.218Z"
   },
   {
    "duration": 17,
    "start_time": "2025-02-03T12:58:38.240Z"
   },
   {
    "duration": 8,
    "start_time": "2025-02-03T12:58:38.259Z"
   },
   {
    "duration": 7,
    "start_time": "2025-02-03T12:58:38.269Z"
   },
   {
    "duration": 5,
    "start_time": "2025-02-03T12:58:38.277Z"
   },
   {
    "duration": 14,
    "start_time": "2025-02-03T12:58:38.284Z"
   },
   {
    "duration": 116,
    "start_time": "2025-02-03T12:58:38.300Z"
   },
   {
    "duration": 30,
    "start_time": "2025-02-03T12:58:38.418Z"
   },
   {
    "duration": 16,
    "start_time": "2025-02-03T12:58:38.449Z"
   },
   {
    "duration": 21,
    "start_time": "2025-02-03T12:58:38.466Z"
   },
   {
    "duration": 180,
    "start_time": "2025-02-03T12:58:38.489Z"
   },
   {
    "duration": 232,
    "start_time": "2025-02-03T12:58:38.670Z"
   },
   {
    "duration": 316,
    "start_time": "2025-02-03T12:58:38.904Z"
   },
   {
    "duration": 478,
    "start_time": "2025-02-03T12:58:39.222Z"
   },
   {
    "duration": 414,
    "start_time": "2025-02-03T12:58:39.702Z"
   },
   {
    "duration": 204,
    "start_time": "2025-02-03T12:58:40.119Z"
   },
   {
    "duration": 16,
    "start_time": "2025-02-03T12:58:40.326Z"
   },
   {
    "duration": 99,
    "start_time": "2025-02-03T12:58:40.344Z"
   },
   {
    "duration": 23,
    "start_time": "2025-02-03T12:58:40.445Z"
   },
   {
    "duration": 15,
    "start_time": "2025-02-03T12:58:40.470Z"
   },
   {
    "duration": 21,
    "start_time": "2025-02-03T12:58:40.487Z"
   },
   {
    "duration": 22,
    "start_time": "2025-02-03T12:58:40.510Z"
   },
   {
    "duration": 4,
    "start_time": "2025-02-03T12:58:40.534Z"
   },
   {
    "duration": 321,
    "start_time": "2025-02-03T12:58:40.541Z"
   },
   {
    "duration": 211,
    "start_time": "2025-02-03T12:58:40.864Z"
   },
   {
    "duration": 219,
    "start_time": "2025-02-03T12:58:41.077Z"
   },
   {
    "duration": 232,
    "start_time": "2025-02-03T12:58:41.300Z"
   },
   {
    "duration": 4,
    "start_time": "2025-02-03T12:58:41.534Z"
   },
   {
    "duration": 118,
    "start_time": "2025-02-03T12:58:41.539Z"
   },
   {
    "duration": 49,
    "start_time": "2025-02-03T12:58:41.659Z"
   },
   {
    "duration": 18,
    "start_time": "2025-02-03T12:58:41.709Z"
   },
   {
    "duration": 16,
    "start_time": "2025-02-03T12:58:41.728Z"
   },
   {
    "duration": 10,
    "start_time": "2025-02-03T12:58:41.801Z"
   },
   {
    "duration": 29,
    "start_time": "2025-02-03T12:58:41.812Z"
   },
   {
    "duration": 3,
    "start_time": "2025-02-03T12:58:41.842Z"
   },
   {
    "duration": 289,
    "start_time": "2025-02-03T12:58:41.847Z"
   },
   {
    "duration": 5,
    "start_time": "2025-02-03T12:58:42.137Z"
   },
   {
    "duration": 6,
    "start_time": "2025-02-03T12:58:42.199Z"
   },
   {
    "duration": 17,
    "start_time": "2025-02-03T12:58:42.207Z"
   },
   {
    "duration": 5,
    "start_time": "2025-02-03T12:58:42.226Z"
   },
   {
    "duration": 1867,
    "start_time": "2025-02-03T12:58:42.233Z"
   },
   {
    "duration": 6,
    "start_time": "2025-02-03T12:58:44.101Z"
   },
   {
    "duration": 18,
    "start_time": "2025-02-03T12:58:44.108Z"
   },
   {
    "duration": 57,
    "start_time": "2025-02-03T13:11:51.468Z"
   },
   {
    "duration": 87,
    "start_time": "2025-02-03T13:13:34.240Z"
   },
   {
    "duration": 5,
    "start_time": "2025-02-03T13:14:18.930Z"
   },
   {
    "duration": 58,
    "start_time": "2025-02-03T13:14:30.186Z"
   },
   {
    "duration": 5,
    "start_time": "2025-02-03T13:15:01.019Z"
   },
   {
    "duration": 72,
    "start_time": "2025-02-03T13:16:27.615Z"
   },
   {
    "duration": 8,
    "start_time": "2025-02-03T13:19:16.934Z"
   },
   {
    "duration": 71,
    "start_time": "2025-02-03T13:25:25.380Z"
   },
   {
    "duration": 280,
    "start_time": "2025-02-03T13:27:14.242Z"
   },
   {
    "duration": 327,
    "start_time": "2025-02-03T13:27:57.595Z"
   },
   {
    "duration": 544,
    "start_time": "2025-02-03T13:28:45.100Z"
   },
   {
    "duration": 339,
    "start_time": "2025-02-03T13:29:35.703Z"
   },
   {
    "duration": 53,
    "start_time": "2025-02-03T13:30:18.480Z"
   },
   {
    "duration": 286,
    "start_time": "2025-02-03T13:31:16.227Z"
   },
   {
    "duration": 321,
    "start_time": "2025-02-03T13:32:34.806Z"
   },
   {
    "duration": 69,
    "start_time": "2025-02-03T13:33:12.408Z"
   },
   {
    "duration": 1120,
    "start_time": "2025-02-03T13:43:27.850Z"
   },
   {
    "duration": 69,
    "start_time": "2025-02-03T13:43:28.972Z"
   },
   {
    "duration": 12,
    "start_time": "2025-02-03T13:43:29.043Z"
   },
   {
    "duration": 13,
    "start_time": "2025-02-03T13:43:29.057Z"
   },
   {
    "duration": 9,
    "start_time": "2025-02-03T13:43:29.072Z"
   },
   {
    "duration": 11,
    "start_time": "2025-02-03T13:43:29.082Z"
   },
   {
    "duration": 8,
    "start_time": "2025-02-03T13:43:29.095Z"
   },
   {
    "duration": 9,
    "start_time": "2025-02-03T13:43:29.104Z"
   },
   {
    "duration": 9,
    "start_time": "2025-02-03T13:43:29.114Z"
   },
   {
    "duration": 9,
    "start_time": "2025-02-03T13:43:29.125Z"
   },
   {
    "duration": 4,
    "start_time": "2025-02-03T13:43:29.136Z"
   },
   {
    "duration": 13,
    "start_time": "2025-02-03T13:43:29.141Z"
   },
   {
    "duration": 9,
    "start_time": "2025-02-03T13:43:29.155Z"
   },
   {
    "duration": 36,
    "start_time": "2025-02-03T13:43:29.165Z"
   },
   {
    "duration": 4,
    "start_time": "2025-02-03T13:43:29.202Z"
   },
   {
    "duration": 10,
    "start_time": "2025-02-03T13:43:29.208Z"
   },
   {
    "duration": 6,
    "start_time": "2025-02-03T13:43:29.219Z"
   },
   {
    "duration": 7,
    "start_time": "2025-02-03T13:43:29.226Z"
   },
   {
    "duration": 17,
    "start_time": "2025-02-03T13:43:29.234Z"
   },
   {
    "duration": 4,
    "start_time": "2025-02-03T13:43:29.252Z"
   },
   {
    "duration": 8,
    "start_time": "2025-02-03T13:43:29.257Z"
   },
   {
    "duration": 7,
    "start_time": "2025-02-03T13:43:29.266Z"
   },
   {
    "duration": 6,
    "start_time": "2025-02-03T13:43:29.301Z"
   },
   {
    "duration": 4,
    "start_time": "2025-02-03T13:43:29.309Z"
   },
   {
    "duration": 198,
    "start_time": "2025-02-03T13:43:29.315Z"
   },
   {
    "duration": 105,
    "start_time": "2025-02-03T13:43:29.515Z"
   },
   {
    "duration": 171,
    "start_time": "2025-02-03T13:43:29.622Z"
   },
   {
    "duration": 215,
    "start_time": "2025-02-03T13:43:29.799Z"
   },
   {
    "duration": 222,
    "start_time": "2025-02-03T13:43:30.016Z"
   },
   {
    "duration": 202,
    "start_time": "2025-02-03T13:43:30.240Z"
   },
   {
    "duration": 15,
    "start_time": "2025-02-03T13:43:30.444Z"
   },
   {
    "duration": 146,
    "start_time": "2025-02-03T13:43:30.461Z"
   },
   {
    "duration": 23,
    "start_time": "2025-02-03T13:43:30.609Z"
   },
   {
    "duration": 10,
    "start_time": "2025-02-03T13:43:30.634Z"
   },
   {
    "duration": 87,
    "start_time": "2025-02-03T13:43:30.645Z"
   },
   {
    "duration": 36,
    "start_time": "2025-02-03T13:43:30.734Z"
   },
   {
    "duration": 3,
    "start_time": "2025-02-03T13:43:30.772Z"
   },
   {
    "duration": 528,
    "start_time": "2025-02-03T13:43:30.776Z"
   },
   {
    "duration": 331,
    "start_time": "2025-02-03T13:43:31.306Z"
   },
   {
    "duration": 5,
    "start_time": "2025-02-03T13:43:31.638Z"
   },
   {
    "duration": 19,
    "start_time": "2025-02-03T13:43:31.644Z"
   },
   {
    "duration": 36,
    "start_time": "2025-02-03T13:43:31.665Z"
   },
   {
    "duration": 55,
    "start_time": "2025-02-03T13:43:31.702Z"
   },
   {
    "duration": 16,
    "start_time": "2025-02-03T13:43:31.758Z"
   },
   {
    "duration": 13,
    "start_time": "2025-02-03T13:43:31.775Z"
   },
   {
    "duration": 96,
    "start_time": "2025-02-03T13:43:31.790Z"
   },
   {
    "duration": 13,
    "start_time": "2025-02-03T13:43:31.887Z"
   },
   {
    "duration": 141,
    "start_time": "2025-02-03T13:43:31.901Z"
   },
   {
    "duration": 5,
    "start_time": "2025-02-03T13:43:32.044Z"
   },
   {
    "duration": 36,
    "start_time": "2025-02-03T13:43:32.051Z"
   },
   {
    "duration": 23,
    "start_time": "2025-02-03T13:43:32.088Z"
   },
   {
    "duration": 14,
    "start_time": "2025-02-03T13:43:32.113Z"
   },
   {
    "duration": 1471,
    "start_time": "2025-02-03T13:43:32.129Z"
   },
   {
    "duration": 6,
    "start_time": "2025-02-03T13:43:33.602Z"
   },
   {
    "duration": 19,
    "start_time": "2025-02-03T13:43:33.609Z"
   },
   {
    "duration": 1062,
    "start_time": "2025-02-04T07:37:28.743Z"
   },
   {
    "duration": 73,
    "start_time": "2025-02-04T07:37:29.808Z"
   },
   {
    "duration": 13,
    "start_time": "2025-02-04T07:37:29.884Z"
   },
   {
    "duration": 16,
    "start_time": "2025-02-04T07:37:29.898Z"
   },
   {
    "duration": 9,
    "start_time": "2025-02-04T07:37:29.915Z"
   },
   {
    "duration": 36,
    "start_time": "2025-02-04T07:37:29.925Z"
   },
   {
    "duration": 14,
    "start_time": "2025-02-04T07:37:29.962Z"
   },
   {
    "duration": 16,
    "start_time": "2025-02-04T07:37:29.977Z"
   },
   {
    "duration": 7,
    "start_time": "2025-02-04T07:37:29.995Z"
   },
   {
    "duration": 10,
    "start_time": "2025-02-04T07:37:30.004Z"
   },
   {
    "duration": 33,
    "start_time": "2025-02-04T07:37:30.015Z"
   },
   {
    "duration": 29,
    "start_time": "2025-02-04T07:37:30.050Z"
   },
   {
    "duration": 9,
    "start_time": "2025-02-04T07:37:30.080Z"
   },
   {
    "duration": 18,
    "start_time": "2025-02-04T07:37:30.090Z"
   },
   {
    "duration": 26,
    "start_time": "2025-02-04T07:37:30.109Z"
   },
   {
    "duration": 36,
    "start_time": "2025-02-04T07:37:30.137Z"
   },
   {
    "duration": 50,
    "start_time": "2025-02-04T07:37:30.175Z"
   },
   {
    "duration": 31,
    "start_time": "2025-02-04T07:37:30.227Z"
   },
   {
    "duration": 23,
    "start_time": "2025-02-04T07:37:30.260Z"
   },
   {
    "duration": 26,
    "start_time": "2025-02-04T07:37:30.284Z"
   },
   {
    "duration": 71,
    "start_time": "2025-02-04T07:37:30.311Z"
   },
   {
    "duration": 107,
    "start_time": "2025-02-04T07:37:30.383Z"
   },
   {
    "duration": 18,
    "start_time": "2025-02-04T07:37:30.491Z"
   },
   {
    "duration": 27,
    "start_time": "2025-02-04T07:37:30.510Z"
   },
   {
    "duration": 188,
    "start_time": "2025-02-04T07:37:30.539Z"
   },
   {
    "duration": 93,
    "start_time": "2025-02-04T07:37:30.729Z"
   },
   {
    "duration": 167,
    "start_time": "2025-02-04T07:37:30.826Z"
   },
   {
    "duration": 216,
    "start_time": "2025-02-04T07:37:30.995Z"
   },
   {
    "duration": 215,
    "start_time": "2025-02-04T07:37:31.213Z"
   },
   {
    "duration": 196,
    "start_time": "2025-02-04T07:37:31.430Z"
   },
   {
    "duration": 16,
    "start_time": "2025-02-04T07:37:31.627Z"
   },
   {
    "duration": 21,
    "start_time": "2025-02-04T07:37:31.644Z"
   },
   {
    "duration": 22,
    "start_time": "2025-02-04T07:37:31.667Z"
   },
   {
    "duration": 29,
    "start_time": "2025-02-04T07:37:31.690Z"
   },
   {
    "duration": 20,
    "start_time": "2025-02-04T07:37:31.720Z"
   },
   {
    "duration": 20,
    "start_time": "2025-02-04T07:37:31.741Z"
   },
   {
    "duration": 4,
    "start_time": "2025-02-04T07:37:31.763Z"
   },
   {
    "duration": 447,
    "start_time": "2025-02-04T07:37:31.768Z"
   },
   {
    "duration": 372,
    "start_time": "2025-02-04T07:37:32.217Z"
   },
   {
    "duration": 4,
    "start_time": "2025-02-04T07:37:32.591Z"
   },
   {
    "duration": 77,
    "start_time": "2025-02-04T07:37:32.596Z"
   },
   {
    "duration": 30,
    "start_time": "2025-02-04T07:37:32.675Z"
   },
   {
    "duration": 18,
    "start_time": "2025-02-04T07:37:32.707Z"
   },
   {
    "duration": 32,
    "start_time": "2025-02-04T07:37:32.727Z"
   },
   {
    "duration": 11,
    "start_time": "2025-02-04T07:37:32.761Z"
   },
   {
    "duration": 24,
    "start_time": "2025-02-04T07:37:32.773Z"
   },
   {
    "duration": 3,
    "start_time": "2025-02-04T07:37:32.799Z"
   },
   {
    "duration": 170,
    "start_time": "2025-02-04T07:37:32.804Z"
   },
   {
    "duration": 6,
    "start_time": "2025-02-04T07:37:32.976Z"
   },
   {
    "duration": 45,
    "start_time": "2025-02-04T07:37:32.984Z"
   },
   {
    "duration": 42,
    "start_time": "2025-02-04T07:37:33.031Z"
   },
   {
    "duration": 6,
    "start_time": "2025-02-04T07:37:33.075Z"
   },
   {
    "duration": 1408,
    "start_time": "2025-02-04T07:37:33.082Z"
   },
   {
    "duration": 7,
    "start_time": "2025-02-04T07:37:34.492Z"
   },
   {
    "duration": 6,
    "start_time": "2025-02-04T07:37:34.510Z"
   },
   {
    "duration": 1533,
    "start_time": "2025-02-09T15:06:40.739Z"
   },
   {
    "duration": 73,
    "start_time": "2025-02-09T15:06:42.274Z"
   },
   {
    "duration": 14,
    "start_time": "2025-02-09T15:06:42.349Z"
   },
   {
    "duration": 16,
    "start_time": "2025-02-09T15:06:42.366Z"
   },
   {
    "duration": 12,
    "start_time": "2025-02-09T15:06:42.385Z"
   },
   {
    "duration": 15,
    "start_time": "2025-02-09T15:06:42.399Z"
   },
   {
    "duration": 9,
    "start_time": "2025-02-09T15:06:42.416Z"
   },
   {
    "duration": 10,
    "start_time": "2025-02-09T15:06:42.427Z"
   },
   {
    "duration": 36,
    "start_time": "2025-02-09T15:06:42.438Z"
   },
   {
    "duration": 12,
    "start_time": "2025-02-09T15:06:42.476Z"
   },
   {
    "duration": 8,
    "start_time": "2025-02-09T15:06:42.490Z"
   },
   {
    "duration": 12,
    "start_time": "2025-02-09T15:06:42.500Z"
   },
   {
    "duration": 9,
    "start_time": "2025-02-09T15:06:42.514Z"
   },
   {
    "duration": 14,
    "start_time": "2025-02-09T15:06:42.526Z"
   },
   {
    "duration": 35,
    "start_time": "2025-02-09T15:06:42.541Z"
   },
   {
    "duration": 4,
    "start_time": "2025-02-09T15:06:42.578Z"
   },
   {
    "duration": 6,
    "start_time": "2025-02-09T15:06:42.584Z"
   },
   {
    "duration": 9,
    "start_time": "2025-02-09T15:06:42.591Z"
   },
   {
    "duration": 5,
    "start_time": "2025-02-09T15:06:42.601Z"
   },
   {
    "duration": 5,
    "start_time": "2025-02-09T15:06:42.608Z"
   },
   {
    "duration": 11,
    "start_time": "2025-02-09T15:06:42.614Z"
   },
   {
    "duration": 8,
    "start_time": "2025-02-09T15:06:42.672Z"
   },
   {
    "duration": 9,
    "start_time": "2025-02-09T15:06:42.682Z"
   },
   {
    "duration": 5,
    "start_time": "2025-02-09T15:06:42.693Z"
   },
   {
    "duration": 223,
    "start_time": "2025-02-09T15:06:42.700Z"
   },
   {
    "duration": 116,
    "start_time": "2025-02-09T15:06:42.925Z"
   },
   {
    "duration": 181,
    "start_time": "2025-02-09T15:06:43.043Z"
   },
   {
    "duration": 237,
    "start_time": "2025-02-09T15:06:43.226Z"
   },
   {
    "duration": 239,
    "start_time": "2025-02-09T15:06:43.465Z"
   },
   {
    "duration": 216,
    "start_time": "2025-02-09T15:06:43.706Z"
   },
   {
    "duration": 18,
    "start_time": "2025-02-09T15:06:43.924Z"
   },
   {
    "duration": 35,
    "start_time": "2025-02-09T15:06:43.943Z"
   },
   {
    "duration": 27,
    "start_time": "2025-02-09T15:06:43.980Z"
   },
   {
    "duration": 13,
    "start_time": "2025-02-09T15:06:44.009Z"
   },
   {
    "duration": 52,
    "start_time": "2025-02-09T15:06:44.024Z"
   },
   {
    "duration": 25,
    "start_time": "2025-02-09T15:06:44.078Z"
   },
   {
    "duration": 4,
    "start_time": "2025-02-09T15:06:44.105Z"
   },
   {
    "duration": 485,
    "start_time": "2025-02-09T15:06:44.110Z"
   },
   {
    "duration": 375,
    "start_time": "2025-02-09T15:06:44.597Z"
   },
   {
    "duration": 4,
    "start_time": "2025-02-09T15:06:44.974Z"
   },
   {
    "duration": 24,
    "start_time": "2025-02-09T15:06:44.982Z"
   },
   {
    "duration": 67,
    "start_time": "2025-02-09T15:06:45.008Z"
   },
   {
    "duration": 37,
    "start_time": "2025-02-09T15:06:45.077Z"
   },
   {
    "duration": 25,
    "start_time": "2025-02-09T15:06:45.116Z"
   },
   {
    "duration": 12,
    "start_time": "2025-02-09T15:06:45.144Z"
   },
   {
    "duration": 50,
    "start_time": "2025-02-09T15:06:45.158Z"
   },
   {
    "duration": 41,
    "start_time": "2025-02-09T15:06:45.210Z"
   },
   {
    "duration": 274,
    "start_time": "2025-02-09T15:06:45.253Z"
   },
   {
    "duration": 6,
    "start_time": "2025-02-09T15:06:45.529Z"
   },
   {
    "duration": 10,
    "start_time": "2025-02-09T15:06:45.537Z"
   },
   {
    "duration": 27,
    "start_time": "2025-02-09T15:06:45.549Z"
   },
   {
    "duration": 6,
    "start_time": "2025-02-09T15:06:45.578Z"
   },
   {
    "duration": 1220,
    "start_time": "2025-02-09T15:08:34.660Z"
   },
   {
    "duration": 63,
    "start_time": "2025-02-09T15:08:35.882Z"
   },
   {
    "duration": 13,
    "start_time": "2025-02-09T15:08:35.946Z"
   },
   {
    "duration": 46,
    "start_time": "2025-02-09T15:08:35.961Z"
   },
   {
    "duration": 23,
    "start_time": "2025-02-09T15:08:36.010Z"
   },
   {
    "duration": 22,
    "start_time": "2025-02-09T15:08:36.035Z"
   },
   {
    "duration": 39,
    "start_time": "2025-02-09T15:08:36.059Z"
   },
   {
    "duration": 24,
    "start_time": "2025-02-09T15:08:36.100Z"
   },
   {
    "duration": 10,
    "start_time": "2025-02-09T15:08:36.126Z"
   },
   {
    "duration": 24,
    "start_time": "2025-02-09T15:08:36.138Z"
   },
   {
    "duration": 21,
    "start_time": "2025-02-09T15:08:36.164Z"
   },
   {
    "duration": 11,
    "start_time": "2025-02-09T15:08:36.187Z"
   },
   {
    "duration": 33,
    "start_time": "2025-02-09T15:08:36.200Z"
   },
   {
    "duration": 47,
    "start_time": "2025-02-09T15:08:36.236Z"
   },
   {
    "duration": 8,
    "start_time": "2025-02-09T15:08:36.285Z"
   },
   {
    "duration": 39,
    "start_time": "2025-02-09T15:08:36.295Z"
   },
   {
    "duration": 7,
    "start_time": "2025-02-09T15:08:36.335Z"
   },
   {
    "duration": 8,
    "start_time": "2025-02-09T15:08:36.344Z"
   },
   {
    "duration": 27,
    "start_time": "2025-02-09T15:08:36.353Z"
   },
   {
    "duration": 3,
    "start_time": "2025-02-09T15:08:36.382Z"
   },
   {
    "duration": 23,
    "start_time": "2025-02-09T15:08:36.387Z"
   },
   {
    "duration": 19,
    "start_time": "2025-02-09T15:08:36.412Z"
   },
   {
    "duration": 20,
    "start_time": "2025-02-09T15:08:36.432Z"
   },
   {
    "duration": 21,
    "start_time": "2025-02-09T15:08:36.454Z"
   },
   {
    "duration": 195,
    "start_time": "2025-02-09T15:08:36.477Z"
   },
   {
    "duration": 112,
    "start_time": "2025-02-09T15:08:36.673Z"
   },
   {
    "duration": 187,
    "start_time": "2025-02-09T15:08:36.787Z"
   },
   {
    "duration": 244,
    "start_time": "2025-02-09T15:08:36.976Z"
   },
   {
    "duration": 237,
    "start_time": "2025-02-09T15:08:37.221Z"
   },
   {
    "duration": 227,
    "start_time": "2025-02-09T15:08:37.460Z"
   },
   {
    "duration": 17,
    "start_time": "2025-02-09T15:08:37.689Z"
   },
   {
    "duration": 19,
    "start_time": "2025-02-09T15:08:37.708Z"
   },
   {
    "duration": 49,
    "start_time": "2025-02-09T15:08:37.729Z"
   },
   {
    "duration": 13,
    "start_time": "2025-02-09T15:08:37.780Z"
   },
   {
    "duration": 23,
    "start_time": "2025-02-09T15:08:37.794Z"
   },
   {
    "duration": 24,
    "start_time": "2025-02-09T15:08:37.819Z"
   },
   {
    "duration": 4,
    "start_time": "2025-02-09T15:08:37.873Z"
   },
   {
    "duration": 462,
    "start_time": "2025-02-09T15:08:37.879Z"
   },
   {
    "duration": 373,
    "start_time": "2025-02-09T15:08:38.344Z"
   },
   {
    "duration": 4,
    "start_time": "2025-02-09T15:08:38.720Z"
   },
   {
    "duration": 27,
    "start_time": "2025-02-09T15:08:38.729Z"
   },
   {
    "duration": 42,
    "start_time": "2025-02-09T15:08:38.757Z"
   },
   {
    "duration": 23,
    "start_time": "2025-02-09T15:08:38.801Z"
   },
   {
    "duration": 19,
    "start_time": "2025-02-09T15:08:38.826Z"
   },
   {
    "duration": 34,
    "start_time": "2025-02-09T15:08:38.847Z"
   },
   {
    "duration": 25,
    "start_time": "2025-02-09T15:08:38.883Z"
   },
   {
    "duration": 4,
    "start_time": "2025-02-09T15:08:38.911Z"
   },
   {
    "duration": 172,
    "start_time": "2025-02-09T15:08:38.917Z"
   },
   {
    "duration": 6,
    "start_time": "2025-02-09T15:08:39.091Z"
   },
   {
    "duration": 8,
    "start_time": "2025-02-09T15:08:39.099Z"
   },
   {
    "duration": 17,
    "start_time": "2025-02-09T15:08:39.109Z"
   },
   {
    "duration": 9,
    "start_time": "2025-02-09T15:08:39.128Z"
   },
   {
    "duration": 0,
    "start_time": "2025-02-09T15:26:33.703Z"
   },
   {
    "duration": 0,
    "start_time": "2025-02-09T15:26:33.705Z"
   },
   {
    "duration": 0,
    "start_time": "2025-02-09T15:26:33.706Z"
   },
   {
    "duration": 0,
    "start_time": "2025-02-09T15:26:33.708Z"
   },
   {
    "duration": 6,
    "start_time": "2025-02-09T15:26:36.860Z"
   },
   {
    "duration": 1127,
    "start_time": "2025-02-28T16:45:04.418Z"
   },
   {
    "duration": 71,
    "start_time": "2025-02-28T16:45:05.547Z"
   },
   {
    "duration": 46,
    "start_time": "2025-02-28T16:45:05.620Z"
   },
   {
    "duration": 101,
    "start_time": "2025-02-28T16:45:05.668Z"
   },
   {
    "duration": 118,
    "start_time": "2025-02-28T16:45:05.771Z"
   },
   {
    "duration": 26,
    "start_time": "2025-02-28T16:45:05.891Z"
   },
   {
    "duration": 31,
    "start_time": "2025-02-28T16:45:05.919Z"
   },
   {
    "duration": 52,
    "start_time": "2025-02-28T16:45:05.951Z"
   },
   {
    "duration": 29,
    "start_time": "2025-02-28T16:45:06.004Z"
   },
   {
    "duration": 32,
    "start_time": "2025-02-28T16:45:06.037Z"
   },
   {
    "duration": 34,
    "start_time": "2025-02-28T16:45:06.071Z"
   },
   {
    "duration": 13,
    "start_time": "2025-02-28T16:45:06.106Z"
   },
   {
    "duration": 28,
    "start_time": "2025-02-28T16:45:06.120Z"
   },
   {
    "duration": 38,
    "start_time": "2025-02-28T16:45:06.149Z"
   },
   {
    "duration": 97,
    "start_time": "2025-02-28T16:45:06.189Z"
   },
   {
    "duration": 44,
    "start_time": "2025-02-28T16:45:06.288Z"
   },
   {
    "duration": 47,
    "start_time": "2025-02-28T16:45:06.333Z"
   },
   {
    "duration": 45,
    "start_time": "2025-02-28T16:45:06.382Z"
   },
   {
    "duration": 31,
    "start_time": "2025-02-28T16:45:06.429Z"
   },
   {
    "duration": 93,
    "start_time": "2025-02-28T16:45:06.462Z"
   },
   {
    "duration": 24,
    "start_time": "2025-02-28T16:45:06.557Z"
   },
   {
    "duration": 23,
    "start_time": "2025-02-28T16:45:06.582Z"
   },
   {
    "duration": 25,
    "start_time": "2025-02-28T16:45:06.606Z"
   },
   {
    "duration": 44,
    "start_time": "2025-02-28T16:45:06.632Z"
   },
   {
    "duration": 11,
    "start_time": "2025-02-28T16:45:06.677Z"
   },
   {
    "duration": 185,
    "start_time": "2025-02-28T16:45:06.689Z"
   },
   {
    "duration": 99,
    "start_time": "2025-02-28T16:45:06.875Z"
   },
   {
    "duration": 162,
    "start_time": "2025-02-28T16:45:06.978Z"
   },
   {
    "duration": 227,
    "start_time": "2025-02-28T16:45:07.141Z"
   },
   {
    "duration": 213,
    "start_time": "2025-02-28T16:45:07.372Z"
   },
   {
    "duration": 197,
    "start_time": "2025-02-28T16:45:07.587Z"
   },
   {
    "duration": 15,
    "start_time": "2025-02-28T16:45:07.785Z"
   },
   {
    "duration": 43,
    "start_time": "2025-02-28T16:45:07.801Z"
   },
   {
    "duration": 22,
    "start_time": "2025-02-28T16:45:07.846Z"
   },
   {
    "duration": 10,
    "start_time": "2025-02-28T16:45:07.869Z"
   },
   {
    "duration": 19,
    "start_time": "2025-02-28T16:45:07.881Z"
   },
   {
    "duration": 20,
    "start_time": "2025-02-28T16:45:07.902Z"
   },
   {
    "duration": 6,
    "start_time": "2025-02-28T16:45:07.923Z"
   },
   {
    "duration": 417,
    "start_time": "2025-02-28T16:45:07.930Z"
   },
   {
    "duration": 319,
    "start_time": "2025-02-28T16:45:08.348Z"
   },
   {
    "duration": 4,
    "start_time": "2025-02-28T16:45:08.671Z"
   },
   {
    "duration": 14,
    "start_time": "2025-02-28T16:45:08.677Z"
   },
   {
    "duration": 43,
    "start_time": "2025-02-28T16:45:08.692Z"
   },
   {
    "duration": 101,
    "start_time": "2025-02-28T16:45:08.737Z"
   },
   {
    "duration": 30,
    "start_time": "2025-02-28T16:45:08.839Z"
   },
   {
    "duration": 10,
    "start_time": "2025-02-28T16:45:08.871Z"
   },
   {
    "duration": 25,
    "start_time": "2025-02-28T16:45:08.883Z"
   },
   {
    "duration": 4,
    "start_time": "2025-02-28T16:45:08.909Z"
   },
   {
    "duration": 158,
    "start_time": "2025-02-28T16:45:08.914Z"
   },
   {
    "duration": 5,
    "start_time": "2025-02-28T16:45:09.074Z"
   },
   {
    "duration": 16,
    "start_time": "2025-02-28T16:45:09.081Z"
   },
   {
    "duration": 24,
    "start_time": "2025-02-28T16:45:09.099Z"
   },
   {
    "duration": 5,
    "start_time": "2025-02-28T16:45:09.125Z"
   },
   {
    "duration": 74,
    "start_time": "2025-02-28T16:45:09.132Z"
   },
   {
    "duration": 0,
    "start_time": "2025-02-28T16:45:09.208Z"
   },
   {
    "duration": 0,
    "start_time": "2025-02-28T16:45:09.209Z"
   },
   {
    "duration": 0,
    "start_time": "2025-02-28T16:45:09.210Z"
   },
   {
    "duration": 7,
    "start_time": "2025-02-28T16:46:09.847Z"
   }
  ],
  "kernelspec": {
   "display_name": "Python 3 (ipykernel)",
   "language": "python",
   "name": "python3"
  },
  "language_info": {
   "codemirror_mode": {
    "name": "ipython",
    "version": 3
   },
   "file_extension": ".py",
   "mimetype": "text/x-python",
   "name": "python",
   "nbconvert_exporter": "python",
   "pygments_lexer": "ipython3",
   "version": "3.12.4"
  },
  "toc": {
   "base_numbering": 1,
   "nav_menu": {},
   "number_sections": true,
   "sideBar": true,
   "skip_h1_title": true,
   "title_cell": "Table of Contents",
   "title_sidebar": "Contents",
   "toc_cell": false,
   "toc_position": {
    "height": "calc(100% - 180px)",
    "left": "10px",
    "top": "150px",
    "width": "315.188px"
   },
   "toc_section_display": true,
   "toc_window_display": false
  }
 },
 "nbformat": 4,
 "nbformat_minor": 5
}
