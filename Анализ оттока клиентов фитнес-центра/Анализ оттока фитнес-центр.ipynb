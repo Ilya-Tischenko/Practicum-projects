{
 "cells": [
  {
   "cell_type": "markdown",
   "id": "c1e77d2a",
   "metadata": {},
   "source": [
    "<div style=\"border-radius: 15px; border: 3px solid indigo; padding: 15px;\">\n",
    "<b> Комментарий ревьюера 2</b>\n",
    "    \n",
    "Спасибо за корректировки. Я оставила новые комментарии с цифрой 2. \n",
    "    \n",
    "       \n",
    "Работу я могу принять, поскольку вопросов больше нет. Желаю успехов в дальнейшем обучении :)\n",
    "</div>"
   ]
  },
  {
   "cell_type": "markdown",
   "id": "ffd9c0cd",
   "metadata": {},
   "source": [
    " <div style=\"border-radius: 15px; border: 3px solid indigo; padding: 15px; \">\n",
    "<b> Комментарий ревьюера</b>\n",
    "    \n",
    "Привет!  Меня зовут Света, я буду проверять твой проект. Если не против, давай общаться на «ты». Если тебе такой стиль общения не нравится, напиши об этом, будем на «вы».  \n",
    "\n",
    "Сразу хочу обратить внимание на цветовую разметку:\n",
    "    \n",
    "    \n",
    "<div class=\"alert alert-success\" style=\"border-radius: 15px; box-shadow: 4px 4px 4px; border: 1px solid \">\n",
    "\n",
    "Зеленым с пометкой ✔️ отмечены отличные решения и идеи, которые можно и нужно использовать в будущем.\n",
    "</div>\n",
    "    \n",
    "<div class=\"alert alert-warning\" style=\"border-radius: 15px; box-shadow: 4px 4px 4px; border: 1px solid \">\n",
    "\n",
    "Желтым с пометкой ⚠️ отмечено то, что можно или нужно оптимизировать, в зависимости от контекста.</div>    \n",
    "    \n",
    "<div class=\"alert alert-danger\" style=\"border-radius: 15px; box-shadow: 4px 4px 4px; border: 1px solid \">\n",
    "\n",
    "Красным с пометкой ❌ обозначены пропущенные пункты задания и ошибки, которые обязательно надо будет исправить, чтобы результаты были верные.</div> \n",
    "    \n",
    "**Ответы на мои комментарии или доработки по моим рекомендациям попрошу выделить каким-нибудь цветом, кроме трех перечисленных.**\n",
    "Также я попрошу тебя **не менять и не передвигать мои комментарии**, чтобы при последующей проверке мне было проще ориентироваться.\n",
    "    \n",
    "Кроме того, комментарии у меня обозначены как заголовки. Это сбивает содержание, но при последующей проверке я могу снять с них заголовок, если тебе так будет удобнее. При этом они удобны, поскольку ты сразу можешь перейти к ним.   \n",
    "        \n",
    "<hr>\n",
    "    \n",
    "<font color= 'dodgerblue'>**По проекту:**</font> спасибо за отличную работу! У проекта очень грамотная структура и понятный код. Все результаты сопровождаются выводами, что очень важно. Модели корректно обучены, молодец! У меня всего пара вопросов, но это не должно занять много времени. Посмотри, пожалуйста, мои комментарии.   \n",
    "</div>"
   ]
  },
  {
   "cell_type": "markdown",
   "id": "f54d9f52-160f-4169-ae84-c1747292b854",
   "metadata": {},
   "source": [
    "Фитнес центр разрабатывает стратегию удержания клиентов.\n",
    "\n",
    "Цель: провести анализ и подготовить план действия по удержанию клиентов.\n",
    "\n",
    "Данные о клиентах представлены файлом 'gym_churn.csv', в котором хранится информация о факте оттока каждого из клиентов и других признаках (возраст, пол, проживание в районе фитнес-центра, лайфтайм и другие).\n",
    "\n",
    "План исследования:\n",
    "1. Импорт библиотек и загрузка данных\n",
    "2. Исследовательский анализ данных\n",
    "3. Обучение модели прогнозирования оттока клиентов\n",
    "4. Кластеризация клиентов\n",
    "5. Выводы и рекомендации"
   ]
  },
  {
   "cell_type": "markdown",
   "id": "566c6f85",
   "metadata": {},
   "source": [
    "<div class=\"alert alert-success\" style=\"border-radius: 15px; box-shadow: 4px 4px 4px; border: 1px solid \">\n",
    "<h2> Комментарий ревьюера ✔️</h2>\n",
    "    \n",
    "Хорошо, что есть краткое описание задачи. Это поможет быстро вспомнить, о чем проект, когда ты вернешься к нему.    Кроме того, так работа выглядит гораздо презентабельнее. \n",
    "   \n",
    "</div>"
   ]
  },
  {
   "cell_type": "markdown",
   "id": "8bc07b3d-d939-4222-9c00-59a2f8a1a9fc",
   "metadata": {},
   "source": [
    "# Импорт библиотек и загрузка данных"
   ]
  },
  {
   "cell_type": "markdown",
   "id": "628fae91-b63f-45c0-887c-c08cffb0b506",
   "metadata": {},
   "source": [
    "Импортируем необходимые для дальнейшей работы библиотеки."
   ]
  },
  {
   "cell_type": "code",
   "execution_count": 1,
   "id": "97bf646f-224d-4ad2-a3a4-2af1ea77f124",
   "metadata": {},
   "outputs": [],
   "source": [
    "import pandas as pd\n",
    "import matplotlib.pyplot as plt\n",
    "import seaborn as sns\n",
    "from sklearn.preprocessing import StandardScaler\n",
    "from sklearn.model_selection import train_test_split\n",
    "from sklearn.preprocessing import StandardScaler\n",
    "from sklearn.linear_model import LogisticRegression\n",
    "from sklearn.ensemble import RandomForestClassifier\n",
    "from sklearn.metrics import accuracy_score\n",
    "from sklearn.metrics import precision_score\n",
    "from sklearn.metrics import recall_score\n",
    "from scipy.cluster.hierarchy import dendrogram, linkage\n",
    "from sklearn.cluster import KMeans\n",
    "import itertools"
   ]
  },
  {
   "cell_type": "markdown",
   "id": "23c8b341-f2e9-4196-a364-fe43525d145c",
   "metadata": {},
   "source": [
    "Сохраним датасет в переменной \"df\"."
   ]
  },
  {
   "cell_type": "code",
   "execution_count": 2,
   "id": "cd2c94ba-b3b6-4f8c-8091-e5f578e1ae11",
   "metadata": {},
   "outputs": [],
   "source": [
    "df = pd.read_csv('/datasets/gym_churn.csv')"
   ]
  },
  {
   "cell_type": "markdown",
   "id": "2c8ed40b",
   "metadata": {},
   "source": [
    "<div class=\"alert alert-success\" style=\"border-radius: 15px; box-shadow: 4px 4px 4px; border: 1px solid \">\n",
    "<h2> Комментарий ревьюера 2 ✔️</h2>\n",
    "    \n",
    "Отлично! \n",
    "    \n",
    "</div><div class=\"alert alert-danger\" style=\"border-radius: 15px; box-shadow: 4px 4px 4px; border: 1px solid\">\n",
    "<h2> Комментарий ревьюера  ❌</h2>\n",
    "    \n",
    "Код должен быть исполняемым, поэтому имеет смысл прописать серверный путь. </div>"
   ]
  },
  {
   "cell_type": "markdown",
   "id": "7f134fe4-ae05-49ad-b5fc-b3c3b9453381",
   "metadata": {},
   "source": [
    "Выведем первые 5 строк датафрейма на экран."
   ]
  },
  {
   "cell_type": "code",
   "execution_count": 3,
   "id": "231ee1d1-f215-4fa0-a821-e86c49451e8f",
   "metadata": {},
   "outputs": [
    {
     "data": {
      "text/html": [
       "<div>\n",
       "<style scoped>\n",
       "    .dataframe tbody tr th:only-of-type {\n",
       "        vertical-align: middle;\n",
       "    }\n",
       "\n",
       "    .dataframe tbody tr th {\n",
       "        vertical-align: top;\n",
       "    }\n",
       "\n",
       "    .dataframe thead th {\n",
       "        text-align: right;\n",
       "    }\n",
       "</style>\n",
       "<table border=\"1\" class=\"dataframe\">\n",
       "  <thead>\n",
       "    <tr style=\"text-align: right;\">\n",
       "      <th></th>\n",
       "      <th>gender</th>\n",
       "      <th>Near_Location</th>\n",
       "      <th>Partner</th>\n",
       "      <th>Promo_friends</th>\n",
       "      <th>Phone</th>\n",
       "      <th>Contract_period</th>\n",
       "      <th>Group_visits</th>\n",
       "      <th>Age</th>\n",
       "      <th>Avg_additional_charges_total</th>\n",
       "      <th>Month_to_end_contract</th>\n",
       "      <th>Lifetime</th>\n",
       "      <th>Avg_class_frequency_total</th>\n",
       "      <th>Avg_class_frequency_current_month</th>\n",
       "      <th>Churn</th>\n",
       "    </tr>\n",
       "  </thead>\n",
       "  <tbody>\n",
       "    <tr>\n",
       "      <th>0</th>\n",
       "      <td>1</td>\n",
       "      <td>1</td>\n",
       "      <td>1</td>\n",
       "      <td>1</td>\n",
       "      <td>0</td>\n",
       "      <td>6</td>\n",
       "      <td>1</td>\n",
       "      <td>29</td>\n",
       "      <td>14.227470</td>\n",
       "      <td>5.0</td>\n",
       "      <td>3</td>\n",
       "      <td>0.020398</td>\n",
       "      <td>0.000000</td>\n",
       "      <td>0</td>\n",
       "    </tr>\n",
       "    <tr>\n",
       "      <th>1</th>\n",
       "      <td>0</td>\n",
       "      <td>1</td>\n",
       "      <td>0</td>\n",
       "      <td>0</td>\n",
       "      <td>1</td>\n",
       "      <td>12</td>\n",
       "      <td>1</td>\n",
       "      <td>31</td>\n",
       "      <td>113.202938</td>\n",
       "      <td>12.0</td>\n",
       "      <td>7</td>\n",
       "      <td>1.922936</td>\n",
       "      <td>1.910244</td>\n",
       "      <td>0</td>\n",
       "    </tr>\n",
       "    <tr>\n",
       "      <th>2</th>\n",
       "      <td>0</td>\n",
       "      <td>1</td>\n",
       "      <td>1</td>\n",
       "      <td>0</td>\n",
       "      <td>1</td>\n",
       "      <td>1</td>\n",
       "      <td>0</td>\n",
       "      <td>28</td>\n",
       "      <td>129.448479</td>\n",
       "      <td>1.0</td>\n",
       "      <td>2</td>\n",
       "      <td>1.859098</td>\n",
       "      <td>1.736502</td>\n",
       "      <td>0</td>\n",
       "    </tr>\n",
       "    <tr>\n",
       "      <th>3</th>\n",
       "      <td>0</td>\n",
       "      <td>1</td>\n",
       "      <td>1</td>\n",
       "      <td>1</td>\n",
       "      <td>1</td>\n",
       "      <td>12</td>\n",
       "      <td>1</td>\n",
       "      <td>33</td>\n",
       "      <td>62.669863</td>\n",
       "      <td>12.0</td>\n",
       "      <td>2</td>\n",
       "      <td>3.205633</td>\n",
       "      <td>3.357215</td>\n",
       "      <td>0</td>\n",
       "    </tr>\n",
       "    <tr>\n",
       "      <th>4</th>\n",
       "      <td>1</td>\n",
       "      <td>1</td>\n",
       "      <td>1</td>\n",
       "      <td>1</td>\n",
       "      <td>1</td>\n",
       "      <td>1</td>\n",
       "      <td>0</td>\n",
       "      <td>26</td>\n",
       "      <td>198.362265</td>\n",
       "      <td>1.0</td>\n",
       "      <td>3</td>\n",
       "      <td>1.113884</td>\n",
       "      <td>1.120078</td>\n",
       "      <td>0</td>\n",
       "    </tr>\n",
       "  </tbody>\n",
       "</table>\n",
       "</div>"
      ],
      "text/plain": [
       "   gender  Near_Location  Partner  Promo_friends  Phone  Contract_period  \\\n",
       "0       1              1        1              1      0                6   \n",
       "1       0              1        0              0      1               12   \n",
       "2       0              1        1              0      1                1   \n",
       "3       0              1        1              1      1               12   \n",
       "4       1              1        1              1      1                1   \n",
       "\n",
       "   Group_visits  Age  Avg_additional_charges_total  Month_to_end_contract  \\\n",
       "0             1   29                     14.227470                    5.0   \n",
       "1             1   31                    113.202938                   12.0   \n",
       "2             0   28                    129.448479                    1.0   \n",
       "3             1   33                     62.669863                   12.0   \n",
       "4             0   26                    198.362265                    1.0   \n",
       "\n",
       "   Lifetime  Avg_class_frequency_total  Avg_class_frequency_current_month  \\\n",
       "0         3                   0.020398                           0.000000   \n",
       "1         7                   1.922936                           1.910244   \n",
       "2         2                   1.859098                           1.736502   \n",
       "3         2                   3.205633                           3.357215   \n",
       "4         3                   1.113884                           1.120078   \n",
       "\n",
       "   Churn  \n",
       "0      0  \n",
       "1      0  \n",
       "2      0  \n",
       "3      0  \n",
       "4      0  "
      ]
     },
     "execution_count": 3,
     "metadata": {},
     "output_type": "execute_result"
    }
   ],
   "source": [
    "df.head()"
   ]
  },
  {
   "cell_type": "markdown",
   "id": "db6e6f69-acfb-4fb9-97c6-09a73c616ee0",
   "metadata": {},
   "source": [
    "# EDA"
   ]
  },
  {
   "cell_type": "markdown",
   "id": "a8921eb1-0931-47a1-9ac5-494bfed3cc4f",
   "metadata": {},
   "source": [
    "Посмотрим на наличие пропусков в датасете."
   ]
  },
  {
   "cell_type": "code",
   "execution_count": 4,
   "id": "bc6dbf8c-64e3-4a7c-b443-843bc2db83d5",
   "metadata": {},
   "outputs": [
    {
     "name": "stdout",
     "output_type": "stream",
     "text": [
      "<class 'pandas.core.frame.DataFrame'>\n",
      "RangeIndex: 4000 entries, 0 to 3999\n",
      "Data columns (total 14 columns):\n",
      " #   Column                             Non-Null Count  Dtype  \n",
      "---  ------                             --------------  -----  \n",
      " 0   gender                             4000 non-null   int64  \n",
      " 1   Near_Location                      4000 non-null   int64  \n",
      " 2   Partner                            4000 non-null   int64  \n",
      " 3   Promo_friends                      4000 non-null   int64  \n",
      " 4   Phone                              4000 non-null   int64  \n",
      " 5   Contract_period                    4000 non-null   int64  \n",
      " 6   Group_visits                       4000 non-null   int64  \n",
      " 7   Age                                4000 non-null   int64  \n",
      " 8   Avg_additional_charges_total       4000 non-null   float64\n",
      " 9   Month_to_end_contract              4000 non-null   float64\n",
      " 10  Lifetime                           4000 non-null   int64  \n",
      " 11  Avg_class_frequency_total          4000 non-null   float64\n",
      " 12  Avg_class_frequency_current_month  4000 non-null   float64\n",
      " 13  Churn                              4000 non-null   int64  \n",
      "dtypes: float64(4), int64(10)\n",
      "memory usage: 437.6 KB\n"
     ]
    }
   ],
   "source": [
    "df.info()"
   ]
  },
  {
   "cell_type": "markdown",
   "id": "e5a174a7-d59a-4ec6-b863-e1d19bde9920",
   "metadata": {},
   "source": [
    "В датасете нет пропусков."
   ]
  },
  {
   "cell_type": "markdown",
   "id": "db91eeac-6914-4ec6-ac0e-378075f1b389",
   "metadata": {},
   "source": [
    "Просмотрим информацию о средних значениях и стандартных отклонениях."
   ]
  },
  {
   "cell_type": "code",
   "execution_count": 5,
   "id": "d4a9fbc6-afa5-4650-96ca-535f8971f292",
   "metadata": {},
   "outputs": [
    {
     "data": {
      "text/html": [
       "<div>\n",
       "<style scoped>\n",
       "    .dataframe tbody tr th:only-of-type {\n",
       "        vertical-align: middle;\n",
       "    }\n",
       "\n",
       "    .dataframe tbody tr th {\n",
       "        vertical-align: top;\n",
       "    }\n",
       "\n",
       "    .dataframe thead th {\n",
       "        text-align: right;\n",
       "    }\n",
       "</style>\n",
       "<table border=\"1\" class=\"dataframe\">\n",
       "  <thead>\n",
       "    <tr style=\"text-align: right;\">\n",
       "      <th></th>\n",
       "      <th>gender</th>\n",
       "      <th>Near_Location</th>\n",
       "      <th>Partner</th>\n",
       "      <th>Promo_friends</th>\n",
       "      <th>Phone</th>\n",
       "      <th>Contract_period</th>\n",
       "      <th>Group_visits</th>\n",
       "      <th>Age</th>\n",
       "      <th>Avg_additional_charges_total</th>\n",
       "      <th>Month_to_end_contract</th>\n",
       "      <th>Lifetime</th>\n",
       "      <th>Avg_class_frequency_total</th>\n",
       "      <th>Avg_class_frequency_current_month</th>\n",
       "      <th>Churn</th>\n",
       "    </tr>\n",
       "  </thead>\n",
       "  <tbody>\n",
       "    <tr>\n",
       "      <th>count</th>\n",
       "      <td>4000.000000</td>\n",
       "      <td>4000.000000</td>\n",
       "      <td>4000.000000</td>\n",
       "      <td>4000.000000</td>\n",
       "      <td>4000.000000</td>\n",
       "      <td>4000.000000</td>\n",
       "      <td>4000.000000</td>\n",
       "      <td>4000.000000</td>\n",
       "      <td>4000.000000</td>\n",
       "      <td>4000.000000</td>\n",
       "      <td>4000.000000</td>\n",
       "      <td>4000.000000</td>\n",
       "      <td>4000.000000</td>\n",
       "      <td>4000.000000</td>\n",
       "    </tr>\n",
       "    <tr>\n",
       "      <th>mean</th>\n",
       "      <td>0.510250</td>\n",
       "      <td>0.845250</td>\n",
       "      <td>0.486750</td>\n",
       "      <td>0.308500</td>\n",
       "      <td>0.903500</td>\n",
       "      <td>4.681250</td>\n",
       "      <td>0.412250</td>\n",
       "      <td>29.184250</td>\n",
       "      <td>146.943728</td>\n",
       "      <td>4.322750</td>\n",
       "      <td>3.724750</td>\n",
       "      <td>1.879020</td>\n",
       "      <td>1.767052</td>\n",
       "      <td>0.265250</td>\n",
       "    </tr>\n",
       "    <tr>\n",
       "      <th>std</th>\n",
       "      <td>0.499957</td>\n",
       "      <td>0.361711</td>\n",
       "      <td>0.499887</td>\n",
       "      <td>0.461932</td>\n",
       "      <td>0.295313</td>\n",
       "      <td>4.549706</td>\n",
       "      <td>0.492301</td>\n",
       "      <td>3.258367</td>\n",
       "      <td>96.355602</td>\n",
       "      <td>4.191297</td>\n",
       "      <td>3.749267</td>\n",
       "      <td>0.972245</td>\n",
       "      <td>1.052906</td>\n",
       "      <td>0.441521</td>\n",
       "    </tr>\n",
       "    <tr>\n",
       "      <th>min</th>\n",
       "      <td>0.000000</td>\n",
       "      <td>0.000000</td>\n",
       "      <td>0.000000</td>\n",
       "      <td>0.000000</td>\n",
       "      <td>0.000000</td>\n",
       "      <td>1.000000</td>\n",
       "      <td>0.000000</td>\n",
       "      <td>18.000000</td>\n",
       "      <td>0.148205</td>\n",
       "      <td>1.000000</td>\n",
       "      <td>0.000000</td>\n",
       "      <td>0.000000</td>\n",
       "      <td>0.000000</td>\n",
       "      <td>0.000000</td>\n",
       "    </tr>\n",
       "    <tr>\n",
       "      <th>25%</th>\n",
       "      <td>0.000000</td>\n",
       "      <td>1.000000</td>\n",
       "      <td>0.000000</td>\n",
       "      <td>0.000000</td>\n",
       "      <td>1.000000</td>\n",
       "      <td>1.000000</td>\n",
       "      <td>0.000000</td>\n",
       "      <td>27.000000</td>\n",
       "      <td>68.868830</td>\n",
       "      <td>1.000000</td>\n",
       "      <td>1.000000</td>\n",
       "      <td>1.180875</td>\n",
       "      <td>0.963003</td>\n",
       "      <td>0.000000</td>\n",
       "    </tr>\n",
       "    <tr>\n",
       "      <th>50%</th>\n",
       "      <td>1.000000</td>\n",
       "      <td>1.000000</td>\n",
       "      <td>0.000000</td>\n",
       "      <td>0.000000</td>\n",
       "      <td>1.000000</td>\n",
       "      <td>1.000000</td>\n",
       "      <td>0.000000</td>\n",
       "      <td>29.000000</td>\n",
       "      <td>136.220159</td>\n",
       "      <td>1.000000</td>\n",
       "      <td>3.000000</td>\n",
       "      <td>1.832768</td>\n",
       "      <td>1.719574</td>\n",
       "      <td>0.000000</td>\n",
       "    </tr>\n",
       "    <tr>\n",
       "      <th>75%</th>\n",
       "      <td>1.000000</td>\n",
       "      <td>1.000000</td>\n",
       "      <td>1.000000</td>\n",
       "      <td>1.000000</td>\n",
       "      <td>1.000000</td>\n",
       "      <td>6.000000</td>\n",
       "      <td>1.000000</td>\n",
       "      <td>31.000000</td>\n",
       "      <td>210.949625</td>\n",
       "      <td>6.000000</td>\n",
       "      <td>5.000000</td>\n",
       "      <td>2.536078</td>\n",
       "      <td>2.510336</td>\n",
       "      <td>1.000000</td>\n",
       "    </tr>\n",
       "    <tr>\n",
       "      <th>max</th>\n",
       "      <td>1.000000</td>\n",
       "      <td>1.000000</td>\n",
       "      <td>1.000000</td>\n",
       "      <td>1.000000</td>\n",
       "      <td>1.000000</td>\n",
       "      <td>12.000000</td>\n",
       "      <td>1.000000</td>\n",
       "      <td>41.000000</td>\n",
       "      <td>552.590740</td>\n",
       "      <td>12.000000</td>\n",
       "      <td>31.000000</td>\n",
       "      <td>6.023668</td>\n",
       "      <td>6.146783</td>\n",
       "      <td>1.000000</td>\n",
       "    </tr>\n",
       "  </tbody>\n",
       "</table>\n",
       "</div>"
      ],
      "text/plain": [
       "            gender  Near_Location      Partner  Promo_friends        Phone  \\\n",
       "count  4000.000000    4000.000000  4000.000000    4000.000000  4000.000000   \n",
       "mean      0.510250       0.845250     0.486750       0.308500     0.903500   \n",
       "std       0.499957       0.361711     0.499887       0.461932     0.295313   \n",
       "min       0.000000       0.000000     0.000000       0.000000     0.000000   \n",
       "25%       0.000000       1.000000     0.000000       0.000000     1.000000   \n",
       "50%       1.000000       1.000000     0.000000       0.000000     1.000000   \n",
       "75%       1.000000       1.000000     1.000000       1.000000     1.000000   \n",
       "max       1.000000       1.000000     1.000000       1.000000     1.000000   \n",
       "\n",
       "       Contract_period  Group_visits          Age  \\\n",
       "count      4000.000000   4000.000000  4000.000000   \n",
       "mean          4.681250      0.412250    29.184250   \n",
       "std           4.549706      0.492301     3.258367   \n",
       "min           1.000000      0.000000    18.000000   \n",
       "25%           1.000000      0.000000    27.000000   \n",
       "50%           1.000000      0.000000    29.000000   \n",
       "75%           6.000000      1.000000    31.000000   \n",
       "max          12.000000      1.000000    41.000000   \n",
       "\n",
       "       Avg_additional_charges_total  Month_to_end_contract     Lifetime  \\\n",
       "count                   4000.000000            4000.000000  4000.000000   \n",
       "mean                     146.943728               4.322750     3.724750   \n",
       "std                       96.355602               4.191297     3.749267   \n",
       "min                        0.148205               1.000000     0.000000   \n",
       "25%                       68.868830               1.000000     1.000000   \n",
       "50%                      136.220159               1.000000     3.000000   \n",
       "75%                      210.949625               6.000000     5.000000   \n",
       "max                      552.590740              12.000000    31.000000   \n",
       "\n",
       "       Avg_class_frequency_total  Avg_class_frequency_current_month  \\\n",
       "count                4000.000000                        4000.000000   \n",
       "mean                    1.879020                           1.767052   \n",
       "std                     0.972245                           1.052906   \n",
       "min                     0.000000                           0.000000   \n",
       "25%                     1.180875                           0.963003   \n",
       "50%                     1.832768                           1.719574   \n",
       "75%                     2.536078                           2.510336   \n",
       "max                     6.023668                           6.146783   \n",
       "\n",
       "             Churn  \n",
       "count  4000.000000  \n",
       "mean      0.265250  \n",
       "std       0.441521  \n",
       "min       0.000000  \n",
       "25%       0.000000  \n",
       "50%       0.000000  \n",
       "75%       1.000000  \n",
       "max       1.000000  "
      ]
     },
     "execution_count": 5,
     "metadata": {},
     "output_type": "execute_result"
    }
   ],
   "source": [
    "df.describe()"
   ]
  },
  {
   "cell_type": "markdown",
   "id": "c9881103-cade-40b7-8f1b-5592305329dc",
   "metadata": {},
   "source": [
    "Посмотрим на средние значения признаков для тех, кто ушел и тех, кто остался."
   ]
  },
  {
   "cell_type": "code",
   "execution_count": 6,
   "id": "b1e5d421-c247-4d41-965d-8afa1ffda45a",
   "metadata": {},
   "outputs": [
    {
     "data": {
      "text/html": [
       "<div>\n",
       "<style scoped>\n",
       "    .dataframe tbody tr th:only-of-type {\n",
       "        vertical-align: middle;\n",
       "    }\n",
       "\n",
       "    .dataframe tbody tr th {\n",
       "        vertical-align: top;\n",
       "    }\n",
       "\n",
       "    .dataframe thead th {\n",
       "        text-align: right;\n",
       "    }\n",
       "</style>\n",
       "<table border=\"1\" class=\"dataframe\">\n",
       "  <thead>\n",
       "    <tr style=\"text-align: right;\">\n",
       "      <th></th>\n",
       "      <th>gender</th>\n",
       "      <th>Near_Location</th>\n",
       "      <th>Partner</th>\n",
       "      <th>Promo_friends</th>\n",
       "      <th>Phone</th>\n",
       "      <th>Contract_period</th>\n",
       "      <th>Group_visits</th>\n",
       "      <th>Age</th>\n",
       "      <th>Avg_additional_charges_total</th>\n",
       "      <th>Month_to_end_contract</th>\n",
       "      <th>Lifetime</th>\n",
       "      <th>Avg_class_frequency_total</th>\n",
       "      <th>Avg_class_frequency_current_month</th>\n",
       "    </tr>\n",
       "    <tr>\n",
       "      <th>Churn</th>\n",
       "      <th></th>\n",
       "      <th></th>\n",
       "      <th></th>\n",
       "      <th></th>\n",
       "      <th></th>\n",
       "      <th></th>\n",
       "      <th></th>\n",
       "      <th></th>\n",
       "      <th></th>\n",
       "      <th></th>\n",
       "      <th></th>\n",
       "      <th></th>\n",
       "      <th></th>\n",
       "    </tr>\n",
       "  </thead>\n",
       "  <tbody>\n",
       "    <tr>\n",
       "      <th>0</th>\n",
       "      <td>0.510037</td>\n",
       "      <td>0.873086</td>\n",
       "      <td>0.534195</td>\n",
       "      <td>0.353522</td>\n",
       "      <td>0.903709</td>\n",
       "      <td>5.747193</td>\n",
       "      <td>0.464103</td>\n",
       "      <td>29.976523</td>\n",
       "      <td>158.445715</td>\n",
       "      <td>5.283089</td>\n",
       "      <td>4.711807</td>\n",
       "      <td>2.024876</td>\n",
       "      <td>2.027882</td>\n",
       "    </tr>\n",
       "    <tr>\n",
       "      <th>1</th>\n",
       "      <td>0.510839</td>\n",
       "      <td>0.768143</td>\n",
       "      <td>0.355325</td>\n",
       "      <td>0.183789</td>\n",
       "      <td>0.902922</td>\n",
       "      <td>1.728558</td>\n",
       "      <td>0.268615</td>\n",
       "      <td>26.989632</td>\n",
       "      <td>115.082899</td>\n",
       "      <td>1.662582</td>\n",
       "      <td>0.990575</td>\n",
       "      <td>1.474995</td>\n",
       "      <td>1.044546</td>\n",
       "    </tr>\n",
       "  </tbody>\n",
       "</table>\n",
       "</div>"
      ],
      "text/plain": [
       "         gender  Near_Location   Partner  Promo_friends     Phone  \\\n",
       "Churn                                                               \n",
       "0      0.510037       0.873086  0.534195       0.353522  0.903709   \n",
       "1      0.510839       0.768143  0.355325       0.183789  0.902922   \n",
       "\n",
       "       Contract_period  Group_visits        Age  Avg_additional_charges_total  \\\n",
       "Churn                                                                           \n",
       "0             5.747193      0.464103  29.976523                    158.445715   \n",
       "1             1.728558      0.268615  26.989632                    115.082899   \n",
       "\n",
       "       Month_to_end_contract  Lifetime  Avg_class_frequency_total  \\\n",
       "Churn                                                               \n",
       "0                   5.283089  4.711807                   2.024876   \n",
       "1                   1.662582  0.990575                   1.474995   \n",
       "\n",
       "       Avg_class_frequency_current_month  \n",
       "Churn                                     \n",
       "0                               2.027882  \n",
       "1                               1.044546  "
      ]
     },
     "execution_count": 6,
     "metadata": {},
     "output_type": "execute_result"
    }
   ],
   "source": [
    "df.groupby('Churn').mean()"
   ]
  },
  {
   "cell_type": "markdown",
   "id": "852fe77c-ae25-4c64-a7a8-24fbb36f794c",
   "metadata": {},
   "source": [
    "Мы видим, что ушедшие из фитнес-центра клиенты реже оказывались сотрудниками компании-партнёра клуба, среди них меньше пришедших по акции \"приведи друга\", они имеют в среднем меньшую длительность абонемента, меньше посещали групповые занятия, имеют чуть меньший средний возраст, меньше тратились на дополнительные услуги фитнес-центра, имели меньший срок до окончания абонемента, меньший лайфтаим, меньшую частоту посещений в неделю."
   ]
  },
  {
   "cell_type": "markdown",
   "id": "09f43992-dd94-4b6f-a739-e316a78942ec",
   "metadata": {},
   "source": [
    "Построим гистограммы и изучим распределения признаков для тех, кто ушел и для тех, кто остался."
   ]
  },
  {
   "cell_type": "code",
   "execution_count": 7,
   "id": "a77e4baf-46e6-4420-890f-cfd7a3e0e71f",
   "metadata": {},
   "outputs": [],
   "source": [
    "#сохраним данные для ушедших и оставшихся клиентов в переменных \"churn\" и \"no_churn\" соответствено\n",
    "churn = df[df['Churn']==1]"
   ]
  },
  {
   "cell_type": "code",
   "execution_count": 8,
   "id": "dd6aa0e4-d5a6-4603-b0fd-2c1a98387d43",
   "metadata": {},
   "outputs": [],
   "source": [
    "no_churn = df[df['Churn']==0]"
   ]
  },
  {
   "cell_type": "markdown",
   "id": "11ac94c0-3e64-4424-8873-58eadfe6c577",
   "metadata": {},
   "source": [
    "Построим графики."
   ]
  },
  {
   "cell_type": "markdown",
   "id": "538735a0",
   "metadata": {},
   "source": [
    "<div class=\"alert alert-block alert-info\">\n",
    "<b>КОММЕНТАРИЙ ОТ УЧЕНИКА: </b> Построим столбчатые диаграммы для дискретных величин.\n",
    "    \n",
    "Диаграммы будем строить на основе сводной таблицы для каждого признака. Чтобы каждый раз не писать код для создания сводной таблицы и графика, напишем функцию, которая автоматически их создает на основе переданного в аргумент столбца.</div>"
   ]
  },
  {
   "cell_type": "code",
   "execution_count": 9,
   "id": "23d3ec7e",
   "metadata": {},
   "outputs": [],
   "source": [
    "def pivot_and_plot (column):\n",
    "    if column != 'Partner':\n",
    "        pivot_table = df.pivot_table (index = column, columns = 'Churn', values = 'Partner', aggfunc = 'count')\n",
    "    else:\n",
    "        pivot_table = df.pivot_table (index = column, columns = 'Churn', values = 'gender', aggfunc = 'count')\n",
    "    plot = pivot_table.plot(kind = 'bar', figsize = (6,6))\n",
    "    plt.ylabel('Количество')\n",
    "    plt.legend(title = 'Факт оттока', labels = ['Нет', 'Да'])\n",
    "    return plot"
   ]
  },
  {
   "cell_type": "markdown",
   "id": "71c8c832",
   "metadata": {},
   "source": [
    "<div class=\"alert alert-block alert-info\">\n",
    "<b>КОММЕНТАРИЙ ОТ УЧЕНИКА: </b> Пол клиента в датасете обозначен цифрами 0 и 1. При этом в описании данных не написано какая цифра к какому полу относится, поэтому оставим как есть.</div>"
   ]
  },
  {
   "cell_type": "markdown",
   "id": "5197d4b3",
   "metadata": {},
   "source": [
    "<div class=\"alert alert-success\" style=\"border-radius: 15px; box-shadow: 4px 4px 4px; border: 1px solid \">\n",
    "<h2> Комментарий ревьюера 2 ✔️</h2>\n",
    "    \n",
    "Да, описание данных оставляет желать лучшего. Хорошо, что пол в итоге не влияет на отток :) \n",
    "    \n",
    "</div>"
   ]
  },
  {
   "cell_type": "code",
   "execution_count": 10,
   "id": "7f3d80c7-0ed5-49a5-a1f2-36b749ac9543",
   "metadata": {},
   "outputs": [
    {
     "data": {
      "image/png": "[encoded data removed]",
      "text/plain": [
       "<Figure size 432x432 with 1 Axes>"
      ]
     },
     "metadata": {
      "needs_background": "light"
     },
     "output_type": "display_data"
    }
   ],
   "source": [
    "pivot_and_plot('gender')\n",
    "plt.xlabel('Пол')\n",
    "plt.title('Количество клиентов каждого пола')\n",
    "plt.show()"
   ]
  },
  {
   "cell_type": "markdown",
   "id": "7965a59c",
   "metadata": {},
   "source": [
    "<div class=\"alert alert-block alert-info\">\n",
    "<b>КОММЕНТАРИЙ ОТ УЧЕНИКА: </b> Для большей информативности можно было бы подписи к столбцам изменить с \"0\" и \"1\" на \"нет\" и \"да\" соответственно, однако модуль выдает ошибку \"module 'matplotlib.pyplot' has no attribute 'set_xticks'\", поэтому условимся, что \"0\" означает \"нет\", а \"1\" - \"да\".</div>"
   ]
  },
  {
   "cell_type": "code",
   "execution_count": 11,
   "id": "72eba621",
   "metadata": {},
   "outputs": [
    {
     "data": {
      "image/png": "[encoded data removed]",
      "text/plain": [
       "<Figure size 432x432 with 1 Axes>"
      ]
     },
     "metadata": {
      "needs_background": "light"
     },
     "output_type": "display_data"
    }
   ],
   "source": [
    "pivot_and_plot('Near_Location')\n",
    "plt.xlabel('Проживание в районе клуба')\n",
    "plt.title ('Количество клиентов, проживающих в районе клуба')\n",
    "plt.show()"
   ]
  },
  {
   "cell_type": "code",
   "execution_count": 12,
   "id": "7b3d86b1",
   "metadata": {},
   "outputs": [
    {
     "data": {
      "image/png": "[encoded data removed]",
      "text/plain": [
       "<Figure size 432x432 with 1 Axes>"
      ]
     },
     "metadata": {
      "needs_background": "light"
     },
     "output_type": "display_data"
    }
   ],
   "source": [
    "pivot_and_plot('Partner')\n",
    "plt.xlabel('Запись в рамках акции \"приведи друга\"')\n",
    "plt.title ('Количество клиентов, записавшиеся в рамках акции \"Приведи друга\"')\n",
    "plt.show()"
   ]
  },
  {
   "cell_type": "code",
   "execution_count": 13,
   "id": "c9857ded",
   "metadata": {},
   "outputs": [
    {
     "data": {
      "image/png": "[encoded data removed]",
      "text/plain": [
       "<Figure size 432x432 with 1 Axes>"
      ]
     },
     "metadata": {
      "needs_background": "light"
     },
     "output_type": "display_data"
    }
   ],
   "source": [
    "pivot_and_plot('Phone')\n",
    "plt.xlabel('Наличие контактного телефона')\n",
    "plt.title('Количество клиентов, оставивших номер телефона')\n",
    "plt.show()"
   ]
  },
  {
   "cell_type": "code",
   "execution_count": 14,
   "id": "318d4322",
   "metadata": {},
   "outputs": [
    {
     "data": {
      "image/png": "[encoded data removed]",
      "text/plain": [
       "<Figure size 432x432 with 1 Axes>"
      ]
     },
     "metadata": {
      "needs_background": "light"
     },
     "output_type": "display_data"
    }
   ],
   "source": [
    "pivot_and_plot('Contract_period')\n",
    "plt.xlabel('Длительность абонемента, мес')\n",
    "plt.title ('Количество клиентов с разной длительностью абонемента')\n",
    "plt.show()"
   ]
  },
  {
   "cell_type": "code",
   "execution_count": 15,
   "id": "77ebdc82",
   "metadata": {
    "scrolled": true
   },
   "outputs": [
    {
     "data": {
      "image/png": "[encoded data removed]",
      "text/plain": [
       "<Figure size 432x432 with 1 Axes>"
      ]
     },
     "metadata": {
      "needs_background": "light"
     },
     "output_type": "display_data"
    }
   ],
   "source": [
    "pivot_and_plot('Group_visits')\n",
    "plt.xlabel('Факт посещения групповых занятий')\n",
    "plt.title ('Количество клиентов в зависимости от песещения групповых занятий')\n",
    "plt.show()"
   ]
  },
  {
   "cell_type": "code",
   "execution_count": 16,
   "id": "73089a62",
   "metadata": {},
   "outputs": [
    {
     "data": {
      "image/png": "[encoded data removed]",
      "text/plain": [
       "<Figure size 432x432 with 1 Axes>"
      ]
     },
     "metadata": {
      "needs_background": "light"
     },
     "output_type": "display_data"
    }
   ],
   "source": [
    "df['Month_to_end_contract'] = df['Month_to_end_contract'].astype('int')\n",
    "pivot_and_plot('Month_to_end_contract')\n",
    "plt.xlabel('Количество месяцев до окончания абонемента')\n",
    "plt.title('Количество клиентов с разным количеством месяцев до окончания абонемента')\n",
    "plt.show()"
   ]
  },
  {
   "cell_type": "markdown",
   "id": "9868a4f0",
   "metadata": {},
   "source": [
    "<div class=\"alert alert-block alert-info\">\n",
    "<b>КОММЕНТАРИЙ ОТ УЧЕНИКА: </b> Построим гистрограммы для дискретных величин. Совместим на одном графике гистограммы для ушедших клиентов и оставшихся.</div>"
   ]
  },
  {
   "cell_type": "markdown",
   "id": "1b127e95",
   "metadata": {},
   "source": [
    "<div class=\"alert alert-success\" style=\"border-radius: 15px; box-shadow: 4px 4px 4px; border: 1px solid \">\n",
    "<h2> Комментарий ревьюера 2 ✔️</h2>\n",
    "    \n",
    "Отлично!     \n",
    "</div>"
   ]
  },
  {
   "cell_type": "code",
   "execution_count": 17,
   "id": "28c3ae97",
   "metadata": {},
   "outputs": [],
   "source": [
    "# чтобы каждый раз не писать код для 2-х гистограмм и повторяющихся параметров для каждого признака, напишем функцию,\n",
    "# которой на вход достаточно передать название столбца, по которому строим график\n",
    "def hist(column):\n",
    "    ax = no_churn[column].hist(figsize = (6,6),bins = 20)\n",
    "    churn[column].hist(ax = ax, figsize = (6,6), bins = 20)\n",
    "    plt.legend(title = 'Факт оттока',labels = ['Нет','Да'])\n",
    "    plt.ylabel('Количество')"
   ]
  },
  {
   "cell_type": "code",
   "execution_count": 18,
   "id": "c5d876c0-593c-42ab-ba8d-248a06085c96",
   "metadata": {},
   "outputs": [
    {
     "data": {
      "image/png": "[encoded data removed]",
      "text/plain": [
       "<Figure size 432x432 with 1 Axes>"
      ]
     },
     "metadata": {
      "needs_background": "light"
     },
     "output_type": "display_data"
    }
   ],
   "source": [
    "hist('Age')\n",
    "plt.xlabel('Возраст')\n",
    "plt.title('Распределение возраста клиентов фитнес-центра')\n",
    "plt.show()"
   ]
  },
  {
   "cell_type": "code",
   "execution_count": 19,
   "id": "1660946b",
   "metadata": {},
   "outputs": [
    {
     "data": {
      "image/png": "[encoded data removed]",
      "text/plain": [
       "<Figure size 432x432 with 1 Axes>"
      ]
     },
     "metadata": {
      "needs_background": "light"
     },
     "output_type": "display_data"
    }
   ],
   "source": [
    "hist('Lifetime')\n",
    "plt.xlabel('Лайфтайм, мес')\n",
    "plt.title('Распределение лайфтаймов клиентов клуба')\n",
    "plt.show()"
   ]
  },
  {
   "cell_type": "code",
   "execution_count": 20,
   "id": "ef4e98aa",
   "metadata": {},
   "outputs": [
    {
     "data": {
      "image/png": "[encoded data removed]",
      "text/plain": [
       "<Figure size 432x432 with 1 Axes>"
      ]
     },
     "metadata": {
      "needs_background": "light"
     },
     "output_type": "display_data"
    }
   ],
   "source": [
    "hist('Avg_class_frequency_total')\n",
    "plt.xlabel('Среднее количество посещений в неделю')\n",
    "plt.title('Распределение среднего количества посещений в неделю за всё время')\n",
    "plt.show()"
   ]
  },
  {
   "cell_type": "code",
   "execution_count": 21,
   "id": "d726ba7b",
   "metadata": {},
   "outputs": [
    {
     "data": {
      "image/png": "[encoded data removed]",
      "text/plain": [
       "<Figure size 432x432 with 1 Axes>"
      ]
     },
     "metadata": {
      "needs_background": "light"
     },
     "output_type": "display_data"
    }
   ],
   "source": [
    "hist('Avg_class_frequency_current_month')\n",
    "plt.xlabel('Среднее количество посещений в неделю')\n",
    "plt.title('Распределение среднего количества посещений в неделю за последний меcяц')\n",
    "plt.show()"
   ]
  },
  {
   "cell_type": "code",
   "execution_count": 22,
   "id": "9c0f7717",
   "metadata": {},
   "outputs": [
    {
     "data": {
      "image/png": "[encoded data removed]",
      "text/plain": [
       "<Figure size 432x432 with 1 Axes>"
      ]
     },
     "metadata": {
      "needs_background": "light"
     },
     "output_type": "display_data"
    }
   ],
   "source": [
    "hist('Avg_additional_charges_total')\n",
    "plt.xlabel('Выручка от дополнительных услуг, руб.')\n",
    "plt.title('Распределение выручки от дополнительных услуг')\n",
    "plt.show()"
   ]
  },
  {
   "cell_type": "markdown",
   "id": "9ae5d30e",
   "metadata": {},
   "source": [
    "<div class=\"alert alert-success\" style=\"border-radius: 15px; box-shadow: 4px 4px 4px; border: 1px solid \">\n",
    "<h2> Комментарий ревьюера ✔️</h2>\n",
    "    \n",
    "Отлично! Графики это и правда очень важно. </div>\n",
    "<div class=\"alert alert-danger\" style=\"border-radius: 15px; box-shadow: 4px 4px 4px; border: 1px solid\">\n",
    "<h2> Комментарий ревьюера  ❌</h2>\n",
    "    \n",
    "- Однако для дискретных переменных стоит выбрать столбчатую диаграмму.\n",
    "\n",
    "\n",
    "\n",
    "- Каждый график должен иметь заголовок и подписи осей. </div>\n",
    "<div class=\"alert alert-success\" style=\"border-radius: 15px; box-shadow: 4px 4px 4px; border: 1px solid \">\n",
    "<h2> Комментарий ревьюера 2 ✔️</h2>\n",
    "    \n",
    "Супер!     \n",
    "</div>"
   ]
  },
  {
   "cell_type": "markdown",
   "id": "0a337512-c454-4d71-9c3d-d49d89d79fa4",
   "metadata": {},
   "source": [
    "Здесь мы видим, что у оставшихся клиентов, в отличии от ушедших, выше доля сотрудников компаний-партнеров клуба. Также в 2 раза выше доля пришедших по программе \"приведи друга\". Длительность абонемента равна 1, 6 и 12 месяцам (в отличии от ушедших клиентов, где длительность в основном равна только 1 месяцу). У оставшихся пользователей выше доля посещающих групповые занятия, до окнчания действующего абонемента больше времени, выше лайфтайм, они чаще посещают занятия.\n",
    "\n",
    "Также стоит обратить внимание, что у ушедших пользователей, частота посещений в последнем месяце часто равна нулю."
   ]
  },
  {
   "cell_type": "markdown",
   "id": "7d6f3854-a1b6-42ea-93e7-01d341f2d2f2",
   "metadata": {},
   "source": [
    "Построим матрицу корреляций и визуализируем ее с помощью тепловой карты."
   ]
  },
  {
   "cell_type": "code",
   "execution_count": 23,
   "id": "d6070dca-f714-4c25-9fe2-1a9b34b4479f",
   "metadata": {},
   "outputs": [
    {
     "data": {
      "image/png": "[encoded data removed]",
      "text/plain": [
       "<Figure size 648x648 with 2 Axes>"
      ]
     },
     "metadata": {
      "needs_background": "light"
     },
     "output_type": "display_data"
    }
   ],
   "source": [
    "df_corr = df.corr().round(2)\n",
    "plt.figure(figsize = (9,9))\n",
    "sns.heatmap(df_corr, annot=True, square = True)\n",
    "plt.show()"
   ]
  },
  {
   "cell_type": "markdown",
   "id": "6d188d8e-1f4c-4911-95dd-a03d45a5bede",
   "metadata": {},
   "source": [
    "Параметры \"month_to_end_contract\" и \"contract period\", а также \"Avg_class_frequency_current_month\" и \"Avg_class_frequency_total\" имеют между собой высокий уровень корреляции, что может усложнить построение модели.\n",
    "\n",
    "Столбец \"Churn\" коррелирует с такими параметрами как длительность абонемента, возраст, время до окончания абонемента, лайфтайм, частота посещений в текущем месяце."
   ]
  },
  {
   "cell_type": "markdown",
   "id": "87d5826b-6f14-431b-9328-ab840d3766a4",
   "metadata": {},
   "source": [
    "Уберем из датафрейма по одному из двух пар мультиколлинеарных признаков."
   ]
  },
  {
   "cell_type": "code",
   "execution_count": 24,
   "id": "3fcf8c51-f1ec-4b8e-ba19-d029a1e942e0",
   "metadata": {},
   "outputs": [],
   "source": [
    "df = df.drop(['Month_to_end_contract','Avg_class_frequency_total'],axis = 1)"
   ]
  },
  {
   "cell_type": "code",
   "execution_count": 25,
   "id": "6b01c46f-761a-46c4-8e7a-82e35aa18066",
   "metadata": {},
   "outputs": [
    {
     "data": {
      "text/plain": [
       "Index(['gender', 'Near_Location', 'Partner', 'Promo_friends', 'Phone',\n",
       "       'Contract_period', 'Group_visits', 'Age',\n",
       "       'Avg_additional_charges_total', 'Lifetime',\n",
       "       'Avg_class_frequency_current_month', 'Churn'],\n",
       "      dtype='object')"
      ]
     },
     "execution_count": 25,
     "metadata": {},
     "output_type": "execute_result"
    }
   ],
   "source": [
    "df.columns"
   ]
  },
  {
   "cell_type": "markdown",
   "id": "ac91f1ff-6890-480c-9dfe-c9306976091c",
   "metadata": {},
   "source": [
    "В ходе исследовательского анализа данных были исследованы распределения признаков. Были обнаружены отличия в признаках для ушедших и оставшихся клиентов, например, для таких параметров как принадлежность к компании-партнеру клуба, лафйтайм, длительность абонемента и другие.\n",
    "Была построена матрица корреляций признаков. Признаки \"Month_to_end_contract\" и \"Avg_class_frequency_total\" были исключены из анализа из-за их высокой корреляции с признаками \"month_to_end_contract\" и \"avg_class_frequency_total\" соответственно."
   ]
  },
  {
   "cell_type": "markdown",
   "id": "e9233921-7213-432d-b1a6-2dc09628d61c",
   "metadata": {},
   "source": [
    "# Обучение модели прогнозирования оттока клиентов"
   ]
  },
  {
   "cell_type": "markdown",
   "id": "e294516e-7cfe-4e79-b9a7-3dd79e0e4f0e",
   "metadata": {},
   "source": [
    "Проведем разделение выборки на обучающую и валидационную."
   ]
  },
  {
   "cell_type": "code",
   "execution_count": 26,
   "id": "2eeebae4",
   "metadata": {},
   "outputs": [],
   "source": [
    "# разделим признаки и целевую переменную\n",
    "x = df.drop(['Churn'], axis = 1)\n",
    "y = df['Churn']"
   ]
  },
  {
   "cell_type": "code",
   "execution_count": 27,
   "id": "90edacb1-1ff3-4a0d-86c8-e3ba20c0942c",
   "metadata": {},
   "outputs": [],
   "source": [
    "x_train, x_test, y_train, y_test = train_test_split(x,y,test_size = 0.2, random_state = 0)"
   ]
  },
  {
   "cell_type": "markdown",
   "id": "43538680-5fae-4700-9871-4f5fbc300ee9",
   "metadata": {},
   "source": [
    "Для дальнейшего построения модели логистической регрессии необходимо стандартизировать значения."
   ]
  },
  {
   "cell_type": "code",
   "execution_count": 28,
   "id": "a855b69a-95b8-4e9a-9778-e8c7907d6761",
   "metadata": {},
   "outputs": [],
   "source": [
    "scaler = StandardScaler()\n",
    "scaler.fit(x_train)\n",
    "x_train_st = scaler.transform(x_train)\n",
    "x_test_st = scaler.transform(x_test)"
   ]
  },
  {
   "cell_type": "markdown",
   "id": "4eab75ea",
   "metadata": {},
   "source": [
    "<div class=\"alert alert-success\" style=\"border-radius: 15px; box-shadow: 4px 4px 4px; border: 1px solid \">\n",
    "<h2> Комментарий ревьюера ✔️</h2>\n",
    "    \n",
    "Да, масштабировать данные следует после разбиения, молодец. \n",
    "</div>"
   ]
  },
  {
   "cell_type": "markdown",
   "id": "6f885b36-8687-42d7-9bfe-ecc98683c00d",
   "metadata": {},
   "source": [
    "Приступим к обучению модели логистической регресии."
   ]
  },
  {
   "cell_type": "code",
   "execution_count": 29,
   "id": "24457305-e860-4c37-9d8f-518c50ea79dd",
   "metadata": {},
   "outputs": [],
   "source": [
    "model = LogisticRegression()\n",
    "model.fit(x_train_st, y_train)\n",
    "# сохраним вектор спрогнозированных значений в переменной\n",
    "y_pred_regression = model.predict(x_test_st)"
   ]
  },
  {
   "cell_type": "markdown",
   "id": "071d394e-829b-4048-acc8-fc2f2e4862d0",
   "metadata": {},
   "source": [
    "Обучим модель с помощью алгоритма \"Случайный лес\"."
   ]
  },
  {
   "cell_type": "code",
   "execution_count": 30,
   "id": "98d0eb5c-c484-4b28-bcf6-50979c85c707",
   "metadata": {},
   "outputs": [],
   "source": [
    "rf_model = RandomForestClassifier(n_estimators = 100)\n",
    "# \"деревья\" не требуют стандартизации значений, поэтому можно передать на обучение переменную \"x_train\"\n",
    "rf_model.fit(x_train, y_train)\n",
    "# сохраним вектор спрогнозированных значений в переменной\n",
    "y_pred_forest = rf_model.predict(x_test)"
   ]
  },
  {
   "cell_type": "markdown",
   "id": "4ae7708a-33b3-46cc-8e44-055f98dc4c41",
   "metadata": {},
   "source": [
    "Сравним модели по метрикам accuracy, precision и recall."
   ]
  },
  {
   "cell_type": "markdown",
   "id": "1ad62361-6601-479b-863f-e102470ec7e0",
   "metadata": {},
   "source": [
    "Посчитаем метрику accuracy поочередно для модели логистической регрессии, а затем для случайного леса."
   ]
  },
  {
   "cell_type": "code",
   "execution_count": 31,
   "id": "d4a1b375-217b-45e1-b9bd-16d5d41618d9",
   "metadata": {},
   "outputs": [
    {
     "name": "stdout",
     "output_type": "stream",
     "text": [
      "Метрика accuracy для модели логистической регрессии составляет 0.9025, \n",
      "Метрика accuracy для модели случайного леса составляет 0.89125\n"
     ]
    }
   ],
   "source": [
    "regression_accuracy = accuracy_score(y_test, y_pred_regression)\n",
    "forest_accuracy = accuracy_score(y_test,y_pred_forest)\n",
    "print(f'Метрика accuracy для модели логистической регрессии составляет {regression_accuracy}, \\nМетрика accuracy для модели случайного леса составляет {forest_accuracy}')"
   ]
  },
  {
   "cell_type": "markdown",
   "id": "98f75dd1-511b-47a4-9cef-71819b1d3f4d",
   "metadata": {},
   "source": [
    "Значение метрики в обоих моделях практически одинаково высоко. Это значит, что модели в ~90% случаев сделали верный прогноз."
   ]
  },
  {
   "cell_type": "markdown",
   "id": "57816dcb-6333-453f-a401-239fda48a7cd",
   "metadata": {},
   "source": [
    "Узнаем значения метрики precision."
   ]
  },
  {
   "cell_type": "code",
   "execution_count": 32,
   "id": "32e84236-386f-46fb-9bb1-64c78ec1f47f",
   "metadata": {},
   "outputs": [
    {
     "name": "stdout",
     "output_type": "stream",
     "text": [
      "Метрика precision для модели логистической регрессии составляет 0.791, \n",
      "Метрика precision для модели случайного леса составляет 0.8\n"
     ]
    }
   ],
   "source": [
    "regression_precision = precision_score(y_test, y_pred_regression)\n",
    "forest_precision = precision_score(y_test, y_pred_forest)\n",
    "print(f'Метрика precision для модели логистической регрессии составляет {round(regression_precision,3)}, \\nМетрика precision для модели случайного леса составляет {round(forest_precision,3)}')"
   ]
  },
  {
   "cell_type": "markdown",
   "id": "adf363dd-ff9c-4f59-a829-2de8ec69e01b",
   "metadata": {},
   "source": [
    "Обе метрики высоки и равны ~80%. Это означает, что среди всех спрогнозированных моделями ушедших клиентов (churn = 1), 80% спрогнозированы верно."
   ]
  },
  {
   "cell_type": "markdown",
   "id": "2db0ae0c-9e92-48ef-b0e1-8e6a41167ab0",
   "metadata": {},
   "source": [
    "На данном шаге мы обучили алгоритмы логистической регрессии и случайного леса делать прогноз перестанет ли клиент пользоваться услугами фитнес-центра или останется в нем."
   ]
  },
  {
   "cell_type": "markdown",
   "id": "1f6425ed",
   "metadata": {},
   "source": [
    "<div class=\"alert alert-success\" style=\"border-radius: 15px; box-shadow: 4px 4px 4px; border: 1px solid \">\n",
    "<h2> Комментарий ревьюера ✔️</h2>\n",
    "    \n",
    "Хорошо. </div>\n",
    "<div class=\"alert alert-warning\" style=\"border-radius: 15px; box-shadow: 4px 4px 4px; border: 1px solid \">\n",
    "<h2> Комментарий ревьюера  ⚠️</h2>\n",
    "    \n",
    "Как думаешь, какой алгоритм больше подходит под задачу?     \n",
    "    \n",
    "</div>"
   ]
  },
  {
   "cell_type": "markdown",
   "id": "9a4b06b7",
   "metadata": {},
   "source": [
    "<div class=\"alert alert-block alert-info\">\n",
    "<b>КОММЕНТАРИЙ ОТ УЧЕНИКА: </b> Я думаю для данной задачи больше всего подходит логистическая регрессия. Метрики в обоих алгоритмах примерно равны, но у регрессии проще интерпретируемость и выполяется она быстрее, чем случайный лес.</div>"
   ]
  },
  {
   "cell_type": "markdown",
   "id": "14bd0829",
   "metadata": {},
   "source": [
    "<div class=\"alert alert-success\" style=\"border-radius: 15px; box-shadow: 4px 4px 4px; border: 1px solid \">\n",
    "<h2> Комментарий ревьюера 2 ✔️</h2>\n",
    "    \n",
    "Согласна. Также она лучше определяет отток.     \n",
    "</div>"
   ]
  },
  {
   "cell_type": "code",
   "execution_count": null,
   "id": "81c95da6",
   "metadata": {},
   "outputs": [],
   "source": []
  },
  {
   "cell_type": "markdown",
   "id": "ff941c8d-f243-41da-bf8b-ae9d80a00ab7",
   "metadata": {},
   "source": [
    "# Кластеризация клиентов"
   ]
  },
  {
   "cell_type": "markdown",
   "id": "8ff0ad6b-99eb-4c32-8633-fb0d5a303fa8",
   "metadata": {},
   "source": [
    "Построим матрицу расстояний признаков"
   ]
  },
  {
   "cell_type": "code",
   "execution_count": 33,
   "id": "621c0e6d-9f91-4fff-a6aa-dc09519567d7",
   "metadata": {},
   "outputs": [],
   "source": [
    "linked = linkage(x_train_st, method = 'ward')"
   ]
  },
  {
   "cell_type": "markdown",
   "id": "335d011a-33ec-4560-8ee8-37c9a2c3b23a",
   "metadata": {},
   "source": [
    "Визуализируем матрицу расстояний с помощью дендрограммы."
   ]
  },
  {
   "cell_type": "code",
   "execution_count": null,
   "id": "0e0721da-fb56-4bbf-a23e-a111920eb107",
   "metadata": {},
   "outputs": [],
   "source": [
    "plt.figure(figsize = (15,8))\n",
    "dendrogram(linked, orientation = 'top')\n",
    "plt.show()"
   ]
  },
  {
   "cell_type": "markdown",
   "id": "13fe1bd7-89aa-4ca6-9612-5f06d1fcf993",
   "metadata": {},
   "source": [
    "На основании дендрограммы можно выделить 4 кластера."
   ]
  },
  {
   "cell_type": "markdown",
   "id": "5fea9c26-b1a4-44e1-af2c-4f6efe116a88",
   "metadata": {},
   "source": [
    "Сделаем кластеризацию клиентов алгоритмом KMeans."
   ]
  },
  {
   "cell_type": "code",
   "execution_count": null,
   "id": "f7e120b7-7022-4c3d-a3a0-79141c4fe8a7",
   "metadata": {},
   "outputs": [],
   "source": [
    "x_sc = scaler.fit_transform(df.drop(['Churn'], axis = 1))\n",
    "# в условии задачи прописано количество кластеров равное 5\n",
    "km = KMeans(n_clusters = 5, random_state = 0)\n",
    "labels = km.fit_predict(x_sc)"
   ]
  },
  {
   "cell_type": "code",
   "execution_count": null,
   "id": "5eb19789-6edd-418b-a03a-51eb4a4acba4",
   "metadata": {},
   "outputs": [],
   "source": [
    "# добавим индексы кластеров в исходный датафрейм\n",
    "df['cluster'] = labels"
   ]
  },
  {
   "cell_type": "markdown",
   "id": "66a89221-ece4-4171-bc59-872a5586ab9b",
   "metadata": {},
   "source": [
    "Проверим успешность добавления массива в датафрейм."
   ]
  },
  {
   "cell_type": "code",
   "execution_count": null,
   "id": "af582b70-82fe-421c-8692-f68cc7d2cfc8",
   "metadata": {},
   "outputs": [],
   "source": [
    "df.info()"
   ]
  },
  {
   "cell_type": "code",
   "execution_count": null,
   "id": "fe9cce3f-cbfd-4213-9635-9e54952b1365",
   "metadata": {},
   "outputs": [],
   "source": [
    "df.head()"
   ]
  },
  {
   "cell_type": "code",
   "execution_count": null,
   "id": "0ea2d168-1360-42c8-b6dd-4540ecbd2c31",
   "metadata": {},
   "outputs": [],
   "source": [
    "df.tail()"
   ]
  },
  {
   "cell_type": "markdown",
   "id": "ce757e69-b318-4475-8b9b-e7540bc807d4",
   "metadata": {},
   "source": [
    "Столбец успешно добавлен, потерь данных нет."
   ]
  },
  {
   "cell_type": "markdown",
   "id": "d21badd3-2bbc-4494-8a34-e3817668bf40",
   "metadata": {},
   "source": [
    "Посмотрим на средние значения признаков кластеров."
   ]
  },
  {
   "cell_type": "code",
   "execution_count": null,
   "id": "b55e5cb1-5fde-42bc-8bb3-41b95dbe6fc6",
   "metadata": {},
   "outputs": [],
   "source": [
    "df.groupby('cluster').mean()"
   ]
  },
  {
   "cell_type": "markdown",
   "id": "85f8f153-f070-482f-b6e9-e449dec2581c",
   "metadata": {},
   "source": [
    "У кластеров можно выделить следующие признаки.\n",
    "\n",
    "Проживание/работа в районе фитнес-центра. У кластера с индексом 1 никто из клиентов не живет/работает рядом. В кластер 4, напротив, попали только клиенты, живущие/работающие в районе фитнес-центра. Остальные кластеры имеют высокое среднее значение попадания в данный признак.\n",
    "\n",
    "Запись в рамках акции \"приведи друга\". В кластер 0 попали только клиенты, которые пришли по этой акции. Кластеры 1, 2 и 3 имеют низкую долю попадания клиентов в этот признак.\n",
    "\n",
    "Наличие контактного телефона. В кластер 4 попали все клиенты, о номере телефона которых нет данных."
   ]
  },
  {
   "cell_type": "markdown",
   "id": "42748c70",
   "metadata": {},
   "source": [
    "<div class=\"alert alert-success\" style=\"border-radius: 15px; box-shadow: 4px 4px 4px; border: 1px solid \">\n",
    "<h2> Комментарий ревьюера 2 ✔️</h2>\n",
    "    \n",
    "Отлично.     \n",
    "</div>"
   ]
  },
  {
   "cell_type": "markdown",
   "id": "9e7943da-e8d6-4ba7-85f2-1210c3e6c0cb",
   "metadata": {},
   "source": [
    "Построим распределения признаков для кластеров для наглядной визуализации отличий признаков для кластеров."
   ]
  },
  {
   "cell_type": "markdown",
   "id": "10adf0f8-429f-4c5c-a257-d6effa619374",
   "metadata": {},
   "source": [
    "Построим отдельно распределения сначала для категориальных признаков, затем для количественных."
   ]
  },
  {
   "cell_type": "code",
   "execution_count": null,
   "id": "ab29b3c5-d161-4b14-9208-32b86d6eaf7c",
   "metadata": {},
   "outputs": [],
   "source": [
    "# сохраним количетвенные и категориальные признаки в отдельной переменной\n",
    "df_numerical = df[['Age','Lifetime','Avg_class_frequency_current_month','Avg_additional_charges_total']]"
   ]
  },
  {
   "cell_type": "code",
   "execution_count": null,
   "id": "d0b5b286-2b87-4e98-a9c8-99715bb5cd0c",
   "metadata": {},
   "outputs": [],
   "source": [
    "# Длительность абонемента визуализируем отдельно\n",
    "df_categorical = df.drop(columns = df_numerical.columns).drop(['Contract_period'],axis = 1)"
   ]
  },
  {
   "cell_type": "code",
   "execution_count": null,
   "id": "774d2a0a-e085-447a-8b0f-7f28681cd55e",
   "metadata": {},
   "outputs": [],
   "source": [
    "for column in df_categorical.columns:\n",
    "    if column != 'cluster' and column != 'Churn':\n",
    "        df_categorical.groupby('cluster')[column].mean().plot(kind = 'bar', y = column, figsize = (4,4))\n",
    "        plt.xlabel('Кластер')\n",
    "        plt.ylabel('Доля')\n",
    "        plt.title(f'Доля клиентов в каждом кластере для признака {column}')\n",
    "        plt.legend().remove()\n",
    "        plt.show()"
   ]
  },
  {
   "cell_type": "markdown",
   "id": "d4933127-1b94-4d63-86cd-8036442aa42e",
   "metadata": {},
   "source": [
    "Кроме перечисленных ранее признаков, можно выделить такие признаки как \"сотрудник компании-партнера клуба\" (в кластере 2 малая доля клиентов, принадлежащих данному кластеру, в кластере 0, напротив, высокая), \"факт посещения групповых занятий\" (в кластере 1 и 2 низкая доля клиентов, обладающих данным признаком)"
   ]
  },
  {
   "cell_type": "markdown",
   "id": "c847f86f-2f7c-4948-a8bf-a8371e01aca9",
   "metadata": {},
   "source": [
    "Визуализируем кластеры по длительности абонемента."
   ]
  },
  {
   "cell_type": "code",
   "execution_count": null,
   "id": "ab0f42fc-ec96-4f01-bde1-baa49d351924",
   "metadata": {},
   "outputs": [],
   "source": [
    "period_pivot = df.pivot_table(index = 'cluster', columns = 'Contract_period', values = 'Age', aggfunc = 'count')\n",
    "period_pivot.plot(kind = 'bar')\n",
    "plt.xlabel('Кластер')\n",
    "plt.ylabel('Количество клиентов')\n",
    "plt.legend(title = 'Длительность абонемента')\n",
    "plt.tick_params(labelrotation = 0)\n",
    "plt.title('Количество клиентов с разной длительностью абонемента в каждом кластере')\n",
    "plt.show()"
   ]
  },
  {
   "cell_type": "markdown",
   "id": "c3351006-00ca-4f77-a05b-993090921ccf",
   "metadata": {},
   "source": [
    "У кластеров 1 и 2 преобладают клиенты с абонементом с длительностью в месяц. 12-месячных абонементов больше всего в кластерах 0 и 3."
   ]
  },
  {
   "cell_type": "markdown",
   "id": "6eb4bd9e",
   "metadata": {},
   "source": [
    "<div class=\"alert alert-success\" style=\"border-radius: 15px; box-shadow: 4px 4px 4px; border: 1px solid \">\n",
    "<h2> Комментарий ревьюера 2 ✔️</h2>\n",
    "    \n",
    "Да, похоже на то.    \n",
    "</div>"
   ]
  },
  {
   "cell_type": "markdown",
   "id": "5f61aff6-6434-4939-a813-2ee16056d54e",
   "metadata": {},
   "source": [
    "Построим распределения для количественных признаков с помощью диаграмм рассеяния. Чтобы не писать код для каждой пары признаков отдельно, определим функцию отрисовки графиков попарных признаков для кластеров и отрисуем с помощью цикла for."
   ]
  },
  {
   "cell_type": "code",
   "execution_count": null,
   "id": "241a10bf-9a61-43f0-a931-1fdfe1ac5e71",
   "metadata": {},
   "outputs": [],
   "source": [
    "def show_clusters_on_plot(df, x_name, y_name, cluster_name):\n",
    "    plt.figure(figsize=(5, 5))\n",
    "    sns.scatterplot(x = df[x_name], y = df[y_name], hue=df[cluster_name], palette = 'deep', alpha = 0.76)\n",
    "    plt.title('{} vs {}'.format(x_name, y_name))\n",
    "    plt.show()"
   ]
  },
  {
   "cell_type": "code",
   "execution_count": null,
   "id": "9b16ebc7-1de5-477e-8bec-2e3776e76966",
   "metadata": {},
   "outputs": [],
   "source": [
    "col_pairs = list(itertools.combinations(df_numerical.columns, 2))\n",
    "col_pairs"
   ]
  },
  {
   "cell_type": "code",
   "execution_count": null,
   "id": "eab936eb-f4d3-4401-b8a3-d574406f7f99",
   "metadata": {},
   "outputs": [],
   "source": [
    "for p in col_pairs:\n",
    "    show_clusters_on_plot (df,p[0],p[1],'cluster')"
   ]
  },
  {
   "cell_type": "markdown",
   "id": "acd481d1-4fb1-46a8-a602-176d2396a4b3",
   "metadata": {},
   "source": [
    "На данных диаграммах рассеяния можно увидеть разницу между кластером 2 и кластером 3. Клиенты кластера 2, как правило, более молодые и имеют меньший лайфтайм, по сравнению с клиентами кластера 3, склонны к меньшей частоте посещения занятий в месяц."
   ]
  },
  {
   "cell_type": "markdown",
   "id": "a1151191-2894-488c-b5ef-be198c0ad4b5",
   "metadata": {},
   "source": [
    "Посчитаем и визуализируем долю оттока для каждого кластера."
   ]
  },
  {
   "cell_type": "code",
   "execution_count": null,
   "id": "d182cba9-b2b8-4b30-99d0-6e3b256d16ca",
   "metadata": {},
   "outputs": [],
   "source": [
    "clusters_churn = df.groupby('cluster')['Churn'].mean()\n",
    "bar = clusters_churn.plot(kind = 'bar')\n",
    "plt.xlabel('Кластер')\n",
    "plt.ylabel('Доля оттока')\n",
    "plt.title('Доля оттока у разных кластеров')\n",
    "plt.bar_label(bar.containers[0],fmt='%.2f')\n",
    "plt.show()"
   ]
  },
  {
   "cell_type": "markdown",
   "id": "fd896b39-80cb-4879-81da-ed38b4627bd4",
   "metadata": {},
   "source": [
    "Кластер 3 имеет самую низкую долю оттока: всего 1% клиентов данного кластера перестали ходить в фитнес-центр. Также низкую долю оттока имеет кластер 0.\n",
    "Самую высокую долю оттока имеет кластер 2: 56% клиентов данного кластера перестали посещать фитнес-центр. Также довольно высокую долю оттока имеет кластер 1."
   ]
  },
  {
   "cell_type": "markdown",
   "id": "6d61c722-e633-4ed4-a4b9-9ca9c1828e1c",
   "metadata": {},
   "source": [
    "На данном шаге мы провели кластеризацию клиентов с помощью агломеративной иерархической кластеризации и алгоритма K-Means. Первый алгоритм выделил 4 группы клиентов. Алгоритмом K-Means мы выделили 5 кластеров, среди которых выделяются кластеры 2 и 1 высокой долей оттока, 3 и 0 - низкой."
   ]
  },
  {
   "cell_type": "markdown",
   "id": "de9025eb-00a0-48cd-aab4-e01e411e04be",
   "metadata": {},
   "source": [
    "# Выводы и рекомендации"
   ]
  },
  {
   "cell_type": "markdown",
   "id": "9d6cfb9b-3fa1-4cad-8dc6-86f9ba010df3",
   "metadata": {},
   "source": [
    "В ходе работы была проведена предобработка данных, в ходе которой из датафрейма были удалены столбцы с информацией о количестве месяцев до окончания абонемента и среднем количестве посещений в неделю за всё время в следствие их высокой корреляции со столбцами с информацией о длительности абонемента и среднем количестве посещений в неделю за последний месяц.\n",
    "\n",
    "Для прогноза оттока были обучены 2 модели, которые показали высокий уровень метрик accuracy и precision.\n",
    "Была проведена кластеризация клиентов с помощью иерархической кластеризации и алгоритмом K-Means.\n",
    "\n",
    "Рекомендации: увеличить количество компаний-партнеров клуба (т.к. кластер с самым высоким уровнем оттока имел низкую долю клиентов, работающих с партнерами), разработка выгодных долгосрочных абонементов (т.к. клиенты часто не продлевают свой одномесячный абонемент), сделать выгодные предложения для молодых клиентов (например, скидка по студенческому билету), распространение промо-кодов акции \"Приведи друга\" (т.к. кластер 0 с низкой долей оттока попали клиенты, записавшиеся в рамках этой акции). "
   ]
  },
  {
   "cell_type": "markdown",
   "id": "cb62aba6",
   "metadata": {},
   "source": [
    "<div class=\"alert alert-success\" style=\"border-radius: 15px; box-shadow: 4px 4px 4px; border: 1px solid \">\n",
    "<h2> Комментарий ревьюера 2 ✔️</h2>\n",
    "    \n",
    "Отличная работа!     \n",
    "</div>"
   ]
  }
 ],
 "metadata": {
  "ExecuteTimeLog": [
   {
    "duration": 1983,
    "start_time": "2025-03-23T17:40:34.808Z"
   },
   {
    "duration": 158,
    "start_time": "2025-03-23T17:40:36.793Z"
   },
   {
    "duration": 10,
    "start_time": "2025-03-23T17:41:02.109Z"
   },
   {
    "duration": 0,
    "start_time": "2025-03-23T17:41:02.121Z"
   },
   {
    "duration": 0,
    "start_time": "2025-03-23T17:41:02.123Z"
   },
   {
    "duration": 0,
    "start_time": "2025-03-23T17:41:02.124Z"
   },
   {
    "duration": 0,
    "start_time": "2025-03-23T17:41:02.125Z"
   },
   {
    "duration": 0,
    "start_time": "2025-03-23T17:41:02.126Z"
   },
   {
    "duration": 0,
    "start_time": "2025-03-23T17:41:02.127Z"
   },
   {
    "duration": 0,
    "start_time": "2025-03-23T17:41:02.129Z"
   },
   {
    "duration": 0,
    "start_time": "2025-03-23T17:41:02.130Z"
   },
   {
    "duration": 0,
    "start_time": "2025-03-23T17:41:02.131Z"
   },
   {
    "duration": 0,
    "start_time": "2025-03-23T17:41:02.132Z"
   },
   {
    "duration": 16,
    "start_time": "2025-03-23T17:41:02.135Z"
   },
   {
    "duration": 0,
    "start_time": "2025-03-23T17:41:02.153Z"
   },
   {
    "duration": 0,
    "start_time": "2025-03-23T17:41:02.153Z"
   },
   {
    "duration": 0,
    "start_time": "2025-03-23T17:41:02.155Z"
   },
   {
    "duration": 0,
    "start_time": "2025-03-23T17:41:02.156Z"
   },
   {
    "duration": 0,
    "start_time": "2025-03-23T17:41:02.156Z"
   },
   {
    "duration": 0,
    "start_time": "2025-03-23T17:41:02.157Z"
   },
   {
    "duration": 0,
    "start_time": "2025-03-23T17:41:02.158Z"
   },
   {
    "duration": 0,
    "start_time": "2025-03-23T17:41:02.159Z"
   },
   {
    "duration": 0,
    "start_time": "2025-03-23T17:41:02.160Z"
   },
   {
    "duration": 0,
    "start_time": "2025-03-23T17:41:02.161Z"
   },
   {
    "duration": 0,
    "start_time": "2025-03-23T17:41:02.162Z"
   },
   {
    "duration": 0,
    "start_time": "2025-03-23T17:41:02.163Z"
   },
   {
    "duration": 0,
    "start_time": "2025-03-23T17:41:02.164Z"
   },
   {
    "duration": 0,
    "start_time": "2025-03-23T17:41:02.165Z"
   },
   {
    "duration": 0,
    "start_time": "2025-03-23T17:41:02.166Z"
   },
   {
    "duration": 0,
    "start_time": "2025-03-23T17:41:02.167Z"
   },
   {
    "duration": 0,
    "start_time": "2025-03-23T17:41:02.167Z"
   },
   {
    "duration": 0,
    "start_time": "2025-03-23T17:41:02.168Z"
   },
   {
    "duration": 0,
    "start_time": "2025-03-23T17:41:02.169Z"
   },
   {
    "duration": 0,
    "start_time": "2025-03-23T17:41:02.170Z"
   },
   {
    "duration": 0,
    "start_time": "2025-03-23T17:41:02.171Z"
   },
   {
    "duration": 0,
    "start_time": "2025-03-23T17:41:02.172Z"
   },
   {
    "duration": 1586,
    "start_time": "2025-03-24T07:49:01.292Z"
   },
   {
    "duration": 34,
    "start_time": "2025-03-24T07:49:02.880Z"
   },
   {
    "duration": 14,
    "start_time": "2025-03-24T07:49:02.916Z"
   },
   {
    "duration": 40,
    "start_time": "2025-03-24T07:49:02.932Z"
   },
   {
    "duration": 43,
    "start_time": "2025-03-24T07:49:02.974Z"
   },
   {
    "duration": 14,
    "start_time": "2025-03-24T07:49:03.018Z"
   },
   {
    "duration": 30,
    "start_time": "2025-03-24T07:49:03.034Z"
   },
   {
    "duration": 8,
    "start_time": "2025-03-24T07:49:03.066Z"
   },
   {
    "duration": 1480,
    "start_time": "2025-03-24T07:49:03.076Z"
   },
   {
    "duration": 1392,
    "start_time": "2025-03-24T07:49:04.558Z"
   },
   {
    "duration": 1432,
    "start_time": "2025-03-24T07:49:05.951Z"
   },
   {
    "duration": 4,
    "start_time": "2025-03-24T07:49:07.385Z"
   },
   {
    "duration": 18,
    "start_time": "2025-03-24T07:49:07.390Z"
   },
   {
    "duration": 4,
    "start_time": "2025-03-24T07:49:07.411Z"
   },
   {
    "duration": 10,
    "start_time": "2025-03-24T07:49:07.416Z"
   },
   {
    "duration": 10,
    "start_time": "2025-03-24T07:49:07.428Z"
   },
   {
    "duration": 74,
    "start_time": "2025-03-24T07:49:07.440Z"
   },
   {
    "duration": 502,
    "start_time": "2025-03-24T07:49:07.516Z"
   },
   {
    "duration": 5,
    "start_time": "2025-03-24T07:49:08.019Z"
   },
   {
    "duration": 7,
    "start_time": "2025-03-24T07:49:08.025Z"
   },
   {
    "duration": 345,
    "start_time": "2025-03-24T07:49:08.033Z"
   },
   {
    "duration": 82083,
    "start_time": "2025-03-24T07:49:08.380Z"
   },
   {
    "duration": 1343,
    "start_time": "2025-03-24T07:50:30.465Z"
   },
   {
    "duration": 5,
    "start_time": "2025-03-24T07:50:31.810Z"
   },
   {
    "duration": 99,
    "start_time": "2025-03-24T07:50:31.817Z"
   },
   {
    "duration": 62,
    "start_time": "2025-03-24T07:50:31.917Z"
   },
   {
    "duration": 43,
    "start_time": "2025-03-24T07:50:31.981Z"
   },
   {
    "duration": 21,
    "start_time": "2025-03-24T07:50:32.026Z"
   },
   {
    "duration": 3,
    "start_time": "2025-03-24T07:50:32.049Z"
   },
   {
    "duration": 7,
    "start_time": "2025-03-24T07:50:32.053Z"
   },
   {
    "duration": 670,
    "start_time": "2025-03-24T07:50:32.061Z"
   },
   {
    "duration": 176,
    "start_time": "2025-03-24T07:50:32.733Z"
   },
   {
    "duration": 4,
    "start_time": "2025-03-24T07:50:32.910Z"
   },
   {
    "duration": 6,
    "start_time": "2025-03-24T07:50:32.915Z"
   },
   {
    "duration": 1976,
    "start_time": "2025-03-24T07:50:32.922Z"
   },
   {
    "duration": 434,
    "start_time": "2025-03-24T07:50:34.899Z"
   },
   {
    "duration": 11852,
    "start_time": "2025-03-24T08:07:00.524Z"
   },
   {
    "duration": 249,
    "start_time": "2025-03-24T08:08:45.409Z"
   },
   {
    "duration": 90,
    "start_time": "2025-03-24T08:08:59.865Z"
   },
   {
    "duration": 105,
    "start_time": "2025-03-24T08:11:20.103Z"
   },
   {
    "duration": 13,
    "start_time": "2025-03-24T08:17:20.309Z"
   },
   {
    "duration": 11,
    "start_time": "2025-03-24T08:17:28.822Z"
   },
   {
    "duration": 6,
    "start_time": "2025-03-24T08:17:35.502Z"
   },
   {
    "duration": 105,
    "start_time": "2025-03-24T08:18:14.623Z"
   },
   {
    "duration": 11,
    "start_time": "2025-03-24T08:20:19.133Z"
   },
   {
    "duration": 14,
    "start_time": "2025-03-24T08:20:23.157Z"
   },
   {
    "duration": 27,
    "start_time": "2025-03-24T08:20:31.640Z"
   },
   {
    "duration": 129,
    "start_time": "2025-03-24T08:20:43.541Z"
   },
   {
    "duration": 323,
    "start_time": "2025-03-24T08:21:00.902Z"
   },
   {
    "duration": 144,
    "start_time": "2025-03-24T08:22:35.169Z"
   },
   {
    "duration": 162,
    "start_time": "2025-03-24T08:22:48.995Z"
   },
   {
    "duration": 135,
    "start_time": "2025-03-24T08:23:37.420Z"
   },
   {
    "duration": 147,
    "start_time": "2025-03-24T08:24:11.174Z"
   },
   {
    "duration": 153,
    "start_time": "2025-03-24T08:24:14.822Z"
   },
   {
    "duration": 3,
    "start_time": "2025-03-24T08:37:50.400Z"
   },
   {
    "duration": 3,
    "start_time": "2025-03-24T08:38:14.225Z"
   },
   {
    "duration": 10,
    "start_time": "2025-03-24T08:38:16.337Z"
   },
   {
    "duration": 4,
    "start_time": "2025-03-24T08:38:34.769Z"
   },
   {
    "duration": 13,
    "start_time": "2025-03-24T08:38:36.466Z"
   },
   {
    "duration": 4,
    "start_time": "2025-03-24T08:39:37.764Z"
   },
   {
    "duration": 14,
    "start_time": "2025-03-24T08:39:39.420Z"
   },
   {
    "duration": 10,
    "start_time": "2025-03-24T08:39:56.813Z"
   },
   {
    "duration": 128,
    "start_time": "2025-03-24T08:40:01.757Z"
   },
   {
    "duration": 121,
    "start_time": "2025-03-24T08:40:04.030Z"
   },
   {
    "duration": 1272,
    "start_time": "2025-03-24T08:40:07.934Z"
   },
   {
    "duration": 147,
    "start_time": "2025-03-24T08:40:11.229Z"
   },
   {
    "duration": 4,
    "start_time": "2025-03-24T08:43:17.558Z"
   },
   {
    "duration": 145,
    "start_time": "2025-03-24T08:43:39.966Z"
   },
   {
    "duration": 17,
    "start_time": "2025-03-24T08:43:55.567Z"
   },
   {
    "duration": 129,
    "start_time": "2025-03-24T08:44:09.855Z"
   },
   {
    "duration": 4,
    "start_time": "2025-03-24T08:47:04.652Z"
   },
   {
    "duration": 211,
    "start_time": "2025-03-24T08:47:06.767Z"
   },
   {
    "duration": 135,
    "start_time": "2025-03-24T08:47:14.727Z"
   },
   {
    "duration": 146,
    "start_time": "2025-03-24T08:47:52.904Z"
   },
   {
    "duration": 167,
    "start_time": "2025-03-24T08:51:10.673Z"
   },
   {
    "duration": 235,
    "start_time": "2025-03-24T08:53:02.157Z"
   },
   {
    "duration": 159,
    "start_time": "2025-03-24T08:53:13.070Z"
   },
   {
    "duration": 138,
    "start_time": "2025-03-24T08:53:23.318Z"
   },
   {
    "duration": 139,
    "start_time": "2025-03-24T08:54:56.674Z"
   },
   {
    "duration": 140,
    "start_time": "2025-03-24T08:55:05.922Z"
   },
   {
    "duration": 159,
    "start_time": "2025-03-24T08:55:29.515Z"
   },
   {
    "duration": 142,
    "start_time": "2025-03-24T08:56:59.151Z"
   },
   {
    "duration": 141,
    "start_time": "2025-03-24T08:57:08.343Z"
   },
   {
    "duration": 132,
    "start_time": "2025-03-24T08:59:28.941Z"
   },
   {
    "duration": 158,
    "start_time": "2025-03-24T09:01:46.652Z"
   },
   {
    "duration": 106,
    "start_time": "2025-03-24T09:02:00.564Z"
   },
   {
    "duration": 13925,
    "start_time": "2025-03-24T09:02:08.228Z"
   },
   {
    "duration": 173,
    "start_time": "2025-03-24T09:03:49.570Z"
   },
   {
    "duration": 144,
    "start_time": "2025-03-24T09:04:00.394Z"
   },
   {
    "duration": 132,
    "start_time": "2025-03-24T09:04:03.538Z"
   },
   {
    "duration": 159,
    "start_time": "2025-03-24T09:06:46.098Z"
   },
   {
    "duration": 158,
    "start_time": "2025-03-24T09:08:06.301Z"
   },
   {
    "duration": 271,
    "start_time": "2025-03-24T09:08:33.254Z"
   },
   {
    "duration": 142,
    "start_time": "2025-03-24T09:11:37.471Z"
   },
   {
    "duration": 153,
    "start_time": "2025-03-24T09:13:16.852Z"
   },
   {
    "duration": 137,
    "start_time": "2025-03-24T09:13:26.915Z"
   },
   {
    "duration": 165,
    "start_time": "2025-03-24T09:14:37.558Z"
   },
   {
    "duration": 17,
    "start_time": "2025-03-24T09:15:37.049Z"
   },
   {
    "duration": 17,
    "start_time": "2025-03-24T09:16:37.115Z"
   },
   {
    "duration": 124,
    "start_time": "2025-03-24T09:19:20.456Z"
   },
   {
    "duration": 147,
    "start_time": "2025-03-24T09:20:26.517Z"
   },
   {
    "duration": 152,
    "start_time": "2025-03-24T09:20:54.751Z"
   },
   {
    "duration": 3,
    "start_time": "2025-03-24T09:22:17.523Z"
   },
   {
    "duration": 3,
    "start_time": "2025-03-24T09:22:30.701Z"
   },
   {
    "duration": 162,
    "start_time": "2025-03-24T09:22:38.651Z"
   },
   {
    "duration": 182,
    "start_time": "2025-03-24T09:23:46.085Z"
   },
   {
    "duration": 160,
    "start_time": "2025-03-24T09:23:54.886Z"
   },
   {
    "duration": 182,
    "start_time": "2025-03-24T09:27:27.679Z"
   },
   {
    "duration": 3,
    "start_time": "2025-03-24T09:27:48.424Z"
   },
   {
    "duration": 185,
    "start_time": "2025-03-24T09:27:50.056Z"
   },
   {
    "duration": 4,
    "start_time": "2025-03-24T09:28:30.113Z"
   },
   {
    "duration": 4,
    "start_time": "2025-03-24T09:29:11.827Z"
   },
   {
    "duration": 175,
    "start_time": "2025-03-24T09:29:13.475Z"
   },
   {
    "duration": 3,
    "start_time": "2025-03-24T09:29:17.436Z"
   },
   {
    "duration": 217,
    "start_time": "2025-03-24T09:31:55.810Z"
   },
   {
    "duration": 5,
    "start_time": "2025-03-24T09:32:27.644Z"
   },
   {
    "duration": 265,
    "start_time": "2025-03-24T09:32:29.476Z"
   },
   {
    "duration": 181,
    "start_time": "2025-03-24T09:34:05.670Z"
   },
   {
    "duration": 187,
    "start_time": "2025-03-24T09:35:28.609Z"
   },
   {
    "duration": 208,
    "start_time": "2025-03-24T09:36:20.434Z"
   },
   {
    "duration": 1867,
    "start_time": "2025-03-24T09:36:58.076Z"
   },
   {
    "duration": 1590,
    "start_time": "2025-03-24T09:37:33.828Z"
   },
   {
    "duration": 1933,
    "start_time": "2025-03-24T09:37:59.819Z"
   },
   {
    "duration": 1873,
    "start_time": "2025-03-24T09:38:18.990Z"
   },
   {
    "duration": 3154,
    "start_time": "2025-03-24T09:39:02.131Z"
   },
   {
    "duration": 635,
    "start_time": "2025-03-24T09:39:05.287Z"
   },
   {
    "duration": 0,
    "start_time": "2025-03-24T09:39:05.926Z"
   },
   {
    "duration": 0,
    "start_time": "2025-03-24T09:39:05.927Z"
   },
   {
    "duration": 0,
    "start_time": "2025-03-24T09:39:05.928Z"
   },
   {
    "duration": 0,
    "start_time": "2025-03-24T09:39:05.929Z"
   },
   {
    "duration": 0,
    "start_time": "2025-03-24T09:39:05.931Z"
   },
   {
    "duration": 0,
    "start_time": "2025-03-24T09:39:05.932Z"
   },
   {
    "duration": 0,
    "start_time": "2025-03-24T09:39:05.933Z"
   },
   {
    "duration": 0,
    "start_time": "2025-03-24T09:39:05.935Z"
   },
   {
    "duration": 0,
    "start_time": "2025-03-24T09:39:05.935Z"
   },
   {
    "duration": 0,
    "start_time": "2025-03-24T09:39:05.936Z"
   },
   {
    "duration": 0,
    "start_time": "2025-03-24T09:39:05.937Z"
   },
   {
    "duration": 0,
    "start_time": "2025-03-24T09:39:05.938Z"
   },
   {
    "duration": 0,
    "start_time": "2025-03-24T09:39:05.939Z"
   },
   {
    "duration": 0,
    "start_time": "2025-03-24T09:39:05.940Z"
   },
   {
    "duration": 0,
    "start_time": "2025-03-24T09:39:05.941Z"
   },
   {
    "duration": 1,
    "start_time": "2025-03-24T09:39:05.942Z"
   },
   {
    "duration": 0,
    "start_time": "2025-03-24T09:39:05.944Z"
   },
   {
    "duration": 0,
    "start_time": "2025-03-24T09:39:05.945Z"
   },
   {
    "duration": 0,
    "start_time": "2025-03-24T09:39:05.946Z"
   },
   {
    "duration": 0,
    "start_time": "2025-03-24T09:39:05.948Z"
   },
   {
    "duration": 0,
    "start_time": "2025-03-24T09:39:05.949Z"
   },
   {
    "duration": 0,
    "start_time": "2025-03-24T09:39:05.950Z"
   },
   {
    "duration": 0,
    "start_time": "2025-03-24T09:39:05.951Z"
   },
   {
    "duration": 0,
    "start_time": "2025-03-24T09:39:05.952Z"
   },
   {
    "duration": 0,
    "start_time": "2025-03-24T09:39:05.954Z"
   },
   {
    "duration": 0,
    "start_time": "2025-03-24T09:39:05.954Z"
   },
   {
    "duration": 0,
    "start_time": "2025-03-24T09:39:05.956Z"
   },
   {
    "duration": 0,
    "start_time": "2025-03-24T09:39:05.957Z"
   },
   {
    "duration": 0,
    "start_time": "2025-03-24T09:39:05.958Z"
   },
   {
    "duration": 0,
    "start_time": "2025-03-24T09:39:05.960Z"
   },
   {
    "duration": 0,
    "start_time": "2025-03-24T09:39:05.961Z"
   },
   {
    "duration": 0,
    "start_time": "2025-03-24T09:39:05.962Z"
   },
   {
    "duration": 0,
    "start_time": "2025-03-24T09:39:06.008Z"
   },
   {
    "duration": 0,
    "start_time": "2025-03-24T09:39:06.009Z"
   },
   {
    "duration": 0,
    "start_time": "2025-03-24T09:39:06.011Z"
   },
   {
    "duration": 0,
    "start_time": "2025-03-24T09:39:06.012Z"
   },
   {
    "duration": 0,
    "start_time": "2025-03-24T09:39:06.014Z"
   },
   {
    "duration": 0,
    "start_time": "2025-03-24T09:39:06.015Z"
   },
   {
    "duration": 0,
    "start_time": "2025-03-24T09:39:06.016Z"
   },
   {
    "duration": 0,
    "start_time": "2025-03-24T09:39:06.018Z"
   },
   {
    "duration": 0,
    "start_time": "2025-03-24T09:39:06.019Z"
   },
   {
    "duration": 0,
    "start_time": "2025-03-24T09:39:06.020Z"
   },
   {
    "duration": 0,
    "start_time": "2025-03-24T09:39:06.021Z"
   },
   {
    "duration": 1,
    "start_time": "2025-03-24T09:39:06.022Z"
   },
   {
    "duration": 0,
    "start_time": "2025-03-24T09:39:06.024Z"
   },
   {
    "duration": 0,
    "start_time": "2025-03-24T09:39:06.025Z"
   },
   {
    "duration": 0,
    "start_time": "2025-03-24T09:39:06.026Z"
   },
   {
    "duration": 654,
    "start_time": "2025-03-24T09:39:23.885Z"
   },
   {
    "duration": 1,
    "start_time": "2025-03-24T09:39:24.544Z"
   },
   {
    "duration": 0,
    "start_time": "2025-03-24T09:39:24.546Z"
   },
   {
    "duration": 0,
    "start_time": "2025-03-24T09:39:24.547Z"
   },
   {
    "duration": 0,
    "start_time": "2025-03-24T09:39:24.549Z"
   },
   {
    "duration": 0,
    "start_time": "2025-03-24T09:39:24.550Z"
   },
   {
    "duration": 0,
    "start_time": "2025-03-24T09:39:24.552Z"
   },
   {
    "duration": 0,
    "start_time": "2025-03-24T09:39:24.553Z"
   },
   {
    "duration": 0,
    "start_time": "2025-03-24T09:39:24.555Z"
   },
   {
    "duration": 0,
    "start_time": "2025-03-24T09:39:24.556Z"
   },
   {
    "duration": 0,
    "start_time": "2025-03-24T09:39:24.557Z"
   },
   {
    "duration": 0,
    "start_time": "2025-03-24T09:39:24.559Z"
   },
   {
    "duration": 0,
    "start_time": "2025-03-24T09:39:24.560Z"
   },
   {
    "duration": 0,
    "start_time": "2025-03-24T09:39:24.561Z"
   },
   {
    "duration": 0,
    "start_time": "2025-03-24T09:39:24.563Z"
   },
   {
    "duration": 0,
    "start_time": "2025-03-24T09:39:24.564Z"
   },
   {
    "duration": 0,
    "start_time": "2025-03-24T09:39:24.565Z"
   },
   {
    "duration": 0,
    "start_time": "2025-03-24T09:39:24.566Z"
   },
   {
    "duration": 0,
    "start_time": "2025-03-24T09:39:24.568Z"
   },
   {
    "duration": 0,
    "start_time": "2025-03-24T09:39:24.569Z"
   },
   {
    "duration": 0,
    "start_time": "2025-03-24T09:39:24.570Z"
   },
   {
    "duration": 0,
    "start_time": "2025-03-24T09:39:24.571Z"
   },
   {
    "duration": 0,
    "start_time": "2025-03-24T09:39:24.572Z"
   },
   {
    "duration": 0,
    "start_time": "2025-03-24T09:39:24.573Z"
   },
   {
    "duration": 0,
    "start_time": "2025-03-24T09:39:24.574Z"
   },
   {
    "duration": 0,
    "start_time": "2025-03-24T09:39:24.575Z"
   },
   {
    "duration": 0,
    "start_time": "2025-03-24T09:39:24.577Z"
   },
   {
    "duration": 0,
    "start_time": "2025-03-24T09:39:24.578Z"
   },
   {
    "duration": 0,
    "start_time": "2025-03-24T09:39:24.579Z"
   },
   {
    "duration": 0,
    "start_time": "2025-03-24T09:39:24.580Z"
   },
   {
    "duration": 0,
    "start_time": "2025-03-24T09:39:24.606Z"
   },
   {
    "duration": 0,
    "start_time": "2025-03-24T09:39:24.608Z"
   },
   {
    "duration": 0,
    "start_time": "2025-03-24T09:39:24.609Z"
   },
   {
    "duration": 0,
    "start_time": "2025-03-24T09:39:24.611Z"
   },
   {
    "duration": 0,
    "start_time": "2025-03-24T09:39:24.612Z"
   },
   {
    "duration": 0,
    "start_time": "2025-03-24T09:39:24.614Z"
   },
   {
    "duration": 0,
    "start_time": "2025-03-24T09:39:24.615Z"
   },
   {
    "duration": 0,
    "start_time": "2025-03-24T09:39:24.616Z"
   },
   {
    "duration": 0,
    "start_time": "2025-03-24T09:39:24.617Z"
   },
   {
    "duration": 0,
    "start_time": "2025-03-24T09:39:24.619Z"
   },
   {
    "duration": 0,
    "start_time": "2025-03-24T09:39:24.620Z"
   },
   {
    "duration": 0,
    "start_time": "2025-03-24T09:39:24.622Z"
   },
   {
    "duration": 0,
    "start_time": "2025-03-24T09:39:24.623Z"
   },
   {
    "duration": 0,
    "start_time": "2025-03-24T09:39:24.624Z"
   },
   {
    "duration": 0,
    "start_time": "2025-03-24T09:39:24.626Z"
   },
   {
    "duration": 0,
    "start_time": "2025-03-24T09:39:24.627Z"
   },
   {
    "duration": 0,
    "start_time": "2025-03-24T09:39:24.629Z"
   },
   {
    "duration": 0,
    "start_time": "2025-03-24T09:39:24.630Z"
   },
   {
    "duration": 388,
    "start_time": "2025-03-24T09:39:54.534Z"
   },
   {
    "duration": 374,
    "start_time": "2025-03-24T09:41:46.665Z"
   },
   {
    "duration": 11244,
    "start_time": "2025-03-24T09:42:40.513Z"
   },
   {
    "duration": 16,
    "start_time": "2025-03-24T09:42:56.440Z"
   },
   {
    "duration": 122,
    "start_time": "2025-03-24T09:43:21.468Z"
   },
   {
    "duration": 0,
    "start_time": "2025-03-24T09:43:21.594Z"
   },
   {
    "duration": 0,
    "start_time": "2025-03-24T09:43:21.595Z"
   },
   {
    "duration": 0,
    "start_time": "2025-03-24T09:43:21.597Z"
   },
   {
    "duration": 0,
    "start_time": "2025-03-24T09:43:21.599Z"
   },
   {
    "duration": 0,
    "start_time": "2025-03-24T09:43:21.600Z"
   },
   {
    "duration": 0,
    "start_time": "2025-03-24T09:43:21.601Z"
   },
   {
    "duration": 0,
    "start_time": "2025-03-24T09:43:21.602Z"
   },
   {
    "duration": 0,
    "start_time": "2025-03-24T09:43:21.604Z"
   },
   {
    "duration": 0,
    "start_time": "2025-03-24T09:43:21.605Z"
   },
   {
    "duration": 0,
    "start_time": "2025-03-24T09:43:21.606Z"
   },
   {
    "duration": 1,
    "start_time": "2025-03-24T09:43:21.606Z"
   },
   {
    "duration": 0,
    "start_time": "2025-03-24T09:43:21.607Z"
   },
   {
    "duration": 0,
    "start_time": "2025-03-24T09:43:21.608Z"
   },
   {
    "duration": 0,
    "start_time": "2025-03-24T09:43:21.609Z"
   },
   {
    "duration": 0,
    "start_time": "2025-03-24T09:43:21.610Z"
   },
   {
    "duration": 0,
    "start_time": "2025-03-24T09:43:21.618Z"
   },
   {
    "duration": 0,
    "start_time": "2025-03-24T09:43:21.619Z"
   },
   {
    "duration": 0,
    "start_time": "2025-03-24T09:43:21.620Z"
   },
   {
    "duration": 0,
    "start_time": "2025-03-24T09:43:21.620Z"
   },
   {
    "duration": 0,
    "start_time": "2025-03-24T09:43:21.622Z"
   },
   {
    "duration": 0,
    "start_time": "2025-03-24T09:43:21.623Z"
   },
   {
    "duration": 0,
    "start_time": "2025-03-24T09:43:21.624Z"
   },
   {
    "duration": 0,
    "start_time": "2025-03-24T09:43:21.625Z"
   },
   {
    "duration": 0,
    "start_time": "2025-03-24T09:43:21.626Z"
   },
   {
    "duration": 0,
    "start_time": "2025-03-24T09:43:21.627Z"
   },
   {
    "duration": 0,
    "start_time": "2025-03-24T09:43:21.628Z"
   },
   {
    "duration": 0,
    "start_time": "2025-03-24T09:43:21.629Z"
   },
   {
    "duration": 0,
    "start_time": "2025-03-24T09:43:21.630Z"
   },
   {
    "duration": 0,
    "start_time": "2025-03-24T09:43:21.631Z"
   },
   {
    "duration": 0,
    "start_time": "2025-03-24T09:43:21.632Z"
   },
   {
    "duration": 0,
    "start_time": "2025-03-24T09:43:21.633Z"
   },
   {
    "duration": 0,
    "start_time": "2025-03-24T09:43:21.634Z"
   },
   {
    "duration": 0,
    "start_time": "2025-03-24T09:43:21.635Z"
   },
   {
    "duration": 0,
    "start_time": "2025-03-24T09:43:21.635Z"
   },
   {
    "duration": 0,
    "start_time": "2025-03-24T09:43:21.636Z"
   },
   {
    "duration": 0,
    "start_time": "2025-03-24T09:43:21.637Z"
   },
   {
    "duration": 0,
    "start_time": "2025-03-24T09:43:21.639Z"
   },
   {
    "duration": 0,
    "start_time": "2025-03-24T09:43:21.639Z"
   },
   {
    "duration": 0,
    "start_time": "2025-03-24T09:43:21.641Z"
   },
   {
    "duration": 0,
    "start_time": "2025-03-24T09:43:21.641Z"
   },
   {
    "duration": 0,
    "start_time": "2025-03-24T09:43:21.643Z"
   },
   {
    "duration": 0,
    "start_time": "2025-03-24T09:43:21.644Z"
   },
   {
    "duration": 0,
    "start_time": "2025-03-24T09:43:21.645Z"
   },
   {
    "duration": 0,
    "start_time": "2025-03-24T09:43:21.646Z"
   },
   {
    "duration": 0,
    "start_time": "2025-03-24T09:43:21.647Z"
   },
   {
    "duration": 0,
    "start_time": "2025-03-24T09:43:21.648Z"
   },
   {
    "duration": 0,
    "start_time": "2025-03-24T09:43:21.649Z"
   },
   {
    "duration": 0,
    "start_time": "2025-03-24T09:43:21.650Z"
   },
   {
    "duration": 2490,
    "start_time": "2025-03-24T09:43:42.927Z"
   },
   {
    "duration": 1764,
    "start_time": "2025-03-24T09:43:48.368Z"
   },
   {
    "duration": 2457,
    "start_time": "2025-03-24T09:44:20.272Z"
   },
   {
    "duration": 1594,
    "start_time": "2025-03-24T09:44:22.732Z"
   },
   {
    "duration": 0,
    "start_time": "2025-03-24T09:44:24.328Z"
   },
   {
    "duration": 0,
    "start_time": "2025-03-24T09:44:24.330Z"
   },
   {
    "duration": 0,
    "start_time": "2025-03-24T09:44:24.331Z"
   },
   {
    "duration": 0,
    "start_time": "2025-03-24T09:44:24.332Z"
   },
   {
    "duration": 0,
    "start_time": "2025-03-24T09:44:24.333Z"
   },
   {
    "duration": 0,
    "start_time": "2025-03-24T09:44:24.334Z"
   },
   {
    "duration": 0,
    "start_time": "2025-03-24T09:44:24.335Z"
   },
   {
    "duration": 0,
    "start_time": "2025-03-24T09:44:24.336Z"
   },
   {
    "duration": 0,
    "start_time": "2025-03-24T09:44:24.337Z"
   },
   {
    "duration": 0,
    "start_time": "2025-03-24T09:44:24.338Z"
   },
   {
    "duration": 0,
    "start_time": "2025-03-24T09:44:24.339Z"
   },
   {
    "duration": 0,
    "start_time": "2025-03-24T09:44:24.340Z"
   },
   {
    "duration": 0,
    "start_time": "2025-03-24T09:44:24.341Z"
   },
   {
    "duration": 0,
    "start_time": "2025-03-24T09:44:24.342Z"
   },
   {
    "duration": 0,
    "start_time": "2025-03-24T09:44:24.343Z"
   },
   {
    "duration": 0,
    "start_time": "2025-03-24T09:44:24.345Z"
   },
   {
    "duration": 0,
    "start_time": "2025-03-24T09:44:24.346Z"
   },
   {
    "duration": 1,
    "start_time": "2025-03-24T09:44:24.346Z"
   },
   {
    "duration": 0,
    "start_time": "2025-03-24T09:44:24.348Z"
   },
   {
    "duration": 0,
    "start_time": "2025-03-24T09:44:24.349Z"
   },
   {
    "duration": 0,
    "start_time": "2025-03-24T09:44:24.350Z"
   },
   {
    "duration": 0,
    "start_time": "2025-03-24T09:44:24.351Z"
   },
   {
    "duration": 0,
    "start_time": "2025-03-24T09:44:24.352Z"
   },
   {
    "duration": 0,
    "start_time": "2025-03-24T09:44:24.353Z"
   },
   {
    "duration": 0,
    "start_time": "2025-03-24T09:44:24.354Z"
   },
   {
    "duration": 0,
    "start_time": "2025-03-24T09:44:24.355Z"
   },
   {
    "duration": 0,
    "start_time": "2025-03-24T09:44:24.356Z"
   },
   {
    "duration": 0,
    "start_time": "2025-03-24T09:44:24.357Z"
   },
   {
    "duration": 0,
    "start_time": "2025-03-24T09:44:24.359Z"
   },
   {
    "duration": 0,
    "start_time": "2025-03-24T09:44:24.360Z"
   },
   {
    "duration": 0,
    "start_time": "2025-03-24T09:44:24.361Z"
   },
   {
    "duration": 0,
    "start_time": "2025-03-24T09:44:24.361Z"
   },
   {
    "duration": 0,
    "start_time": "2025-03-24T09:44:24.407Z"
   },
   {
    "duration": 0,
    "start_time": "2025-03-24T09:44:24.408Z"
   },
   {
    "duration": 0,
    "start_time": "2025-03-24T09:44:24.409Z"
   },
   {
    "duration": 0,
    "start_time": "2025-03-24T09:44:24.410Z"
   },
   {
    "duration": 0,
    "start_time": "2025-03-24T09:44:24.411Z"
   },
   {
    "duration": 0,
    "start_time": "2025-03-24T09:44:24.412Z"
   },
   {
    "duration": 0,
    "start_time": "2025-03-24T09:44:24.413Z"
   },
   {
    "duration": 0,
    "start_time": "2025-03-24T09:44:24.413Z"
   },
   {
    "duration": 0,
    "start_time": "2025-03-24T09:44:24.414Z"
   },
   {
    "duration": 0,
    "start_time": "2025-03-24T09:44:24.415Z"
   },
   {
    "duration": 0,
    "start_time": "2025-03-24T09:44:24.416Z"
   },
   {
    "duration": 0,
    "start_time": "2025-03-24T09:44:24.417Z"
   },
   {
    "duration": 0,
    "start_time": "2025-03-24T09:44:24.418Z"
   },
   {
    "duration": 0,
    "start_time": "2025-03-24T09:44:24.419Z"
   },
   {
    "duration": 0,
    "start_time": "2025-03-24T09:44:24.420Z"
   },
   {
    "duration": 1552,
    "start_time": "2025-03-24T09:44:44.812Z"
   },
   {
    "duration": 0,
    "start_time": "2025-03-24T09:44:46.367Z"
   },
   {
    "duration": 0,
    "start_time": "2025-03-24T09:44:46.368Z"
   },
   {
    "duration": 0,
    "start_time": "2025-03-24T09:44:46.369Z"
   },
   {
    "duration": 0,
    "start_time": "2025-03-24T09:44:46.370Z"
   },
   {
    "duration": 0,
    "start_time": "2025-03-24T09:44:46.371Z"
   },
   {
    "duration": 0,
    "start_time": "2025-03-24T09:44:46.372Z"
   },
   {
    "duration": 0,
    "start_time": "2025-03-24T09:44:46.373Z"
   },
   {
    "duration": 0,
    "start_time": "2025-03-24T09:44:46.374Z"
   },
   {
    "duration": 0,
    "start_time": "2025-03-24T09:44:46.375Z"
   },
   {
    "duration": 0,
    "start_time": "2025-03-24T09:44:46.376Z"
   },
   {
    "duration": 0,
    "start_time": "2025-03-24T09:44:46.377Z"
   },
   {
    "duration": 0,
    "start_time": "2025-03-24T09:44:46.378Z"
   },
   {
    "duration": 0,
    "start_time": "2025-03-24T09:44:46.379Z"
   },
   {
    "duration": 0,
    "start_time": "2025-03-24T09:44:46.380Z"
   },
   {
    "duration": 0,
    "start_time": "2025-03-24T09:44:46.381Z"
   },
   {
    "duration": 0,
    "start_time": "2025-03-24T09:44:46.382Z"
   },
   {
    "duration": 0,
    "start_time": "2025-03-24T09:44:46.383Z"
   },
   {
    "duration": 0,
    "start_time": "2025-03-24T09:44:46.384Z"
   },
   {
    "duration": 0,
    "start_time": "2025-03-24T09:44:46.385Z"
   },
   {
    "duration": 0,
    "start_time": "2025-03-24T09:44:46.386Z"
   },
   {
    "duration": 0,
    "start_time": "2025-03-24T09:44:46.387Z"
   },
   {
    "duration": 0,
    "start_time": "2025-03-24T09:44:46.388Z"
   },
   {
    "duration": 0,
    "start_time": "2025-03-24T09:44:46.389Z"
   },
   {
    "duration": 0,
    "start_time": "2025-03-24T09:44:46.390Z"
   },
   {
    "duration": 0,
    "start_time": "2025-03-24T09:44:46.391Z"
   },
   {
    "duration": 0,
    "start_time": "2025-03-24T09:44:46.392Z"
   },
   {
    "duration": 0,
    "start_time": "2025-03-24T09:44:46.393Z"
   },
   {
    "duration": 0,
    "start_time": "2025-03-24T09:44:46.394Z"
   },
   {
    "duration": 0,
    "start_time": "2025-03-24T09:44:46.395Z"
   },
   {
    "duration": 0,
    "start_time": "2025-03-24T09:44:46.395Z"
   },
   {
    "duration": 0,
    "start_time": "2025-03-24T09:44:46.396Z"
   },
   {
    "duration": 0,
    "start_time": "2025-03-24T09:44:46.397Z"
   },
   {
    "duration": 0,
    "start_time": "2025-03-24T09:44:46.398Z"
   },
   {
    "duration": 0,
    "start_time": "2025-03-24T09:44:46.399Z"
   },
   {
    "duration": 0,
    "start_time": "2025-03-24T09:44:46.400Z"
   },
   {
    "duration": 0,
    "start_time": "2025-03-24T09:44:46.401Z"
   },
   {
    "duration": 0,
    "start_time": "2025-03-24T09:44:46.402Z"
   },
   {
    "duration": 0,
    "start_time": "2025-03-24T09:44:46.403Z"
   },
   {
    "duration": 0,
    "start_time": "2025-03-24T09:44:46.404Z"
   },
   {
    "duration": 0,
    "start_time": "2025-03-24T09:44:46.405Z"
   },
   {
    "duration": 0,
    "start_time": "2025-03-24T09:44:46.406Z"
   },
   {
    "duration": 0,
    "start_time": "2025-03-24T09:44:46.407Z"
   },
   {
    "duration": 0,
    "start_time": "2025-03-24T09:44:46.408Z"
   },
   {
    "duration": 0,
    "start_time": "2025-03-24T09:44:46.409Z"
   },
   {
    "duration": 0,
    "start_time": "2025-03-24T09:44:46.410Z"
   },
   {
    "duration": 0,
    "start_time": "2025-03-24T09:44:46.411Z"
   },
   {
    "duration": 0,
    "start_time": "2025-03-24T09:44:46.412Z"
   },
   {
    "duration": 5971,
    "start_time": "2025-03-24T09:45:16.089Z"
   },
   {
    "duration": 1571,
    "start_time": "2025-03-24T09:45:40.963Z"
   },
   {
    "duration": 0,
    "start_time": "2025-03-24T09:45:42.537Z"
   },
   {
    "duration": 0,
    "start_time": "2025-03-24T09:45:42.539Z"
   },
   {
    "duration": 0,
    "start_time": "2025-03-24T09:45:42.540Z"
   },
   {
    "duration": 0,
    "start_time": "2025-03-24T09:45:42.541Z"
   },
   {
    "duration": 0,
    "start_time": "2025-03-24T09:45:42.542Z"
   },
   {
    "duration": 0,
    "start_time": "2025-03-24T09:45:42.543Z"
   },
   {
    "duration": 0,
    "start_time": "2025-03-24T09:45:42.544Z"
   },
   {
    "duration": 0,
    "start_time": "2025-03-24T09:45:42.545Z"
   },
   {
    "duration": 0,
    "start_time": "2025-03-24T09:45:42.546Z"
   },
   {
    "duration": 0,
    "start_time": "2025-03-24T09:45:42.547Z"
   },
   {
    "duration": 0,
    "start_time": "2025-03-24T09:45:42.548Z"
   },
   {
    "duration": 0,
    "start_time": "2025-03-24T09:45:42.549Z"
   },
   {
    "duration": 0,
    "start_time": "2025-03-24T09:45:42.550Z"
   },
   {
    "duration": 0,
    "start_time": "2025-03-24T09:45:42.551Z"
   },
   {
    "duration": 0,
    "start_time": "2025-03-24T09:45:42.552Z"
   },
   {
    "duration": 0,
    "start_time": "2025-03-24T09:45:42.552Z"
   },
   {
    "duration": 0,
    "start_time": "2025-03-24T09:45:42.553Z"
   },
   {
    "duration": 0,
    "start_time": "2025-03-24T09:45:42.554Z"
   },
   {
    "duration": 0,
    "start_time": "2025-03-24T09:45:42.555Z"
   },
   {
    "duration": 0,
    "start_time": "2025-03-24T09:45:42.556Z"
   },
   {
    "duration": 0,
    "start_time": "2025-03-24T09:45:42.557Z"
   },
   {
    "duration": 0,
    "start_time": "2025-03-24T09:45:42.558Z"
   },
   {
    "duration": 0,
    "start_time": "2025-03-24T09:45:42.558Z"
   },
   {
    "duration": 0,
    "start_time": "2025-03-24T09:45:42.559Z"
   },
   {
    "duration": 0,
    "start_time": "2025-03-24T09:45:42.560Z"
   },
   {
    "duration": 0,
    "start_time": "2025-03-24T09:45:42.561Z"
   },
   {
    "duration": 0,
    "start_time": "2025-03-24T09:45:42.562Z"
   },
   {
    "duration": 0,
    "start_time": "2025-03-24T09:45:42.563Z"
   },
   {
    "duration": 0,
    "start_time": "2025-03-24T09:45:42.564Z"
   },
   {
    "duration": 0,
    "start_time": "2025-03-24T09:45:42.565Z"
   },
   {
    "duration": 0,
    "start_time": "2025-03-24T09:45:42.566Z"
   },
   {
    "duration": 0,
    "start_time": "2025-03-24T09:45:42.567Z"
   },
   {
    "duration": 0,
    "start_time": "2025-03-24T09:45:42.568Z"
   },
   {
    "duration": 0,
    "start_time": "2025-03-24T09:45:42.569Z"
   },
   {
    "duration": 0,
    "start_time": "2025-03-24T09:45:42.570Z"
   },
   {
    "duration": 0,
    "start_time": "2025-03-24T09:45:42.571Z"
   },
   {
    "duration": 0,
    "start_time": "2025-03-24T09:45:42.571Z"
   },
   {
    "duration": 0,
    "start_time": "2025-03-24T09:45:42.572Z"
   },
   {
    "duration": 0,
    "start_time": "2025-03-24T09:45:42.574Z"
   },
   {
    "duration": 0,
    "start_time": "2025-03-24T09:45:42.574Z"
   },
   {
    "duration": 0,
    "start_time": "2025-03-24T09:45:42.607Z"
   },
   {
    "duration": 0,
    "start_time": "2025-03-24T09:45:42.608Z"
   },
   {
    "duration": 0,
    "start_time": "2025-03-24T09:45:42.609Z"
   },
   {
    "duration": 0,
    "start_time": "2025-03-24T09:45:42.610Z"
   },
   {
    "duration": 0,
    "start_time": "2025-03-24T09:45:42.611Z"
   },
   {
    "duration": 0,
    "start_time": "2025-03-24T09:45:42.612Z"
   },
   {
    "duration": 0,
    "start_time": "2025-03-24T09:45:42.613Z"
   },
   {
    "duration": 12,
    "start_time": "2025-03-24T09:47:15.599Z"
   },
   {
    "duration": 0,
    "start_time": "2025-03-24T09:47:15.612Z"
   },
   {
    "duration": 1131,
    "start_time": "2025-03-24T09:49:25.179Z"
   },
   {
    "duration": 11,
    "start_time": "2025-03-24T09:49:26.311Z"
   },
   {
    "duration": 0,
    "start_time": "2025-03-24T09:49:26.324Z"
   },
   {
    "duration": 2430,
    "start_time": "2025-03-24T09:49:27.733Z"
   },
   {
    "duration": 1590,
    "start_time": "2025-03-24T09:50:04.633Z"
   },
   {
    "duration": 4119,
    "start_time": "2025-03-24T09:50:51.461Z"
   },
   {
    "duration": 505,
    "start_time": "2025-03-24T09:51:01.803Z"
   },
   {
    "duration": 1579,
    "start_time": "2025-03-24T09:51:26.231Z"
   },
   {
    "duration": 0,
    "start_time": "2025-03-24T09:51:27.813Z"
   },
   {
    "duration": 0,
    "start_time": "2025-03-24T09:51:27.814Z"
   },
   {
    "duration": 0,
    "start_time": "2025-03-24T09:51:27.815Z"
   },
   {
    "duration": 0,
    "start_time": "2025-03-24T09:51:27.816Z"
   },
   {
    "duration": 0,
    "start_time": "2025-03-24T09:51:27.817Z"
   },
   {
    "duration": 0,
    "start_time": "2025-03-24T09:51:27.818Z"
   },
   {
    "duration": 0,
    "start_time": "2025-03-24T09:51:27.818Z"
   },
   {
    "duration": 0,
    "start_time": "2025-03-24T09:51:27.820Z"
   },
   {
    "duration": 0,
    "start_time": "2025-03-24T09:51:27.821Z"
   },
   {
    "duration": 0,
    "start_time": "2025-03-24T09:51:27.822Z"
   },
   {
    "duration": 0,
    "start_time": "2025-03-24T09:51:27.823Z"
   },
   {
    "duration": 0,
    "start_time": "2025-03-24T09:51:27.824Z"
   },
   {
    "duration": 0,
    "start_time": "2025-03-24T09:51:27.825Z"
   },
   {
    "duration": 0,
    "start_time": "2025-03-24T09:51:27.826Z"
   },
   {
    "duration": 0,
    "start_time": "2025-03-24T09:51:27.827Z"
   },
   {
    "duration": 0,
    "start_time": "2025-03-24T09:51:27.828Z"
   },
   {
    "duration": 0,
    "start_time": "2025-03-24T09:51:27.829Z"
   },
   {
    "duration": 0,
    "start_time": "2025-03-24T09:51:27.831Z"
   },
   {
    "duration": 0,
    "start_time": "2025-03-24T09:51:27.832Z"
   },
   {
    "duration": 0,
    "start_time": "2025-03-24T09:51:27.833Z"
   },
   {
    "duration": 0,
    "start_time": "2025-03-24T09:51:27.834Z"
   },
   {
    "duration": 0,
    "start_time": "2025-03-24T09:51:27.835Z"
   },
   {
    "duration": 0,
    "start_time": "2025-03-24T09:51:27.836Z"
   },
   {
    "duration": 0,
    "start_time": "2025-03-24T09:51:27.837Z"
   },
   {
    "duration": 0,
    "start_time": "2025-03-24T09:51:27.839Z"
   },
   {
    "duration": 0,
    "start_time": "2025-03-24T09:51:27.839Z"
   },
   {
    "duration": 0,
    "start_time": "2025-03-24T09:51:27.841Z"
   },
   {
    "duration": 0,
    "start_time": "2025-03-24T09:51:27.842Z"
   },
   {
    "duration": 0,
    "start_time": "2025-03-24T09:51:27.843Z"
   },
   {
    "duration": 0,
    "start_time": "2025-03-24T09:51:27.844Z"
   },
   {
    "duration": 0,
    "start_time": "2025-03-24T09:51:27.845Z"
   },
   {
    "duration": 0,
    "start_time": "2025-03-24T09:51:27.846Z"
   },
   {
    "duration": 0,
    "start_time": "2025-03-24T09:51:27.847Z"
   },
   {
    "duration": 0,
    "start_time": "2025-03-24T09:51:27.848Z"
   },
   {
    "duration": 0,
    "start_time": "2025-03-24T09:51:27.849Z"
   },
   {
    "duration": 0,
    "start_time": "2025-03-24T09:51:27.907Z"
   },
   {
    "duration": 0,
    "start_time": "2025-03-24T09:51:27.908Z"
   },
   {
    "duration": 0,
    "start_time": "2025-03-24T09:51:27.909Z"
   },
   {
    "duration": 0,
    "start_time": "2025-03-24T09:51:27.911Z"
   },
   {
    "duration": 0,
    "start_time": "2025-03-24T09:51:27.912Z"
   },
   {
    "duration": 0,
    "start_time": "2025-03-24T09:51:27.913Z"
   },
   {
    "duration": 0,
    "start_time": "2025-03-24T09:51:27.914Z"
   },
   {
    "duration": 0,
    "start_time": "2025-03-24T09:51:27.915Z"
   },
   {
    "duration": 0,
    "start_time": "2025-03-24T09:51:27.916Z"
   },
   {
    "duration": 0,
    "start_time": "2025-03-24T09:51:27.917Z"
   },
   {
    "duration": 0,
    "start_time": "2025-03-24T09:51:27.918Z"
   },
   {
    "duration": 0,
    "start_time": "2025-03-24T09:51:27.919Z"
   },
   {
    "duration": 1537,
    "start_time": "2025-03-24T09:58:10.256Z"
   },
   {
    "duration": 1,
    "start_time": "2025-03-24T09:58:11.795Z"
   },
   {
    "duration": 0,
    "start_time": "2025-03-24T09:58:11.797Z"
   },
   {
    "duration": 0,
    "start_time": "2025-03-24T09:58:11.798Z"
   },
   {
    "duration": 0,
    "start_time": "2025-03-24T09:58:11.799Z"
   },
   {
    "duration": 0,
    "start_time": "2025-03-24T09:58:11.800Z"
   },
   {
    "duration": 0,
    "start_time": "2025-03-24T09:58:11.801Z"
   },
   {
    "duration": 0,
    "start_time": "2025-03-24T09:58:11.802Z"
   },
   {
    "duration": 0,
    "start_time": "2025-03-24T09:58:11.803Z"
   },
   {
    "duration": 0,
    "start_time": "2025-03-24T09:58:11.805Z"
   },
   {
    "duration": 0,
    "start_time": "2025-03-24T09:58:11.805Z"
   },
   {
    "duration": 0,
    "start_time": "2025-03-24T09:58:11.807Z"
   },
   {
    "duration": 0,
    "start_time": "2025-03-24T09:58:11.808Z"
   },
   {
    "duration": 0,
    "start_time": "2025-03-24T09:58:11.809Z"
   },
   {
    "duration": 0,
    "start_time": "2025-03-24T09:58:11.810Z"
   },
   {
    "duration": 0,
    "start_time": "2025-03-24T09:58:11.811Z"
   },
   {
    "duration": 0,
    "start_time": "2025-03-24T09:58:11.812Z"
   },
   {
    "duration": 0,
    "start_time": "2025-03-24T09:58:11.813Z"
   },
   {
    "duration": 0,
    "start_time": "2025-03-24T09:58:11.814Z"
   },
   {
    "duration": 0,
    "start_time": "2025-03-24T09:58:11.815Z"
   },
   {
    "duration": 0,
    "start_time": "2025-03-24T09:58:11.816Z"
   },
   {
    "duration": 0,
    "start_time": "2025-03-24T09:58:11.817Z"
   },
   {
    "duration": 0,
    "start_time": "2025-03-24T09:58:11.818Z"
   },
   {
    "duration": 0,
    "start_time": "2025-03-24T09:58:11.819Z"
   },
   {
    "duration": 0,
    "start_time": "2025-03-24T09:58:11.820Z"
   },
   {
    "duration": 0,
    "start_time": "2025-03-24T09:58:11.821Z"
   },
   {
    "duration": 0,
    "start_time": "2025-03-24T09:58:11.822Z"
   },
   {
    "duration": 0,
    "start_time": "2025-03-24T09:58:11.823Z"
   },
   {
    "duration": 0,
    "start_time": "2025-03-24T09:58:11.824Z"
   },
   {
    "duration": 0,
    "start_time": "2025-03-24T09:58:11.825Z"
   },
   {
    "duration": 0,
    "start_time": "2025-03-24T09:58:11.826Z"
   },
   {
    "duration": 0,
    "start_time": "2025-03-24T09:58:11.827Z"
   },
   {
    "duration": 0,
    "start_time": "2025-03-24T09:58:11.828Z"
   },
   {
    "duration": 0,
    "start_time": "2025-03-24T09:58:11.829Z"
   },
   {
    "duration": 0,
    "start_time": "2025-03-24T09:58:11.830Z"
   },
   {
    "duration": 0,
    "start_time": "2025-03-24T09:58:11.831Z"
   },
   {
    "duration": 0,
    "start_time": "2025-03-24T09:58:11.832Z"
   },
   {
    "duration": 0,
    "start_time": "2025-03-24T09:58:11.833Z"
   },
   {
    "duration": 0,
    "start_time": "2025-03-24T09:58:11.834Z"
   },
   {
    "duration": 0,
    "start_time": "2025-03-24T09:58:11.835Z"
   },
   {
    "duration": 0,
    "start_time": "2025-03-24T09:58:11.836Z"
   },
   {
    "duration": 0,
    "start_time": "2025-03-24T09:58:11.837Z"
   },
   {
    "duration": 0,
    "start_time": "2025-03-24T09:58:11.838Z"
   },
   {
    "duration": 0,
    "start_time": "2025-03-24T09:58:11.839Z"
   },
   {
    "duration": 0,
    "start_time": "2025-03-24T09:58:11.840Z"
   },
   {
    "duration": 0,
    "start_time": "2025-03-24T09:58:11.841Z"
   },
   {
    "duration": 0,
    "start_time": "2025-03-24T09:58:11.842Z"
   },
   {
    "duration": 0,
    "start_time": "2025-03-24T09:58:11.843Z"
   },
   {
    "duration": 4056,
    "start_time": "2025-03-24T09:58:49.751Z"
   },
   {
    "duration": 519,
    "start_time": "2025-03-24T09:59:01.944Z"
   },
   {
    "duration": 4769,
    "start_time": "2025-03-24T09:59:26.695Z"
   },
   {
    "duration": 1680,
    "start_time": "2025-03-24T09:59:53.227Z"
   },
   {
    "duration": 0,
    "start_time": "2025-03-24T09:59:54.910Z"
   },
   {
    "duration": 0,
    "start_time": "2025-03-24T09:59:54.911Z"
   },
   {
    "duration": 0,
    "start_time": "2025-03-24T09:59:54.912Z"
   },
   {
    "duration": 0,
    "start_time": "2025-03-24T09:59:54.913Z"
   },
   {
    "duration": 0,
    "start_time": "2025-03-24T09:59:54.914Z"
   },
   {
    "duration": 0,
    "start_time": "2025-03-24T09:59:54.915Z"
   },
   {
    "duration": 0,
    "start_time": "2025-03-24T09:59:54.916Z"
   },
   {
    "duration": 0,
    "start_time": "2025-03-24T09:59:54.917Z"
   },
   {
    "duration": 0,
    "start_time": "2025-03-24T09:59:54.918Z"
   },
   {
    "duration": 0,
    "start_time": "2025-03-24T09:59:54.919Z"
   },
   {
    "duration": 0,
    "start_time": "2025-03-24T09:59:54.920Z"
   },
   {
    "duration": 1,
    "start_time": "2025-03-24T09:59:54.920Z"
   },
   {
    "duration": 0,
    "start_time": "2025-03-24T09:59:54.922Z"
   },
   {
    "duration": 0,
    "start_time": "2025-03-24T09:59:54.922Z"
   },
   {
    "duration": 0,
    "start_time": "2025-03-24T09:59:54.923Z"
   },
   {
    "duration": 0,
    "start_time": "2025-03-24T09:59:54.924Z"
   },
   {
    "duration": 0,
    "start_time": "2025-03-24T09:59:54.925Z"
   },
   {
    "duration": 0,
    "start_time": "2025-03-24T09:59:54.926Z"
   },
   {
    "duration": 0,
    "start_time": "2025-03-24T09:59:54.927Z"
   },
   {
    "duration": 0,
    "start_time": "2025-03-24T09:59:54.928Z"
   },
   {
    "duration": 0,
    "start_time": "2025-03-24T09:59:54.929Z"
   },
   {
    "duration": 0,
    "start_time": "2025-03-24T09:59:54.930Z"
   },
   {
    "duration": 0,
    "start_time": "2025-03-24T09:59:54.931Z"
   },
   {
    "duration": 0,
    "start_time": "2025-03-24T09:59:54.932Z"
   },
   {
    "duration": 0,
    "start_time": "2025-03-24T09:59:54.933Z"
   },
   {
    "duration": 0,
    "start_time": "2025-03-24T09:59:54.934Z"
   },
   {
    "duration": 0,
    "start_time": "2025-03-24T09:59:54.935Z"
   },
   {
    "duration": 0,
    "start_time": "2025-03-24T09:59:54.936Z"
   },
   {
    "duration": 0,
    "start_time": "2025-03-24T09:59:54.937Z"
   },
   {
    "duration": 0,
    "start_time": "2025-03-24T09:59:54.938Z"
   },
   {
    "duration": 0,
    "start_time": "2025-03-24T09:59:54.939Z"
   },
   {
    "duration": 0,
    "start_time": "2025-03-24T09:59:54.940Z"
   },
   {
    "duration": 0,
    "start_time": "2025-03-24T09:59:54.941Z"
   },
   {
    "duration": 0,
    "start_time": "2025-03-24T09:59:54.942Z"
   },
   {
    "duration": 0,
    "start_time": "2025-03-24T09:59:54.943Z"
   },
   {
    "duration": 0,
    "start_time": "2025-03-24T09:59:54.944Z"
   },
   {
    "duration": 0,
    "start_time": "2025-03-24T09:59:54.945Z"
   },
   {
    "duration": 0,
    "start_time": "2025-03-24T09:59:54.946Z"
   },
   {
    "duration": 0,
    "start_time": "2025-03-24T09:59:55.007Z"
   },
   {
    "duration": 0,
    "start_time": "2025-03-24T09:59:55.008Z"
   },
   {
    "duration": 0,
    "start_time": "2025-03-24T09:59:55.009Z"
   },
   {
    "duration": 0,
    "start_time": "2025-03-24T09:59:55.010Z"
   },
   {
    "duration": 0,
    "start_time": "2025-03-24T09:59:55.011Z"
   },
   {
    "duration": 0,
    "start_time": "2025-03-24T09:59:55.012Z"
   },
   {
    "duration": 0,
    "start_time": "2025-03-24T09:59:55.014Z"
   },
   {
    "duration": 0,
    "start_time": "2025-03-24T09:59:55.014Z"
   },
   {
    "duration": 0,
    "start_time": "2025-03-24T09:59:55.016Z"
   },
   {
    "duration": 1503,
    "start_time": "2025-03-24T10:08:04.332Z"
   },
   {
    "duration": 0,
    "start_time": "2025-03-24T10:08:05.838Z"
   },
   {
    "duration": 0,
    "start_time": "2025-03-24T10:08:05.839Z"
   },
   {
    "duration": 0,
    "start_time": "2025-03-24T10:08:05.840Z"
   },
   {
    "duration": 0,
    "start_time": "2025-03-24T10:08:05.841Z"
   },
   {
    "duration": 0,
    "start_time": "2025-03-24T10:08:05.842Z"
   },
   {
    "duration": 0,
    "start_time": "2025-03-24T10:08:05.843Z"
   },
   {
    "duration": 0,
    "start_time": "2025-03-24T10:08:05.844Z"
   },
   {
    "duration": 0,
    "start_time": "2025-03-24T10:08:05.845Z"
   },
   {
    "duration": 0,
    "start_time": "2025-03-24T10:08:05.846Z"
   },
   {
    "duration": 0,
    "start_time": "2025-03-24T10:08:05.847Z"
   },
   {
    "duration": 0,
    "start_time": "2025-03-24T10:08:05.848Z"
   },
   {
    "duration": 0,
    "start_time": "2025-03-24T10:08:05.848Z"
   },
   {
    "duration": 0,
    "start_time": "2025-03-24T10:08:05.850Z"
   },
   {
    "duration": 0,
    "start_time": "2025-03-24T10:08:05.851Z"
   },
   {
    "duration": 0,
    "start_time": "2025-03-24T10:08:05.852Z"
   },
   {
    "duration": 0,
    "start_time": "2025-03-24T10:08:05.853Z"
   },
   {
    "duration": 0,
    "start_time": "2025-03-24T10:08:05.854Z"
   },
   {
    "duration": 0,
    "start_time": "2025-03-24T10:08:05.855Z"
   },
   {
    "duration": 0,
    "start_time": "2025-03-24T10:08:05.856Z"
   },
   {
    "duration": 0,
    "start_time": "2025-03-24T10:08:05.857Z"
   },
   {
    "duration": 0,
    "start_time": "2025-03-24T10:08:05.858Z"
   },
   {
    "duration": 0,
    "start_time": "2025-03-24T10:08:05.859Z"
   },
   {
    "duration": 0,
    "start_time": "2025-03-24T10:08:05.860Z"
   },
   {
    "duration": 0,
    "start_time": "2025-03-24T10:08:05.861Z"
   },
   {
    "duration": 0,
    "start_time": "2025-03-24T10:08:05.863Z"
   },
   {
    "duration": 0,
    "start_time": "2025-03-24T10:08:05.864Z"
   },
   {
    "duration": 0,
    "start_time": "2025-03-24T10:08:05.865Z"
   },
   {
    "duration": 0,
    "start_time": "2025-03-24T10:08:05.866Z"
   },
   {
    "duration": 0,
    "start_time": "2025-03-24T10:08:05.867Z"
   },
   {
    "duration": 0,
    "start_time": "2025-03-24T10:08:05.868Z"
   },
   {
    "duration": 0,
    "start_time": "2025-03-24T10:08:05.869Z"
   },
   {
    "duration": 0,
    "start_time": "2025-03-24T10:08:05.870Z"
   },
   {
    "duration": 0,
    "start_time": "2025-03-24T10:08:05.872Z"
   },
   {
    "duration": 0,
    "start_time": "2025-03-24T10:08:05.906Z"
   },
   {
    "duration": 0,
    "start_time": "2025-03-24T10:08:05.908Z"
   },
   {
    "duration": 0,
    "start_time": "2025-03-24T10:08:05.909Z"
   },
   {
    "duration": 0,
    "start_time": "2025-03-24T10:08:05.910Z"
   },
   {
    "duration": 0,
    "start_time": "2025-03-24T10:08:05.911Z"
   },
   {
    "duration": 0,
    "start_time": "2025-03-24T10:08:05.917Z"
   },
   {
    "duration": 0,
    "start_time": "2025-03-24T10:08:05.918Z"
   },
   {
    "duration": 0,
    "start_time": "2025-03-24T10:08:05.919Z"
   },
   {
    "duration": 0,
    "start_time": "2025-03-24T10:08:05.920Z"
   },
   {
    "duration": 0,
    "start_time": "2025-03-24T10:08:05.921Z"
   },
   {
    "duration": 0,
    "start_time": "2025-03-24T10:08:05.922Z"
   },
   {
    "duration": 0,
    "start_time": "2025-03-24T10:08:05.923Z"
   },
   {
    "duration": 0,
    "start_time": "2025-03-24T10:08:05.924Z"
   },
   {
    "duration": 0,
    "start_time": "2025-03-24T10:08:05.925Z"
   },
   {
    "duration": 24027,
    "start_time": "2025-03-24T10:08:56.824Z"
   },
   {
    "duration": 1495,
    "start_time": "2025-03-24T10:10:19.561Z"
   },
   {
    "duration": 23,
    "start_time": "2025-03-24T10:10:21.058Z"
   },
   {
    "duration": 21,
    "start_time": "2025-03-24T10:10:21.083Z"
   },
   {
    "duration": 10,
    "start_time": "2025-03-24T10:10:21.106Z"
   },
   {
    "duration": 52,
    "start_time": "2025-03-24T10:10:21.117Z"
   },
   {
    "duration": 15,
    "start_time": "2025-03-24T10:10:21.171Z"
   },
   {
    "duration": 21,
    "start_time": "2025-03-24T10:10:21.188Z"
   },
   {
    "duration": 38,
    "start_time": "2025-03-24T10:10:21.210Z"
   },
   {
    "duration": 21,
    "start_time": "2025-03-24T10:10:21.250Z"
   },
   {
    "duration": 176,
    "start_time": "2025-03-24T10:10:21.275Z"
   },
   {
    "duration": 108,
    "start_time": "2025-03-24T10:10:21.452Z"
   },
   {
    "duration": 0,
    "start_time": "2025-03-24T10:10:21.562Z"
   },
   {
    "duration": 0,
    "start_time": "2025-03-24T10:10:21.563Z"
   },
   {
    "duration": 0,
    "start_time": "2025-03-24T10:10:21.563Z"
   },
   {
    "duration": 0,
    "start_time": "2025-03-24T10:10:21.565Z"
   },
   {
    "duration": 0,
    "start_time": "2025-03-24T10:10:21.565Z"
   },
   {
    "duration": 0,
    "start_time": "2025-03-24T10:10:21.566Z"
   },
   {
    "duration": 0,
    "start_time": "2025-03-24T10:10:21.568Z"
   },
   {
    "duration": 0,
    "start_time": "2025-03-24T10:10:21.569Z"
   },
   {
    "duration": 0,
    "start_time": "2025-03-24T10:10:21.570Z"
   },
   {
    "duration": 0,
    "start_time": "2025-03-24T10:10:21.571Z"
   },
   {
    "duration": 0,
    "start_time": "2025-03-24T10:10:21.572Z"
   },
   {
    "duration": 0,
    "start_time": "2025-03-24T10:10:21.573Z"
   },
   {
    "duration": 0,
    "start_time": "2025-03-24T10:10:21.574Z"
   },
   {
    "duration": 0,
    "start_time": "2025-03-24T10:10:21.575Z"
   },
   {
    "duration": 0,
    "start_time": "2025-03-24T10:10:21.576Z"
   },
   {
    "duration": 0,
    "start_time": "2025-03-24T10:10:21.577Z"
   },
   {
    "duration": 0,
    "start_time": "2025-03-24T10:10:21.607Z"
   },
   {
    "duration": 0,
    "start_time": "2025-03-24T10:10:21.608Z"
   },
   {
    "duration": 0,
    "start_time": "2025-03-24T10:10:21.609Z"
   },
   {
    "duration": 0,
    "start_time": "2025-03-24T10:10:21.610Z"
   },
   {
    "duration": 0,
    "start_time": "2025-03-24T10:10:21.611Z"
   },
   {
    "duration": 0,
    "start_time": "2025-03-24T10:10:21.612Z"
   },
   {
    "duration": 0,
    "start_time": "2025-03-24T10:10:21.613Z"
   },
   {
    "duration": 0,
    "start_time": "2025-03-24T10:10:21.614Z"
   },
   {
    "duration": 0,
    "start_time": "2025-03-24T10:10:21.615Z"
   },
   {
    "duration": 0,
    "start_time": "2025-03-24T10:10:21.616Z"
   },
   {
    "duration": 0,
    "start_time": "2025-03-24T10:10:21.617Z"
   },
   {
    "duration": 0,
    "start_time": "2025-03-24T10:10:21.618Z"
   },
   {
    "duration": 0,
    "start_time": "2025-03-24T10:10:21.619Z"
   },
   {
    "duration": 0,
    "start_time": "2025-03-24T10:10:21.620Z"
   },
   {
    "duration": 0,
    "start_time": "2025-03-24T10:10:21.621Z"
   },
   {
    "duration": 0,
    "start_time": "2025-03-24T10:10:21.622Z"
   },
   {
    "duration": 0,
    "start_time": "2025-03-24T10:10:21.623Z"
   },
   {
    "duration": 0,
    "start_time": "2025-03-24T10:10:21.624Z"
   },
   {
    "duration": 0,
    "start_time": "2025-03-24T10:10:21.625Z"
   },
   {
    "duration": 0,
    "start_time": "2025-03-24T10:10:21.626Z"
   },
   {
    "duration": 0,
    "start_time": "2025-03-24T10:10:21.627Z"
   },
   {
    "duration": 1406,
    "start_time": "2025-03-24T10:11:08.957Z"
   },
   {
    "duration": 23,
    "start_time": "2025-03-24T10:11:10.365Z"
   },
   {
    "duration": 18,
    "start_time": "2025-03-24T10:11:10.389Z"
   },
   {
    "duration": 17,
    "start_time": "2025-03-24T10:11:10.409Z"
   },
   {
    "duration": 54,
    "start_time": "2025-03-24T10:11:10.428Z"
   },
   {
    "duration": 28,
    "start_time": "2025-03-24T10:11:10.484Z"
   },
   {
    "duration": 6,
    "start_time": "2025-03-24T10:11:10.514Z"
   },
   {
    "duration": 4,
    "start_time": "2025-03-24T10:11:10.521Z"
   },
   {
    "duration": 10,
    "start_time": "2025-03-24T10:11:10.527Z"
   },
   {
    "duration": 178,
    "start_time": "2025-03-24T10:11:10.540Z"
   },
   {
    "duration": 168,
    "start_time": "2025-03-24T10:11:10.719Z"
   },
   {
    "duration": 192,
    "start_time": "2025-03-24T10:11:10.889Z"
   },
   {
    "duration": 120,
    "start_time": "2025-03-24T10:11:11.083Z"
   },
   {
    "duration": 0,
    "start_time": "2025-03-24T10:11:11.207Z"
   },
   {
    "duration": 0,
    "start_time": "2025-03-24T10:11:11.208Z"
   },
   {
    "duration": 0,
    "start_time": "2025-03-24T10:11:11.210Z"
   },
   {
    "duration": 0,
    "start_time": "2025-03-24T10:11:11.211Z"
   },
   {
    "duration": 0,
    "start_time": "2025-03-24T10:11:11.212Z"
   },
   {
    "duration": 0,
    "start_time": "2025-03-24T10:11:11.213Z"
   },
   {
    "duration": 0,
    "start_time": "2025-03-24T10:11:11.214Z"
   },
   {
    "duration": 0,
    "start_time": "2025-03-24T10:11:11.216Z"
   },
   {
    "duration": 0,
    "start_time": "2025-03-24T10:11:11.217Z"
   },
   {
    "duration": 0,
    "start_time": "2025-03-24T10:11:11.218Z"
   },
   {
    "duration": 0,
    "start_time": "2025-03-24T10:11:11.325Z"
   },
   {
    "duration": 0,
    "start_time": "2025-03-24T10:11:11.326Z"
   },
   {
    "duration": 0,
    "start_time": "2025-03-24T10:11:11.327Z"
   },
   {
    "duration": 0,
    "start_time": "2025-03-24T10:11:11.329Z"
   },
   {
    "duration": 0,
    "start_time": "2025-03-24T10:11:11.330Z"
   },
   {
    "duration": 0,
    "start_time": "2025-03-24T10:11:11.331Z"
   },
   {
    "duration": 0,
    "start_time": "2025-03-24T10:11:11.333Z"
   },
   {
    "duration": 0,
    "start_time": "2025-03-24T10:11:11.334Z"
   },
   {
    "duration": 0,
    "start_time": "2025-03-24T10:11:11.335Z"
   },
   {
    "duration": 0,
    "start_time": "2025-03-24T10:11:11.336Z"
   },
   {
    "duration": 0,
    "start_time": "2025-03-24T10:11:11.337Z"
   },
   {
    "duration": 0,
    "start_time": "2025-03-24T10:11:11.338Z"
   },
   {
    "duration": 0,
    "start_time": "2025-03-24T10:11:11.339Z"
   },
   {
    "duration": 0,
    "start_time": "2025-03-24T10:11:11.340Z"
   },
   {
    "duration": 0,
    "start_time": "2025-03-24T10:11:11.341Z"
   },
   {
    "duration": 0,
    "start_time": "2025-03-24T10:11:11.342Z"
   },
   {
    "duration": 0,
    "start_time": "2025-03-24T10:11:11.344Z"
   },
   {
    "duration": 0,
    "start_time": "2025-03-24T10:11:11.344Z"
   },
   {
    "duration": 0,
    "start_time": "2025-03-24T10:11:11.345Z"
   },
   {
    "duration": 0,
    "start_time": "2025-03-24T10:11:11.347Z"
   },
   {
    "duration": 0,
    "start_time": "2025-03-24T10:11:11.348Z"
   },
   {
    "duration": 0,
    "start_time": "2025-03-24T10:11:11.349Z"
   },
   {
    "duration": 0,
    "start_time": "2025-03-24T10:11:11.350Z"
   },
   {
    "duration": 0,
    "start_time": "2025-03-24T10:11:11.351Z"
   },
   {
    "duration": 1387,
    "start_time": "2025-03-24T10:11:25.142Z"
   },
   {
    "duration": 24,
    "start_time": "2025-03-24T10:11:26.531Z"
   },
   {
    "duration": 23,
    "start_time": "2025-03-24T10:11:26.556Z"
   },
   {
    "duration": 15,
    "start_time": "2025-03-24T10:11:26.581Z"
   },
   {
    "duration": 51,
    "start_time": "2025-03-24T10:11:26.598Z"
   },
   {
    "duration": 15,
    "start_time": "2025-03-24T10:11:26.650Z"
   },
   {
    "duration": 49,
    "start_time": "2025-03-24T10:11:26.667Z"
   },
   {
    "duration": 14,
    "start_time": "2025-03-24T10:11:26.718Z"
   },
   {
    "duration": 26,
    "start_time": "2025-03-24T10:11:26.734Z"
   },
   {
    "duration": 165,
    "start_time": "2025-03-24T10:11:26.763Z"
   },
   {
    "duration": 151,
    "start_time": "2025-03-24T10:11:26.930Z"
   },
   {
    "duration": 180,
    "start_time": "2025-03-24T10:11:27.082Z"
   },
   {
    "duration": 259,
    "start_time": "2025-03-24T10:11:27.264Z"
   },
   {
    "duration": 166,
    "start_time": "2025-03-24T10:11:27.526Z"
   },
   {
    "duration": 165,
    "start_time": "2025-03-24T10:11:27.694Z"
   },
   {
    "duration": 4,
    "start_time": "2025-03-24T10:11:27.861Z"
   },
   {
    "duration": 8,
    "start_time": "2025-03-24T10:11:27.867Z"
   },
   {
    "duration": 243,
    "start_time": "2025-03-24T10:11:27.877Z"
   },
   {
    "duration": 222,
    "start_time": "2025-03-24T10:11:28.122Z"
   },
   {
    "duration": 224,
    "start_time": "2025-03-24T10:11:28.346Z"
   },
   {
    "duration": 1465,
    "start_time": "2025-03-24T10:11:28.571Z"
   },
   {
    "duration": 5,
    "start_time": "2025-03-24T10:11:30.037Z"
   },
   {
    "duration": 33,
    "start_time": "2025-03-24T10:11:30.043Z"
   },
   {
    "duration": 15,
    "start_time": "2025-03-24T10:11:30.078Z"
   },
   {
    "duration": 40,
    "start_time": "2025-03-24T10:11:30.095Z"
   },
   {
    "duration": 71,
    "start_time": "2025-03-24T10:11:30.137Z"
   },
   {
    "duration": 198,
    "start_time": "2025-03-24T10:11:30.210Z"
   },
   {
    "duration": 394,
    "start_time": "2025-03-24T10:11:30.418Z"
   },
   {
    "duration": 6,
    "start_time": "2025-03-24T10:11:30.813Z"
   },
   {
    "duration": 36,
    "start_time": "2025-03-24T10:11:30.821Z"
   },
   {
    "duration": 358,
    "start_time": "2025-03-24T10:11:30.859Z"
   },
   {
    "duration": 1382,
    "start_time": "2025-03-24T10:12:57.398Z"
   },
   {
    "duration": 24,
    "start_time": "2025-03-24T10:12:58.782Z"
   },
   {
    "duration": 16,
    "start_time": "2025-03-24T10:12:58.808Z"
   },
   {
    "duration": 12,
    "start_time": "2025-03-24T10:12:58.825Z"
   },
   {
    "duration": 47,
    "start_time": "2025-03-24T10:12:58.840Z"
   },
   {
    "duration": 29,
    "start_time": "2025-03-24T10:12:58.889Z"
   },
   {
    "duration": 10,
    "start_time": "2025-03-24T10:12:58.919Z"
   },
   {
    "duration": 24,
    "start_time": "2025-03-24T10:12:58.930Z"
   },
   {
    "duration": 37,
    "start_time": "2025-03-24T10:12:58.955Z"
   },
   {
    "duration": 168,
    "start_time": "2025-03-24T10:12:58.994Z"
   },
   {
    "duration": 151,
    "start_time": "2025-03-24T10:12:59.164Z"
   },
   {
    "duration": 165,
    "start_time": "2025-03-24T10:12:59.317Z"
   },
   {
    "duration": 242,
    "start_time": "2025-03-24T10:12:59.484Z"
   },
   {
    "duration": 164,
    "start_time": "2025-03-24T10:12:59.730Z"
   },
   {
    "duration": 167,
    "start_time": "2025-03-24T10:12:59.895Z"
   },
   {
    "duration": 4,
    "start_time": "2025-03-24T10:13:00.063Z"
   },
   {
    "duration": 33,
    "start_time": "2025-03-24T10:13:00.068Z"
   },
   {
    "duration": 258,
    "start_time": "2025-03-24T10:13:00.103Z"
   },
   {
    "duration": 216,
    "start_time": "2025-03-24T10:13:00.362Z"
   },
   {
    "duration": 213,
    "start_time": "2025-03-24T10:13:00.579Z"
   },
   {
    "duration": 3,
    "start_time": "2025-03-24T10:13:00.793Z"
   },
   {
    "duration": 2109,
    "start_time": "2025-03-24T10:13:00.798Z"
   },
   {
    "duration": 4,
    "start_time": "2025-03-24T10:13:02.909Z"
   },
   {
    "duration": 26,
    "start_time": "2025-03-24T10:13:02.914Z"
   },
   {
    "duration": 88,
    "start_time": "2025-03-24T10:13:02.941Z"
   },
   {
    "duration": 6,
    "start_time": "2025-03-24T10:13:03.031Z"
   },
   {
    "duration": 14,
    "start_time": "2025-03-24T10:13:03.038Z"
   },
   {
    "duration": 15,
    "start_time": "2025-03-24T10:13:03.054Z"
   },
   {
    "duration": 426,
    "start_time": "2025-03-24T10:13:03.071Z"
   },
   {
    "duration": 10,
    "start_time": "2025-03-24T10:13:03.498Z"
   },
   {
    "duration": 16,
    "start_time": "2025-03-24T10:13:03.509Z"
   },
   {
    "duration": 314,
    "start_time": "2025-03-24T10:13:03.526Z"
   },
   {
    "duration": 1427,
    "start_time": "2025-03-24T10:14:07.780Z"
   },
   {
    "duration": 23,
    "start_time": "2025-03-24T10:14:09.209Z"
   },
   {
    "duration": 17,
    "start_time": "2025-03-24T10:14:09.233Z"
   },
   {
    "duration": 16,
    "start_time": "2025-03-24T10:14:09.251Z"
   },
   {
    "duration": 139,
    "start_time": "2025-03-24T10:14:09.269Z"
   },
   {
    "duration": 21,
    "start_time": "2025-03-24T10:14:09.410Z"
   },
   {
    "duration": 5,
    "start_time": "2025-03-24T10:14:09.433Z"
   },
   {
    "duration": 68,
    "start_time": "2025-03-24T10:14:09.440Z"
   },
   {
    "duration": 5,
    "start_time": "2025-03-24T10:14:09.510Z"
   },
   {
    "duration": 331,
    "start_time": "2025-03-24T10:14:09.517Z"
   },
   {
    "duration": 300,
    "start_time": "2025-03-24T10:14:09.850Z"
   },
   {
    "duration": 370,
    "start_time": "2025-03-24T10:14:10.151Z"
   },
   {
    "duration": 432,
    "start_time": "2025-03-24T10:14:10.523Z"
   },
   {
    "duration": 303,
    "start_time": "2025-03-24T10:14:11.009Z"
   },
   {
    "duration": 313,
    "start_time": "2025-03-24T10:14:11.314Z"
   },
   {
    "duration": 4,
    "start_time": "2025-03-24T10:14:11.628Z"
   },
   {
    "duration": 5,
    "start_time": "2025-03-24T10:14:11.633Z"
   },
   {
    "duration": 481,
    "start_time": "2025-03-24T10:14:11.640Z"
   },
   {
    "duration": 262,
    "start_time": "2025-03-24T10:14:12.123Z"
   },
   {
    "duration": 203,
    "start_time": "2025-03-24T10:14:12.386Z"
   },
   {
    "duration": 4,
    "start_time": "2025-03-24T10:14:12.590Z"
   },
   {
    "duration": 199,
    "start_time": "2025-03-24T10:14:12.606Z"
   },
   {
    "duration": 1370,
    "start_time": "2025-03-24T10:14:12.807Z"
   },
   {
    "duration": 5,
    "start_time": "2025-03-24T10:14:14.179Z"
   },
   {
    "duration": 13,
    "start_time": "2025-03-24T10:14:14.186Z"
   },
   {
    "duration": 4,
    "start_time": "2025-03-24T10:14:14.207Z"
   },
   {
    "duration": 10,
    "start_time": "2025-03-24T10:14:14.213Z"
   },
   {
    "duration": 8,
    "start_time": "2025-03-24T10:14:14.224Z"
   },
   {
    "duration": 177,
    "start_time": "2025-03-24T10:14:14.234Z"
   },
   {
    "duration": 493,
    "start_time": "2025-03-24T10:14:14.414Z"
   },
   {
    "duration": 4,
    "start_time": "2025-03-24T10:14:14.908Z"
   },
   {
    "duration": 9,
    "start_time": "2025-03-24T10:14:14.914Z"
   },
   {
    "duration": 341,
    "start_time": "2025-03-24T10:14:14.924Z"
   },
   {
    "duration": 89475,
    "start_time": "2025-03-24T10:14:15.266Z"
   },
   {
    "duration": 877,
    "start_time": "2025-03-24T10:15:44.743Z"
   },
   {
    "duration": 86,
    "start_time": "2025-03-24T10:15:45.622Z"
   },
   {
    "duration": 15,
    "start_time": "2025-03-24T10:15:45.721Z"
   },
   {
    "duration": 41,
    "start_time": "2025-03-24T10:15:45.737Z"
   },
   {
    "duration": 52,
    "start_time": "2025-03-24T10:15:45.780Z"
   },
   {
    "duration": 26,
    "start_time": "2025-03-24T10:15:45.833Z"
   },
   {
    "duration": 3,
    "start_time": "2025-03-24T10:15:45.863Z"
   },
   {
    "duration": 13,
    "start_time": "2025-03-24T10:15:45.868Z"
   },
   {
    "duration": 696,
    "start_time": "2025-03-24T10:15:45.882Z"
   },
   {
    "duration": 191,
    "start_time": "2025-03-24T10:15:46.579Z"
   },
   {
    "duration": 4,
    "start_time": "2025-03-24T10:15:46.771Z"
   },
   {
    "duration": 5,
    "start_time": "2025-03-24T10:15:46.776Z"
   },
   {
    "duration": 2147,
    "start_time": "2025-03-24T10:15:46.782Z"
   },
   {
    "duration": 243,
    "start_time": "2025-03-24T10:15:48.931Z"
   },
   {
    "duration": 1595,
    "start_time": "2025-03-24T10:17:24.052Z"
   },
   {
    "duration": 2188,
    "start_time": "2025-03-24T10:17:29.457Z"
   },
   {
    "duration": 77,
    "start_time": "2025-03-24T10:17:31.647Z"
   },
   {
    "duration": 22,
    "start_time": "2025-03-24T10:17:31.728Z"
   },
   {
    "duration": 63,
    "start_time": "2025-03-24T10:17:31.752Z"
   },
   {
    "duration": 128,
    "start_time": "2025-03-24T10:17:31.817Z"
   },
   {
    "duration": 76,
    "start_time": "2025-03-24T10:17:31.947Z"
   },
   {
    "duration": 4,
    "start_time": "2025-03-24T10:17:32.027Z"
   },
   {
    "duration": 3,
    "start_time": "2025-03-24T10:17:32.033Z"
   },
   {
    "duration": 19,
    "start_time": "2025-03-24T10:17:32.037Z"
   },
   {
    "duration": 301,
    "start_time": "2025-03-24T10:17:32.057Z"
   },
   {
    "duration": 168,
    "start_time": "2025-03-24T10:17:32.359Z"
   },
   {
    "duration": 172,
    "start_time": "2025-03-24T10:17:32.529Z"
   },
   {
    "duration": 235,
    "start_time": "2025-03-24T10:17:32.703Z"
   },
   {
    "duration": 161,
    "start_time": "2025-03-24T10:17:32.941Z"
   },
   {
    "duration": 171,
    "start_time": "2025-03-24T10:17:33.106Z"
   },
   {
    "duration": 241,
    "start_time": "2025-03-24T10:17:33.279Z"
   },
   {
    "duration": 3,
    "start_time": "2025-03-24T10:17:33.524Z"
   },
   {
    "duration": 6,
    "start_time": "2025-03-24T10:17:33.528Z"
   },
   {
    "duration": 249,
    "start_time": "2025-03-24T10:17:33.535Z"
   },
   {
    "duration": 229,
    "start_time": "2025-03-24T10:17:33.786Z"
   },
   {
    "duration": 1472,
    "start_time": "2025-03-24T10:17:34.021Z"
   },
   {
    "duration": 17,
    "start_time": "2025-03-24T10:17:35.495Z"
   },
   {
    "duration": 12,
    "start_time": "2025-03-24T10:17:35.513Z"
   },
   {
    "duration": 28,
    "start_time": "2025-03-24T10:17:35.527Z"
   },
   {
    "duration": 11,
    "start_time": "2025-03-24T10:17:35.557Z"
   },
   {
    "duration": 64,
    "start_time": "2025-03-24T10:17:35.569Z"
   },
   {
    "duration": 187,
    "start_time": "2025-03-24T10:17:35.636Z"
   },
   {
    "duration": 515,
    "start_time": "2025-03-24T10:17:35.825Z"
   },
   {
    "duration": 5,
    "start_time": "2025-03-24T10:17:36.342Z"
   },
   {
    "duration": 81,
    "start_time": "2025-03-24T10:17:36.349Z"
   },
   {
    "duration": 354,
    "start_time": "2025-03-24T10:17:36.432Z"
   },
   {
    "duration": 81389,
    "start_time": "2025-03-24T10:17:36.788Z"
   },
   {
    "duration": 0,
    "start_time": "2025-03-24T10:18:58.178Z"
   },
   {
    "duration": 0,
    "start_time": "2025-03-24T10:18:58.180Z"
   },
   {
    "duration": 0,
    "start_time": "2025-03-24T10:18:58.181Z"
   },
   {
    "duration": 0,
    "start_time": "2025-03-24T10:18:58.182Z"
   },
   {
    "duration": 0,
    "start_time": "2025-03-24T10:18:58.184Z"
   },
   {
    "duration": 0,
    "start_time": "2025-03-24T10:18:58.185Z"
   },
   {
    "duration": 0,
    "start_time": "2025-03-24T10:18:58.186Z"
   },
   {
    "duration": 0,
    "start_time": "2025-03-24T10:18:58.209Z"
   },
   {
    "duration": 0,
    "start_time": "2025-03-24T10:18:58.211Z"
   },
   {
    "duration": 0,
    "start_time": "2025-03-24T10:18:58.213Z"
   },
   {
    "duration": 0,
    "start_time": "2025-03-24T10:18:58.214Z"
   },
   {
    "duration": 0,
    "start_time": "2025-03-24T10:18:58.214Z"
   },
   {
    "duration": 0,
    "start_time": "2025-03-24T10:18:58.215Z"
   },
   {
    "duration": 0,
    "start_time": "2025-03-24T10:18:58.215Z"
   },
   {
    "duration": 0,
    "start_time": "2025-03-24T10:18:58.216Z"
   },
   {
    "duration": 2137,
    "start_time": "2025-03-24T10:19:02.082Z"
   },
   {
    "duration": 31,
    "start_time": "2025-03-24T10:19:04.221Z"
   },
   {
    "duration": 72,
    "start_time": "2025-03-24T10:19:04.255Z"
   },
   {
    "duration": 22,
    "start_time": "2025-03-24T10:19:04.329Z"
   },
   {
    "duration": 185,
    "start_time": "2025-03-24T10:19:04.352Z"
   },
   {
    "duration": 24,
    "start_time": "2025-03-24T10:19:04.539Z"
   },
   {
    "duration": 9,
    "start_time": "2025-03-24T10:19:04.611Z"
   },
   {
    "duration": 13,
    "start_time": "2025-03-24T10:19:04.621Z"
   },
   {
    "duration": 17,
    "start_time": "2025-03-24T10:19:04.637Z"
   },
   {
    "duration": 278,
    "start_time": "2025-03-24T10:19:04.657Z"
   },
   {
    "duration": 167,
    "start_time": "2025-03-24T10:19:04.937Z"
   },
   {
    "duration": 180,
    "start_time": "2025-03-24T10:19:05.109Z"
   },
   {
    "duration": 242,
    "start_time": "2025-03-24T10:19:05.291Z"
   },
   {
    "duration": 184,
    "start_time": "2025-03-24T10:19:05.535Z"
   },
   {
    "duration": 204,
    "start_time": "2025-03-24T10:19:05.721Z"
   },
   {
    "duration": 248,
    "start_time": "2025-03-24T10:19:05.927Z"
   },
   {
    "duration": 4,
    "start_time": "2025-03-24T10:19:06.177Z"
   },
   {
    "duration": 240,
    "start_time": "2025-03-24T10:19:06.183Z"
   },
   {
    "duration": 232,
    "start_time": "2025-03-24T10:19:06.427Z"
   },
   {
    "duration": 228,
    "start_time": "2025-03-24T10:19:06.661Z"
   },
   {
    "duration": 1458,
    "start_time": "2025-03-24T10:19:06.890Z"
   },
   {
    "duration": 5,
    "start_time": "2025-03-24T10:19:08.350Z"
   },
   {
    "duration": 53,
    "start_time": "2025-03-24T10:19:08.357Z"
   },
   {
    "duration": 11,
    "start_time": "2025-03-24T10:19:08.413Z"
   },
   {
    "duration": 6,
    "start_time": "2025-03-24T10:19:08.426Z"
   },
   {
    "duration": 15,
    "start_time": "2025-03-24T10:19:08.434Z"
   },
   {
    "duration": 264,
    "start_time": "2025-03-24T10:19:08.451Z"
   },
   {
    "duration": 514,
    "start_time": "2025-03-24T10:19:08.722Z"
   },
   {
    "duration": 6,
    "start_time": "2025-03-24T10:19:09.238Z"
   },
   {
    "duration": 8,
    "start_time": "2025-03-24T10:19:09.245Z"
   },
   {
    "duration": 446,
    "start_time": "2025-03-24T10:19:09.255Z"
   },
   {
    "duration": 80823,
    "start_time": "2025-03-24T10:19:09.703Z"
   },
   {
    "duration": 0,
    "start_time": "2025-03-24T10:20:30.528Z"
   },
   {
    "duration": 0,
    "start_time": "2025-03-24T10:20:30.529Z"
   },
   {
    "duration": 0,
    "start_time": "2025-03-24T10:20:30.531Z"
   },
   {
    "duration": 0,
    "start_time": "2025-03-24T10:20:30.532Z"
   },
   {
    "duration": 0,
    "start_time": "2025-03-24T10:20:30.533Z"
   },
   {
    "duration": 0,
    "start_time": "2025-03-24T10:20:30.534Z"
   },
   {
    "duration": 0,
    "start_time": "2025-03-24T10:20:30.535Z"
   },
   {
    "duration": 0,
    "start_time": "2025-03-24T10:20:30.536Z"
   },
   {
    "duration": 0,
    "start_time": "2025-03-24T10:20:30.537Z"
   },
   {
    "duration": 0,
    "start_time": "2025-03-24T10:20:30.539Z"
   },
   {
    "duration": 0,
    "start_time": "2025-03-24T10:20:30.540Z"
   },
   {
    "duration": 0,
    "start_time": "2025-03-24T10:20:30.541Z"
   },
   {
    "duration": 0,
    "start_time": "2025-03-24T10:20:30.542Z"
   },
   {
    "duration": 0,
    "start_time": "2025-03-24T10:20:30.543Z"
   },
   {
    "duration": 0,
    "start_time": "2025-03-24T10:20:30.545Z"
   },
   {
    "duration": 1567,
    "start_time": "2025-03-24T10:20:33.684Z"
   },
   {
    "duration": 23,
    "start_time": "2025-03-24T10:20:35.253Z"
   },
   {
    "duration": 30,
    "start_time": "2025-03-24T10:20:35.277Z"
   },
   {
    "duration": 42,
    "start_time": "2025-03-24T10:20:35.309Z"
   },
   {
    "duration": 41,
    "start_time": "2025-03-24T10:20:35.353Z"
   },
   {
    "duration": 18,
    "start_time": "2025-03-24T10:20:35.395Z"
   },
   {
    "duration": 9,
    "start_time": "2025-03-24T10:20:35.415Z"
   },
   {
    "duration": 100,
    "start_time": "2025-03-24T10:20:35.425Z"
   },
   {
    "duration": 6,
    "start_time": "2025-03-24T10:20:35.526Z"
   },
   {
    "duration": 192,
    "start_time": "2025-03-24T10:20:35.533Z"
   },
   {
    "duration": 149,
    "start_time": "2025-03-24T10:20:35.726Z"
   },
   {
    "duration": 336,
    "start_time": "2025-03-24T10:20:35.876Z"
   },
   {
    "duration": 503,
    "start_time": "2025-03-24T10:20:36.224Z"
   },
   {
    "duration": 384,
    "start_time": "2025-03-24T10:20:36.730Z"
   },
   {
    "duration": 413,
    "start_time": "2025-03-24T10:20:37.116Z"
   },
   {
    "duration": 294,
    "start_time": "2025-03-24T10:20:37.531Z"
   },
   {
    "duration": 4,
    "start_time": "2025-03-24T10:20:37.827Z"
   },
   {
    "duration": 244,
    "start_time": "2025-03-24T10:20:37.833Z"
   },
   {
    "duration": 238,
    "start_time": "2025-03-24T10:20:38.078Z"
   },
   {
    "duration": 250,
    "start_time": "2025-03-24T10:20:38.319Z"
   },
   {
    "duration": 1480,
    "start_time": "2025-03-24T10:20:38.571Z"
   },
   {
    "duration": 4,
    "start_time": "2025-03-24T10:20:40.053Z"
   },
   {
    "duration": 20,
    "start_time": "2025-03-24T10:20:40.059Z"
   },
   {
    "duration": 7,
    "start_time": "2025-03-24T10:20:40.081Z"
   },
   {
    "duration": 31,
    "start_time": "2025-03-24T10:20:40.089Z"
   },
   {
    "duration": 12,
    "start_time": "2025-03-24T10:20:40.121Z"
   },
   {
    "duration": 13,
    "start_time": "2025-03-24T10:20:40.135Z"
   },
   {
    "duration": 465,
    "start_time": "2025-03-24T10:20:40.149Z"
   },
   {
    "duration": 5,
    "start_time": "2025-03-24T10:20:40.620Z"
   },
   {
    "duration": 8,
    "start_time": "2025-03-24T10:20:40.626Z"
   },
   {
    "duration": 381,
    "start_time": "2025-03-24T10:20:40.635Z"
   },
   {
    "duration": 91114,
    "start_time": "2025-03-24T10:20:41.019Z"
   },
   {
    "duration": 893,
    "start_time": "2025-03-24T10:22:12.134Z"
   },
   {
    "duration": 78,
    "start_time": "2025-03-24T10:22:13.033Z"
   },
   {
    "duration": 102,
    "start_time": "2025-03-24T10:22:13.113Z"
   },
   {
    "duration": 14,
    "start_time": "2025-03-24T10:22:13.217Z"
   },
   {
    "duration": 19,
    "start_time": "2025-03-24T10:22:13.232Z"
   },
   {
    "duration": 26,
    "start_time": "2025-03-24T10:22:13.253Z"
   },
   {
    "duration": 4,
    "start_time": "2025-03-24T10:22:13.281Z"
   },
   {
    "duration": 24,
    "start_time": "2025-03-24T10:22:13.287Z"
   },
   {
    "duration": 735,
    "start_time": "2025-03-24T10:22:13.316Z"
   },
   {
    "duration": 189,
    "start_time": "2025-03-24T10:22:14.053Z"
   },
   {
    "duration": 3,
    "start_time": "2025-03-24T10:22:14.244Z"
   },
   {
    "duration": 8,
    "start_time": "2025-03-24T10:22:14.248Z"
   },
   {
    "duration": 2130,
    "start_time": "2025-03-24T10:22:14.257Z"
   },
   {
    "duration": 250,
    "start_time": "2025-03-24T10:22:16.388Z"
   },
   {
    "duration": 0,
    "start_time": "2025-03-24T10:22:16.639Z"
   },
   {
    "duration": 287,
    "start_time": "2025-03-24T10:22:19.501Z"
   },
   {
    "duration": 216,
    "start_time": "2025-03-24T10:24:39.958Z"
   },
   {
    "duration": 435,
    "start_time": "2025-03-24T10:24:57.007Z"
   },
   {
    "duration": 1377,
    "start_time": "2025-03-24T10:35:25.995Z"
   },
   {
    "duration": 24,
    "start_time": "2025-03-24T10:35:27.374Z"
   },
   {
    "duration": 17,
    "start_time": "2025-03-24T10:35:27.399Z"
   },
   {
    "duration": 10,
    "start_time": "2025-03-24T10:35:27.417Z"
   },
   {
    "duration": 44,
    "start_time": "2025-03-24T10:35:27.429Z"
   },
   {
    "duration": 35,
    "start_time": "2025-03-24T10:35:27.474Z"
   },
   {
    "duration": 4,
    "start_time": "2025-03-24T10:35:27.511Z"
   },
   {
    "duration": 78,
    "start_time": "2025-03-24T10:35:27.516Z"
   },
   {
    "duration": 5,
    "start_time": "2025-03-24T10:35:27.595Z"
   },
   {
    "duration": 163,
    "start_time": "2025-03-24T10:35:27.601Z"
   },
   {
    "duration": 153,
    "start_time": "2025-03-24T10:35:27.766Z"
   },
   {
    "duration": 170,
    "start_time": "2025-03-24T10:35:27.921Z"
   },
   {
    "duration": 218,
    "start_time": "2025-03-24T10:35:28.092Z"
   },
   {
    "duration": 296,
    "start_time": "2025-03-24T10:35:28.313Z"
   },
   {
    "duration": 322,
    "start_time": "2025-03-24T10:35:28.611Z"
   },
   {
    "duration": 474,
    "start_time": "2025-03-24T10:35:28.935Z"
   },
   {
    "duration": 4,
    "start_time": "2025-03-24T10:35:29.411Z"
   },
   {
    "duration": 416,
    "start_time": "2025-03-24T10:35:29.416Z"
   },
   {
    "duration": 211,
    "start_time": "2025-03-24T10:35:29.833Z"
   },
   {
    "duration": 235,
    "start_time": "2025-03-24T10:35:30.045Z"
   },
   {
    "duration": 255,
    "start_time": "2025-03-24T10:35:30.281Z"
   },
   {
    "duration": 214,
    "start_time": "2025-03-24T10:35:30.538Z"
   },
   {
    "duration": 1482,
    "start_time": "2025-03-24T10:35:30.754Z"
   },
   {
    "duration": 4,
    "start_time": "2025-03-24T10:35:32.238Z"
   },
   {
    "duration": 31,
    "start_time": "2025-03-24T10:35:32.243Z"
   },
   {
    "duration": 4,
    "start_time": "2025-03-24T10:35:32.276Z"
   },
   {
    "duration": 22,
    "start_time": "2025-03-24T10:35:32.281Z"
   },
   {
    "duration": 13,
    "start_time": "2025-03-24T10:35:32.305Z"
   },
   {
    "duration": 89,
    "start_time": "2025-03-24T10:35:32.319Z"
   },
   {
    "duration": 452,
    "start_time": "2025-03-24T10:35:32.411Z"
   },
   {
    "duration": 5,
    "start_time": "2025-03-24T10:35:32.865Z"
   },
   {
    "duration": 9,
    "start_time": "2025-03-24T10:35:32.871Z"
   },
   {
    "duration": 357,
    "start_time": "2025-03-24T10:35:32.882Z"
   },
   {
    "duration": 81329,
    "start_time": "2025-03-24T10:35:33.241Z"
   },
   {
    "duration": 0,
    "start_time": "2025-03-24T10:36:54.572Z"
   },
   {
    "duration": 0,
    "start_time": "2025-03-24T10:36:54.573Z"
   },
   {
    "duration": 0,
    "start_time": "2025-03-24T10:36:54.574Z"
   },
   {
    "duration": 0,
    "start_time": "2025-03-24T10:36:54.575Z"
   },
   {
    "duration": 0,
    "start_time": "2025-03-24T10:36:54.576Z"
   },
   {
    "duration": 0,
    "start_time": "2025-03-24T10:36:54.577Z"
   },
   {
    "duration": 0,
    "start_time": "2025-03-24T10:36:54.579Z"
   },
   {
    "duration": 0,
    "start_time": "2025-03-24T10:36:54.580Z"
   },
   {
    "duration": 0,
    "start_time": "2025-03-24T10:36:54.581Z"
   },
   {
    "duration": 0,
    "start_time": "2025-03-24T10:36:54.582Z"
   },
   {
    "duration": 0,
    "start_time": "2025-03-24T10:36:54.607Z"
   },
   {
    "duration": 0,
    "start_time": "2025-03-24T10:36:54.608Z"
   },
   {
    "duration": 0,
    "start_time": "2025-03-24T10:36:54.609Z"
   },
   {
    "duration": 0,
    "start_time": "2025-03-24T10:36:54.610Z"
   },
   {
    "duration": 0,
    "start_time": "2025-03-24T10:36:54.612Z"
   },
   {
    "duration": 1482,
    "start_time": "2025-03-24T10:36:59.699Z"
   },
   {
    "duration": 28,
    "start_time": "2025-03-24T10:37:01.184Z"
   },
   {
    "duration": 20,
    "start_time": "2025-03-24T10:37:01.214Z"
   },
   {
    "duration": 31,
    "start_time": "2025-03-24T10:37:01.235Z"
   },
   {
    "duration": 54,
    "start_time": "2025-03-24T10:37:01.268Z"
   },
   {
    "duration": 14,
    "start_time": "2025-03-24T10:37:01.323Z"
   },
   {
    "duration": 70,
    "start_time": "2025-03-24T10:37:01.339Z"
   },
   {
    "duration": 4,
    "start_time": "2025-03-24T10:37:01.410Z"
   },
   {
    "duration": 7,
    "start_time": "2025-03-24T10:37:01.415Z"
   },
   {
    "duration": 385,
    "start_time": "2025-03-24T10:37:01.423Z"
   },
   {
    "duration": 310,
    "start_time": "2025-03-24T10:37:01.810Z"
   },
   {
    "duration": 315,
    "start_time": "2025-03-24T10:37:02.121Z"
   },
   {
    "duration": 432,
    "start_time": "2025-03-24T10:37:02.438Z"
   },
   {
    "duration": 152,
    "start_time": "2025-03-24T10:37:02.873Z"
   },
   {
    "duration": 164,
    "start_time": "2025-03-24T10:37:03.027Z"
   },
   {
    "duration": 223,
    "start_time": "2025-03-24T10:37:03.193Z"
   },
   {
    "duration": 4,
    "start_time": "2025-03-24T10:37:03.418Z"
   },
   {
    "duration": 237,
    "start_time": "2025-03-24T10:37:03.423Z"
   },
   {
    "duration": 208,
    "start_time": "2025-03-24T10:37:03.662Z"
   },
   {
    "duration": 231,
    "start_time": "2025-03-24T10:37:03.871Z"
   },
   {
    "duration": 228,
    "start_time": "2025-03-24T10:37:04.104Z"
   },
   {
    "duration": 228,
    "start_time": "2025-03-24T10:37:04.334Z"
   },
   {
    "duration": 1467,
    "start_time": "2025-03-24T10:37:04.564Z"
   },
   {
    "duration": 4,
    "start_time": "2025-03-24T10:37:06.033Z"
   },
   {
    "duration": 54,
    "start_time": "2025-03-24T10:37:06.038Z"
   },
   {
    "duration": 26,
    "start_time": "2025-03-24T10:37:06.093Z"
   },
   {
    "duration": 11,
    "start_time": "2025-03-24T10:37:06.120Z"
   },
   {
    "duration": 17,
    "start_time": "2025-03-24T10:37:06.133Z"
   },
   {
    "duration": 60,
    "start_time": "2025-03-24T10:37:06.151Z"
   },
   {
    "duration": 483,
    "start_time": "2025-03-24T10:37:06.214Z"
   },
   {
    "duration": 9,
    "start_time": "2025-03-24T10:37:06.699Z"
   },
   {
    "duration": 77,
    "start_time": "2025-03-24T10:37:06.710Z"
   },
   {
    "duration": 331,
    "start_time": "2025-03-24T10:37:06.788Z"
   },
   {
    "duration": 84412,
    "start_time": "2025-03-24T10:37:07.120Z"
   },
   {
    "duration": 1378,
    "start_time": "2025-03-24T10:38:31.533Z"
   },
   {
    "duration": 4,
    "start_time": "2025-03-24T10:38:32.913Z"
   },
   {
    "duration": 12,
    "start_time": "2025-03-24T10:38:33.008Z"
   },
   {
    "duration": 84,
    "start_time": "2025-03-24T10:38:33.022Z"
   },
   {
    "duration": 24,
    "start_time": "2025-03-24T10:38:33.107Z"
   },
   {
    "duration": 16,
    "start_time": "2025-03-24T10:38:33.133Z"
   },
   {
    "duration": 4,
    "start_time": "2025-03-24T10:38:33.153Z"
   },
   {
    "duration": 11,
    "start_time": "2025-03-24T10:38:33.158Z"
   },
   {
    "duration": 648,
    "start_time": "2025-03-24T10:38:33.171Z"
   },
   {
    "duration": 176,
    "start_time": "2025-03-24T10:38:33.821Z"
   },
   {
    "duration": 7,
    "start_time": "2025-03-24T10:38:33.999Z"
   },
   {
    "duration": 14,
    "start_time": "2025-03-24T10:38:34.008Z"
   },
   {
    "duration": 2026,
    "start_time": "2025-03-24T10:38:34.023Z"
   },
   {
    "duration": 460,
    "start_time": "2025-03-24T10:38:36.051Z"
   },
   {
    "duration": 145,
    "start_time": "2025-03-24T10:38:59.409Z"
   },
   {
    "duration": 150,
    "start_time": "2025-03-24T10:44:51.503Z"
   },
   {
    "duration": 1381,
    "start_time": "2025-03-24T10:55:42.231Z"
   },
   {
    "duration": 24,
    "start_time": "2025-03-24T10:55:43.614Z"
   },
   {
    "duration": 20,
    "start_time": "2025-03-24T10:55:43.640Z"
   },
   {
    "duration": 11,
    "start_time": "2025-03-24T10:55:43.662Z"
   },
   {
    "duration": 45,
    "start_time": "2025-03-24T10:55:43.675Z"
   },
   {
    "duration": 15,
    "start_time": "2025-03-24T10:55:43.721Z"
   },
   {
    "duration": 5,
    "start_time": "2025-03-24T10:55:43.737Z"
   },
   {
    "duration": 4,
    "start_time": "2025-03-24T10:55:43.743Z"
   },
   {
    "duration": 5,
    "start_time": "2025-03-24T10:55:43.748Z"
   },
   {
    "duration": 182,
    "start_time": "2025-03-24T10:55:43.754Z"
   },
   {
    "duration": 146,
    "start_time": "2025-03-24T10:55:43.938Z"
   },
   {
    "duration": 160,
    "start_time": "2025-03-24T10:55:44.086Z"
   },
   {
    "duration": 213,
    "start_time": "2025-03-24T10:55:44.248Z"
   },
   {
    "duration": 150,
    "start_time": "2025-03-24T10:55:44.464Z"
   },
   {
    "duration": 168,
    "start_time": "2025-03-24T10:55:44.616Z"
   },
   {
    "duration": 229,
    "start_time": "2025-03-24T10:55:44.786Z"
   },
   {
    "duration": 3,
    "start_time": "2025-03-24T10:55:45.017Z"
   },
   {
    "duration": 235,
    "start_time": "2025-03-24T10:55:45.022Z"
   },
   {
    "duration": 223,
    "start_time": "2025-03-24T10:55:45.259Z"
   },
   {
    "duration": 240,
    "start_time": "2025-03-24T10:55:45.483Z"
   },
   {
    "duration": 233,
    "start_time": "2025-03-24T10:55:45.725Z"
   },
   {
    "duration": 223,
    "start_time": "2025-03-24T10:55:45.960Z"
   },
   {
    "duration": 1867,
    "start_time": "2025-03-24T10:55:46.185Z"
   },
   {
    "duration": 5,
    "start_time": "2025-03-24T10:55:48.106Z"
   },
   {
    "duration": 14,
    "start_time": "2025-03-24T10:55:48.112Z"
   },
   {
    "duration": 7,
    "start_time": "2025-03-24T10:55:48.127Z"
   },
   {
    "duration": 9,
    "start_time": "2025-03-24T10:55:48.135Z"
   },
   {
    "duration": 61,
    "start_time": "2025-03-24T10:55:48.146Z"
   },
   {
    "duration": 107,
    "start_time": "2025-03-24T10:55:48.209Z"
   },
   {
    "duration": 578,
    "start_time": "2025-03-24T10:55:48.408Z"
   },
   {
    "duration": 5,
    "start_time": "2025-03-24T10:55:48.987Z"
   },
   {
    "duration": 13,
    "start_time": "2025-03-24T10:55:48.993Z"
   },
   {
    "duration": 372,
    "start_time": "2025-03-24T10:55:49.008Z"
   },
   {
    "duration": 87947,
    "start_time": "2025-03-24T10:55:49.382Z"
   },
   {
    "duration": 1277,
    "start_time": "2025-03-24T10:57:17.330Z"
   },
   {
    "duration": 5,
    "start_time": "2025-03-24T10:57:18.610Z"
   },
   {
    "duration": 102,
    "start_time": "2025-03-24T10:57:18.619Z"
   },
   {
    "duration": 16,
    "start_time": "2025-03-24T10:57:18.723Z"
   },
   {
    "duration": 14,
    "start_time": "2025-03-24T10:57:18.741Z"
   },
   {
    "duration": 23,
    "start_time": "2025-03-24T10:57:18.757Z"
   },
   {
    "duration": 3,
    "start_time": "2025-03-24T10:57:18.784Z"
   },
   {
    "duration": 28,
    "start_time": "2025-03-24T10:57:18.789Z"
   },
   {
    "duration": 723,
    "start_time": "2025-03-24T10:57:18.819Z"
   },
   {
    "duration": 215,
    "start_time": "2025-03-24T10:57:19.543Z"
   },
   {
    "duration": 4,
    "start_time": "2025-03-24T10:57:19.759Z"
   },
   {
    "duration": 16,
    "start_time": "2025-03-24T10:57:19.764Z"
   },
   {
    "duration": 2130,
    "start_time": "2025-03-24T10:57:19.782Z"
   },
   {
    "duration": 467,
    "start_time": "2025-03-24T10:57:21.914Z"
   },
   {
    "duration": 51,
    "start_time": "2025-04-27T14:54:11.379Z"
   },
   {
    "duration": 1489,
    "start_time": "2025-04-27T14:54:19.088Z"
   },
   {
    "duration": 23,
    "start_time": "2025-04-27T14:54:20.579Z"
   },
   {
    "duration": 34,
    "start_time": "2025-04-27T14:54:20.603Z"
   },
   {
    "duration": 14,
    "start_time": "2025-04-27T14:54:20.639Z"
   },
   {
    "duration": 47,
    "start_time": "2025-04-27T14:54:20.655Z"
   },
   {
    "duration": 16,
    "start_time": "2025-04-27T14:54:20.704Z"
   },
   {
    "duration": 5,
    "start_time": "2025-04-27T14:54:20.722Z"
   },
   {
    "duration": 4,
    "start_time": "2025-04-27T14:54:20.728Z"
   },
   {
    "duration": 28,
    "start_time": "2025-04-27T14:54:20.734Z"
   },
   {
    "duration": 178,
    "start_time": "2025-04-27T14:54:20.765Z"
   },
   {
    "duration": 171,
    "start_time": "2025-04-27T14:54:20.945Z"
   },
   {
    "duration": 198,
    "start_time": "2025-04-27T14:54:21.118Z"
   },
   {
    "duration": 466,
    "start_time": "2025-04-27T14:54:21.318Z"
   },
   {
    "duration": 378,
    "start_time": "2025-04-27T14:54:21.785Z"
   },
   {
    "duration": 338,
    "start_time": "2025-04-27T14:54:22.165Z"
   },
   {
    "duration": 433,
    "start_time": "2025-04-27T14:54:22.504Z"
   },
   {
    "duration": 4,
    "start_time": "2025-04-27T14:54:22.939Z"
   },
   {
    "duration": 244,
    "start_time": "2025-04-27T14:54:22.944Z"
   },
   {
    "duration": 232,
    "start_time": "2025-04-27T14:54:23.190Z"
   },
   {
    "duration": 261,
    "start_time": "2025-04-27T14:54:23.424Z"
   },
   {
    "duration": 253,
    "start_time": "2025-04-27T14:54:23.686Z"
   },
   {
    "duration": 249,
    "start_time": "2025-04-27T14:54:23.940Z"
   },
   {
    "duration": 1546,
    "start_time": "2025-04-27T14:54:24.191Z"
   },
   {
    "duration": 4,
    "start_time": "2025-04-27T14:54:25.739Z"
   },
   {
    "duration": 17,
    "start_time": "2025-04-27T14:54:25.745Z"
   },
   {
    "duration": 7,
    "start_time": "2025-04-27T14:54:25.763Z"
   },
   {
    "duration": 20,
    "start_time": "2025-04-27T14:54:25.772Z"
   },
   {
    "duration": 12,
    "start_time": "2025-04-27T14:54:25.796Z"
   },
   {
    "duration": 59,
    "start_time": "2025-04-27T14:54:25.810Z"
   },
   {
    "duration": 433,
    "start_time": "2025-04-27T14:54:25.962Z"
   },
   {
    "duration": 5,
    "start_time": "2025-04-27T14:54:26.397Z"
   },
   {
    "duration": 229,
    "start_time": "2025-04-27T14:54:26.404Z"
   },
   {
    "duration": 393,
    "start_time": "2025-04-27T14:54:26.635Z"
   }
  ],
  "kernelspec": {
   "display_name": "Python 3 (ipykernel)",
   "language": "python",
   "name": "python3"
  },
  "language_info": {
   "codemirror_mode": {
    "name": "ipython",
    "version": 3
   },
   "file_extension": ".py",
   "mimetype": "text/x-python",
   "name": "python",
   "nbconvert_exporter": "python",
   "pygments_lexer": "ipython3",
   "version": "3.9.5"
  },
  "toc": {
   "base_numbering": 1,
   "nav_menu": {},
   "number_sections": true,
   "sideBar": true,
   "skip_h1_title": true,
   "title_cell": "Table of Contents",
   "title_sidebar": "Contents",
   "toc_cell": false,
   "toc_position": {
    "height": "calc(100% - 180px)",
    "left": "10px",
    "top": "150px",
    "width": "165px"
   },
   "toc_section_display": true,
   "toc_window_display": true
  }
 },
 "nbformat": 4,
 "nbformat_minor": 5
}
